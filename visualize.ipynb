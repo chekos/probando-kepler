{
 "cells": [
  {
   "cell_type": "code",
   "execution_count": 1,
   "metadata": {},
   "outputs": [],
   "source": [
    "import pandas as pd\n",
    "import keplergl"
   ]
  },
  {
   "cell_type": "code",
   "execution_count": 2,
   "metadata": {},
   "outputs": [],
   "source": [
    "data = pd.read_csv(\"clean_data.csv\")"
   ]
  },
  {
   "cell_type": "code",
   "execution_count": 3,
   "metadata": {},
   "outputs": [
    {
     "name": "stdout",
     "output_type": "stream",
     "text": [
      "User Guide: https://github.com/keplergl/kepler.gl/blob/master/docs/keplergl-jupyter/user-guide.md\n"
     ]
    }
   ],
   "source": [
    "vis = keplergl.KeplerGl(height = 800)"
   ]
  },
  {
   "cell_type": "code",
   "execution_count": 4,
   "metadata": {},
   "outputs": [],
   "source": [
    "vis.add_data(data, 'Institutions')"
   ]
  },
  {
   "cell_type": "code",
   "execution_count": 5,
   "metadata": {
    "scrolled": false
   },
   "outputs": [
    {
     "data": {
      "application/vnd.jupyter.widget-view+json": {
       "model_id": "5ebc9205d4b341fbbca766ab1448d781",
       "version_major": 2,
       "version_minor": 0
      },
      "text/plain": [
       "KeplerGl(data={'Institutions': {'index': [0, 1, 2, 3, 4, 5, 6, 7, 8, 9, 10, 11, 12, 13, 14, 15, 16, 17, 18, 19…"
      ]
     },
     "metadata": {},
     "output_type": "display_data"
    }
   ],
   "source": [
    "vis"
   ]
  }
 ],
 "metadata": {
  "kernelspec": {
   "display_name": "Python 3",
   "language": "python",
   "name": "python3"
  },
  "language_info": {
   "codemirror_mode": {
    "name": "ipython",
    "version": 3
   },
   "file_extension": ".py",
   "mimetype": "text/x-python",
   "name": "python",
   "nbconvert_exporter": "python",
   "pygments_lexer": "ipython3",
   "version": "3.7.3"
  },
  "widgets": {
   "application/vnd.jupyter.widget-state+json": {
    "state": {
     "5ebc9205d4b341fbbca766ab1448d781": {
      "model_module": "keplergl-jupyter",
      "model_module_version": "^0.1.0",
      "model_name": "KeplerGlModal",
      "state": {
       "_model_module_version": "^0.1.0",
       "_view_module_version": "^0.1.0",
       "config": {
        "config": {
         "mapState": {
          "bearing": 0,
          "dragRotate": false,
          "isSplit": false,
          "latitude": 40.04349294405017,
          "longitude": -100.96357288884589,
          "pitch": 0,
          "zoom": 3.0260552695660925
         },
         "mapStyle": {
          "mapStyles": {
           "53b93yc": {
            "accessToken": "pk.eyJ1IjoiY2hla29zIiwiYSI6ImNqOWc5dDRnZjJ0NzgzM3J3YmdlNjFxZG4ifQ.P7enHyKAl64I1L9CHlc1Rg",
            "custom": true,
            "icon": "data:image/png;base64,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",
            "id": "53b93yc",
            "label": "Moonlight",
            "url": "mapbox://styles/chekos/cjy967oim04no1clpmbtdlhbk"
           }
          },
          "styleType": "53b93yc",
          "topLayerGroups": {
           "border": true,
           "label": true
          },
          "visibleLayerGroups": {
           "border": true,
           "building": true,
           "label": true,
           "land": true,
           "road": true,
           "water": true
          }
         },
         "visState": {
          "filters": [],
          "interactionConfig": {
           "brush": {
            "enabled": false,
            "size": 0.5
           },
           "tooltip": {
            "enabled": true,
            "fieldsToShow": {
             "Institutions": [
              "Name",
              "Sector",
              "Longitude",
              "Latitude",
              "State"
             ]
            }
           }
          },
          "layerBlending": "normal",
          "layers": [
           {
            "config": {
             "color": [
              18,
              147,
              154
             ],
             "columns": {
              "lat": "Latitude",
              "lng": "Longitude"
             },
             "dataId": "Institutions",
             "isVisible": true,
             "label": "50 mi College in California",
             "textLabel": [
              {
               "alignment": "center",
               "anchor": "start",
               "color": [
                255,
                255,
                255
               ],
               "field": null,
               "offset": [
                0,
                0
               ],
               "size": 18
              }
             ],
             "visConfig": {
              "colorRange": {
               "category": "ColorBrewer",
               "colors": [
                "#ffffd4",
                "#fee391",
                "#fec44f",
                "#fe9929",
                "#d95f0e",
                "#993404"
               ],
               "name": "ColorBrewer YlOrBr-6",
               "reversed": false,
               "type": "sequential"
              },
              "opacity": 0.75,
              "radius": 80
             }
            },
            "id": "8o0m0hp",
            "type": "heatmap",
            "visualChannels": {
             "weightField": null,
             "weightScale": "linear"
            }
           }
          ],
          "splitMaps": []
         }
        },
        "version": "v1"
       },
       "data": {
        "Institutions": {
         "columns": [
          "Name",
          "Sector",
          "Longitude",
          "Latitude",
          "State"
         ],
         "data": [
          [
           "A T Still University of Health Sciences",
           "Private not-for-profit, 4-year or above",
           -92.589183,
           40.193648,
           "MO"
          ],
          [
           "Aaniiih Nakoda College",
           "Public, 2-year",
           -108.757816,
           48.484196,
           "MT"
          ],
          [
           "Abilene Christian University",
           "Private not-for-profit, 4-year or above",
           -99.709797,
           32.468943,
           "TX"
          ],
          [
           "Abraham Baldwin Agricultural College",
           "Public, 4-year or above",
           -83.528281,
           31.481889,
           "GA"
          ],
          [
           "Academy for Five Element Acupuncture",
           "Private not-for-profit, 4-year or above",
           -82.32199399999998,
           29.650075,
           "FL"
          ],
          [
           "Academy for Jewish Religion-California",
           "Private not-for-profit, 4-year or above",
           -118.438495,
           34.070281,
           "CA"
          ],
          [
           "Academy for Nursing and Health Occupations",
           "Private not-for-profit, 2-year",
           -80.12149699999998,
           26.70653,
           "FL"
          ],
          [
           "Academy of Chinese Culture and Health Sciences",
           "Private not-for-profit, 4-year or above",
           -122.269839,
           37.805972,
           "CA"
          ],
          [
           "Academy of Interactive Entertainment",
           "Private not-for-profit, 2-year",
           -122.351158,
           47.621224,
           "WA"
          ],
          [
           "Academy of Interactive Entertainment",
           "Private not-for-profit, 2-year",
           -92.043315,
           30.220037,
           "LA"
          ],
          [
           "Academy of Vocal Arts",
           "Private not-for-profit, 4-year or above",
           -75.173735,
           39.94796,
           "PA"
          ],
          [
           "Acupuncture and Integrative Medicine College-Berkeley",
           "Private not-for-profit, 4-year or above",
           -122.267636,
           37.862754,
           "CA"
          ],
          [
           "Adams State University",
           "Public, 4-year or above",
           -105.879642,
           37.473636,
           "CO"
          ],
          [
           "Adelphi University",
           "Private not-for-profit, 4-year or above",
           -73.65332099999998,
           40.721439,
           "NY"
          ],
          [
           "Adirondack Community College",
           "Public, 2-year",
           -73.654813,
           43.351839,
           "NY"
          ],
          [
           "Adler Graduate School",
           "Private not-for-profit, 4-year or above",
           -93.252364,
           44.862944,
           "MN"
          ],
          [
           "Adler University",
           "Private not-for-profit, 4-year or above",
           -87.62915600000002,
           41.882414,
           "IL"
          ],
          [
           "Adrian College",
           "Private not-for-profit, 4-year or above",
           -84.061481,
           41.898591,
           "MI"
          ],
          [
           "Adventist University of Health Sciences",
           "Private not-for-profit, 4-year or above",
           -81.367687,
           28.576142,
           "FL"
          ],
          [
           "Agnes Scott College",
           "Private not-for-profit, 4-year or above",
           -84.295459,
           33.769268,
           "GA"
          ],
          [
           "Aiken Technical College",
           "Public, 2-year",
           -81.841666,
           33.533833,
           "SC"
          ],
          [
           "Aims Community College",
           "Public, 2-year",
           -104.763415,
           40.409559,
           "CO"
          ],
          [
           "Alabama A & M University",
           "Public, 4-year or above",
           -86.568502,
           34.783368,
           "AL"
          ],
          [
           "Alabama College of Osteopathic Medicine",
           "Private not-for-profit, 4-year or above",
           -85.340805,
           31.206294,
           "AL"
          ],
          [
           "Alabama Southern Community College",
           "Public, 2-year",
           -87.326352,
           31.488925,
           "AL"
          ],
          [
           "Alabama State University",
           "Public, 4-year or above",
           -86.295677,
           32.364317,
           "AL"
          ],
          [
           "Alamance Community College",
           "Public, 2-year",
           -79.35765699999997,
           36.06668300000001,
           "NC"
          ],
          [
           "Alaska Bible College",
           "Private not-for-profit, 4-year or above",
           -149.111972,
           61.598553,
           "AK"
          ],
          [
           "Alaska Christian College",
           "Private not-for-profit, 2-year",
           -151.136005,
           60.490459,
           "AK"
          ],
          [
           "Alaska Pacific University",
           "Private not-for-profit, 4-year or above",
           -149.804168,
           61.19096800000001,
           "AK"
          ],
          [
           "Albany College of Pharmacy and Health Sciences",
           "Private not-for-profit, 4-year or above",
           -73.779063,
           42.650371,
           "NY"
          ],
          [
           "Albany Law School",
           "Private not-for-profit, 4-year or above",
           -73.777495,
           42.651818,
           "NY"
          ],
          [
           "Albany Medical College",
           "Private not-for-profit, 4-year or above",
           -73.777289,
           42.65382,
           "NY"
          ],
          [
           "Albany State University",
           "Public, 4-year or above",
           -84.141825,
           31.56928,
           "GA"
          ],
          [
           "Albany Technical College",
           "Public, 2-year",
           -84.174284,
           31.554340000000003,
           "GA"
          ],
          [
           "Albertus Magnus College",
           "Private not-for-profit, 4-year or above",
           -72.92384799999998,
           41.332519,
           "CT"
          ],
          [
           "Albion College",
           "Private not-for-profit, 4-year or above",
           -84.745639,
           42.245049,
           "MI"
          ],
          [
           "Albright College",
           "Private not-for-profit, 4-year or above",
           -75.90974200000002,
           40.361351,
           "PA"
          ],
          [
           "Alcorn State University",
           "Public, 4-year or above",
           -91.142854,
           31.877216,
           "MS"
          ],
          [
           "Alderson Broaddus University",
           "Private not-for-profit, 4-year or above",
           -80.047728,
           39.158067,
           "WV"
          ],
          [
           "Alexandria Technical & Community College",
           "Public, 2-year",
           -95.372369,
           45.873107,
           "MN"
          ],
          [
           "Alfred University",
           "Private not-for-profit, 4-year or above",
           -77.788106,
           42.254476,
           "NY"
          ],
          [
           "Alice Lloyd College",
           "Private not-for-profit, 4-year or above",
           -82.875068,
           37.335087,
           "KY"
          ],
          [
           "Allan Hancock College",
           "Public, 2-year",
           -120.421144,
           34.943715999999995,
           "CA"
          ],
          [
           "Allegany College of Maryland",
           "Public, 2-year",
           -78.730398,
           39.652152,
           "MD"
          ],
          [
           "Allegheny College",
           "Private not-for-profit, 4-year or above",
           -80.14716800000002,
           41.64869,
           "PA"
          ],
          [
           "Allegheny Wesleyan College",
           "Private not-for-profit, 4-year or above",
           -80.861232,
           40.86722,
           "OH"
          ],
          [
           "Allen College",
           "Private not-for-profit, 4-year or above",
           -92.340148,
           42.530084,
           "IA"
          ],
          [
           "Allen County Community College",
           "Public, 2-year",
           -95.396377,
           37.938038,
           "KS"
          ],
          [
           "Allen University",
           "Private not-for-profit, 4-year or above",
           -81.020045,
           34.010348,
           "SC"
          ],
          [
           "Alma College",
           "Private not-for-profit, 4-year or above",
           -84.672053,
           43.38004,
           "MI"
          ],
          [
           "Alpena Community College",
           "Public, 4-year or above",
           -83.44506899999998,
           45.081647,
           "MI"
          ],
          [
           "Altierus Career College Everett",
           "Private not-for-profit, 2-year",
           -122.220346,
           47.909363,
           "WA"
          ],
          [
           "Altierus Career College-Arlington",
           "Private not-for-profit, 2-year",
           -97.067567,
           32.743882,
           "TX"
          ],
          [
           "Altierus Career College-Bissonnet",
           "Private not-for-profit, 2-year",
           -95.545008,
           29.677344,
           "TX"
          ],
          [
           "Altierus Career College-Chesapeake",
           "Private not-for-profit, 2-year",
           -76.229606,
           36.79029,
           "VA"
          ],
          [
           "Altierus Career College-Colorado Springs",
           "Private not-for-profit, 2-year",
           -104.740267,
           38.807095,
           "CO"
          ],
          [
           "Altierus Career College-Columbus",
           "Private not-for-profit, 2-year",
           -82.852716,
           39.998935,
           "OH"
          ],
          [
           "Altierus Career College-Fort Worth South",
           "Private not-for-profit, 2-year",
           -97.325243,
           32.687914,
           "TX"
          ],
          [
           "Altierus Career College-Henderson",
           "Private not-for-profit, 2-year",
           -115.04619,
           36.037556,
           "NV"
          ],
          [
           "Altierus Career College-Norcross",
           "Private not-for-profit, 2-year",
           -84.155475,
           33.934121000000005,
           "GA"
          ],
          [
           "Altierus Career College-Orange Park",
           "Private not-for-profit, 4-year or above",
           -81.706086,
           30.188775,
           "FL"
          ],
          [
           "Altierus Career College-Tacoma",
           "Private not-for-profit, 2-year",
           -122.436582,
           47.242855,
           "WA"
          ],
          [
           "Altierus Career College-Tampa",
           "Private not-for-profit, 4-year or above",
           -82.49761600000002,
           27.996582,
           "FL"
          ],
          [
           "Altierus Career College-Thornton",
           "Private not-for-profit, 2-year",
           -104.985441,
           39.86156,
           "CO"
          ],
          [
           "Alvernia University",
           "Private not-for-profit, 4-year or above",
           -75.93675400000002,
           40.310028,
           "PA"
          ],
          [
           "Alverno College",
           "Private not-for-profit, 4-year or above",
           -87.965174,
           42.982842,
           "WI"
          ],
          [
           "Alvin Community College",
           "Public, 2-year",
           -95.240671,
           29.396244,
           "TX"
          ],
          [
           "Amarillo College",
           "Public, 2-year",
           -101.847104,
           35.18841,
           "TX"
          ],
          [
           "Amberton University",
           "Private not-for-profit, 4-year or above",
           -96.653028,
           32.859937,
           "TX"
          ],
          [
           "America Evangelical University",
           "Private not-for-profit, 4-year or above",
           -118.308661,
           34.041239000000004,
           "CA"
          ],
          [
           "American Academy McAllister Institute of Funeral Service",
           "Private not-for-profit, 2-year",
           -73.993782,
           40.769031,
           "NY"
          ],
          [
           "American Academy of Art",
           "Private not-for-profit, 4-year or above",
           -87.624788,
           41.87742,
           "IL"
          ],
          [
           "American Academy of Dramatic Arts-Los Angeles",
           "Private not-for-profit, 2-year",
           -118.343701,
           34.095378000000004,
           "CA"
          ],
          [
           "American Academy of Dramatic Arts-New York",
           "Private not-for-profit, 2-year",
           -73.98484300000001,
           40.745545,
           "NY"
          ],
          [
           "American Baptist College",
           "Private not-for-profit, 4-year or above",
           -86.789301,
           36.201155,
           "TN"
          ],
          [
           "American Baptist Seminary of the West",
           "Private not-for-profit, 4-year or above",
           -122.256149,
           37.86525200000001,
           "CA"
          ],
          [
           "American Conservatory Theater",
           "Private not-for-profit, 4-year or above",
           -122.40475,
           37.787343,
           "CA"
          ],
          [
           "American Film Institute Conservatory",
           "Private not-for-profit, 4-year or above",
           -118.310018,
           34.10767,
           "CA"
          ],
          [
           "American International College",
           "Private not-for-profit, 4-year or above",
           -72.55850699999998,
           42.11270800000001,
           "MA"
          ],
          [
           "American Jewish University",
           "Private not-for-profit, 4-year or above",
           -118.471764,
           34.128099,
           "CA"
          ],
          [
           "American Musical and Dramatic Academy",
           "Private not-for-profit, 4-year or above",
           -73.987549,
           40.772275,
           "NY"
          ],
          [
           "American River College",
           "Public, 2-year",
           -121.34601200000002,
           38.649734,
           "CA"
          ],
          [
           "American University",
           "Private not-for-profit, 4-year or above",
           -77.088875,
           38.936005,
           "DC"
          ],
          [
           "Amherst College",
           "Private not-for-profit, 4-year or above",
           -72.518493,
           42.372459,
           "MA"
          ],
          [
           "Amridge University",
           "Private not-for-profit, 4-year or above",
           -86.17401,
           32.362609,
           "AL"
          ],
          [
           "Anabaptist Mennonite Biblical Seminary",
           "Private not-for-profit, 4-year or above",
           -85.972165,
           41.656013,
           "IN"
          ],
          [
           "Ancilla College",
           "Private not-for-profit, 2-year",
           -86.445263,
           41.337958,
           "IN"
          ],
          [
           "Anderson University",
           "Private not-for-profit, 4-year or above",
           -85.664315,
           40.112768,
           "IN"
          ],
          [
           "Anderson University",
           "Private not-for-profit, 4-year or above",
           -82.64035799999998,
           34.5152,
           "SC"
          ],
          [
           "Andover Newton Theological School",
           "Private not-for-profit, 4-year or above",
           -71.18894300000002,
           42.324852,
           "MA"
          ],
          [
           "Andrew College",
           "Private not-for-profit, 4-year or above",
           -84.79502099999998,
           31.772321,
           "GA"
          ],
          [
           "Andrews University",
           "Private not-for-profit, 4-year or above",
           -86.355815,
           41.963859,
           "MI"
          ],
          [
           "Angelina College",
           "Public, 2-year",
           -94.731625,
           31.287444,
           "TX"
          ],
          [
           "Angelo State University",
           "Public, 4-year or above",
           -100.465051,
           31.440914000000006,
           "TX"
          ],
          [
           "Anna Maria College",
           "Private not-for-profit, 4-year or above",
           -71.918961,
           42.33055,
           "MA"
          ],
          [
           "Anne Arundel Community College",
           "Public, 2-year",
           -76.51222299999998,
           39.049813,
           "MD"
          ],
          [
           "Anoka Technical College",
           "Public, 2-year",
           -93.416087,
           45.216709,
           "MN"
          ],
          [
           "Anoka-Ramsey Community College",
           "Public, 2-year",
           -93.351697,
           45.172978,
           "MN"
          ],
          [
           "Antelope Valley College",
           "Public, 4-year or above",
           -118.186166,
           34.676207,
           "CA"
          ],
          [
           "Antioch College",
           "Private not-for-profit, 4-year or above",
           -83.888077,
           39.799806,
           "OH"
          ],
          [
           "Antioch University-Los Angeles",
           "Private not-for-profit, 4-year or above",
           -118.384458,
           33.988533000000004,
           "CA"
          ],
          [
           "Antioch University-Midwest",
           "Private not-for-profit, 4-year or above",
           -83.908684,
           39.80321,
           "OH"
          ],
          [
           "Antioch University-New England",
           "Private not-for-profit, 4-year or above",
           -72.293798,
           42.932344,
           "NH"
          ],
          [
           "Antioch University-Santa Barbara",
           "Private not-for-profit, 4-year or above",
           -119.6958,
           34.419203,
           "CA"
          ],
          [
           "Antioch University-Seattle",
           "Private not-for-profit, 4-year or above",
           -122.346318,
           47.615916,
           "WA"
          ],
          [
           "Apex School of Theology",
           "Private not-for-profit, 4-year or above",
           -78.841386,
           35.922645,
           "NC"
          ],
          [
           "Appalachian Bible College",
           "Private not-for-profit, 4-year or above",
           -81.198867,
           37.853335,
           "WV"
          ],
          [
           "Appalachian College of Pharmacy",
           "Private not-for-profit, 4-year or above",
           -82.005227,
           37.211496,
           "VA"
          ],
          [
           "Appalachian School of Law",
           "Private not-for-profit, 4-year or above",
           -82.096426,
           37.278007,
           "VA"
          ],
          [
           "Appalachian State University",
           "Public, 4-year or above",
           -81.680583,
           36.215536,
           "NC"
          ],
          [
           "Aquinas College",
           "Private not-for-profit, 4-year or above",
           -85.628785,
           42.96019,
           "MI"
          ],
          [
           "Aquinas Institute of Theology",
           "Private not-for-profit, 4-year or above",
           -90.237795,
           38.634329,
           "MO"
          ],
          [
           "Arapahoe Community College",
           "Public, 2-year",
           -105.018631,
           39.607505,
           "CO"
          ],
          [
           "Arcadia University",
           "Private not-for-profit, 4-year or above",
           -75.163876,
           40.092606,
           "PA"
          ],
          [
           "Aria Health School of Nursing",
           "Private not-for-profit, 2-year",
           -74.978275,
           40.125175,
           "PA"
          ],
          [
           "Arizona Christian University",
           "Private not-for-profit, 4-year or above",
           -112.026211,
           33.595117,
           "AZ"
          ],
          [
           "Arizona State University-Downtown Phoenix",
           "Public, 4-year or above",
           -112.07347,
           33.452914,
           "AZ"
          ],
          [
           "Arizona State University-Polytechnic",
           "Public, 4-year or above",
           -111.677225,
           33.307142,
           "AZ"
          ],
          [
           "Arizona State University-Skysong",
           "Public, 4-year or above",
           -111.92386100000002,
           33.463786,
           "AZ"
          ],
          [
           "Arizona State University-Tempe",
           "Public, 4-year or above",
           -111.934383,
           33.417721,
           "AZ"
          ],
          [
           "Arizona State University-West",
           "Public, 4-year or above",
           -112.160021,
           33.60726,
           "AZ"
          ],
          [
           "Arizona Western College",
           "Public, 2-year",
           -114.495968,
           32.689306,
           "AZ"
          ],
          [
           "Arkansas Baptist College",
           "Private not-for-profit, 4-year or above",
           -92.290555,
           34.734751,
           "AR"
          ],
          [
           "Arkansas Colleges of Health Education",
           "Private not-for-profit, 4-year or above",
           -94.319084,
           35.317421,
           "AR"
          ],
          [
           "Arkansas Northeastern College",
           "Public, 2-year",
           -89.92100500000002,
           35.89859699999999,
           "AR"
          ],
          [
           "Arkansas State University Mid-South",
           "Public, 2-year",
           -90.22285,
           35.145736,
           "AR"
          ],
          [
           "Arkansas State University-Beebe",
           "Public, 2-year",
           -91.895351,
           35.074176,
           "AR"
          ],
          [
           "Arkansas State University-Main Campus",
           "Public, 4-year or above",
           -90.679988,
           35.842388,
           "AR"
          ],
          [
           "Arkansas State University-Mountain Home",
           "Public, 2-year",
           -92.388581,
           36.320466,
           "AR"
          ],
          [
           "Arkansas State University-Newport",
           "Public, 2-year",
           -91.188846,
           35.63872199999999,
           "AR"
          ],
          [
           "Arkansas Tech University",
           "Public, 4-year or above",
           -93.13562,
           35.293237,
           "AR"
          ],
          [
           "Arlington Baptist University",
           "Private not-for-profit, 4-year or above",
           -97.156024,
           32.739489,
           "TX"
          ],
          [
           "Armstrong State University",
           "Public, 4-year or above",
           -81.161803,
           31.979073,
           "GA"
          ],
          [
           "Arnot Ogden Medical Center",
           "Private not-for-profit, 2-year",
           -76.828062,
           42.101171,
           "NY"
          ],
          [
           "Art Academy of Cincinnati",
           "Private not-for-profit, 4-year or above",
           -84.513913,
           39.108805,
           "OH"
          ],
          [
           "Art Center College of Design",
           "Private not-for-profit, 4-year or above",
           -118.185102,
           34.169031,
           "CA"
          ],
          [
           "Asbury Theological Seminary",
           "Private not-for-profit, 4-year or above",
           -84.660127,
           37.861561,
           "KY"
          ],
          [
           "Asbury University",
           "Private not-for-profit, 4-year or above",
           -84.66260600000003,
           37.862029,
           "KY"
          ],
          [
           "Asheville-Buncombe Technical Community College",
           "Public, 2-year",
           -82.554826,
           35.570439,
           "NC"
          ],
          [
           "Ashland Community and Technical College",
           "Public, 2-year",
           -82.650664,
           38.469201,
           "KY"
          ],
          [
           "Ashland University",
           "Private not-for-profit, 4-year or above",
           -82.321061,
           40.861755,
           "OH"
          ],
          [
           "Asnuntuck Community College",
           "Public, 2-year",
           -72.570177,
           41.998409,
           "CT"
          ],
          [
           "Associated Beth Rivkah Schools",
           "Private not-for-profit, 2-year",
           -73.949781,
           40.666069,
           "NY"
          ],
          [
           "Assumption College",
           "Private not-for-profit, 4-year or above",
           -71.828387,
           42.295435,
           "MA"
          ],
          [
           "Athens State University",
           "Public, 4-year or above",
           -86.964698,
           34.806793,
           "AL"
          ],
          [
           "Athens Technical College",
           "Public, 2-year",
           -83.339598,
           33.990183,
           "GA"
          ],
          [
           "Atlanta Metropolitan State College",
           "Public, 4-year or above",
           -84.404659,
           33.70893,
           "GA"
          ],
          [
           "Atlanta Technical College",
           "Public, 2-year",
           -84.404995,
           33.712009,
           "GA"
          ],
          [
           "Atlantic Cape Community College",
           "Public, 2-year",
           -74.680019,
           39.462081,
           "NJ"
          ],
          [
           "Atlantic Institute of Oriental Medicine",
           "Private not-for-profit, 4-year or above",
           -80.142235,
           26.121964,
           "FL"
          ],
          [
           "Atlantic Technical College",
           "Public, 2-year",
           -80.19227099999998,
           26.24278,
           "FL"
          ],
          [
           "Auburn University",
           "Public, 4-year or above",
           -85.488258,
           32.599378,
           "AL"
          ],
          [
           "Auburn University at Montgomery",
           "Public, 4-year or above",
           -86.177544,
           32.36736,
           "AL"
          ],
          [
           "Augsburg University",
           "Private not-for-profit, 4-year or above",
           -93.240436,
           44.966307,
           "MN"
          ],
          [
           "Augusta Technical College",
           "Public, 2-year",
           -82.048439,
           33.418992,
           "GA"
          ],
          [
           "Augusta University",
           "Public, 4-year or above",
           -81.989071,
           33.47037,
           "GA"
          ],
          [
           "Augustana College",
           "Private not-for-profit, 4-year or above",
           -90.55057,
           41.50236500000001,
           "IL"
          ],
          [
           "Augustana University",
           "Private not-for-profit, 4-year or above",
           -96.736975,
           43.525148,
           "SD"
          ],
          [
           "Aultman College of Nursing and Health Sciences",
           "Private not-for-profit, 4-year or above",
           -81.404053,
           40.796186,
           "OH"
          ],
          [
           "Aurora University",
           "Private not-for-profit, 4-year or above",
           -88.349023,
           41.753631,
           "IL"
          ],
          [
           "Austin College",
           "Private not-for-profit, 4-year or above",
           -96.598772,
           33.646307,
           "TX"
          ],
          [
           "Austin Community College District",
           "Public, 2-year",
           -97.712505,
           30.322744,
           "TX"
          ],
          [
           "Austin Graduate School of Theology",
           "Private not-for-profit, 4-year or above",
           -97.711706,
           30.343788,
           "TX"
          ],
          [
           "Austin Peay State University",
           "Public, 4-year or above",
           -87.35408100000002,
           36.533319,
           "TN"
          ],
          [
           "Austin Presbyterian Theological Seminary",
           "Private not-for-profit, 4-year or above",
           -97.737752,
           30.292635,
           "TX"
          ],
          [
           "Autry Technology Center",
           "Public, 2-year",
           -97.89719,
           36.419122,
           "OK"
          ],
          [
           "Ave Maria School of Law",
           "Private not-for-profit, 4-year or above",
           -81.731358,
           26.242138,
           "FL"
          ],
          [
           "Ave Maria University",
           "Private not-for-profit, 4-year or above",
           -81.43894499999998,
           26.335983,
           "FL"
          ],
          [
           "Avera McKennan Hospital School of Radiologic Technology",
           "Private not-for-profit, 2-year",
           -96.715584,
           43.533972,
           "SD"
          ],
          [
           "Avera Sacred Heart Hospital",
           "Private not-for-profit, 2-year",
           -97.407865,
           42.872359,
           "SD"
          ],
          [
           "Averett University",
           "Private not-for-profit, 4-year or above",
           -79.413203,
           36.577287,
           "VA"
          ],
          [
           "Averett University-Non-Traditional Programs",
           "Private not-for-profit, 4-year or above",
           -79.413195,
           36.577257,
           "VA"
          ],
          [
           "Avila University",
           "Private not-for-profit, 4-year or above",
           -94.591758,
           38.91339,
           "MO"
          ],
          [
           "Azusa Pacific University",
           "Private not-for-profit, 4-year or above",
           -117.888375,
           34.130047,
           "CA"
          ],
          [
           "Azusa Pacific University College",
           "Private not-for-profit, 4-year or above",
           -117.827484,
           34.110723,
           "CA"
          ],
          [
           "Babson College",
           "Private not-for-profit, 4-year or above",
           -71.265585,
           42.299958,
           "MA"
          ],
          [
           "Bacone College",
           "Private not-for-profit, 4-year or above",
           -95.334046,
           35.777082,
           "OK"
          ],
          [
           "Bainbridge State College",
           "Public, 4-year or above",
           -84.535049,
           30.899474,
           "GA"
          ],
          [
           "Bais Binyomin Academy",
           "Private not-for-profit, 4-year or above",
           -74.07888100000002,
           41.123002,
           "NY"
          ],
          [
           "Bais HaMedrash and Mesivta of Baltimore",
           "Private not-for-profit, 4-year or above",
           -76.674414,
           39.379528,
           "MD"
          ],
          [
           "Bais Medrash Elyon",
           "Private not-for-profit, 4-year or above",
           -74.06979799999998,
           41.114079,
           "NY"
          ],
          [
           "Bais Medrash Mayan Hatorah",
           "Private not-for-profit, 4-year or above",
           -74.204332,
           40.107414,
           "NJ"
          ],
          [
           "Bais Medrash Toras Chesed",
           "Private not-for-profit, 4-year or above",
           -74.21127,
           40.099704,
           "NJ"
          ],
          [
           "Baker College",
           "Private not-for-profit, 4-year or above",
           -83.69467900000002,
           42.974764,
           "MI"
          ],
          [
           "Baker University",
           "Private not-for-profit, 4-year or above",
           -95.188231,
           38.777278,
           "KS"
          ],
          [
           "Bakersfield College",
           "Public, 4-year or above",
           -118.973753,
           35.40911,
           "CA"
          ],
          [
           "Bakke Graduate University",
           "Private not-for-profit, 4-year or above",
           -96.753976,
           32.894605,
           "TX"
          ],
          [
           "Baldwin Wallace University",
           "Private not-for-profit, 4-year or above",
           -81.85114499999997,
           41.373017,
           "OH"
          ],
          [
           "Ball State University",
           "Public, 4-year or above",
           -85.40904300000003,
           40.203431,
           "IN"
          ],
          [
           "Baltimore City Community College",
           "Public, 2-year",
           -76.662878,
           39.319978000000006,
           "MD"
          ],
          [
           "Bank Street College of Education",
           "Private not-for-profit, 4-year or above",
           -73.966643,
           40.805604,
           "NY"
          ],
          [
           "Baptist Bible College",
           "Private not-for-profit, 4-year or above",
           -93.284286,
           37.239696,
           "MO"
          ],
          [
           "Baptist Health College-Little Rock",
           "Private not-for-profit, 2-year",
           -92.40692,
           34.713115,
           "AR"
          ],
          [
           "Baptist Memorial College of Health Sciences",
           "Private not-for-profit, 4-year or above",
           -90.027501,
           35.138415,
           "TN"
          ],
          [
           "Baptist Missionary Association Theological Seminary",
           "Private not-for-profit, 4-year or above",
           -95.255524,
           31.978961,
           "TX"
          ],
          [
           "Baptist Theological Seminary at Richmond",
           "Private not-for-profit, 4-year or above",
           -77.46848299999998,
           37.632354,
           "VA"
          ],
          [
           "Baptist University of the Americas",
           "Private not-for-profit, 4-year or above",
           -98.546081,
           29.34998,
           "TX"
          ],
          [
           "Barclay College",
           "Private not-for-profit, 4-year or above",
           -99.105351,
           37.62012,
           "KS"
          ],
          [
           "Bard College",
           "Private not-for-profit, 4-year or above",
           -73.909927,
           42.020386,
           "NY"
          ],
          [
           "Bard College at Simon's Rock",
           "Private not-for-profit, 4-year or above",
           -73.38000799999998,
           42.209241,
           "MA"
          ],
          [
           "Barnard College",
           "Private not-for-profit, 4-year or above",
           -73.963346,
           40.810098,
           "NY"
          ],
          [
           "Barnes-Jewish College Goldfarb School of Nursing",
           "Private not-for-profit, 4-year or above",
           -90.258772,
           38.637165,
           "MO"
          ],
          [
           "Barry University",
           "Private not-for-profit, 4-year or above",
           -80.198925,
           25.878908,
           "FL"
          ],
          [
           "Barstow Community College",
           "Public, 2-year",
           -117.02523,
           34.871451,
           "CA"
          ],
          [
           "Barton College",
           "Private not-for-profit, 4-year or above",
           -77.91386700000002,
           35.734376,
           "NC"
          ],
          [
           "Barton County Community College",
           "Public, 2-year",
           -98.731648,
           38.403529,
           "KS"
          ],
          [
           "Bastyr University",
           "Private not-for-profit, 4-year or above",
           -122.251708,
           47.729935,
           "WA"
          ],
          [
           "Bates College",
           "Private not-for-profit, 4-year or above",
           -70.203333,
           44.105299,
           "ME"
          ],
          [
           "Bates Technical College",
           "Public, 2-year",
           -122.44683,
           47.251743,
           "WA"
          ],
          [
           "Baton Rouge Community College",
           "Public, 2-year",
           -91.137935,
           30.448276,
           "LA"
          ],
          [
           "Baton Rouge General Medical Center-School of Nursing",
           "Private not-for-profit, 2-year",
           -91.153084,
           30.449088,
           "LA"
          ],
          [
           "Bay de Noc Community College",
           "Public, 2-year",
           -87.085228,
           45.772586,
           "MI"
          ],
          [
           "Bay Mills Community College",
           "Public, 2-year",
           -84.607089,
           46.454584,
           "MI"
          ],
          [
           "Bay Path University",
           "Private not-for-profit, 4-year or above",
           -72.583974,
           42.055364,
           "MA"
          ],
          [
           "Baylor College of Medicine",
           "Private not-for-profit, 4-year or above",
           -95.395743,
           29.7106,
           "TX"
          ],
          [
           "Baylor University",
           "Private not-for-profit, 4-year or above",
           -97.117641,
           31.54896,
           "TX"
          ],
          [
           "Be'er Yaakov Talmudic Seminary",
           "Private not-for-profit, 4-year or above",
           -74.028425,
           41.13905,
           "NY"
          ],
          [
           "Beacon College",
           "Private not-for-profit, 4-year or above",
           -81.87415,
           28.811281,
           "FL"
          ],
          [
           "Beaufort County Community College",
           "Public, 2-year",
           -76.96535,
           35.533587,
           "NC"
          ],
          [
           "Becker College",
           "Private not-for-profit, 4-year or above",
           -71.81189499999998,
           42.26918,
           "MA"
          ],
          [
           "Beis Medrash Heichal Dovid",
           "Private not-for-profit, 4-year or above",
           -73.751633,
           40.596845,
           "NY"
          ],
          [
           "Belanger School of Nursing",
           "Private not-for-profit, 2-year",
           -73.91588399999998,
           42.802979,
           "NY"
          ],
          [
           "Belhaven University",
           "Private not-for-profit, 4-year or above",
           -90.169228,
           32.318415,
           "MS"
          ],
          [
           "Bellarmine University",
           "Private not-for-profit, 4-year or above",
           -85.70499699999998,
           38.219279,
           "KY"
          ],
          [
           "Bellevue College",
           "Public, 4-year or above",
           -122.150118,
           47.584014,
           "WA"
          ],
          [
           "Bellevue University",
           "Private not-for-profit, 4-year or above",
           -95.91764,
           41.150225,
           "NE"
          ],
          [
           "Bellin College",
           "Private not-for-profit, 4-year or above",
           -87.921722,
           44.468277,
           "WI"
          ],
          [
           "Bellingham Technical College",
           "Public, 4-year or above",
           -122.51216,
           48.766189,
           "WA"
          ],
          [
           "Belmont Abbey College",
           "Private not-for-profit, 4-year or above",
           -81.041315,
           35.260651,
           "NC"
          ],
          [
           "Belmont College",
           "Public, 2-year",
           -80.964901,
           40.07695,
           "OH"
          ],
          [
           "Belmont University",
           "Private not-for-profit, 4-year or above",
           -86.794715,
           36.133866,
           "TN"
          ],
          [
           "Beloit College",
           "Private not-for-profit, 4-year or above",
           -89.029285,
           42.504022,
           "WI"
          ],
          [
           "Bemidji State University",
           "Public, 4-year or above",
           -94.874119,
           47.482341,
           "MN"
          ],
          [
           "Benedict College",
           "Private not-for-profit, 4-year or above",
           -81.020403,
           34.012941,
           "SC"
          ],
          [
           "Benedictine College",
           "Private not-for-profit, 4-year or above",
           -95.111473,
           39.572646,
           "KS"
          ],
          [
           "Benedictine University",
           "Private not-for-profit, 4-year or above",
           -88.097307,
           41.777569,
           "IL"
          ],
          [
           "Benjamin Franklin Institute of Technology",
           "Public, 4-year or above",
           -71.070231,
           42.346023,
           "MA"
          ],
          [
           "Bennett College",
           "Private not-for-profit, 4-year or above",
           -79.77998000000002,
           36.067531,
           "NC"
          ],
          [
           "Bennington College",
           "Private not-for-profit, 4-year or above",
           -73.237799,
           42.919547,
           "VT"
          ],
          [
           "Bentley University",
           "Private not-for-profit, 4-year or above",
           -71.220148,
           42.388798,
           "MA"
          ],
          [
           "Berea College",
           "Private not-for-profit, 4-year or above",
           -84.292893,
           37.57202,
           "KY"
          ],
          [
           "Bergen Community College",
           "Public, 2-year",
           -74.08880400000002,
           40.951782,
           "NJ"
          ],
          [
           "Bergin University of Canine Studies",
           "Private not-for-profit, 4-year or above",
           -122.721175,
           38.353867,
           "CA"
          ],
          [
           "Berkeley City College",
           "Public, 2-year",
           -122.269877,
           37.869769,
           "CA"
          ],
          [
           "Berklee College of Music",
           "Private not-for-profit, 4-year or above",
           -71.089405,
           42.346646,
           "MA"
          ],
          [
           "Berkshire Community College",
           "Public, 2-year",
           -73.318843,
           42.460877,
           "MA"
          ],
          [
           "Berry College",
           "Private not-for-profit, 4-year or above",
           -85.18920200000002,
           34.290414,
           "GA"
          ],
          [
           "Bet Medrash Gadol Ateret Torah",
           "Private not-for-profit, 4-year or above",
           -73.969945,
           40.607809,
           "NY"
          ],
          [
           "Beth Hamedrash Shaarei Yosher Institute",
           "Private not-for-profit, 4-year or above",
           -73.981202,
           40.635444,
           "NY"
          ],
          [
           "Beth Hatalmud Rabbinical College",
           "Private not-for-profit, 4-year or above",
           -73.992684,
           40.605256,
           "NY"
          ],
          [
           "Beth Medrash Govoha",
           "Private not-for-profit, 4-year or above",
           -74.2221,
           40.09568,
           "NJ"
          ],
          [
           "Beth Medrash Meor Yitzchok",
           "Private not-for-profit, 4-year or above",
           -74.060843,
           41.100906,
           "NY"
          ],
          [
           "Beth Medrash of Asbury Park",
           "Private not-for-profit, 4-year or above",
           -74.21081600000002,
           40.043705,
           "NJ"
          ],
          [
           "Bethany College",
           "Private not-for-profit, 4-year or above",
           -80.560056,
           40.205819,
           "WV"
          ],
          [
           "Bethany College",
           "Private not-for-profit, 4-year or above",
           -97.67367,
           38.580598,
           "KS"
          ],
          [
           "Bethany Global University",
           "Private not-for-profit, 4-year or above",
           -93.371754,
           44.795501,
           "MN"
          ],
          [
           "Bethany Lutheran College",
           "Private not-for-profit, 4-year or above",
           -93.990805,
           44.166649,
           "MN"
          ],
          [
           "Bethany Theological Seminary",
           "Private not-for-profit, 4-year or above",
           -84.910689,
           39.826244,
           "IN"
          ],
          [
           "Bethel College",
           "Private not-for-profit, 4-year or above",
           -76.409526,
           37.04127,
           "VA"
          ],
          [
           "Bethel College-Indiana",
           "Private not-for-profit, 4-year or above",
           -86.194686,
           41.678399,
           "IN"
          ],
          [
           "Bethel College-North Newton",
           "Private not-for-profit, 4-year or above",
           -97.343256,
           38.075169,
           "KS"
          ],
          [
           "Bethel Seminary-San Diego",
           "Private not-for-profit, 4-year or above",
           -117.06605,
           32.765387,
           "CA"
          ],
          [
           "Bethel Seminary-St Paul",
           "Private not-for-profit, 4-year or above",
           -93.16318,
           45.060071,
           "MN"
          ],
          [
           "Bethel University",
           "Private not-for-profit, 4-year or above",
           -93.161663,
           45.057655,
           "MN"
          ],
          [
           "Bethel University",
           "Private not-for-profit, 4-year or above",
           -88.516762,
           36.137848,
           "TN"
          ],
          [
           "Bethesda University",
           "Private not-for-profit, 4-year or above",
           -117.941323,
           33.842295,
           "CA"
          ],
          [
           "Bethune-Cookman University",
           "Private not-for-profit, 4-year or above",
           -81.032946,
           29.207195,
           "FL"
          ],
          [
           "Beulah Heights University",
           "Private not-for-profit, 4-year or above",
           -84.35768,
           33.736993,
           "GA"
          ],
          [
           "Bevill State Community College",
           "Public, 2-year",
           -87.266406,
           33.836929,
           "AL"
          ],
          [
           "Bexley Hall Seabury Western Theological Seminary Federation  Inc.",
           "Private not-for-profit, 4-year or above",
           -87.591173,
           41.785693,
           "IL"
          ],
          [
           "Biblical Theological Seminary",
           "Private not-for-profit, 4-year or above",
           -75.30389699999998,
           40.281414,
           "PA"
          ],
          [
           "Big Bend Community College",
           "Public, 2-year",
           -119.325678,
           47.183651,
           "WA"
          ],
          [
           "Big Sandy Community and Technical College",
           "Public, 2-year",
           -82.778847,
           37.688248,
           "KY"
          ],
          [
           "Binghamton University",
           "Public, 4-year or above",
           -75.966889,
           42.087868,
           "NY"
          ],
          [
           "Biola University",
           "Private not-for-profit, 4-year or above",
           -118.014374,
           33.906203000000005,
           "CA"
          ],
          [
           "Birmingham Southern College",
           "Private not-for-profit, 4-year or above",
           -86.85055200000002,
           33.513774,
           "AL"
          ],
          [
           "Birthingway College of Midwifery",
           "Private not-for-profit, 4-year or above",
           -122.538471,
           45.476809,
           "OR"
          ],
          [
           "Bishop State Community College",
           "Public, 2-year",
           -88.05698199999998,
           30.693972,
           "AL"
          ],
          [
           "Bismarck State College",
           "Public, 4-year or above",
           -100.816534,
           46.821459,
           "ND"
          ],
          [
           "Black Hawk College",
           "Public, 2-year",
           -90.447799,
           41.477283,
           "IL"
          ],
          [
           "Black Hills State University",
           "Public, 4-year or above",
           -103.870966,
           44.494889,
           "SD"
          ],
          [
           "Black River Technical College",
           "Public, 2-year",
           -90.951033,
           36.239793,
           "AR"
          ],
          [
           "Blackburn College",
           "Private not-for-profit, 4-year or above",
           -89.87024100000002,
           39.287896,
           "IL"
          ],
          [
           "Blackfeet Community College",
           "Private not-for-profit, 2-year",
           -113.00938700000002,
           48.551927,
           "MT"
          ],
          [
           "Blackhawk Technical College",
           "Public, 2-year",
           -89.016254,
           42.593159,
           "WI"
          ],
          [
           "Bladen Community College",
           "Public, 2-year",
           -78.73111899999998,
           34.644690999999995,
           "NC"
          ],
          [
           "Blessing Hospital School of Radiologic Technology",
           "Private not-for-profit, 2-year",
           -91.391542,
           39.935084,
           "IL"
          ],
          [
           "Blessing Rieman College of Nursing and Health Sciences",
           "Private not-for-profit, 4-year or above",
           -91.399045,
           39.936549,
           "IL"
          ],
          [
           "Blinn College",
           "Public, 2-year",
           -96.409677,
           30.159713,
           "TX"
          ],
          [
           "Bloomfield College",
           "Private not-for-profit, 4-year or above",
           -74.19430899999998,
           40.795105,
           "NJ"
          ],
          [
           "Bloomsburg University of Pennsylvania",
           "Public, 4-year or above",
           -76.44784399999998,
           41.00782,
           "PA"
          ],
          [
           "Blue Mountain College",
           "Private not-for-profit, 4-year or above",
           -89.02924,
           34.672090000000004,
           "MS"
          ],
          [
           "Blue Mountain Community College",
           "Public, 2-year",
           -118.816944,
           45.677313,
           "OR"
          ],
          [
           "Blue Ridge Community and Technical College",
           "Public, 2-year",
           -78.001918,
           39.43529,
           "WV"
          ],
          [
           "Blue Ridge Community College",
           "Public, 2-year",
           -78.937471,
           38.279075,
           "VA"
          ],
          [
           "Blue Ridge Community College",
           "Public, 2-year",
           -82.42554399999999,
           35.30804000000001,
           "NC"
          ],
          [
           "Bluefield College",
           "Private not-for-profit, 4-year or above",
           -81.24623299999998,
           37.244557,
           "VA"
          ],
          [
           "Bluefield State College",
           "Public, 4-year or above",
           -81.239037,
           37.265732,
           "WV"
          ],
          [
           "Bluegrass Community and Technical College",
           "Public, 2-year",
           -84.503665,
           38.024808,
           "KY"
          ],
          [
           "Bluffton University",
           "Private not-for-profit, 4-year or above",
           -83.899439,
           40.895606,
           "OH"
          ],
          [
           "Boise Bible College",
           "Private not-for-profit, 4-year or above",
           -116.291321,
           43.658651,
           "ID"
          ],
          [
           "Boise State University",
           "Public, 4-year or above",
           -116.203301,
           43.604284,
           "ID"
          ],
          [
           "Bolivar Technical College",
           "Private not-for-profit, 2-year",
           -93.421572,
           37.623766,
           "MO"
          ],
          [
           "Bon Secours Memorial College of Nursing",
           "Private not-for-profit, 4-year or above",
           -77.43319100000002,
           37.646876,
           "VA"
          ],
          [
           "Bon Secours St Mary's Hospital School of Medical Imaging",
           "Private not-for-profit, 2-year",
           -77.433201,
           37.64687,
           "VA"
          ],
          [
           "Boricua College",
           "Private not-for-profit, 4-year or above",
           -73.9458,
           40.833434,
           "NY"
          ],
          [
           "Bossier Parish Community College",
           "Public, 2-year",
           -93.646881,
           32.539551,
           "LA"
          ],
          [
           "Boston Architectural College",
           "Private not-for-profit, 4-year or above",
           -71.085786,
           42.348467,
           "MA"
          ],
          [
           "Boston Baptist College",
           "Private not-for-profit, 4-year or above",
           -71.1103,
           42.254037,
           "MA"
          ],
          [
           "Boston College",
           "Private not-for-profit, 4-year or above",
           -71.16924200000003,
           42.336213,
           "MA"
          ],
          [
           "Boston Graduate School of Psychoanalysis Inc",
           "Private not-for-profit, 4-year or above",
           -71.133151,
           42.33912,
           "MA"
          ],
          [
           "Boston University",
           "Private not-for-profit, 4-year or above",
           -71.10794200000002,
           42.351118,
           "MA"
          ],
          [
           "Bowdoin College",
           "Private not-for-profit, 4-year or above",
           -69.963942,
           43.907134,
           "ME"
          ],
          [
           "Bowie State University",
           "Public, 4-year or above",
           -76.759721,
           39.018185,
           "MD"
          ],
          [
           "Bowling Green State University-Firelands",
           "Public, 2-year",
           -82.59415600000001,
           41.39752100000001,
           "OH"
          ],
          [
           "Bowling Green State University-Main Campus",
           "Public, 4-year or above",
           -83.640896,
           41.375513,
           "OH"
          ],
          [
           "Bradford-Union Technical Center",
           "Public, 2-year",
           -82.117224,
           29.952308,
           "FL"
          ],
          [
           "Bradley University",
           "Private not-for-profit, 4-year or above",
           -89.616786,
           40.696896,
           "IL"
          ],
          [
           "Brandeis University",
           "Private not-for-profit, 4-year or above",
           -71.254716,
           42.364947,
           "MA"
          ],
          [
           "Brandman University",
           "Private not-for-profit, 4-year or above",
           -117.76901200000002,
           33.656401,
           "CA"
          ],
          [
           "Brazosport College",
           "Public, 4-year or above",
           -95.409004,
           29.04836,
           "TX"
          ],
          [
           "Brenau University",
           "Private not-for-profit, 4-year or above",
           -83.821513,
           34.303117,
           "GA"
          ],
          [
           "Brescia University",
           "Private not-for-profit, 4-year or above",
           -87.111639,
           37.769041,
           "KY"
          ],
          [
           "Brevard College",
           "Private not-for-profit, 4-year or above",
           -82.72949399999997,
           35.236763,
           "NC"
          ],
          [
           "Brewster Technical College",
           "Public, 2-year",
           -82.461722,
           27.96373,
           "FL"
          ],
          [
           "Brewton-Parker College",
           "Private not-for-profit, 4-year or above",
           -82.586136,
           32.185718,
           "GA"
          ],
          [
           "Briar Cliff University",
           "Private not-for-profit, 4-year or above",
           -96.428444,
           42.526443,
           "IA"
          ],
          [
           "Bridgerland Technical College",
           "Public, 2-year",
           -111.850619,
           41.756188,
           "UT"
          ],
          [
           "BridgeValley Community & Technical College",
           "Public, 2-year",
           -81.6983,
           38.353846,
           "WV"
          ],
          [
           "Bridgewater College",
           "Private not-for-profit, 4-year or above",
           -78.96900699999998,
           38.378484,
           "VA"
          ],
          [
           "Bridgewater State University",
           "Public, 4-year or above",
           -70.974553,
           41.98749,
           "MA"
          ],
          [
           "Brigham Young University-Hawaii",
           "Private not-for-profit, 4-year or above",
           -157.926586,
           21.642074,
           "HI"
          ],
          [
           "Brigham Young University-Idaho",
           "Private not-for-profit, 4-year or above",
           -111.782431,
           43.81840800000001,
           "ID"
          ],
          [
           "Brigham Young University-Provo",
           "Private not-for-profit, 4-year or above",
           -111.649281,
           40.250851,
           "UT"
          ],
          [
           "Bristol Community College",
           "Public, 2-year",
           -71.11913299999998,
           41.721994,
           "MA"
          ],
          [
           "Brite Divinity School",
           "Private not-for-profit, 4-year or above",
           -97.361561,
           32.709543,
           "TX"
          ],
          [
           "Brookdale Community College",
           "Public, 2-year",
           -74.132746,
           40.324906,
           "NJ"
          ],
          [
           "Brookhaven College",
           "Public, 2-year",
           -96.85016,
           32.928237,
           "TX"
          ],
          [
           "Brooklyn Law School",
           "Private not-for-profit, 4-year or above",
           -73.989623,
           40.691836,
           "NY"
          ],
          [
           "Broward College",
           "Public, 4-year or above",
           -80.14183,
           26.119422,
           "FL"
          ],
          [
           "Brown University",
           "Private not-for-profit, 4-year or above",
           -71.40385,
           41.82617,
           "RI"
          ],
          [
           "Brunswick Community College",
           "Public, 2-year",
           -78.22979000000002,
           34.038973,
           "NC"
          ],
          [
           "Bryan College of Health Sciences",
           "Private not-for-profit, 4-year or above",
           -96.651532,
           40.796768,
           "NE"
          ],
          [
           "Bryan College-Dayton",
           "Private not-for-profit, 4-year or above",
           -84.99955200000002,
           35.49720900000001,
           "TN"
          ],
          [
           "Bryant University",
           "Private not-for-profit, 4-year or above",
           -71.539547,
           41.920092,
           "RI"
          ],
          [
           "Bryn Athyn College of the New Church",
           "Private not-for-profit, 4-year or above",
           -75.060808,
           40.134393,
           "PA"
          ],
          [
           "Bryn Mawr College",
           "Private not-for-profit, 4-year or above",
           -75.313223,
           40.02736,
           "PA"
          ],
          [
           "Bucknell University",
           "Private not-for-profit, 4-year or above",
           -76.882616,
           40.954317,
           "PA"
          ],
          [
           "Bucks County Community College",
           "Public, 2-year",
           -74.965841,
           40.239102,
           "PA"
          ],
          [
           "Buena Vista University",
           "Private not-for-profit, 4-year or above",
           -95.208529,
           42.642255,
           "IA"
          ],
          [
           "Bunker Hill Community College",
           "Public, 2-year",
           -71.069263,
           42.374806,
           "MA"
          ],
          [
           "Butler Community College",
           "Public, 2-year",
           -96.882987,
           37.806699,
           "KS"
          ],
          [
           "Butler County Community College",
           "Public, 2-year",
           -79.911433,
           40.829364,
           "PA"
          ],
          [
           "Butler University",
           "Private not-for-profit, 4-year or above",
           -86.172167,
           39.8374,
           "IN"
          ],
          [
           "Butte College",
           "Public, 2-year",
           -121.644831,
           39.649782,
           "CA"
          ],
          [
           "Byzantine Catholic Seminary of Saints Cyril and Methodius",
           "Private not-for-profit, 4-year or above",
           -80.015825,
           40.484409,
           "PA"
          ],
          [
           "Cabarrus College of Health Sciences",
           "Private not-for-profit, 4-year or above",
           -80.600824,
           35.440038,
           "NC"
          ],
          [
           "Cabrillo College",
           "Public, 2-year",
           -121.924797,
           36.989448,
           "CA"
          ],
          [
           "Cabrini University",
           "Private not-for-profit, 4-year or above",
           -75.375263,
           40.056355,
           "PA"
          ],
          [
           "Cairn University-Langhorne",
           "Private not-for-profit, 4-year or above",
           -74.909509,
           40.165809,
           "PA"
          ],
          [
           "Caldwell Community College and Technical Institute",
           "Public, 2-year",
           -81.484148,
           35.85460399999999,
           "NC"
          ],
          [
           "Caldwell University",
           "Private not-for-profit, 4-year or above",
           -74.272571,
           40.832753,
           "NJ"
          ],
          [
           "California Baptist University",
           "Private not-for-profit, 4-year or above",
           -117.425619,
           33.929321,
           "CA"
          ],
          [
           "California Christian College",
           "Private not-for-profit, 4-year or above",
           -119.711123,
           36.749366,
           "CA"
          ],
          [
           "California College of the Arts",
           "Private not-for-profit, 4-year or above",
           -122.399451,
           37.767485,
           "CA"
          ],
          [
           "California College San Diego",
           "Private not-for-profit, 4-year or above",
           -117.160658,
           33.138303,
           "CA"
          ],
          [
           "California College San Diego",
           "Private not-for-profit, 4-year or above",
           -117.166966,
           32.835221000000004,
           "CA"
          ],
          [
           "California Institute of Advanced Management",
           "Private not-for-profit, 4-year or above",
           -118.061293,
           34.071748,
           "CA"
          ],
          [
           "California Institute of Integral Studies",
           "Private not-for-profit, 4-year or above",
           -122.416102,
           37.774924,
           "CA"
          ],
          [
           "California Institute of Technology",
           "Private not-for-profit, 4-year or above",
           -118.125878,
           34.137349,
           "CA"
          ],
          [
           "California Institute of the Arts",
           "Private not-for-profit, 4-year or above",
           -118.566837,
           34.39327,
           "CA"
          ],
          [
           "California Jazz Conservatory",
           "Private not-for-profit, 4-year or above",
           -122.268878,
           37.871235,
           "CA"
          ],
          [
           "California Lutheran University",
           "Private not-for-profit, 4-year or above",
           -118.878924,
           34.224566,
           "CA"
          ],
          [
           "California Polytechnic State University-San Luis Obispo",
           "Public, 4-year or above",
           -120.657311,
           35.299513,
           "CA"
          ],
          [
           "California State Polytechnic University-Pomona",
           "Public, 4-year or above",
           -117.819019,
           34.054272999999995,
           "CA"
          ],
          [
           "California State University Maritime Academy",
           "Public, 4-year or above",
           -122.231551,
           38.069061,
           "CA"
          ],
          [
           "California State University-Bakersfield",
           "Public, 4-year or above",
           -119.104711,
           35.350005,
           "CA"
          ],
          [
           "California State University-Channel Islands",
           "Public, 4-year or above",
           -119.04356,
           34.162949,
           "CA"
          ],
          [
           "California State University-Chico",
           "Public, 4-year or above",
           -121.844859,
           39.729712,
           "CA"
          ],
          [
           "California State University-Dominguez Hills",
           "Public, 4-year or above",
           -118.255917,
           33.864766,
           "CA"
          ],
          [
           "California State University-East Bay",
           "Public, 4-year or above",
           -122.058073,
           37.65707,
           "CA"
          ],
          [
           "California State University-Fresno",
           "Public, 4-year or above",
           -119.748258,
           36.814477,
           "CA"
          ],
          [
           "California State University-Fullerton",
           "Public, 4-year or above",
           -117.885446,
           33.881506,
           "CA"
          ],
          [
           "California State University-Long Beach",
           "Public, 4-year or above",
           -118.11204,
           33.782818,
           "CA"
          ],
          [
           "California State University-Los Angeles",
           "Public, 4-year or above",
           -118.168965,
           34.066927,
           "CA"
          ],
          [
           "California State University-Monterey Bay",
           "Public, 4-year or above",
           -121.796178,
           36.652397,
           "CA"
          ],
          [
           "California State University-Northridge",
           "Public, 4-year or above",
           -118.529319,
           34.240126000000004,
           "CA"
          ],
          [
           "California State University-Sacramento",
           "Public, 4-year or above",
           -121.423549,
           38.559415,
           "CA"
          ],
          [
           "California State University-San Bernardino",
           "Public, 4-year or above",
           -117.323801,
           34.182621999999995,
           "CA"
          ],
          [
           "California State University-San Marcos",
           "Public, 4-year or above",
           -117.159013,
           33.130569,
           "CA"
          ],
          [
           "California State University-Stanislaus",
           "Public, 4-year or above",
           -120.852511,
           37.52577,
           "CA"
          ],
          [
           "California University of Management and Sciences",
           "Private not-for-profit, 4-year or above",
           -117.941996,
           33.842052,
           "CA"
          ],
          [
           "California University of Pennsylvania",
           "Public, 4-year or above",
           -79.88679,
           40.064964,
           "PA"
          ],
          [
           "California Western School of Law",
           "Private not-for-profit, 4-year or above",
           -117.162416,
           32.722192,
           "CA"
          ],
          [
           "Calumet College of Saint Joseph",
           "Private not-for-profit, 4-year or above",
           -87.494123,
           41.671008,
           "IN"
          ],
          [
           "Calvary University",
           "Private not-for-profit, 4-year or above",
           -94.547927,
           38.839578,
           "MO"
          ],
          [
           "Calvin College",
           "Private not-for-profit, 4-year or above",
           -85.587548,
           42.929916,
           "MI"
          ],
          [
           "Calvin Theological Seminary",
           "Private not-for-profit, 4-year or above",
           -85.586439,
           42.927951,
           "MI"
          ],
          [
           "Cambridge College",
           "Private not-for-profit, 4-year or above",
           -71.07264599999998,
           42.381091,
           "MA"
          ],
          [
           "Camden County College",
           "Public, 2-year",
           -75.038381,
           39.784874,
           "NJ"
          ],
          [
           "Cameron University",
           "Public, 4-year or above",
           -98.434163,
           34.606487,
           "OK"
          ],
          [
           "Campbell University",
           "Private not-for-profit, 4-year or above",
           -78.738238,
           35.409149,
           "NC"
          ],
          [
           "Campbellsville University",
           "Private not-for-profit, 4-year or above",
           -85.348943,
           37.343342,
           "KY"
          ],
          [
           "Canada College",
           "Public, 2-year",
           -122.265398,
           37.44877,
           "CA"
          ],
          [
           "Canisius College",
           "Private not-for-profit, 4-year or above",
           -78.852577,
           42.925206,
           "NY"
          ],
          [
           "Cankdeska Cikana Community College",
           "Public, 2-year",
           -98.990801,
           47.978122,
           "ND"
          ],
          [
           "Cape Cod Community College",
           "Public, 2-year",
           -70.337334,
           41.69192,
           "MA"
          ],
          [
           "Cape Fear Community College",
           "Public, 2-year",
           -77.948306,
           34.240624,
           "NC"
          ],
          [
           "Cape Girardeau Career and Technology Center",
           "Public, 2-year",
           -89.565366,
           37.274001,
           "MO"
          ],
          [
           "Capital Community College",
           "Public, 2-year",
           -72.67273399999998,
           41.768397,
           "CT"
          ],
          [
           "Capital University",
           "Private not-for-profit, 4-year or above",
           -82.937867,
           39.954875,
           "OH"
          ],
          [
           "Capitol Technology University",
           "Private not-for-profit, 4-year or above",
           -76.85023100000002,
           39.046673,
           "MD"
          ],
          [
           "Cardinal Stritch University",
           "Private not-for-profit, 4-year or above",
           -87.90904499999998,
           43.139752,
           "WI"
          ],
          [
           "Carl Albert State College",
           "Public, 2-year",
           -94.633986,
           35.039173,
           "OK"
          ],
          [
           "Carl Sandburg College",
           "Public, 2-year",
           -90.408203,
           40.98128,
           "IL"
          ],
          [
           "Carleton College",
           "Private not-for-profit, 4-year or above",
           -93.154666,
           44.462318,
           "MN"
          ],
          [
           "Carlos Albizu University-Miami",
           "Private not-for-profit, 4-year or above",
           -80.35631500000002,
           25.794178,
           "FL"
          ],
          [
           "Carlow University",
           "Private not-for-profit, 4-year or above",
           -79.963448,
           40.439293,
           "PA"
          ],
          [
           "Carnegie Mellon University",
           "Private not-for-profit, 4-year or above",
           -79.94199300000002,
           40.44357,
           "PA"
          ],
          [
           "Carolina Christian College",
           "Private not-for-profit, 4-year or above",
           -80.256252,
           36.146168,
           "NC"
          ],
          [
           "Carolina College of Biblical Studies",
           "Private not-for-profit, 4-year or above",
           -78.939514,
           35.05141,
           "NC"
          ],
          [
           "Carolinas College of Health Sciences",
           "Public, 2-year",
           -80.838535,
           35.20029500000001,
           "NC"
          ],
          [
           "Carroll College",
           "Private not-for-profit, 4-year or above",
           -112.040285,
           46.600771,
           "MT"
          ],
          [
           "Carroll Community College",
           "Public, 2-year",
           -76.991113,
           39.531805,
           "MD"
          ],
          [
           "Carroll University",
           "Private not-for-profit, 4-year or above",
           -88.228114,
           43.004527,
           "WI"
          ],
          [
           "Carson-Newman University",
           "Private not-for-profit, 4-year or above",
           -83.491709,
           36.122934,
           "TN"
          ],
          [
           "Carteret Community College",
           "Public, 2-year",
           -76.755538,
           34.723681,
           "NC"
          ],
          [
           "Carthage College",
           "Private not-for-profit, 4-year or above",
           -87.820924,
           42.622969,
           "WI"
          ],
          [
           "Carver Bible College",
           "Private not-for-profit, 4-year or above",
           -84.515547,
           33.723362,
           "GA"
          ],
          [
           "Carver Career Center",
           "Public, 2-year",
           -81.562988,
           38.28970800000001,
           "WV"
          ],
          [
           "Casa Loma College-Van Nuys",
           "Private not-for-profit, 2-year",
           -118.457781,
           34.192829,
           "CA"
          ],
          [
           "Cascadia College",
           "Public, 4-year or above",
           -122.191572,
           47.760915,
           "WA"
          ],
          [
           "Case Western Reserve University",
           "Private not-for-profit, 4-year or above",
           -81.609596,
           41.507419,
           "OH"
          ],
          [
           "Casper College",
           "Public, 2-year",
           -106.326712,
           42.832788,
           "WY"
          ],
          [
           "Castleton University",
           "Public, 4-year or above",
           -73.180842,
           43.608397,
           "VT"
          ],
          [
           "Catawba College",
           "Private not-for-profit, 4-year or above",
           -80.48275100000002,
           35.691443,
           "NC"
          ],
          [
           "Catawba Valley Community College",
           "Public, 2-year",
           -81.28792,
           35.699732,
           "NC"
          ],
          [
           "Catholic Distance University",
           "Private not-for-profit, 4-year or above",
           -77.860321,
           39.28763,
           "WV"
          ],
          [
           "Catholic Theological Union at Chicago",
           "Private not-for-profit, 4-year or above",
           -87.585989,
           41.797895,
           "IL"
          ],
          [
           "Catholic University of America",
           "Private not-for-profit, 4-year or above",
           -76.99790899999998,
           38.933651,
           "DC"
          ],
          [
           "Cayuga County Community College",
           "Public, 2-year",
           -76.542867,
           42.943726,
           "NY"
          ],
          [
           "Cazenovia College",
           "Private not-for-profit, 4-year or above",
           -75.85488199999998,
           42.932489,
           "NY"
          ],
          [
           "CBD College",
           "Private not-for-profit, 2-year",
           -118.306221,
           34.06231,
           "CA"
          ],
          [
           "Cecil College",
           "Public, 2-year",
           -75.955949,
           39.642225,
           "MD"
          ],
          [
           "Cedar Crest College",
           "Private not-for-profit, 4-year or above",
           -75.519221,
           40.586318,
           "PA"
          ],
          [
           "Cedar Valley College",
           "Public, 2-year",
           -96.763421,
           32.625686,
           "TX"
          ],
          [
           "Cedarville University",
           "Private not-for-profit, 4-year or above",
           -83.81469200000002,
           39.749237,
           "OH"
          ],
          [
           "Centenary College of Louisiana",
           "Private not-for-profit, 4-year or above",
           -93.730834,
           32.483335,
           "LA"
          ],
          [
           "Centenary University",
           "Private not-for-profit, 4-year or above",
           -74.83364399999998,
           40.84764000000001,
           "NJ"
          ],
          [
           "Centra College of Nursing",
           "Private not-for-profit, 4-year or above",
           -79.17410100000002,
           37.4051,
           "VA"
          ],
          [
           "Central Alabama Community College",
           "Public, 2-year",
           -85.945266,
           32.92478,
           "AL"
          ],
          [
           "Central Arizona College",
           "Public, 2-year",
           -111.652501,
           32.957092,
           "AZ"
          ],
          [
           "Central Baptist College",
           "Private not-for-profit, 4-year or above",
           -92.445021,
           35.083838,
           "AR"
          ],
          [
           "Central Carolina Community College",
           "Public, 2-year",
           -79.143553,
           35.47186400000001,
           "NC"
          ],
          [
           "Central Carolina Technical College",
           "Public, 2-year",
           -80.37101,
           33.933342,
           "SC"
          ],
          [
           "Central Christian College of Kansas",
           "Private not-for-profit, 4-year or above",
           -97.668597,
           38.357978,
           "KS"
          ],
          [
           "Central Christian College of the Bible",
           "Private not-for-profit, 4-year or above",
           -92.427259,
           39.395963,
           "MO"
          ],
          [
           "Central College",
           "Private not-for-profit, 4-year or above",
           -92.922199,
           41.401539,
           "IA"
          ],
          [
           "Central Community College",
           "Public, 2-year",
           -98.372549,
           40.889582,
           "NE"
          ],
          [
           "Central Connecticut State University",
           "Public, 4-year or above",
           -72.765991,
           41.69250200000001,
           "CT"
          ],
          [
           "Central Georgia Technical College",
           "Public, 2-year",
           -83.66765,
           32.545341,
           "GA"
          ],
          [
           "Central Lakes College-Brainerd",
           "Public, 2-year",
           -94.214266,
           46.345863,
           "MN"
          ],
          [
           "Central Louisiana Technical Community College",
           "Public, 2-year",
           -92.444506,
           31.260003,
           "LA"
          ],
          [
           "Central Maine Community College",
           "Public, 2-year",
           -70.23549799999999,
           44.134346,
           "ME"
          ],
          [
           "Central Methodist University-College of Graduate and Extended Studies",
           "Private not-for-profit, 4-year or above",
           -92.685253,
           39.150497,
           "MO"
          ],
          [
           "Central Methodist University-College of Liberal Arts and Sciences",
           "Private not-for-profit, 4-year or above",
           -92.685253,
           39.150497,
           "MO"
          ],
          [
           "Central Michigan University",
           "Public, 4-year or above",
           -84.77525,
           43.591203,
           "MI"
          ],
          [
           "Central New Mexico Community College",
           "Public, 2-year",
           -106.628861,
           35.071878000000005,
           "NM"
          ],
          [
           "Central Ohio Technical College",
           "Public, 2-year",
           -82.447441,
           40.069314,
           "OH"
          ],
          [
           "Central Oregon Community College",
           "Public, 2-year",
           -121.348585,
           44.071401,
           "OR"
          ],
          [
           "Central Piedmont Community College",
           "Public, 2-year",
           -80.829796,
           35.217774,
           "NC"
          ],
          [
           "Central State University",
           "Public, 4-year or above",
           -83.880186,
           39.715787,
           "OH"
          ],
          [
           "Central Texas College",
           "Public, 2-year",
           -97.810827,
           31.120516,
           "TX"
          ],
          [
           "Central Virginia Community College",
           "Public, 2-year",
           -79.184238,
           37.358809,
           "VA"
          ],
          [
           "Central Washington University",
           "Public, 4-year or above",
           -120.538368,
           47.002687,
           "WA"
          ],
          [
           "Central Wyoming College",
           "Public, 2-year",
           -108.426738,
           43.030556,
           "WY"
          ],
          [
           "Central Yeshiva Beth Joseph",
           "Private not-for-profit, 4-year or above",
           -73.959386,
           40.615411,
           "NY"
          ],
          [
           "Central Yeshiva Tomchei Tmimim Lubavitz",
           "Private not-for-profit, 4-year or above",
           -73.938778,
           40.669694,
           "NY"
          ],
          [
           "Centralia College",
           "Public, 4-year or above",
           -122.960591,
           46.715017,
           "WA"
          ],
          [
           "Centre College",
           "Private not-for-profit, 4-year or above",
           -84.779392,
           37.645709,
           "KY"
          ],
          [
           "Century College",
           "Public, 2-year",
           -92.982105,
           45.041823,
           "MN"
          ],
          [
           "Cerritos College",
           "Public, 2-year",
           -118.09726299999998,
           33.88584,
           "CA"
          ],
          [
           "Cerro Coso Community College",
           "Public, 2-year",
           -117.66767,
           35.567525,
           "CA"
          ],
          [
           "Chabot College",
           "Public, 2-year",
           -122.106969,
           37.642513,
           "CA"
          ],
          [
           "Chadron State College",
           "Public, 4-year or above",
           -103.001615,
           42.8199,
           "NE"
          ],
          [
           "Chaffey College",
           "Public, 2-year",
           -117.573932,
           34.147663,
           "CA"
          ],
          [
           "Chaminade University of Honolulu",
           "Private not-for-profit, 4-year or above",
           -157.807851,
           21.28995,
           "HI"
          ],
          [
           "Champlain College",
           "Private not-for-profit, 4-year or above",
           -73.20274599999998,
           44.473287,
           "VT"
          ],
          [
           "Chandler-Gilbert Community College",
           "Public, 2-year",
           -111.795922,
           33.293896999999994,
           "AZ"
          ],
          [
           "Chapman University",
           "Private not-for-profit, 4-year or above",
           -117.851481,
           33.793678,
           "CA"
          ],
          [
           "Charles A Jones Career and Education Center",
           "Public, 2-year",
           -121.44111,
           38.51651,
           "CA"
          ],
          [
           "Charles R Drew University of Medicine and Science",
           "Private not-for-profit, 4-year or above",
           -118.242791,
           33.925658,
           "CA"
          ],
          [
           "Charleston Southern University",
           "Private not-for-profit, 4-year or above",
           -80.072587,
           32.983047,
           "SC"
          ],
          [
           "Charlotte Christian College and Theological Seminary",
           "Private not-for-profit, 4-year or above",
           -80.802527,
           35.242999,
           "NC"
          ],
          [
           "Charlotte Technical College",
           "Public, 2-year",
           -82.147238,
           27.005558,
           "FL"
          ],
          [
           "Charter Oak State College",
           "Public, 4-year or above",
           -72.767972,
           41.688246,
           "CT"
          ],
          [
           "Chatfield College",
           "Private not-for-profit, 2-year",
           -83.887153,
           39.210369,
           "OH"
          ],
          [
           "Chatham University",
           "Private not-for-profit, 4-year or above",
           -79.92608299999998,
           40.448432,
           "PA"
          ],
          [
           "Chattahoochee Technical College",
           "Public, 2-year",
           -84.553722,
           33.929092,
           "GA"
          ],
          [
           "Chattahoochee Valley Community College",
           "Public, 2-year",
           -85.031485,
           32.42391,
           "AL"
          ],
          [
           "Chattanooga State Community College",
           "Public, 2-year",
           -85.23738900000002,
           35.100202,
           "TN"
          ],
          [
           "Chemeketa Community College",
           "Public, 2-year",
           -122.978076,
           44.978655,
           "OR"
          ],
          [
           "Chesapeake College",
           "Public, 2-year",
           -76.083668,
           38.952193,
           "MD"
          ],
          [
           "Chestnut Hill College",
           "Private not-for-profit, 4-year or above",
           -75.22874200000003,
           40.08678,
           "PA"
          ],
          [
           "Cheyney University of Pennsylvania",
           "Public, 4-year or above",
           -75.529262,
           39.932274,
           "PA"
          ],
          [
           "CHI Health School of Radiologic Technology",
           "Private not-for-profit, 2-year",
           -96.020431,
           41.32206,
           "NE"
          ],
          [
           "Chicago State University",
           "Public, 4-year or above",
           -87.60938399999998,
           41.718446,
           "IL"
          ],
          [
           "Chicago Theological Seminary",
           "Private not-for-profit, 4-year or above",
           -87.591178,
           41.785701,
           "IL"
          ],
          [
           "Chief Dull Knife College",
           "Public, 2-year",
           -106.664593,
           45.625568,
           "MT"
          ],
          [
           "Chipola College",
           "Public, 4-year or above",
           -85.23139,
           30.789228,
           "FL"
          ],
          [
           "Chippewa Valley Technical College",
           "Public, 2-year",
           -91.505675,
           44.794867,
           "WI"
          ],
          [
           "Chowan University",
           "Private not-for-profit, 4-year or above",
           -77.099141,
           36.436258,
           "NC"
          ],
          [
           "Christ the King Seminary",
           "Private not-for-profit, 4-year or above",
           -78.660311,
           42.77089,
           "NY"
          ],
          [
           "Christian Brothers University",
           "Private not-for-profit, 4-year or above",
           -89.983241,
           35.127437,
           "TN"
          ],
          [
           "Christian Life College",
           "Private not-for-profit, 4-year or above",
           -87.930934,
           42.074096,
           "IL"
          ],
          [
           "Christian Theological Seminary",
           "Private not-for-profit, 4-year or above",
           -86.178551,
           39.832673,
           "IN"
          ],
          [
           "Christopher Newport University",
           "Public, 4-year or above",
           -76.494364,
           37.062495,
           "VA"
          ],
          [
           "Church Divinity School of the Pacific",
           "Private not-for-profit, 4-year or above",
           -122.261122,
           37.876184,
           "CA"
          ],
          [
           "Cincinnati Christian University",
           "Private not-for-profit, 4-year or above",
           -84.55408,
           39.114169,
           "OH"
          ],
          [
           "Cincinnati College of Mortuary Science",
           "Private not-for-profit, 4-year or above",
           -84.505604,
           39.206578,
           "OH"
          ],
          [
           "Cincinnati State Technical and Community College",
           "Public, 2-year",
           -84.536936,
           39.149915,
           "OH"
          ],
          [
           "Circle in the Square Theatre School",
           "Private not-for-profit, 2-year",
           -73.984607,
           40.762059,
           "NY"
          ],
          [
           "Cisco College",
           "Public, 2-year",
           -98.985206,
           32.401132000000004,
           "TX"
          ],
          [
           "Citadel Military College of South Carolina",
           "Public, 4-year or above",
           -79.958775,
           32.797183000000004,
           "SC"
          ],
          [
           "Citizens School of Nursing",
           "Private not-for-profit, 2-year",
           -79.766475,
           40.561509,
           "PA"
          ],
          [
           "Citrus College",
           "Public, 2-year",
           -117.885266,
           34.135487,
           "CA"
          ],
          [
           "City College of San Francisco",
           "Public, 2-year",
           -122.451155,
           37.725953,
           "CA"
          ],
          [
           "City College-Altamonte Springs",
           "Private not-for-profit, 2-year",
           -81.40221899999997,
           28.663604,
           "FL"
          ],
          [
           "City College-Fort Lauderdale",
           "Private not-for-profit, 4-year or above",
           -80.1705,
           26.187467,
           "FL"
          ],
          [
           "City College-Gainesville",
           "Private not-for-profit, 4-year or above",
           -82.417302,
           29.654852,
           "FL"
          ],
          [
           "City College-Hollywood",
           "Private not-for-profit, 2-year",
           -80.22004,
           26.025173,
           "FL"
          ],
          [
           "City College-Miami",
           "Private not-for-profit, 4-year or above",
           -80.316377,
           25.683673,
           "FL"
          ],
          [
           "City Colleges of Chicago-Harold Washington College",
           "Public, 2-year",
           -87.62659599999998,
           41.886067,
           "IL"
          ],
          [
           "City Colleges of Chicago-Harry S Truman College",
           "Public, 2-year",
           -87.65910699999998,
           41.964502,
           "IL"
          ],
          [
           "City Colleges of Chicago-Kennedy-King College",
           "Public, 2-year",
           -87.643425,
           41.780253,
           "IL"
          ],
          [
           "City Colleges of Chicago-Malcolm X College",
           "Public, 2-year",
           -87.675321,
           41.878092,
           "IL"
          ],
          [
           "City Colleges of Chicago-Olive-Harvey College",
           "Public, 2-year",
           -87.589249,
           41.709997,
           "IL"
          ],
          [
           "City Colleges of Chicago-Richard J Daley College",
           "Public, 2-year",
           -87.72398100000002,
           41.755955,
           "IL"
          ],
          [
           "City Colleges of Chicago-Wilbur Wright College",
           "Public, 2-year",
           -87.787868,
           41.958774,
           "IL"
          ],
          [
           "City University of Seattle",
           "Private not-for-profit, 4-year or above",
           -122.344594,
           47.617381,
           "WA"
          ],
          [
           "City Vision University",
           "Private not-for-profit, 4-year or above",
           -94.571053,
           39.070383,
           "MO"
          ],
          [
           "Clackamas Community College",
           "Public, 2-year",
           -122.574272,
           45.323185,
           "OR"
          ],
          [
           "Claflin University",
           "Private not-for-profit, 4-year or above",
           -80.85431899999998,
           33.498444,
           "SC"
          ],
          [
           "Claremont Graduate University",
           "Private not-for-profit, 4-year or above",
           -117.713703,
           34.103584999999995,
           "CA"
          ],
          [
           "Claremont Lincoln University",
           "Private not-for-profit, 4-year or above",
           -117.717974,
           34.094143,
           "CA"
          ],
          [
           "Claremont McKenna College",
           "Private not-for-profit, 4-year or above",
           -117.711188,
           34.102154,
           "CA"
          ],
          [
           "Claremont School of Theology",
           "Private not-for-profit, 4-year or above",
           -117.715256,
           34.107602,
           "CA"
          ],
          [
           "Clarendon College",
           "Public, 2-year",
           -100.904577,
           34.945076,
           "TX"
          ],
          [
           "Clarion University of Pennsylvania",
           "Public, 4-year or above",
           -79.377501,
           41.207805,
           "PA"
          ],
          [
           "Clark Atlanta University",
           "Private not-for-profit, 4-year or above",
           -84.412584,
           33.74762800000001,
           "GA"
          ],
          [
           "Clark College",
           "Public, 4-year or above",
           -122.651257,
           45.636133,
           "WA"
          ],
          [
           "Clark State Community College",
           "Public, 2-year",
           -83.799788,
           39.896411,
           "OH"
          ],
          [
           "Clark University",
           "Private not-for-profit, 4-year or above",
           -71.823356,
           42.249987,
           "MA"
          ],
          [
           "Clarke University",
           "Private not-for-profit, 4-year or above",
           -90.690487,
           42.509475,
           "IA"
          ],
          [
           "Clarks Summit University",
           "Private not-for-profit, 4-year or above",
           -75.685472,
           41.495062,
           "PA"
          ],
          [
           "Clarkson College",
           "Private not-for-profit, 4-year or above",
           -95.974847,
           41.259165,
           "NE"
          ],
          [
           "Clarkson University",
           "Private not-for-profit, 4-year or above",
           -74.999359,
           44.662716,
           "NY"
          ],
          [
           "Clatsop Community College",
           "Public, 2-year",
           -123.823339,
           46.183107,
           "OR"
          ],
          [
           "Clayton  State University",
           "Public, 4-year or above",
           -84.328174,
           33.594079,
           "GA"
          ],
          [
           "Clear Creek Baptist Bible College",
           "Private not-for-profit, 4-year or above",
           -83.72770200000002,
           36.725236,
           "KY"
          ],
          [
           "Cleary University",
           "Private not-for-profit, 4-year or above",
           -83.879987,
           42.586638,
           "MI"
          ],
          [
           "Clemson University",
           "Public, 4-year or above",
           -82.835114,
           34.679381,
           "SC"
          ],
          [
           "Cleveland Clinic Health System-School of Diagnostic Imaging",
           "Private not-for-profit, 2-year",
           -81.54855400000002,
           41.598918,
           "OH"
          ],
          [
           "Cleveland Community College",
           "Public, 2-year",
           -81.492856,
           35.279833,
           "NC"
          ],
          [
           "Cleveland Institute of Art",
           "Private not-for-profit, 4-year or above",
           -81.602416,
           41.510435,
           "OH"
          ],
          [
           "Cleveland Institute of Music",
           "Private not-for-profit, 4-year or above",
           -81.608878,
           41.512444,
           "OH"
          ],
          [
           "Cleveland State Community College",
           "Public, 2-year",
           -84.87914,
           35.20078,
           "TN"
          ],
          [
           "Cleveland State University",
           "Public, 4-year or above",
           -81.674355,
           41.502281,
           "OH"
          ],
          [
           "Cleveland University-Kansas City",
           "Private not-for-profit, 4-year or above",
           -94.679076,
           38.932019,
           "KS"
          ],
          [
           "Clinton College",
           "Private not-for-profit, 4-year or above",
           -81.04346899999999,
           34.913721,
           "SC"
          ],
          [
           "Clinton Community College",
           "Public, 2-year",
           -73.439739,
           44.64841,
           "NY"
          ],
          [
           "Clinton Essex Warren Washington BOCES",
           "Public, 2-year",
           -73.51790600000002,
           44.69322800000001,
           "NY"
          ],
          [
           "Cloud County Community College",
           "Public, 2-year",
           -97.664147,
           39.554199,
           "KS"
          ],
          [
           "Clover Park Technical College",
           "Public, 4-year or above",
           -122.497873,
           47.176084,
           "WA"
          ],
          [
           "Clovis Community College",
           "Public, 2-year",
           -119.731261,
           36.88686,
           "CA"
          ],
          [
           "Clovis Community College",
           "Public, 2-year",
           -103.165886,
           34.402483000000004,
           "NM"
          ],
          [
           "Coahoma Community College",
           "Public, 2-year",
           -90.568469,
           34.254417,
           "MS"
          ],
          [
           "Coastal Alabama Community College",
           "Public, 2-year",
           -87.778193,
           30.851343,
           "AL"
          ],
          [
           "Coastal Bend College",
           "Public, 2-year",
           -97.755896,
           28.435194,
           "TX"
          ],
          [
           "Coastal Carolina Community College",
           "Public, 2-year",
           -77.384785,
           34.771687,
           "NC"
          ],
          [
           "Coastal Carolina University",
           "Public, 4-year or above",
           -79.011767,
           33.794995,
           "SC"
          ],
          [
           "Coastal Pines Technical College",
           "Public, 2-year",
           -82.3821,
           31.212781,
           "GA"
          ],
          [
           "Coastline Community College",
           "Public, 2-year",
           -117.929143,
           33.715634,
           "CA"
          ],
          [
           "Cochise County Community College District",
           "Public, 2-year",
           -110.246946,
           31.564597,
           "AZ"
          ],
          [
           "Cochran School of Nursing",
           "Private not-for-profit, 2-year",
           -73.885705,
           40.969116,
           "NY"
          ],
          [
           "Coconino Community College",
           "Public, 2-year",
           -111.645631,
           35.171328,
           "AZ"
          ],
          [
           "Coe College",
           "Private not-for-profit, 4-year or above",
           -91.658192,
           41.988263,
           "IA"
          ],
          [
           "Coffeyville Community College",
           "Public, 2-year",
           -95.621374,
           37.033814,
           "KS"
          ],
          [
           "Coker College",
           "Private not-for-profit, 4-year or above",
           -80.07041600000002,
           34.37696,
           "SC"
          ],
          [
           "Colby College",
           "Private not-for-profit, 4-year or above",
           -69.66337,
           44.564211,
           "ME"
          ],
          [
           "Colby Community College",
           "Public, 2-year",
           -101.052744,
           39.377601,
           "KS"
          ],
          [
           "Colby-Sawyer College",
           "Private not-for-profit, 4-year or above",
           -71.97580500000002,
           43.411663,
           "NH"
          ],
          [
           "Coleman University",
           "Private not-for-profit, 4-year or above",
           -117.136493,
           32.821962,
           "CA"
          ],
          [
           "Colgate Rochester Crozer Divinity School",
           "Private not-for-profit, 4-year or above",
           -77.598601,
           43.131867,
           "NY"
          ],
          [
           "Colgate University",
           "Private not-for-profit, 4-year or above",
           -75.536346,
           42.819475,
           "NY"
          ],
          [
           "College for Creative Studies",
           "Private not-for-profit, 4-year or above",
           -83.062352,
           42.361839,
           "MI"
          ],
          [
           "College of Alameda",
           "Public, 2-year",
           -122.279303,
           37.781017,
           "CA"
          ],
          [
           "College of Biblical Studies-Houston",
           "Private not-for-profit, 4-year or above",
           -95.506566,
           29.716681,
           "TX"
          ],
          [
           "College of Central Florida",
           "Public, 4-year or above",
           -82.175692,
           29.166079,
           "FL"
          ],
          [
           "College of Charleston",
           "Public, 4-year or above",
           -79.93979399999998,
           32.784225,
           "SC"
          ],
          [
           "College of Coastal Georgia",
           "Public, 4-year or above",
           -81.485973,
           31.182745,
           "GA"
          ],
          [
           "College of DuPage",
           "Public, 2-year",
           -88.071635,
           41.841577,
           "IL"
          ],
          [
           "College of Eastern Idaho",
           "Public, 2-year",
           -111.985519,
           43.486041,
           "ID"
          ],
          [
           "College of Lake County",
           "Public, 2-year",
           -88.012291,
           42.354164,
           "IL"
          ],
          [
           "College of Marin",
           "Public, 2-year",
           -122.549149,
           37.954897,
           "CA"
          ],
          [
           "College of Menominee Nation",
           "Private not-for-profit, 4-year or above",
           -88.625628,
           44.859044,
           "WI"
          ],
          [
           "College of Mount Saint Vincent",
           "Private not-for-profit, 4-year or above",
           -73.908887,
           40.913657,
           "NY"
          ],
          [
           "College of Our Lady of the Elms",
           "Private not-for-profit, 4-year or above",
           -72.601541,
           42.14179,
           "MA"
          ],
          [
           "College of Saint Benedict",
           "Private not-for-profit, 4-year or above",
           -94.319888,
           45.561792,
           "MN"
          ],
          [
           "College of Saint Elizabeth",
           "Private not-for-profit, 4-year or above",
           -74.438221,
           40.78182,
           "NJ"
          ],
          [
           "College of Saint Mary",
           "Private not-for-profit, 4-year or above",
           -96.021425,
           41.240028,
           "NE"
          ],
          [
           "College of San Mateo",
           "Public, 2-year",
           -122.334801,
           37.535698,
           "CA"
          ],
          [
           "College of Southern Idaho",
           "Public, 2-year",
           -114.473901,
           42.579837,
           "ID"
          ],
          [
           "College of Southern Maryland",
           "Public, 2-year",
           -77.00924499999998,
           38.55895,
           "MD"
          ],
          [
           "College of Southern Nevada",
           "Public, 4-year or above",
           -115.233099,
           36.15811400000001,
           "NV"
          ],
          [
           "College of St Joseph",
           "Private not-for-profit, 4-year or above",
           -73.000848,
           43.600507,
           "VT"
          ],
          [
           "College of Staten Island CUNY",
           "Public, 4-year or above",
           -74.14849,
           40.601831,
           "NY"
          ],
          [
           "College of the Albemarle",
           "Public, 2-year",
           -76.219765,
           36.324885,
           "NC"
          ],
          [
           "College of the Atlantic",
           "Private not-for-profit, 4-year or above",
           -68.221517,
           44.395258,
           "ME"
          ],
          [
           "College of the Canyons",
           "Public, 2-year",
           -118.569524,
           34.403121,
           "CA"
          ],
          [
           "College of the Desert",
           "Public, 2-year",
           -116.38761,
           33.732484,
           "CA"
          ],
          [
           "College of the Holy Cross",
           "Private not-for-profit, 4-year or above",
           -71.808627,
           42.238942,
           "MA"
          ],
          [
           "College of the Mainland",
           "Public, 2-year",
           -94.999602,
           29.39581,
           "TX"
          ],
          [
           "College of the Muscogee Nation",
           "Public, 2-year",
           -95.936439,
           35.635288,
           "OK"
          ],
          [
           "College of the Ouachitas",
           "Public, 2-year",
           -92.821416,
           34.378745,
           "AR"
          ],
          [
           "College of the Ozarks",
           "Private not-for-profit, 4-year or above",
           -93.238174,
           36.616019,
           "MO"
          ],
          [
           "College of the Redwoods",
           "Public, 2-year",
           -124.195293,
           40.698427,
           "CA"
          ],
          [
           "College of the Sequoias",
           "Public, 2-year",
           -119.314775,
           36.322957,
           "CA"
          ],
          [
           "College of the Siskiyous",
           "Public, 2-year",
           -122.389166,
           41.413848,
           "CA"
          ],
          [
           "College of Western Idaho",
           "Public, 2-year",
           -116.507314,
           43.614106,
           "ID"
          ],
          [
           "College of William and Mary",
           "Public, 4-year or above",
           -76.708214,
           37.269489,
           "VA"
          ],
          [
           "CollegeAmerica-Colorado Springs",
           "Private not-for-profit, 4-year or above",
           -104.758069,
           38.862312,
           "CO"
          ],
          [
           "CollegeAmerica-Denver",
           "Private not-for-profit, 2-year",
           -104.941168,
           39.691571,
           "CO"
          ],
          [
           "CollegeAmerica-Flagstaff",
           "Private not-for-profit, 4-year or above",
           -111.657673,
           35.194495,
           "AZ"
          ],
          [
           "CollegeAmerica-Fort Collins",
           "Private not-for-profit, 4-year or above",
           -105.080277,
           40.523124,
           "CO"
          ],
          [
           "CollegeAmerica-Phoenix",
           "Private not-for-profit, 4-year or above",
           -112.117971,
           33.574684999999995,
           "AZ"
          ],
          [
           "Collin County Community College District",
           "Public, 2-year",
           -96.63894,
           33.162409999999994,
           "TX"
          ],
          [
           "Colorado Christian University",
           "Private not-for-profit, 4-year or above",
           -105.09456000000002,
           39.71388,
           "CO"
          ],
          [
           "Colorado College",
           "Private not-for-profit, 4-year or above",
           -104.822697,
           38.84886,
           "CO"
          ],
          [
           "Colorado Mesa University",
           "Public, 4-year or above",
           -108.553275,
           39.080643,
           "CO"
          ],
          [
           "Colorado Mountain College",
           "Public, 4-year or above",
           -107.324441,
           39.54636,
           "CO"
          ],
          [
           "Colorado Northwestern Community College",
           "Public, 2-year",
           -108.790048,
           40.081112,
           "CO"
          ],
          [
           "Colorado School of Mines",
           "Public, 4-year or above",
           -105.223364,
           39.751443,
           "CO"
          ],
          [
           "Colorado State University-Fort Collins",
           "Public, 4-year or above",
           -105.080732,
           40.574805,
           "CO"
          ],
          [
           "Colorado State University-Global Campus",
           "Public, 4-year or above",
           -104.898051,
           39.608848,
           "CO"
          ],
          [
           "Colorado State University-Pueblo",
           "Public, 4-year or above",
           -104.579033,
           38.30859,
           "CO"
          ],
          [
           "Columbia Basin College",
           "Public, 4-year or above",
           -119.12103,
           46.25216,
           "WA"
          ],
          [
           "Columbia College",
           "Public, 2-year",
           -120.387603,
           38.030361,
           "CA"
          ],
          [
           "Columbia College",
           "Private not-for-profit, 4-year or above",
           -92.326354,
           38.957388,
           "MO"
          ],
          [
           "Columbia College",
           "Private not-for-profit, 4-year or above",
           -81.029967,
           34.045581,
           "SC"
          ],
          [
           "Columbia College Chicago",
           "Private not-for-profit, 4-year or above",
           -87.624667,
           41.874261,
           "IL"
          ],
          [
           "Columbia College Hollywood",
           "Private not-for-profit, 4-year or above",
           -118.538793,
           34.17972,
           "CA"
          ],
          [
           "Columbia College of Nursing",
           "Private not-for-profit, 4-year or above",
           -87.918283,
           43.097318,
           "WI"
          ],
          [
           "Columbia Gorge Community College",
           "Public, 2-year",
           -121.190197,
           45.590724,
           "OR"
          ],
          [
           "Columbia International University",
           "Private not-for-profit, 4-year or above",
           -81.07443,
           34.075509999999994,
           "SC"
          ],
          [
           "Columbia State Community College",
           "Public, 2-year",
           -87.101917,
           35.616757,
           "TN"
          ],
          [
           "Columbia Theological Seminary",
           "Private not-for-profit, 4-year or above",
           -84.281695,
           33.764292,
           "GA"
          ],
          [
           "Columbia University in the City of New York",
           "Private not-for-profit, 4-year or above",
           -73.961885,
           40.808286,
           "NY"
          ],
          [
           "Columbia-Greene Community College",
           "Public, 2-year",
           -73.818113,
           42.217613,
           "NY"
          ],
          [
           "Columbus College of Art and Design",
           "Private not-for-profit, 4-year or above",
           -82.989479,
           39.966074,
           "OH"
          ],
          [
           "Columbus State Community College",
           "Public, 2-year",
           -82.98765999999998,
           39.96887,
           "OH"
          ],
          [
           "Columbus State University",
           "Public, 4-year or above",
           -84.94106,
           32.50096,
           "GA"
          ],
          [
           "Columbus Technical College",
           "Public, 2-year",
           -84.978551,
           32.508076,
           "GA"
          ],
          [
           "Commonwealth Institute of Funeral Service",
           "Private not-for-profit, 2-year",
           -95.43016,
           29.98955,
           "TX"
          ],
          [
           "Commonwealth Technical Institute",
           "Private not-for-profit, 2-year",
           -78.947004,
           40.301691,
           "PA"
          ],
          [
           "Community Care College",
           "Private not-for-profit, 2-year",
           -95.905178,
           36.101615,
           "OK"
          ],
          [
           "Community Christian College",
           "Private not-for-profit, 2-year",
           -117.139951,
           34.082673,
           "CA"
          ],
          [
           "Community College of Allegheny County",
           "Public, 2-year",
           -80.01845300000002,
           40.450908,
           "PA"
          ],
          [
           "Community College of Aurora",
           "Public, 2-year",
           -104.802673,
           39.71788,
           "CO"
          ],
          [
           "Community College of Baltimore County",
           "Public, 2-year",
           -76.48210999999998,
           39.352647,
           "MD"
          ],
          [
           "Community College of Beaver County",
           "Public, 2-year",
           -80.305876,
           40.655601,
           "PA"
          ],
          [
           "Community College of Denver",
           "Public, 4-year or above",
           -105.001044,
           39.741413,
           "CO"
          ],
          [
           "Community College of Philadelphia",
           "Public, 2-year",
           -75.165604,
           39.96245800000001,
           "PA"
          ],
          [
           "Community College of Rhode Island",
           "Public, 2-year",
           -71.481509,
           41.712817,
           "RI"
          ],
          [
           "Community College of Vermont",
           "Public, 2-year",
           -72.573774,
           44.280811,
           "VT"
          ],
          [
           "Compass College of Cinematic Arts",
           "Private not-for-profit, 4-year or above",
           -85.66706500000002,
           42.961875,
           "MI"
          ],
          [
           "Conception Seminary College",
           "Private not-for-profit, 4-year or above",
           -94.682831,
           40.24044,
           "MO"
          ],
          [
           "Concord University",
           "Public, 4-year or above",
           -81.00669599999998,
           37.423723,
           "WV"
          ],
          [
           "Concordia College Alabama",
           "Private not-for-profit, 4-year or above",
           -87.019145,
           32.425647,
           "AL"
          ],
          [
           "Concordia College at Moorhead",
           "Private not-for-profit, 4-year or above",
           -96.76749,
           46.862482,
           "MN"
          ],
          [
           "Concordia College-New York",
           "Private not-for-profit, 4-year or above",
           -73.82202,
           40.943382,
           "NY"
          ],
          [
           "Concordia Seminary",
           "Private not-for-profit, 4-year or above",
           -90.311324,
           38.637181,
           "MO"
          ],
          [
           "Concordia Theological Seminary",
           "Private not-for-profit, 4-year or above",
           -85.10994000000002,
           41.139321,
           "IN"
          ],
          [
           "Concordia University-Ann Arbor",
           "Private not-for-profit, 4-year or above",
           -83.68268,
           42.273157,
           "MI"
          ],
          [
           "Concordia University-Chicago",
           "Private not-for-profit, 4-year or above",
           -87.80948199999997,
           41.898696,
           "IL"
          ],
          [
           "Concordia University-Irvine",
           "Private not-for-profit, 4-year or above",
           -117.812305,
           33.653665000000004,
           "CA"
          ],
          [
           "Concordia University-Nebraska",
           "Private not-for-profit, 4-year or above",
           -97.089054,
           40.914853,
           "NE"
          ],
          [
           "Concordia University-Portland",
           "Private not-for-profit, 4-year or above",
           -122.636941,
           45.570197,
           "OR"
          ],
          [
           "Concordia University-Saint Paul",
           "Private not-for-profit, 4-year or above",
           -93.154861,
           44.949759,
           "MN"
          ],
          [
           "Concordia University-Texas",
           "Private not-for-profit, 4-year or above",
           -97.836247,
           30.420952000000003,
           "TX"
          ],
          [
           "Concordia University-Wisconsin",
           "Private not-for-profit, 4-year or above",
           -87.91552,
           43.253387,
           "WI"
          ],
          [
           "Connecticut College",
           "Private not-for-profit, 4-year or above",
           -72.107321,
           41.37983300000001,
           "CT"
          ],
          [
           "Connors State College",
           "Public, 2-year",
           -95.319541,
           35.492873,
           "OK"
          ],
          [
           "Contra Costa College",
           "Public, 2-year",
           -122.337377,
           37.969381,
           "CA"
          ],
          [
           "Converse College",
           "Private not-for-profit, 4-year or above",
           -81.91788100000002,
           34.955534,
           "SC"
          ],
          [
           "Conway School of Landscape Design",
           "Private not-for-profit, 4-year or above",
           -72.659276,
           42.274752,
           "MA"
          ],
          [
           "Cooper Union for the Advancement of Science and Art",
           "Private not-for-profit, 4-year or above",
           -73.991609,
           40.728148,
           "NY"
          ],
          [
           "Copiah-Lincoln Community College",
           "Public, 2-year",
           -90.400234,
           31.69272,
           "MS"
          ],
          [
           "Copper Mountain Community College",
           "Public, 2-year",
           -116.213939,
           34.140464,
           "CA"
          ],
          [
           "Coppin State University",
           "Public, 4-year or above",
           -76.658687,
           39.311258,
           "MD"
          ],
          [
           "Corban University",
           "Private not-for-profit, 4-year or above",
           -122.961129,
           44.882399,
           "OR"
          ],
          [
           "Cornell College",
           "Private not-for-profit, 4-year or above",
           -91.423741,
           41.924554,
           "IA"
          ],
          [
           "Cornell University",
           "Private not-for-profit, 4-year or above",
           -76.48308399999998,
           42.4472,
           "NY"
          ],
          [
           "Cornerstone University",
           "Private not-for-profit, 4-year or above",
           -85.59532800000002,
           42.979966,
           "MI"
          ],
          [
           "Corning Community College",
           "Public, 2-year",
           -77.072138,
           42.116736,
           "NY"
          ],
          [
           "Cornish College of the Arts",
           "Private not-for-profit, 4-year or above",
           -122.336238,
           47.618174,
           "WA"
          ],
          [
           "Cossatot Community College of the University of Arkansas",
           "Public, 2-year",
           -94.3673,
           34.043389000000005,
           "AR"
          ],
          [
           "Cosumnes River College",
           "Public, 2-year",
           -121.423108,
           38.45295,
           "CA"
          ],
          [
           "Cottey College",
           "Private not-for-profit, 4-year or above",
           -94.371311,
           37.83612700000001,
           "MO"
          ],
          [
           "County College of Morris",
           "Public, 2-year",
           -74.57987299999998,
           40.859141,
           "NJ"
          ],
          [
           "Covenant College",
           "Private not-for-profit, 4-year or above",
           -85.375066,
           34.965161,
           "GA"
          ],
          [
           "Covenant School of Nursing and Allied Health",
           "Private not-for-profit, 2-year",
           -101.937872,
           33.5757,
           "TX"
          ],
          [
           "Covenant Theological Seminary",
           "Private not-for-profit, 4-year or above",
           -90.451323,
           38.643066,
           "MO"
          ],
          [
           "Cowley County Community College",
           "Public, 2-year",
           -97.043075,
           37.061668,
           "KS"
          ],
          [
           "Cox College",
           "Private not-for-profit, 4-year or above",
           -93.290233,
           37.225116,
           "MO"
          ],
          [
           "Crafton Hills College",
           "Public, 2-year",
           -117.101173,
           34.039178,
           "CA"
          ],
          [
           "Cranbrook Academy of Art",
           "Private not-for-profit, 4-year or above",
           -83.250681,
           42.568904,
           "MI"
          ],
          [
           "Craven Community College",
           "Public, 2-year",
           -77.102232,
           35.111515999999995,
           "NC"
          ],
          [
           "Creighton University",
           "Private not-for-profit, 4-year or above",
           -95.947811,
           41.265361,
           "NE"
          ],
          [
           "Criswell College",
           "Private not-for-profit, 4-year or above",
           -96.77669,
           32.793513,
           "TX"
          ],
          [
           "Crossroads Bible College",
           "Private not-for-profit, 4-year or above",
           -86.039961,
           39.779662,
           "IN"
          ],
          [
           "Crowder College",
           "Public, 2-year",
           -94.368315,
           36.814906,
           "MO"
          ],
          [
           "Crowley's Ridge College",
           "Private not-for-profit, 4-year or above",
           -90.584395,
           36.064845,
           "AR"
          ],
          [
           "Crown College",
           "Private not-for-profit, 4-year or above",
           -93.743019,
           44.885393,
           "MN"
          ],
          [
           "Cuesta College",
           "Public, 2-year",
           -120.742235,
           35.331276,
           "CA"
          ],
          [
           "Culinary Institute of America",
           "Private not-for-profit, 4-year or above",
           -73.933231,
           41.745806,
           "NY"
          ],
          [
           "Culver-Stockton College",
           "Private not-for-profit, 4-year or above",
           -91.529374,
           40.128993,
           "MO"
          ],
          [
           "Cumberland County College",
           "Public, 2-year",
           -75.057829,
           39.440537,
           "NJ"
          ],
          [
           "Cumberland University",
           "Private not-for-profit, 4-year or above",
           -86.29878199999997,
           36.204514,
           "TN"
          ],
          [
           "CUNY Bernard M Baruch College",
           "Public, 4-year or above",
           -73.983417,
           40.740238,
           "NY"
          ],
          [
           "CUNY Borough of Manhattan Community College",
           "Public, 2-year",
           -74.011826,
           40.71879000000001,
           "NY"
          ],
          [
           "CUNY Bronx Community College",
           "Public, 2-year",
           -73.91204300000003,
           40.858112,
           "NY"
          ],
          [
           "CUNY Brooklyn College",
           "Public, 4-year or above",
           -73.949898,
           40.631517,
           "NY"
          ],
          [
           "CUNY City College",
           "Public, 4-year or above",
           -73.948542,
           40.81984600000001,
           "NY"
          ],
          [
           "CUNY Graduate School and University Center",
           "Public, 4-year or above",
           -73.983822,
           40.748612,
           "NY"
          ],
          [
           "CUNY Hostos Community College",
           "Public, 2-year",
           -73.92675899999998,
           40.81812,
           "NY"
          ],
          [
           "CUNY Hunter College",
           "Public, 4-year or above",
           -73.964795,
           40.768669,
           "NY"
          ],
          [
           "CUNY John Jay College of Criminal Justice",
           "Public, 4-year or above",
           -73.98841,
           40.770351,
           "NY"
          ],
          [
           "CUNY Kingsborough Community College",
           "Public, 2-year",
           -73.935812,
           40.577222,
           "NY"
          ],
          [
           "CUNY LaGuardia Community College",
           "Public, 2-year",
           -73.935057,
           40.7445,
           "NY"
          ],
          [
           "CUNY Lehman College",
           "Public, 4-year or above",
           -73.895379,
           40.872962,
           "NY"
          ],
          [
           "CUNY Medgar Evers College",
           "Public, 4-year or above",
           -73.957076,
           40.666256,
           "NY"
          ],
          [
           "CUNY New York City College of Technology",
           "Public, 4-year or above",
           -73.98785600000002,
           40.695483,
           "NY"
          ],
          [
           "CUNY Queens College",
           "Public, 4-year or above",
           -73.816098,
           40.735182,
           "NY"
          ],
          [
           "CUNY Queensborough Community College",
           "Public, 2-year",
           -73.756656,
           40.755481,
           "NY"
          ],
          [
           "CUNY School of Law",
           "Public, 4-year or above",
           -73.943621,
           40.747797,
           "NY"
          ],
          [
           "CUNY York College",
           "Public, 4-year or above",
           -73.796313,
           40.701576,
           "NY"
          ],
          [
           "Curry College",
           "Private not-for-profit, 4-year or above",
           -71.116539,
           42.238061,
           "MA"
          ],
          [
           "Curtis Institute of Music",
           "Private not-for-profit, 4-year or above",
           -75.170727,
           39.948857,
           "PA"
          ],
          [
           "Cuyahoga Community College District",
           "Public, 2-year",
           -81.683533,
           41.494906,
           "OH"
          ],
          [
           "Cuyamaca College",
           "Public, 2-year",
           -116.943507,
           32.744954,
           "CA"
          ],
          [
           "CVPH Medical Center School of Radiologic Technology",
           "Private not-for-profit, 2-year",
           -73.469597,
           44.699929,
           "NY"
          ],
          [
           "Cypress College",
           "Public, 4-year or above",
           -118.02388899999998,
           33.827625,
           "CA"
          ],
          [
           "D'Youville College",
           "Private not-for-profit, 4-year or above",
           -78.89086800000003,
           42.902636,
           "NY"
          ],
          [
           "Dabney S Lancaster Community College",
           "Public, 2-year",
           -79.852536,
           37.812275,
           "VA"
          ],
          [
           "Daemen College",
           "Private not-for-profit, 4-year or above",
           -78.788111,
           42.965605,
           "NY"
          ],
          [
           "Dakota College at Bottineau",
           "Public, 2-year",
           -100.441103,
           48.832505,
           "ND"
          ],
          [
           "Dakota County Technical College",
           "Public, 2-year",
           -93.07805,
           44.737255,
           "MN"
          ],
          [
           "Dakota State University",
           "Public, 4-year or above",
           -97.113358,
           44.013014,
           "SD"
          ],
          [
           "Dakota Wesleyan University",
           "Private not-for-profit, 4-year or above",
           -98.031188,
           43.697432,
           "SD"
          ],
          [
           "Dallas Baptist University",
           "Private not-for-profit, 4-year or above",
           -96.947006,
           32.710017,
           "TX"
          ],
          [
           "Dallas Christian College",
           "Private not-for-profit, 4-year or above",
           -96.887124,
           32.913698,
           "TX"
          ],
          [
           "Dallas Institute of Funeral Service",
           "Private not-for-profit, 2-year",
           -96.683412,
           32.771374,
           "TX"
          ],
          [
           "Dallas Nursing Institute",
           "Private not-for-profit, 4-year or above",
           -96.734878,
           32.9138,
           "TX"
          ],
          [
           "Dallas Theological Seminary",
           "Private not-for-profit, 4-year or above",
           -96.779957,
           32.7943,
           "TX"
          ],
          [
           "Dalton State College",
           "Public, 4-year or above",
           -85.002775,
           34.774221000000004,
           "GA"
          ],
          [
           "Danville Area Community College",
           "Public, 2-year",
           -87.587884,
           40.127539,
           "IL"
          ],
          [
           "Danville Community College",
           "Public, 2-year",
           -79.408803,
           36.565286,
           "VA"
          ],
          [
           "Dartmouth College",
           "Private not-for-profit, 4-year or above",
           -72.289949,
           43.704115,
           "NH"
          ],
          [
           "Darton State College",
           "Public, 4-year or above",
           -84.212087,
           31.583594,
           "GA"
          ],
          [
           "Davenport University",
           "Private not-for-profit, 4-year or above",
           -85.533519,
           42.850013,
           "MI"
          ],
          [
           "Davidson College",
           "Private not-for-profit, 4-year or above",
           -80.843979,
           35.499767,
           "NC"
          ],
          [
           "Davidson County Community College",
           "Public, 2-year",
           -80.18186800000002,
           35.865471,
           "NC"
          ],
          [
           "Davis & Elkins College",
           "Private not-for-profit, 4-year or above",
           -79.84602199999998,
           38.931232,
           "WV"
          ],
          [
           "Davis College",
           "Private not-for-profit, 4-year or above",
           -75.96251,
           42.101074,
           "NY"
          ],
          [
           "Davis Technical College",
           "Public, 2-year",
           -111.925227,
           41.028956,
           "UT"
          ],
          [
           "Dawson Community College",
           "Public, 2-year",
           -104.725485,
           47.085396,
           "MT"
          ],
          [
           "Daytona State College",
           "Public, 4-year or above",
           -81.049685,
           29.203275,
           "FL"
          ],
          [
           "De Anza College",
           "Public, 2-year",
           -122.045365,
           37.319176,
           "CA"
          ],
          [
           "Dean College",
           "Private not-for-profit, 4-year or above",
           -71.397813,
           42.08563400000001,
           "MA"
          ],
          [
           "Defiance College",
           "Private not-for-profit, 4-year or above",
           -84.357075,
           41.296842,
           "OH"
          ],
          [
           "Del Mar College",
           "Public, 2-year",
           -97.407627,
           27.763623,
           "TX"
          ],
          [
           "Delaware College of Art and Design",
           "Private not-for-profit, 2-year",
           -75.549882,
           39.741947,
           "DE"
          ],
          [
           "Delaware County Community College",
           "Public, 2-year",
           -75.39308,
           39.966724,
           "PA"
          ],
          [
           "Delaware State University",
           "Public, 4-year or above",
           -75.54053,
           39.187173,
           "DE"
          ],
          [
           "Delaware Technical Community College-Terry",
           "Public, 4-year or above",
           -75.56012,
           39.198371,
           "DE"
          ],
          [
           "Delaware Valley University",
           "Private not-for-profit, 4-year or above",
           -75.158452,
           40.298659,
           "PA"
          ],
          [
           "Delgado Community College",
           "Public, 2-year",
           -90.103962,
           29.985149,
           "LA"
          ],
          [
           "Dell'Arte International School of Physical Theatre",
           "Private not-for-profit, 4-year or above",
           -123.988808,
           40.880924,
           "CA"
          ],
          [
           "Delta College",
           "Public, 2-year",
           -83.985943,
           43.559491,
           "MI"
          ],
          [
           "Delta Montrose Technical College",
           "Public, 2-year",
           -108.031072,
           38.702524,
           "CO"
          ],
          [
           "Delta State University",
           "Public, 4-year or above",
           -90.735365,
           33.744745,
           "MS"
          ],
          [
           "Denison University",
           "Private not-for-profit, 4-year or above",
           -82.52327199999998,
           40.071505,
           "OH"
          ],
          [
           "Denmark Technical College",
           "Public, 2-year",
           -81.12362900000002,
           33.313355,
           "SC"
          ],
          [
           "Denver Seminary",
           "Private not-for-profit, 4-year or above",
           -105.02236299999998,
           39.600595,
           "CO"
          ],
          [
           "DePaul University",
           "Private not-for-profit, 4-year or above",
           -87.62724,
           41.877618,
           "IL"
          ],
          [
           "DePauw University",
           "Private not-for-profit, 4-year or above",
           -86.860363,
           39.640904,
           "IN"
          ],
          [
           "Des Moines Area Community College",
           "Public, 2-year",
           -93.611597,
           41.707348,
           "IA"
          ],
          [
           "Des Moines University-Osteopathic Medical Center",
           "Private not-for-profit, 4-year or above",
           -93.661686,
           41.583325,
           "IA"
          ],
          [
           "DeSales University",
           "Private not-for-profit, 4-year or above",
           -75.375608,
           40.539091,
           "PA"
          ],
          [
           "Diablo Valley College",
           "Public, 2-year",
           -122.06986100000002,
           37.968035,
           "CA"
          ],
          [
           "Dickinson College",
           "Private not-for-profit, 4-year or above",
           -77.197854,
           40.202796,
           "PA"
          ],
          [
           "Dickinson State University",
           "Public, 4-year or above",
           -102.799679,
           46.882917,
           "ND"
          ],
          [
           "Dillard University",
           "Private not-for-profit, 4-year or above",
           -90.06464,
           29.996587,
           "LA"
          ],
          [
           "Dine College",
           "Public, 4-year or above",
           -109.21684,
           36.293328,
           "AZ"
          ],
          [
           "Divine Mercy University",
           "Private not-for-profit, 4-year or above",
           -77.051354,
           38.855847,
           "VA"
          ],
          [
           "Divine Word College",
           "Private not-for-profit, 4-year or above",
           -90.934578,
           42.441721,
           "IA"
          ],
          [
           "Dixie State University",
           "Public, 4-year or above",
           -113.565903,
           37.102769,
           "UT"
          ],
          [
           "Doane University-Arts & Sciences",
           "Private not-for-profit, 4-year or above",
           -96.950932,
           40.62295200000001,
           "NE"
          ],
          [
           "Doane University-Graduate and Professional Studies",
           "Private not-for-profit, 4-year or above",
           -96.650758,
           40.815541,
           "NE"
          ],
          [
           "Dodge City Community College",
           "Public, 2-year",
           -100.037481,
           37.776891,
           "KS"
          ],
          [
           "Dominican College of Blauvelt",
           "Private not-for-profit, 4-year or above",
           -73.95055500000002,
           41.047419,
           "NY"
          ],
          [
           "Dominican School of Philosophy & Theology",
           "Private not-for-profit, 4-year or above",
           -122.264612,
           37.881099,
           "CA"
          ],
          [
           "Dominican University",
           "Private not-for-profit, 4-year or above",
           -87.823003,
           41.902678,
           "IL"
          ],
          [
           "Dominican University of California",
           "Private not-for-profit, 4-year or above",
           -122.514654,
           37.980014,
           "CA"
          ],
          [
           "Dongguk University-Los Angeles",
           "Private not-for-profit, 4-year or above",
           -118.289523,
           34.06597,
           "CA"
          ],
          [
           "Donnelly College",
           "Private not-for-profit, 4-year or above",
           -94.650677,
           39.112256,
           "KS"
          ],
          [
           "Dordt College",
           "Private not-for-profit, 4-year or above",
           -96.166562,
           43.082527,
           "IA"
          ],
          [
           "Downey Adult School",
           "Public, 2-year",
           -118.115727,
           33.91965,
           "CA"
          ],
          [
           "Dragon Rises College of Oriental Medicine",
           "Private not-for-profit, 4-year or above",
           -82.31276899999997,
           29.667368,
           "FL"
          ],
          [
           "Drake University",
           "Private not-for-profit, 4-year or above",
           -93.652163,
           41.60129000000001,
           "IA"
          ],
          [
           "Drew University",
           "Private not-for-profit, 4-year or above",
           -74.424584,
           40.761829,
           "NJ"
          ],
          [
           "Drexel University",
           "Private not-for-profit, 4-year or above",
           -75.190051,
           39.955217,
           "PA"
          ],
          [
           "Drury University",
           "Private not-for-profit, 4-year or above",
           -93.286192,
           37.219681,
           "MO"
          ],
          [
           "Duke University",
           "Private not-for-profit, 4-year or above",
           -78.937624,
           36.001135,
           "NC"
          ],
          [
           "Dunwoody College of Technology",
           "Private not-for-profit, 4-year or above",
           -93.290608,
           44.97281,
           "MN"
          ],
          [
           "Duquesne University",
           "Private not-for-profit, 4-year or above",
           -79.993123,
           40.43589,
           "PA"
          ],
          [
           "Durham Technical Community College",
           "Public, 2-year",
           -78.8817,
           35.974768,
           "NC"
          ],
          [
           "Dutchess Community College",
           "Public, 2-year",
           -73.904652,
           41.724245,
           "NY"
          ],
          [
           "Dyersburg State Community College",
           "Public, 2-year",
           -89.390661,
           36.047195,
           "TN"
          ],
          [
           "Earlham College",
           "Private not-for-profit, 4-year or above",
           -84.915037,
           39.823431,
           "IN"
          ],
          [
           "East Arkansas Community College",
           "Public, 2-year",
           -90.767726,
           35.041655,
           "AR"
          ],
          [
           "East Carolina University",
           "Public, 4-year or above",
           -77.368291,
           35.607186,
           "NC"
          ],
          [
           "East Central College",
           "Public, 2-year",
           -90.97809,
           38.431845,
           "MO"
          ],
          [
           "East Central Community College",
           "Public, 2-year",
           -89.11370600000002,
           32.441164,
           "MS"
          ],
          [
           "East Central University",
           "Public, 4-year or above",
           -96.663849,
           34.771934,
           "OK"
          ],
          [
           "East Georgia State College",
           "Public, 4-year or above",
           -82.309021,
           32.594944,
           "GA"
          ],
          [
           "East Los Angeles College",
           "Public, 2-year",
           -118.148785,
           34.040531,
           "CA"
          ],
          [
           "East Mississippi Community College",
           "Public, 2-year",
           -88.48351600000002,
           32.830246,
           "MS"
          ],
          [
           "East San Gabriel Valley Regional Occupational Program",
           "Public, 2-year",
           -117.937116,
           34.076805,
           "CA"
          ],
          [
           "East Stroudsburg University of Pennsylvania",
           "Public, 4-year or above",
           -75.173905,
           40.99599,
           "PA"
          ],
          [
           "East Tennessee State University",
           "Public, 4-year or above",
           -82.366954,
           36.301643,
           "TN"
          ],
          [
           "East Texas Baptist University",
           "Private not-for-profit, 4-year or above",
           -94.374488,
           32.557846999999995,
           "TX"
          ],
          [
           "East-West University",
           "Private not-for-profit, 4-year or above",
           -87.62479300000003,
           41.871309,
           "IL"
          ],
          [
           "East-West University",
           "Private not-for-profit, 4-year or above",
           -88.631351,
           44.88177,
           "WI"
          ],
          [
           "Eastern Arizona College",
           "Public, 2-year",
           -109.76234,
           32.843664000000004,
           "AZ"
          ],
          [
           "Eastern Connecticut State University",
           "Public, 4-year or above",
           -72.218753,
           41.721673,
           "CT"
          ],
          [
           "Eastern Florida State College",
           "Public, 4-year or above",
           -80.756474,
           28.38361,
           "FL"
          ],
          [
           "Eastern Gateway Community College",
           "Public, 2-year",
           -80.672337,
           40.376056,
           "OH"
          ],
          [
           "Eastern Illinois University",
           "Public, 4-year or above",
           -88.175658,
           39.479843,
           "IL"
          ],
          [
           "Eastern Iowa Community College District",
           "Public, 2-year",
           -90.577796,
           41.52047,
           "IA"
          ],
          [
           "Eastern Kentucky University",
           "Public, 4-year or above",
           -84.30079599999998,
           37.740845,
           "KY"
          ],
          [
           "Eastern Maine Community College",
           "Public, 2-year",
           -68.74445,
           44.826048,
           "ME"
          ],
          [
           "Eastern Mennonite University",
           "Private not-for-profit, 4-year or above",
           -78.880326,
           38.471134,
           "VA"
          ],
          [
           "Eastern Michigan University",
           "Public, 4-year or above",
           -83.622501,
           42.24694,
           "MI"
          ],
          [
           "Eastern Nazarene College",
           "Private not-for-profit, 4-year or above",
           -71.01107900000002,
           42.271228,
           "MA"
          ],
          [
           "Eastern New Mexico University-Main Campus",
           "Public, 4-year or above",
           -103.34819,
           34.175592,
           "NM"
          ],
          [
           "Eastern New Mexico University-Roswell Campus",
           "Public, 2-year",
           -104.525718,
           33.313167,
           "NM"
          ],
          [
           "Eastern New Mexico University-Ruidoso Campus",
           "Public, 2-year",
           -105.677273,
           33.346376,
           "NM"
          ],
          [
           "Eastern Oklahoma State College",
           "Public, 2-year",
           -95.328995,
           34.914079,
           "OK"
          ],
          [
           "Eastern Oregon University",
           "Public, 4-year or above",
           -118.092495,
           45.319795,
           "OR"
          ],
          [
           "Eastern Shore Community College",
           "Public, 2-year",
           -75.750791,
           37.640453,
           "VA"
          ],
          [
           "Eastern University",
           "Private not-for-profit, 4-year or above",
           -75.370316,
           40.050448,
           "PA"
          ],
          [
           "Eastern Virginia Medical School",
           "Public, 4-year or above",
           -76.300694,
           36.861232,
           "VA"
          ],
          [
           "Eastern Washington University",
           "Public, 4-year or above",
           -117.583808,
           47.490667,
           "WA"
          ],
          [
           "Eastern West Virginia Community and Technical College",
           "Public, 2-year",
           -78.932546,
           39.075562,
           "WV"
          ],
          [
           "Eastern Wyoming College",
           "Public, 2-year",
           -104.190823,
           42.079354,
           "WY"
          ],
          [
           "Eastfield College",
           "Public, 2-year",
           -96.65947,
           32.815679,
           "TX"
          ],
          [
           "Ecclesia College",
           "Private not-for-profit, 4-year or above",
           -94.236643,
           36.2141,
           "AR"
          ],
          [
           "Eckerd College",
           "Private not-for-profit, 4-year or above",
           -82.687043,
           27.715798,
           "FL"
          ],
          [
           "Ecumenical Theological Seminary",
           "Private not-for-profit, 4-year or above",
           -83.055266,
           42.344129,
           "MI"
          ],
          [
           "Eden Theological Seminary",
           "Private not-for-profit, 4-year or above",
           -90.345605,
           38.592307,
           "MO"
          ],
          [
           "Edgecombe Community College",
           "Public, 2-year",
           -77.571786,
           35.879867,
           "NC"
          ],
          [
           "Edgewood College",
           "Private not-for-profit, 4-year or above",
           -89.422884,
           43.057059,
           "WI"
          ],
          [
           "Edinboro University of Pennsylvania",
           "Public, 4-year or above",
           -80.121318,
           41.870717,
           "PA"
          ],
          [
           "Edison State Community College",
           "Public, 2-year",
           -84.212385,
           40.157699,
           "OH"
          ],
          [
           "Edmonds Community College",
           "Public, 4-year or above",
           -122.327598,
           47.816376,
           "WA"
          ],
          [
           "Edward Via College of Osteopathic Medicine",
           "Private not-for-profit, 4-year or above",
           -80.406021,
           37.199666,
           "VA"
          ],
          [
           "Edward Waters College",
           "Private not-for-profit, 4-year or above",
           -81.68487900000002,
           30.344790000000003,
           "FL"
          ],
          [
           "EHOVE Career Center",
           "Public, 2-year",
           -82.630439,
           41.332655,
           "OH"
          ],
          [
           "El Camino College-Compton Center",
           "Public, 2-year",
           -118.20918600000002,
           33.876665,
           "CA"
          ],
          [
           "El Camino Community College District",
           "Public, 2-year",
           -118.329913,
           33.885228999999995,
           "CA"
          ],
          [
           "El Centro College",
           "Public, 2-year",
           -96.805361,
           32.779817,
           "TX"
          ],
          [
           "El Paso Community College",
           "Public, 2-year",
           -106.373616,
           31.773359000000006,
           "TX"
          ],
          [
           "Elgin Community College",
           "Public, 2-year",
           -88.32194,
           42.018066,
           "IL"
          ],
          [
           "Elim Bible Institute and College",
           "Private not-for-profit, 2-year",
           -77.615151,
           42.909692,
           "NY"
          ],
          [
           "Elizabeth City State University",
           "Public, 4-year or above",
           -76.21404100000002,
           36.277978,
           "NC"
          ],
          [
           "Elizabethtown College",
           "Private not-for-profit, 4-year or above",
           -76.59322399999998,
           40.149236,
           "PA"
          ],
          [
           "Elizabethtown College School of Continuing and Professional Studies",
           "Private not-for-profit, 4-year or above",
           -76.59322399999998,
           40.149236,
           "PA"
          ],
          [
           "Elizabethtown Community and Technical College",
           "Public, 2-year",
           -85.879927,
           37.692858,
           "KY"
          ],
          [
           "Ellsworth Community College",
           "Public, 2-year",
           -93.265853,
           42.527524,
           "IA"
          ],
          [
           "Elmhurst College",
           "Private not-for-profit, 4-year or above",
           -87.945369,
           41.897164,
           "IL"
          ],
          [
           "Elmira College",
           "Private not-for-profit, 4-year or above",
           -76.813459,
           42.0961,
           "NY"
          ],
          [
           "Elon University",
           "Private not-for-profit, 4-year or above",
           -79.50344,
           36.104148,
           "NC"
          ],
          [
           "Elyon College",
           "Private not-for-profit, 2-year",
           -73.980593,
           40.611081,
           "NY"
          ],
          [
           "Embry-Riddle Aeronautical University-Daytona Beach",
           "Private not-for-profit, 4-year or above",
           -81.048367,
           29.189903,
           "FL"
          ],
          [
           "Embry-Riddle Aeronautical University-Prescott",
           "Private not-for-profit, 4-year or above",
           -112.449741,
           34.616766,
           "AZ"
          ],
          [
           "Embry-Riddle Aeronautical University-Worldwide",
           "Private not-for-profit, 4-year or above",
           -81.048367,
           29.189903,
           "FL"
          ],
          [
           "Emerald Coast Technical College",
           "Public, 2-year",
           -86.128061,
           30.732090000000003,
           "FL"
          ],
          [
           "Emerson College",
           "Private not-for-profit, 4-year or above",
           -71.065384,
           42.352202,
           "MA"
          ],
          [
           "Emmanuel College",
           "Private not-for-profit, 4-year or above",
           -71.103634,
           42.340602,
           "MA"
          ],
          [
           "Emmanuel College",
           "Private not-for-profit, 4-year or above",
           -83.14822,
           34.283641,
           "GA"
          ],
          [
           "Emmaus Bible College",
           "Private not-for-profit, 4-year or above",
           -90.706011,
           42.508307,
           "IA"
          ],
          [
           "Emory & Henry College",
           "Private not-for-profit, 4-year or above",
           -81.829142,
           36.772857,
           "VA"
          ],
          [
           "Emory University",
           "Private not-for-profit, 4-year or above",
           -84.325512,
           33.790183,
           "GA"
          ],
          [
           "Emory University-Oxford College",
           "Private not-for-profit, 2-year",
           -83.87114100000002,
           33.6191,
           "GA"
          ],
          [
           "Emporia State University",
           "Public, 4-year or above",
           -96.179021,
           38.414784,
           "KS"
          ],
          [
           "Endicott College",
           "Private not-for-profit, 4-year or above",
           -70.840847,
           42.553296,
           "MA"
          ],
          [
           "Enterprise State Community College",
           "Public, 2-year",
           -85.836956,
           31.297496,
           "AL"
          ],
          [
           "Epic Bible College",
           "Private not-for-profit, 4-year or above",
           -121.362642,
           38.645152,
           "CA"
          ],
          [
           "Episcopal Theological Seminary of the Southwest",
           "Private not-for-profit, 4-year or above",
           -97.73266,
           30.293097,
           "TX"
          ],
          [
           "Erie Community College",
           "Public, 2-year",
           -78.872679,
           42.881771,
           "NY"
          ],
          [
           "Erikson Institute",
           "Private not-for-profit, 4-year or above",
           -87.632178,
           41.890663,
           "IL"
          ],
          [
           "Erskine College",
           "Private not-for-profit, 4-year or above",
           -82.39095,
           34.332087,
           "SC"
          ],
          [
           "Erwin Technical College",
           "Public, 2-year",
           -82.43593299999998,
           27.997242,
           "FL"
          ],
          [
           "Essex County College",
           "Public, 2-year",
           -74.178234,
           40.738444,
           "NJ"
          ],
          [
           "Estrella Mountain Community College",
           "Public, 2-year",
           -112.343158,
           33.480722,
           "AZ"
          ],
          [
           "Eureka College",
           "Private not-for-profit, 4-year or above",
           -89.269624,
           40.71482,
           "IL"
          ],
          [
           "Evangel University",
           "Private not-for-profit, 4-year or above",
           -93.262614,
           37.220956,
           "MO"
          ],
          [
           "Evangel University - Assemblies of God Theological Seminary",
           "Private not-for-profit, 4-year or above",
           -93.262209,
           37.224239,
           "MO"
          ],
          [
           "Evangelical Theological Seminary",
           "Private not-for-profit, 4-year or above",
           -76.306252,
           40.372981,
           "PA"
          ],
          [
           "Everest University-Brandon",
           "Private not-for-profit, 4-year or above",
           -82.35034,
           27.980447,
           "FL"
          ],
          [
           "Everest University-South Orlando",
           "Private not-for-profit, 4-year or above",
           -81.42694200000003,
           28.434702,
           "FL"
          ],
          [
           "Everett Community College",
           "Public, 2-year",
           -122.204736,
           48.006626,
           "WA"
          ],
          [
           "Everglades University",
           "Private not-for-profit, 4-year or above",
           -80.108331,
           26.391218,
           "FL"
          ],
          [
           "Evergreen Valley College",
           "Public, 2-year",
           -121.76561,
           37.30167,
           "CA"
          ],
          [
           "Excelsior College",
           "Private not-for-profit, 4-year or above",
           -73.862981,
           42.705487,
           "NY"
          ],
          [
           "Fairfield University",
           "Private not-for-profit, 4-year or above",
           -73.255903,
           41.157673,
           "CT"
          ],
          [
           "Fairleigh Dickinson University-Florham Campus",
           "Private not-for-profit, 4-year or above",
           -74.432121,
           40.774498,
           "NJ"
          ],
          [
           "Fairleigh Dickinson University-Metropolitan Campus",
           "Private not-for-profit, 4-year or above",
           -74.028986,
           40.897209,
           "NJ"
          ],
          [
           "Fairmont State University",
           "Public, 4-year or above",
           -80.162433,
           39.483079,
           "WV"
          ],
          [
           "Faith Baptist Bible College and Theological Seminary",
           "Private not-for-profit, 4-year or above",
           -93.624422,
           41.737082,
           "IA"
          ],
          [
           "Faith International University",
           "Private not-for-profit, 4-year or above",
           -122.51687,
           47.280168,
           "WA"
          ],
          [
           "Faith Theological Seminary",
           "Private not-for-profit, 4-year or above",
           -76.605906,
           39.371639,
           "MD"
          ],
          [
           "Family of Faith Christian University",
           "Private not-for-profit, 4-year or above",
           -96.901413,
           35.462234,
           "OK"
          ],
          [
           "Farmingdale State College",
           "Public, 4-year or above",
           -73.42832,
           40.754224,
           "NY"
          ],
          [
           "Fashion Institute of Technology",
           "Public, 4-year or above",
           -73.994781,
           40.74731,
           "NY"
          ],
          [
           "Faulkner University",
           "Private not-for-profit, 4-year or above",
           -86.21641,
           32.384181,
           "AL"
          ],
          [
           "Fayetteville State University",
           "Public, 4-year or above",
           -78.891696,
           35.073640999999995,
           "NC"
          ],
          [
           "Fayetteville Technical Community College",
           "Public, 2-year",
           -78.92658,
           35.068851,
           "NC"
          ],
          [
           "Feather River Community College District",
           "Public, 4-year or above",
           -120.970877,
           39.952395,
           "CA"
          ],
          [
           "Felician University",
           "Private not-for-profit, 4-year or above",
           -74.096452,
           40.867272,
           "NJ"
          ],
          [
           "Ferris State University",
           "Public, 4-year or above",
           -85.481925,
           43.687724,
           "MI"
          ],
          [
           "Ferrum College",
           "Private not-for-profit, 4-year or above",
           -80.02163900000002,
           36.926912,
           "VA"
          ],
          [
           "Fielding Graduate University",
           "Private not-for-profit, 4-year or above",
           -119.717161,
           34.42941,
           "CA"
          ],
          [
           "Finger Lakes Community College",
           "Public, 2-year",
           -77.241801,
           42.867556,
           "NY"
          ],
          [
           "Finlandia University",
           "Private not-for-profit, 4-year or above",
           -88.588756,
           47.127868,
           "MI"
          ],
          [
           "Firelands Regional Medical Center School of Nursing",
           "Private not-for-profit, 2-year",
           -82.71189,
           41.43719,
           "OH"
          ],
          [
           "Fisher College",
           "Private not-for-profit, 4-year or above",
           -71.074125,
           42.35525300000001,
           "MA"
          ],
          [
           "Fisk University",
           "Private not-for-profit, 4-year or above",
           -86.80567099999998,
           36.16912,
           "TN"
          ],
          [
           "Fitchburg State University",
           "Public, 4-year or above",
           -71.789354,
           42.589345,
           "MA"
          ],
          [
           "Flagler College-St Augustine",
           "Private not-for-profit, 4-year or above",
           -81.314887,
           29.892733000000003,
           "FL"
          ],
          [
           "Flagler College-Tallahassee",
           "Private not-for-profit, 4-year or above",
           -84.339,
           30.443866,
           "FL"
          ],
          [
           "Flathead Valley Community College",
           "Public, 2-year",
           -114.327258,
           48.227389,
           "MT"
          ],
          [
           "Fletcher Technical Community College",
           "Public, 2-year",
           -90.811707,
           29.690884000000004,
           "LA"
          ],
          [
           "Flint Hills Technical College",
           "Public, 2-year",
           -96.224141,
           38.41888,
           "KS"
          ],
          [
           "Florence-Darlington Technical College",
           "Public, 2-year",
           -79.81469,
           34.243882,
           "SC"
          ],
          [
           "Florida Agricultural and Mechanical University",
           "Public, 4-year or above",
           -84.290226,
           30.428504,
           "FL"
          ],
          [
           "Florida Atlantic University",
           "Public, 4-year or above",
           -80.10297800000002,
           26.372421000000006,
           "FL"
          ],
          [
           "Florida College",
           "Private not-for-profit, 4-year or above",
           -82.383289,
           28.034936,
           "FL"
          ],
          [
           "Florida Gateway College",
           "Public, 4-year or above",
           -82.5679,
           30.175298,
           "FL"
          ],
          [
           "Florida Gulf Coast University",
           "Public, 4-year or above",
           -81.7726,
           26.463638,
           "FL"
          ],
          [
           "Florida Institute of Technology",
           "Private not-for-profit, 4-year or above",
           -80.622893,
           28.065815,
           "FL"
          ],
          [
           "Florida Institute of Technology-Online",
           "Private not-for-profit, 4-year or above",
           -80.62437800000002,
           28.065754,
           "FL"
          ],
          [
           "Florida International University",
           "Public, 4-year or above",
           -80.373928,
           25.75732,
           "FL"
          ],
          [
           "Florida Keys Community College",
           "Public, 4-year or above",
           -81.74446,
           24.582748,
           "FL"
          ],
          [
           "Florida Memorial University",
           "Private not-for-profit, 4-year or above",
           -80.270753,
           25.918278,
           "FL"
          ],
          [
           "Florida Panhandle Technical College",
           "Public, 2-year",
           -85.553345,
           30.774490000000004,
           "FL"
          ],
          [
           "Florida Polytechnic University",
           "Public, 4-year or above",
           -81.845995,
           28.150149,
           "FL"
          ],
          [
           "Florida School of Traditional Midwifery",
           "Private not-for-profit, 2-year",
           -82.31585,
           29.652269,
           "FL"
          ],
          [
           "Florida Southern College",
           "Private not-for-profit, 4-year or above",
           -81.948203,
           28.032443,
           "FL"
          ],
          [
           "Florida SouthWestern State College",
           "Public, 4-year or above",
           -81.887102,
           26.552403,
           "FL"
          ],
          [
           "Florida State College at Jacksonville",
           "Public, 4-year or above",
           -81.659901,
           30.334918,
           "FL"
          ],
          [
           "Florida State University",
           "Public, 4-year or above",
           -84.291921,
           30.440756,
           "FL"
          ],
          [
           "Folsom Lake College",
           "Public, 2-year",
           -121.127486,
           38.661372,
           "CA"
          ],
          [
           "Fond du Lac Tribal and Community College",
           "Public, 2-year",
           -92.451326,
           46.690069,
           "MN"
          ],
          [
           "Fontbonne University",
           "Private not-for-profit, 4-year or above",
           -90.315712,
           38.642697,
           "MO"
          ],
          [
           "Foothill College",
           "Public, 4-year or above",
           -122.127964,
           37.361655,
           "CA"
          ],
          [
           "Fordham University",
           "Private not-for-profit, 4-year or above",
           -73.882705,
           40.859354,
           "NY"
          ],
          [
           "Forsyth Technical Community College",
           "Public, 2-year",
           -80.272215,
           36.06854000000001,
           "NC"
          ],
          [
           "Fort Hays State University",
           "Public, 4-year or above",
           -99.342503,
           38.872156,
           "KS"
          ],
          [
           "Fort Lewis College",
           "Public, 4-year or above",
           -107.867422,
           37.275939,
           "CO"
          ],
          [
           "Fort Myers Technical College",
           "Public, 2-year",
           -81.836596,
           26.647517,
           "FL"
          ],
          [
           "Fort Peck Community College",
           "Public, 2-year",
           -105.193021,
           48.113569,
           "MT"
          ],
          [
           "Fort Scott Community College",
           "Public, 2-year",
           -94.715334,
           37.816206,
           "KS"
          ],
          [
           "Fort Valley State University",
           "Public, 4-year or above",
           -83.89537,
           32.537595,
           "GA"
          ],
          [
           "Fox Valley Technical College",
           "Public, 2-year",
           -88.45893000000002,
           44.283174,
           "WI"
          ],
          [
           "Framingham State University",
           "Public, 4-year or above",
           -71.437175,
           42.297289,
           "MA"
          ],
          [
           "Francis Marion University",
           "Public, 4-year or above",
           -79.652854,
           34.189777,
           "SC"
          ],
          [
           "Franciscan Missionaries of Our Lady University",
           "Private not-for-profit, 4-year or above",
           -91.110587,
           30.401379,
           "LA"
          ],
          [
           "Franciscan School of Theology",
           "Private not-for-profit, 4-year or above",
           -117.320066,
           33.232416,
           "CA"
          ],
          [
           "Franciscan University of Steubenville",
           "Private not-for-profit, 4-year or above",
           -80.620524,
           40.376919,
           "OH"
          ],
          [
           "Frank Phillips College",
           "Public, 2-year",
           -101.406005,
           35.657778,
           "TX"
          ],
          [
           "Franklin and Marshall College",
           "Private not-for-profit, 4-year or above",
           -76.319037,
           40.048045,
           "PA"
          ],
          [
           "Franklin College",
           "Private not-for-profit, 4-year or above",
           -86.04718199999998,
           39.478298,
           "IN"
          ],
          [
           "Franklin Pierce University",
           "Private not-for-profit, 4-year or above",
           -72.058011,
           42.78014,
           "NH"
          ],
          [
           "Franklin University",
           "Private not-for-profit, 4-year or above",
           -82.990375,
           39.95831,
           "OH"
          ],
          [
           "Franklin W Olin College of Engineering",
           "Private not-for-profit, 4-year or above",
           -71.26404699999998,
           42.292842,
           "MA"
          ],
          [
           "Fred K Marchman Technical College",
           "Public, 2-year",
           -82.691779,
           28.271196000000003,
           "FL"
          ],
          [
           "Frederick Community College",
           "Public, 2-year",
           -77.417849,
           39.452241,
           "MD"
          ],
          [
           "Freed-Hardeman University",
           "Private not-for-profit, 4-year or above",
           -88.639418,
           35.440073,
           "TN"
          ],
          [
           "Fresno City College",
           "Public, 2-year",
           -119.796096,
           36.768164,
           "CA"
          ],
          [
           "Fresno Pacific University",
           "Private not-for-profit, 4-year or above",
           -119.735199,
           36.726831,
           "CA"
          ],
          [
           "Friends University",
           "Private not-for-profit, 4-year or above",
           -97.367048,
           37.678459,
           "KS"
          ],
          [
           "Front Range Community College",
           "Public, 2-year",
           -105.038068,
           39.901452,
           "CO"
          ],
          [
           "Frontier Community College",
           "Public, 2-year",
           -88.39219399999998,
           38.380271,
           "IL"
          ],
          [
           "Frontier Nursing University",
           "Private not-for-profit, 4-year or above",
           -83.37937,
           37.165605,
           "KY"
          ],
          [
           "Frostburg State University",
           "Public, 4-year or above",
           -78.93429300000003,
           39.650918,
           "MD"
          ],
          [
           "Fuller Theological Seminary",
           "Private not-for-profit, 4-year or above",
           -118.140261,
           34.14778,
           "CA"
          ],
          [
           "Fullerton College",
           "Public, 2-year",
           -117.918255,
           33.875514,
           "CA"
          ],
          [
           "Fulton-Montgomery Community College",
           "Public, 2-year",
           -74.297492,
           42.983805,
           "NY"
          ],
          [
           "Furman",
           "Private not-for-profit, 4-year or above",
           -82.44045799999998,
           34.924676,
           "SC"
          ],
          [
           "Future Generations University",
           "Private not-for-profit, 4-year or above",
           -79.405423,
           38.70907,
           "WV"
          ],
          [
           "Gadsden State Community College",
           "Public, 2-year",
           -85.991438,
           33.994001000000004,
           "AL"
          ],
          [
           "Gadsden Technical Institute",
           "Public, 2-year",
           -84.578905,
           30.577656,
           "FL"
          ],
          [
           "Gallaudet University",
           "Private not-for-profit, 4-year or above",
           -76.993675,
           38.90737100000001,
           "DC"
          ],
          [
           "Galveston College",
           "Public, 2-year",
           -94.80854,
           29.284212,
           "TX"
          ],
          [
           "Gannon University",
           "Private not-for-profit, 4-year or above",
           -80.087166,
           42.12840300000001,
           "PA"
          ],
          [
           "Garden City Community College",
           "Public, 2-year",
           -100.848082,
           37.970151,
           "KS"
          ],
          [
           "Gardner-Webb University",
           "Private not-for-profit, 4-year or above",
           -81.668141,
           35.24732,
           "NC"
          ],
          [
           "Garrett College",
           "Public, 2-year",
           -79.342923,
           39.560493,
           "MD"
          ],
          [
           "Garrett-Evangelical Theological Seminary",
           "Private not-for-profit, 4-year or above",
           -87.675497,
           42.056221,
           "IL"
          ],
          [
           "Gaston College",
           "Public, 2-year",
           -81.18852,
           35.312048,
           "NC"
          ],
          [
           "Gateway Community and Technical College",
           "Public, 2-year",
           -84.633478,
           38.960638,
           "KY"
          ],
          [
           "GateWay Community College",
           "Public, 2-year",
           -111.997077,
           33.449686,
           "AZ"
          ],
          [
           "Gateway Community College",
           "Public, 2-year",
           -72.92768199999998,
           41.303785,
           "CT"
          ],
          [
           "Gateway Technical College",
           "Public, 2-year",
           -87.846695,
           42.605677,
           "WI"
          ],
          [
           "Gavilan College",
           "Public, 2-year",
           -121.568174,
           36.973274,
           "CA"
          ],
          [
           "Geisinger Commonwealth School of Medicine",
           "Private not-for-profit, 4-year or above",
           -75.655478,
           41.413415,
           "PA"
          ],
          [
           "Geisinger-Lewistown Hospital School of Nursing",
           "Private not-for-profit, 2-year",
           -77.567654,
           40.619424,
           "PA"
          ],
          [
           "Genesee Community College",
           "Public, 2-year",
           -78.137586,
           43.016584,
           "NY"
          ],
          [
           "Geneva College",
           "Private not-for-profit, 4-year or above",
           -80.321826,
           40.772518,
           "PA"
          ],
          [
           "George C Wallace Community College-Dothan",
           "Public, 2-year",
           -85.465836,
           31.315274,
           "AL"
          ],
          [
           "George C Wallace State Community College-Hanceville",
           "Public, 2-year",
           -86.781935,
           34.072439,
           "AL"
          ],
          [
           "George C Wallace State Community College-Selma",
           "Public, 2-year",
           -87.01329399999999,
           32.445917,
           "AL"
          ],
          [
           "George Fox University",
           "Private not-for-profit, 4-year or above",
           -122.967494,
           45.303629,
           "OR"
          ],
          [
           "George Mason University",
           "Public, 4-year or above",
           -77.307428,
           38.829976,
           "VA"
          ],
          [
           "George Stone Technical Center",
           "Public, 2-year",
           -87.29065899999998,
           30.487547,
           "FL"
          ],
          [
           "George T Baker Aviation Technical College",
           "Public, 2-year",
           -80.263591,
           25.804092,
           "FL"
          ],
          [
           "George Washington University",
           "Private not-for-profit, 4-year or above",
           -77.048363,
           38.89923,
           "DC"
          ],
          [
           "Georgetown College",
           "Private not-for-profit, 4-year or above",
           -84.55376700000002,
           38.207615,
           "KY"
          ],
          [
           "Georgetown University",
           "Private not-for-profit, 4-year or above",
           -77.073463,
           38.90880900000001,
           "DC"
          ],
          [
           "Georgia Christian University",
           "Private not-for-profit, 4-year or above",
           -84.26793,
           33.928319,
           "GA"
          ],
          [
           "Georgia College & State University",
           "Public, 4-year or above",
           -83.231962,
           33.082787,
           "GA"
          ],
          [
           "Georgia Gwinnett College",
           "Public, 4-year or above",
           -84.00459000000002,
           33.979409000000004,
           "GA"
          ],
          [
           "Georgia Highlands College",
           "Public, 4-year or above",
           -85.207356,
           34.169791,
           "GA"
          ],
          [
           "Georgia Institute of Technology-Main Campus",
           "Public, 4-year or above",
           -84.394832,
           33.772420000000004,
           "GA"
          ],
          [
           "Georgia Military College",
           "Public, 4-year or above",
           -83.224211,
           33.079440000000005,
           "GA"
          ],
          [
           "Georgia Northwestern Technical College",
           "Public, 2-year",
           -85.171361,
           34.224673,
           "GA"
          ],
          [
           "Georgia Piedmont Technical College",
           "Public, 2-year",
           -84.234504,
           33.789898,
           "GA"
          ],
          [
           "Georgia Southern University",
           "Public, 4-year or above",
           -81.782232,
           32.428808000000004,
           "GA"
          ],
          [
           "Georgia Southwestern State University",
           "Public, 4-year or above",
           -84.217738,
           32.054662,
           "GA"
          ],
          [
           "Georgia State University",
           "Public, 4-year or above",
           -84.38667,
           33.7527,
           "GA"
          ],
          [
           "Georgia State University-Perimeter College",
           "Public, 2-year",
           -84.385712,
           33.753426,
           "GA"
          ],
          [
           "Georgian Court University",
           "Private not-for-profit, 4-year or above",
           -74.228186,
           40.099617,
           "NJ"
          ],
          [
           "Germanna Community College",
           "Public, 2-year",
           -77.78012,
           38.375532,
           "VA"
          ],
          [
           "Gettysburg College",
           "Private not-for-profit, 4-year or above",
           -77.23679200000002,
           39.836597,
           "PA"
          ],
          [
           "Glen Oaks Community College",
           "Public, 2-year",
           -85.49692900000002,
           41.892504,
           "MI"
          ],
          [
           "Glendale Community College",
           "Public, 2-year",
           -112.190735,
           33.570226,
           "AZ"
          ],
          [
           "Glendale Community College",
           "Public, 2-year",
           -118.228251,
           34.166422,
           "CA"
          ],
          [
           "Glenville State College",
           "Public, 4-year or above",
           -80.834295,
           38.93547,
           "WV"
          ],
          [
           "Goddard College",
           "Private not-for-profit, 4-year or above",
           -72.438388,
           44.279087,
           "VT"
          ],
          [
           "Gods Bible School and College",
           "Private not-for-profit, 4-year or above",
           -84.505703,
           39.1153,
           "OH"
          ],
          [
           "Gogebic Community College",
           "Public, 2-year",
           -90.165592,
           46.471893,
           "MI"
          ],
          [
           "Golden Gate University-San Francisco",
           "Private not-for-profit, 4-year or above",
           -122.398785,
           37.789208,
           "CA"
          ],
          [
           "Golden West College",
           "Public, 2-year",
           -118.003036,
           33.733775,
           "CA"
          ],
          [
           "Goldey-Beacom College",
           "Private not-for-profit, 4-year or above",
           -75.689624,
           39.741501,
           "DE"
          ],
          [
           "Gonzaga University",
           "Private not-for-profit, 4-year or above",
           -117.400625,
           47.666531,
           "WA"
          ],
          [
           "Good Samaritan College of Nursing and Health Science",
           "Private not-for-profit, 4-year or above",
           -84.521196,
           39.140348,
           "OH"
          ],
          [
           "Goodwin College",
           "Private not-for-profit, 4-year or above",
           -72.64031999999997,
           41.742977,
           "CT"
          ],
          [
           "Gordon College",
           "Private not-for-profit, 4-year or above",
           -70.819133,
           42.588173,
           "MA"
          ],
          [
           "Gordon Cooper Technology Center",
           "Public, 2-year",
           -96.908013,
           35.380321,
           "OK"
          ],
          [
           "Gordon State College",
           "Public, 4-year or above",
           -84.15450799999998,
           33.04571,
           "GA"
          ],
          [
           "Gordon-Conwell Theological Seminary",
           "Private not-for-profit, 4-year or above",
           -70.846387,
           42.613475,
           "MA"
          ],
          [
           "Goshen College",
           "Private not-for-profit, 4-year or above",
           -85.827795,
           41.563582,
           "IN"
          ],
          [
           "Goucher College",
           "Private not-for-profit, 4-year or above",
           -76.59484300000003,
           39.410175,
           "MD"
          ],
          [
           "Governors State University",
           "Public, 4-year or above",
           -87.716441,
           41.449103,
           "IL"
          ],
          [
           "Grace Bible College",
           "Private not-for-profit, 4-year or above",
           -85.692077,
           42.919541,
           "MI"
          ],
          [
           "Grace College and Theological Seminary",
           "Private not-for-profit, 4-year or above",
           -85.814228,
           41.22595,
           "IN"
          ],
          [
           "Grace College of Divinity",
           "Private not-for-profit, 4-year or above",
           -78.96130500000002,
           35.058616,
           "NC"
          ],
          [
           "Grace Mission University",
           "Private not-for-profit, 4-year or above",
           -117.958208,
           33.867663,
           "CA"
          ],
          [
           "Grace School of Theology",
           "Private not-for-profit, 4-year or above",
           -95.472493,
           30.205731,
           "TX"
          ],
          [
           "Grace University",
           "Private not-for-profit, 4-year or above",
           -95.927709,
           41.246894,
           "NE"
          ],
          [
           "Graceland University-Lamoni",
           "Private not-for-profit, 4-year or above",
           -93.924893,
           40.615966,
           "IA"
          ],
          [
           "Graduate Theological Union",
           "Private not-for-profit, 4-year or above",
           -122.261847,
           37.87554,
           "CA"
          ],
          [
           "Grady Health System Professional Schools",
           "Public, 2-year",
           -84.381561,
           33.751852,
           "GA"
          ],
          [
           "Graham Hospital School of Nursing",
           "Private not-for-profit, 2-year",
           -90.038776,
           40.552962,
           "IL"
          ],
          [
           "Grambling State University",
           "Public, 4-year or above",
           -92.713245,
           32.523796999999995,
           "LA"
          ],
          [
           "Grand Rapids Community College",
           "Public, 2-year",
           -85.665625,
           42.967076,
           "MI"
          ],
          [
           "Grand Valley State University",
           "Public, 4-year or above",
           -85.889826,
           42.963001,
           "MI"
          ],
          [
           "Grand View University",
           "Private not-for-profit, 4-year or above",
           -93.604352,
           41.620813,
           "IA"
          ],
          [
           "Granite State College",
           "Public, 4-year or above",
           -71.527241,
           43.19291,
           "NH"
          ],
          [
           "Gratz College",
           "Private not-for-profit, 4-year or above",
           -75.133915,
           40.067206,
           "PA"
          ],
          [
           "Grays Harbor College",
           "Public, 4-year or above",
           -123.803068,
           46.953881,
           "WA"
          ],
          [
           "Grayson College",
           "Public, 2-year",
           -96.633891,
           33.70574000000001,
           "TX"
          ],
          [
           "Great Basin College",
           "Public, 4-year or above",
           -115.767274,
           40.84343,
           "NV"
          ],
          [
           "Great Bay Community College",
           "Public, 2-year",
           -70.798969,
           43.072093,
           "NH"
          ],
          [
           "Great Falls College Montana State University",
           "Public, 2-year",
           -111.269558,
           47.485581,
           "MT"
          ],
          [
           "Great Lakes Christian College",
           "Private not-for-profit, 4-year or above",
           -84.63871400000002,
           42.754249,
           "MI"
          ],
          [
           "Great Plains Technology Center",
           "Public, 2-year",
           -98.450321,
           34.592907000000004,
           "OK"
          ],
          [
           "Green Mountain College",
           "Private not-for-profit, 4-year or above",
           -73.241862,
           43.517785,
           "VT"
          ],
          [
           "Green River College",
           "Public, 4-year or above",
           -122.175819,
           47.313648,
           "WA"
          ],
          [
           "Greenfield Community College",
           "Public, 2-year",
           -72.630978,
           42.599521,
           "MA"
          ],
          [
           "Greensboro College",
           "Private not-for-profit, 4-year or above",
           -79.800232,
           36.071082,
           "NC"
          ],
          [
           "Greenville Technical College",
           "Public, 2-year",
           -82.371178,
           34.826212,
           "SC"
          ],
          [
           "Greenville University",
           "Private not-for-profit, 4-year or above",
           -89.40824,
           38.894162,
           "IL"
          ],
          [
           "Grinnell College",
           "Private not-for-profit, 4-year or above",
           -92.722094,
           41.74795200000001,
           "IA"
          ],
          [
           "Grossmont College",
           "Public, 2-year",
           -117.007292,
           32.816077,
           "CA"
          ],
          [
           "Guilford College",
           "Private not-for-profit, 4-year or above",
           -79.887737,
           36.094233,
           "NC"
          ],
          [
           "Guilford Technical Community College",
           "Public, 2-year",
           -79.92062,
           35.99845999999999,
           "NC"
          ],
          [
           "Gulf Coast State College",
           "Public, 4-year or above",
           -85.727918,
           30.185542,
           "FL"
          ],
          [
           "Gupton Jones College of Funeral Service",
           "Private not-for-profit, 2-year",
           -84.179775,
           33.710709,
           "GA"
          ],
          [
           "Gustavus Adolphus College",
           "Private not-for-profit, 4-year or above",
           -93.972196,
           44.323626,
           "MN"
          ],
          [
           "Gwinnett Technical College",
           "Public, 2-year",
           -84.066224,
           33.962763,
           "GA"
          ],
          [
           "Gwynedd Mercy University",
           "Private not-for-profit, 4-year or above",
           -75.23660100000002,
           40.202804,
           "PA"
          ],
          [
           "H Councill Trenholm State Community College",
           "Public, 2-year",
           -86.343057,
           32.350109,
           "AL"
          ],
          [
           "Hacienda La Puente Adult Education",
           "Public, 2-year",
           -117.979559,
           34.044112,
           "CA"
          ],
          [
           "Hagerstown Community College",
           "Public, 2-year",
           -77.667379,
           39.63100900000001,
           "MD"
          ],
          [
           "Halifax Community College",
           "Public, 2-year",
           -77.617681,
           36.427712,
           "NC"
          ],
          [
           "Hallmark University",
           "Private not-for-profit, 4-year or above",
           -98.568626,
           29.538447,
           "TX"
          ],
          [
           "Hamilton College",
           "Private not-for-profit, 4-year or above",
           -75.40819499999998,
           43.050245,
           "NY"
          ],
          [
           "Hamline University",
           "Private not-for-profit, 4-year or above",
           -93.164479,
           44.96624600000001,
           "MN"
          ],
          [
           "Hampden-Sydney College",
           "Private not-for-profit, 4-year or above",
           -78.46421600000002,
           37.24061500000001,
           "VA"
          ],
          [
           "Hampshire College",
           "Private not-for-profit, 4-year or above",
           -72.531469,
           42.32585200000001,
           "MA"
          ],
          [
           "Hampton University",
           "Private not-for-profit, 4-year or above",
           -76.339161,
           37.019944,
           "VA"
          ],
          [
           "Hannibal-LaGrange University",
           "Private not-for-profit, 4-year or above",
           -91.39094,
           39.729015,
           "MO"
          ],
          [
           "Hanover College",
           "Private not-for-profit, 4-year or above",
           -85.460051,
           38.715642,
           "IN"
          ],
          [
           "Harcum College",
           "Private not-for-profit, 2-year",
           -75.314801,
           40.022582,
           "PA"
          ],
          [
           "Hardin-Simmons University",
           "Private not-for-profit, 4-year or above",
           -99.73564,
           32.476434000000005,
           "TX"
          ],
          [
           "Harding University",
           "Private not-for-profit, 4-year or above",
           -91.726041,
           35.247337,
           "AR"
          ],
          [
           "Harford Community College",
           "Public, 2-year",
           -76.282845,
           39.56131,
           "MD"
          ],
          [
           "Harris-Stowe State University",
           "Public, 4-year or above",
           -90.224288,
           38.631744,
           "MO"
          ],
          [
           "Harrisburg Area Community College",
           "Public, 2-year",
           -76.88640799999997,
           40.296777,
           "PA"
          ],
          [
           "Harrisburg University of Science and Technology",
           "Private not-for-profit, 4-year or above",
           -76.880261,
           40.26193,
           "PA"
          ],
          [
           "Hartford Seminary",
           "Private not-for-profit, 4-year or above",
           -72.707766,
           41.769861,
           "CT"
          ],
          [
           "Hartnell College",
           "Public, 2-year",
           -121.666054,
           36.675091,
           "CA"
          ],
          [
           "Hartwick College",
           "Private not-for-profit, 4-year or above",
           -75.07199399999998,
           42.457599,
           "NY"
          ],
          [
           "Harvard University",
           "Private not-for-profit, 4-year or above",
           -71.118313,
           42.374471,
           "MA"
          ],
          [
           "Harvey Mudd College",
           "Private not-for-profit, 4-year or above",
           -117.709837,
           34.106515,
           "CA"
          ],
          [
           "Haskell Indian Nations University",
           "Public, 4-year or above",
           -95.232879,
           38.938834,
           "KS"
          ],
          [
           "Hastings College",
           "Private not-for-profit, 4-year or above",
           -98.374403,
           40.59025,
           "NE"
          ],
          [
           "Haverford College",
           "Private not-for-profit, 4-year or above",
           -75.305207,
           40.007452,
           "PA"
          ],
          [
           "Hawaii Community College",
           "Public, 2-year",
           -155.06965300000005,
           19.704756,
           "HI"
          ],
          [
           "Hawaii Pacific University",
           "Private not-for-profit, 4-year or above",
           -157.859645,
           21.310306,
           "HI"
          ],
          [
           "Hawkeye Community College",
           "Public, 2-year",
           -92.330633,
           42.430003,
           "IA"
          ],
          [
           "Haywood Community College",
           "Public, 2-year",
           -82.927918,
           35.525905,
           "NC"
          ],
          [
           "Hazard Community and Technical College",
           "Public, 2-year",
           -83.17564399999998,
           37.234897,
           "KY"
          ],
          [
           "Hazelden Betty Ford Graduate School of Addiction Studies",
           "Private not-for-profit, 4-year or above",
           -92.805285,
           45.375319,
           "MN"
          ],
          [
           "Heartland Community College",
           "Public, 2-year",
           -89.014776,
           40.53301,
           "IL"
          ],
          [
           "Hebrew College",
           "Private not-for-profit, 4-year or above",
           -71.190525,
           42.3264,
           "MA"
          ],
          [
           "Hebrew Theological College",
           "Private not-for-profit, 4-year or above",
           -87.760874,
           42.010103,
           "IL"
          ],
          [
           "Hebrew Union College-Jewish Institute of Religion",
           "Private not-for-profit, 4-year or above",
           -73.994499,
           40.728938,
           "NY"
          ],
          [
           "Heidelberg University",
           "Private not-for-profit, 4-year or above",
           -83.168387,
           41.114833,
           "OH"
          ],
          [
           "Helena College University of Montana",
           "Public, 2-year",
           -112.016035,
           46.595384,
           "MT"
          ],
          [
           "Helene Fuld College of Nursing",
           "Private not-for-profit, 4-year or above",
           -73.94335600000002,
           40.802495,
           "NY"
          ],
          [
           "Hellenic College-Holy Cross Greek Orthodox School of Theology",
           "Private not-for-profit, 4-year or above",
           -71.129418,
           42.317018,
           "MA"
          ],
          [
           "Helms College",
           "Private not-for-profit, 2-year",
           -83.732678,
           32.803363,
           "GA"
          ],
          [
           "Henderson Community College",
           "Public, 2-year",
           -87.650091,
           37.797687,
           "KY"
          ],
          [
           "Henderson State University",
           "Public, 4-year or above",
           -93.059703,
           34.128155,
           "AR"
          ],
          [
           "Hendrix College",
           "Private not-for-profit, 4-year or above",
           -92.443256,
           35.101565,
           "AR"
          ],
          [
           "Hennepin Technical College",
           "Public, 2-year",
           -93.397759,
           45.09653400000001,
           "MN"
          ],
          [
           "Henry Ford College",
           "Public, 4-year or above",
           -83.236056,
           42.32463900000001,
           "MI"
          ],
          [
           "Heritage Bible College",
           "Private not-for-profit, 4-year or above",
           -78.612677,
           35.268278,
           "NC"
          ],
          [
           "Heritage Christian University",
           "Private not-for-profit, 4-year or above",
           -87.663051,
           34.856153000000006,
           "AL"
          ],
          [
           "Heritage University",
           "Private not-for-profit, 4-year or above",
           -120.394972,
           46.3748,
           "WA"
          ],
          [
           "Herkimer County Community College",
           "Public, 2-year",
           -75.00720600000002,
           43.032738,
           "NY"
          ],
          [
           "Herzing University-Akron",
           "Private not-for-profit, 4-year or above",
           -81.49310899999998,
           41.02817,
           "OH"
          ],
          [
           "Herzing University-Atlanta",
           "Private not-for-profit, 4-year or above",
           -84.361869,
           33.845128,
           "GA"
          ],
          [
           "Herzing University-Birmingham",
           "Private not-for-profit, 4-year or above",
           -86.832465,
           33.468466,
           "AL"
          ],
          [
           "Herzing University-Brookfield",
           "Private not-for-profit, 4-year or above",
           -88.115656,
           43.027347,
           "WI"
          ],
          [
           "Herzing University-Kenner",
           "Private not-for-profit, 4-year or above",
           -90.239525,
           30.001605,
           "LA"
          ],
          [
           "Herzing University-Kenosha",
           "Private not-for-profit, 4-year or above",
           -87.857452,
           42.603889,
           "WI"
          ],
          [
           "Herzing University-Madison",
           "Private not-for-profit, 4-year or above",
           -89.291561,
           43.14415,
           "WI"
          ],
          [
           "Herzing University-Minneapolis",
           "Private not-for-profit, 4-year or above",
           -93.366502,
           45.056259,
           "MN"
          ],
          [
           "Herzing University-Toledo",
           "Private not-for-profit, 4-year or above",
           -83.665453,
           41.639266,
           "OH"
          ],
          [
           "Herzing University-Winter Park",
           "Private not-for-profit, 4-year or above",
           -81.312669,
           28.615784,
           "FL"
          ],
          [
           "Hesston College",
           "Private not-for-profit, 4-year or above",
           -97.433883,
           38.134558,
           "KS"
          ],
          [
           "Hibbing Community College",
           "Public, 2-year",
           -92.921698,
           47.422361,
           "MN"
          ],
          [
           "High Point University",
           "Private not-for-profit, 4-year or above",
           -79.994675,
           35.972035,
           "NC"
          ],
          [
           "High Tech High Graduate School of Education",
           "Private not-for-profit, 4-year or above",
           -117.217661,
           32.732001000000004,
           "CA"
          ],
          [
           "Highland Community College",
           "Public, 2-year",
           -95.271539,
           39.859987,
           "KS"
          ],
          [
           "Highland Community College",
           "Public, 2-year",
           -89.67342,
           42.283344,
           "IL"
          ],
          [
           "Highlands College of Montana Tech",
           "Public, 2-year",
           -112.509365,
           45.938145,
           "MT"
          ],
          [
           "Highline College",
           "Public, 4-year or above",
           -122.303064,
           47.388231,
           "WA"
          ],
          [
           "Hilbert College",
           "Private not-for-profit, 4-year or above",
           -78.820257,
           42.75464,
           "NY"
          ],
          [
           "Hill College",
           "Public, 2-year",
           -97.088332,
           32.010928,
           "TX"
          ],
          [
           "Hillsborough Community College",
           "Public, 2-year",
           -82.456253,
           27.934888,
           "FL"
          ],
          [
           "Hillyard Technical Center",
           "Public, 2-year",
           -94.808721,
           39.768022,
           "MO"
          ],
          [
           "Hinds Community College",
           "Public, 2-year",
           -90.416118,
           32.256109,
           "MS"
          ],
          [
           "Hiram College",
           "Private not-for-profit, 4-year or above",
           -81.14398100000003,
           41.3107,
           "OH"
          ],
          [
           "Hiwassee College",
           "Private not-for-profit, 4-year or above",
           -84.36411700000002,
           35.558912,
           "TN"
          ],
          [
           "Hobart William Smith Colleges",
           "Private not-for-profit, 4-year or above",
           -76.985516,
           42.858131,
           "NY"
          ],
          [
           "Hobe Sound Bible College",
           "Private not-for-profit, 4-year or above",
           -80.13184,
           27.066304,
           "FL"
          ],
          [
           "Hocking College",
           "Public, 2-year",
           -82.220791,
           39.441954,
           "OH"
          ],
          [
           "Hodges University",
           "Private not-for-profit, 4-year or above",
           -81.738388,
           26.27591,
           "FL"
          ],
          [
           "Hofstra University",
           "Private not-for-profit, 4-year or above",
           -73.60078,
           40.71595900000001,
           "NY"
          ],
          [
           "Hollins University",
           "Private not-for-profit, 4-year or above",
           -79.943277,
           37.354201,
           "VA"
          ],
          [
           "Holmes Community College",
           "Public, 2-year",
           -89.915803,
           32.969985,
           "MS"
          ],
          [
           "Holy Apostles College and Seminary",
           "Private not-for-profit, 4-year or above",
           -72.647853,
           41.60682,
           "CT"
          ],
          [
           "Holy Cross College",
           "Private not-for-profit, 4-year or above",
           -86.253822,
           41.698996,
           "IN"
          ],
          [
           "Holy Family University",
           "Private not-for-profit, 4-year or above",
           -74.986451,
           40.060581,
           "PA"
          ],
          [
           "Holy Name Medical Center School of Nursing",
           "Private not-for-profit, 2-year",
           -74.01074799999998,
           40.883076,
           "NJ"
          ],
          [
           "Holy Names University",
           "Private not-for-profit, 4-year or above",
           -122.187804,
           37.802276,
           "CA"
          ],
          [
           "Holyoke Community College",
           "Public, 2-year",
           -72.651252,
           42.194781,
           "MA"
          ],
          [
           "Homestead Schools",
           "Private not-for-profit, 4-year or above",
           -118.35009,
           33.809096000000004,
           "CA"
          ],
          [
           "Honolulu Community College",
           "Public, 2-year",
           -157.87,
           21.321785,
           "HI"
          ],
          [
           "Hood College",
           "Private not-for-profit, 4-year or above",
           -77.419049,
           39.420631,
           "MD"
          ],
          [
           "Hood Theological Seminary",
           "Private not-for-profit, 4-year or above",
           -80.480643,
           35.64460300000001,
           "NC"
          ],
          [
           "Hope College",
           "Private not-for-profit, 4-year or above",
           -86.102089,
           42.787298,
           "MI"
          ],
          [
           "Hope International University",
           "Private not-for-profit, 4-year or above",
           -117.88573,
           33.87616,
           "CA"
          ],
          [
           "Hopkinsville Community College",
           "Public, 2-year",
           -87.488297,
           36.882654,
           "KY"
          ],
          [
           "Horizon University",
           "Private not-for-profit, 4-year or above",
           -85.986809,
           39.894654,
           "IN"
          ],
          [
           "Horry-Georgetown Technical College",
           "Public, 2-year",
           -79.00361099999998,
           33.79614,
           "SC"
          ],
          [
           "Houghton College",
           "Private not-for-profit, 4-year or above",
           -78.155426,
           42.426137,
           "NY"
          ],
          [
           "Housatonic Community College",
           "Public, 2-year",
           -73.19100300000002,
           41.175228,
           "CT"
          ],
          [
           "Houston Baptist University",
           "Private not-for-profit, 4-year or above",
           -95.515954,
           29.693819,
           "TX"
          ],
          [
           "Houston Community College",
           "Public, 2-year",
           -95.376524,
           29.737303000000004,
           "TX"
          ],
          [
           "Houston Graduate School of Theology",
           "Private not-for-profit, 4-year or above",
           -95.448846,
           29.673594,
           "TX"
          ],
          [
           "Howard College",
           "Public, 2-year",
           -101.450113,
           32.252298,
           "TX"
          ],
          [
           "Howard Community College",
           "Public, 2-year",
           -76.877964,
           39.213636,
           "MD"
          ],
          [
           "Howard Payne University",
           "Private not-for-profit, 4-year or above",
           -98.985204,
           31.716467,
           "TX"
          ],
          [
           "Howard University",
           "Private not-for-profit, 4-year or above",
           -77.018966,
           38.922392,
           "DC"
          ],
          [
           "Howell Cheney THS/CT Aero Tech School",
           "Public, 2-year",
           -72.652599,
           41.735077,
           "CT"
          ],
          [
           "Hudson County Community College",
           "Public, 2-year",
           -74.062903,
           40.7303,
           "NJ"
          ],
          [
           "Hudson Valley Community College",
           "Public, 2-year",
           -73.683734,
           42.696509000000006,
           "NY"
          ],
          [
           "Hult International Business School",
           "Private not-for-profit, 4-year or above",
           -71.070645,
           42.369968,
           "MA"
          ],
          [
           "Humboldt State University",
           "Public, 4-year or above",
           -124.078293,
           40.877481,
           "CA"
          ],
          [
           "Humphreys University-Stockton and Modesto Campuses",
           "Private not-for-profit, 4-year or above",
           -121.316401,
           38.011051,
           "CA"
          ],
          [
           "Huntingdon College",
           "Private not-for-profit, 4-year or above",
           -86.284366,
           32.35103400000001,
           "AL"
          ],
          [
           "Huntington University",
           "Private not-for-profit, 4-year or above",
           -85.49731700000002,
           40.898152,
           "IN"
          ],
          [
           "Huntsville Bible College",
           "Private not-for-profit, 4-year or above",
           -86.594888,
           34.750363,
           "AL"
          ],
          [
           "Husson University",
           "Private not-for-profit, 4-year or above",
           -68.791476,
           44.829002,
           "ME"
          ],
          [
           "Huston-Tillotson University",
           "Private not-for-profit, 4-year or above",
           -97.721698,
           30.264672,
           "TX"
          ],
          [
           "Hutchinson Community College",
           "Public, 2-year",
           -97.92135,
           38.068035,
           "KS"
          ],
          [
           "Icahn School of Medicine at Mount Sinai",
           "Private not-for-profit, 4-year or above",
           -73.952812,
           40.790063,
           "NY"
          ],
          [
           "Idaho State University",
           "Public, 4-year or above",
           -112.432312,
           42.863832,
           "ID"
          ],
          [
           "Iliff School of Theology",
           "Private not-for-profit, 4-year or above",
           -104.960657,
           39.675927,
           "CO"
          ],
          [
           "Ilisagvik College",
           "Public, 4-year or above",
           -156.679486,
           71.324702,
           "AK"
          ],
          [
           "Illinois Central College",
           "Public, 2-year",
           -89.52485,
           40.707235,
           "IL"
          ],
          [
           "Illinois College",
           "Private not-for-profit, 4-year or above",
           -90.246171,
           39.7313,
           "IL"
          ],
          [
           "Illinois College of Optometry",
           "Private not-for-profit, 4-year or above",
           -87.623016,
           41.835447,
           "IL"
          ],
          [
           "Illinois Institute of Technology",
           "Private not-for-profit, 4-year or above",
           -87.627321,
           41.8313,
           "IL"
          ],
          [
           "Illinois State University",
           "Public, 4-year or above",
           -88.99005799999998,
           40.509403000000006,
           "IL"
          ],
          [
           "Illinois Valley Community College",
           "Public, 2-year",
           -89.100887,
           41.30744,
           "IL"
          ],
          [
           "Illinois Wesleyan University",
           "Private not-for-profit, 4-year or above",
           -88.992014,
           40.489901,
           "IL"
          ],
          [
           "Immaculata University",
           "Private not-for-profit, 4-year or above",
           -75.570711,
           40.027981,
           "PA"
          ],
          [
           "Immokalee Technical College",
           "Public, 2-year",
           -81.425148,
           26.426526000000006,
           "FL"
          ],
          [
           "Imperial Valley College",
           "Public, 2-year",
           -115.503903,
           32.827563,
           "CA"
          ],
          [
           "Independence Community College",
           "Public, 2-year",
           -95.720518,
           37.195614,
           "KS"
          ],
          [
           "Independence University",
           "Private not-for-profit, 4-year or above",
           -112.011508,
           41.232785,
           "UT"
          ],
          [
           "Indian Capital Technology Center-Muskogee",
           "Public, 2-year",
           -95.311895,
           35.774921,
           "OK"
          ],
          [
           "Indian Capital Technology Center-Tahlequah",
           "Public, 2-year",
           -94.991469,
           35.920192,
           "OK"
          ],
          [
           "Indian Hills Community College",
           "Public, 2-year",
           -92.394736,
           41.045105,
           "IA"
          ],
          [
           "Indian River State College",
           "Public, 4-year or above",
           -80.358682,
           27.42416,
           "FL"
          ],
          [
           "Indiana Institute of Technology",
           "Private not-for-profit, 4-year or above",
           -85.116479,
           41.07836500000001,
           "IN"
          ],
          [
           "Indiana State University",
           "Public, 4-year or above",
           -87.40784599999998,
           39.469073,
           "IN"
          ],
          [
           "Indiana University of Pennsylvania-Main Campus",
           "Public, 4-year or above",
           -79.15933199999998,
           40.617531,
           "PA"
          ],
          [
           "Indiana University-Bloomington",
           "Public, 4-year or above",
           -86.52655899999998,
           39.16609,
           "IN"
          ],
          [
           "Indiana University-East",
           "Public, 4-year or above",
           -84.881923,
           39.868707,
           "IN"
          ],
          [
           "Indiana University-Kokomo",
           "Public, 4-year or above",
           -86.132048,
           40.460062,
           "IN"
          ],
          [
           "Indiana University-Northwest",
           "Public, 4-year or above",
           -87.337249,
           41.557324,
           "IN"
          ],
          [
           "Indiana University-Purdue University-Fort Wayne",
           "Public, 4-year or above",
           -85.108962,
           41.117278000000006,
           "IN"
          ],
          [
           "Indiana University-Purdue University-Indianapolis",
           "Public, 4-year or above",
           -86.172217,
           39.772948,
           "IN"
          ],
          [
           "Indiana University-South Bend",
           "Public, 4-year or above",
           -86.221991,
           41.665324,
           "IN"
          ],
          [
           "Indiana University-Southeast",
           "Public, 4-year or above",
           -85.819985,
           38.345191,
           "IN"
          ],
          [
           "Indiana Wesleyan University-Marion",
           "Private not-for-profit, 4-year or above",
           -85.667503,
           40.517937,
           "IN"
          ],
          [
           "Indiana Wesleyan University-National & Global",
           "Private not-for-profit, 4-year or above",
           -85.67764100000002,
           40.510655,
           "IN"
          ],
          [
           "Institute for Clinical Social Work",
           "Private not-for-profit, 4-year or above",
           -87.627217,
           41.876064,
           "IL"
          ],
          [
           "Institute for Doctoral Studies in the Visual Arts",
           "Private not-for-profit, 4-year or above",
           -70.272161,
           43.65405,
           "ME"
          ],
          [
           "Institute of American Indian and Alaska Native Culture and Arts Development",
           "Public, 4-year or above",
           -106.010015,
           35.586563,
           "NM"
          ],
          [
           "Institute of Taoist Education and Acupuncture",
           "Private not-for-profit, 4-year or above",
           -105.139444,
           39.987288,
           "CO"
          ],
          [
           "Institute of World Politics",
           "Private not-for-profit, 4-year or above",
           -77.036112,
           38.910537,
           "DC"
          ],
          [
           "Interdenominational Theological Center",
           "Private not-for-profit, 4-year or above",
           -84.409207,
           33.752338,
           "GA"
          ],
          [
           "International Baptist College and Seminary",
           "Private not-for-profit, 4-year or above",
           -111.879629,
           33.273788,
           "AZ"
          ],
          [
           "International Yacht Restoration School",
           "Private not-for-profit, 2-year",
           -71.314724,
           41.480948,
           "RI"
          ],
          [
           "Inver Hills Community College",
           "Public, 2-year",
           -93.055255,
           44.828599,
           "MN"
          ],
          [
           "Iona College",
           "Private not-for-profit, 4-year or above",
           -73.788046,
           40.925725,
           "NY"
          ],
          [
           "Iowa Central Community College",
           "Public, 2-year",
           -94.20299,
           42.490067,
           "IA"
          ],
          [
           "Iowa Lakes Community College",
           "Public, 2-year",
           -94.817142,
           43.397996,
           "IA"
          ],
          [
           "Iowa State University",
           "Public, 4-year or above",
           -93.648504,
           42.026212,
           "IA"
          ],
          [
           "Iowa Wesleyan University",
           "Private not-for-profit, 4-year or above",
           -91.552459,
           40.973791,
           "IA"
          ],
          [
           "Iowa Western Community College",
           "Public, 2-year",
           -95.797975,
           41.272168,
           "IA"
          ],
          [
           "Irvine Valley College",
           "Public, 2-year",
           -117.777539,
           33.675381,
           "CA"
          ],
          [
           "Isothermal Community College",
           "Public, 2-year",
           -81.911857,
           35.336728,
           "NC"
          ],
          [
           "Itasca Community College",
           "Public, 2-year",
           -93.49555,
           47.241919,
           "MN"
          ],
          [
           "Itawamba Community College",
           "Public, 2-year",
           -88.41207299999998,
           34.276519,
           "MS"
          ],
          [
           "Ithaca College",
           "Private not-for-profit, 4-year or above",
           -76.494136,
           42.422154,
           "NY"
          ],
          [
           "Ivy Tech Community College",
           "Public, 2-year",
           -86.158213,
           39.803753,
           "IN"
          ],
          [
           "J F Ingram State Technical College",
           "Public, 2-year",
           -86.39236899999999,
           32.582312,
           "AL"
          ],
          [
           "J Sargeant Reynolds Community College",
           "Public, 2-year",
           -77.47391800000003,
           37.636837,
           "VA"
          ],
          [
           "J. F. Drake State Community and Technical College",
           "Public, 2-year",
           -86.572885,
           34.771858,
           "AL"
          ],
          [
           "Jackson College",
           "Public, 4-year or above",
           -84.403942,
           42.16483,
           "MI"
          ],
          [
           "Jackson State Community College",
           "Public, 2-year",
           -88.78210200000002,
           35.645629,
           "TN"
          ],
          [
           "Jackson State University",
           "Public, 4-year or above",
           -90.207405,
           32.296105,
           "MS"
          ],
          [
           "Jacksonville College-Main Campus",
           "Private not-for-profit, 2-year",
           -95.281249,
           31.966072,
           "TX"
          ],
          [
           "Jacksonville State University",
           "Public, 4-year or above",
           -85.765321,
           33.822938,
           "AL"
          ],
          [
           "Jacksonville University",
           "Private not-for-profit, 4-year or above",
           -81.60458,
           30.353227,
           "FL"
          ],
          [
           "James A Rhodes State College",
           "Public, 2-year",
           -84.026319,
           40.738347,
           "OH"
          ],
          [
           "James Madison University",
           "Public, 4-year or above",
           -78.87048399999998,
           38.436311,
           "VA"
          ],
          [
           "James Sprunt Community College",
           "Public, 2-year",
           -77.977639,
           34.946802000000005,
           "NC"
          ],
          [
           "Jameson Health System",
           "Private not-for-profit, 2-year",
           -80.351833,
           41.013576,
           "PA"
          ],
          [
           "Jamestown Community College",
           "Public, 2-year",
           -79.218967,
           42.1146,
           "NY"
          ],
          [
           "Jarvis Christian College",
           "Private not-for-profit, 4-year or above",
           -95.181513,
           32.587942,
           "TX"
          ],
          [
           "Jefferson (Philadelphia University + Thomas Jefferson University)",
           "Private not-for-profit, 4-year or above",
           -75.192645,
           40.022882,
           "PA"
          ],
          [
           "Jefferson College",
           "Public, 2-year",
           -90.558954,
           38.259889,
           "MO"
          ],
          [
           "Jefferson College of Health Sciences",
           "Private not-for-profit, 4-year or above",
           -79.939574,
           37.265985,
           "VA"
          ],
          [
           "Jefferson Community and Technical College",
           "Public, 2-year",
           -85.753615,
           38.24602700000001,
           "KY"
          ],
          [
           "Jefferson Community College",
           "Public, 2-year",
           -75.935051,
           43.992827,
           "NY"
          ],
          [
           "Jefferson Davis Community College",
           "Public, 2-year",
           -87.08534,
           31.101254,
           "AL"
          ],
          [
           "Jefferson Regional Medical Center School of Nursing",
           "Private not-for-profit, 2-year",
           -92.018045,
           34.187831,
           "AR"
          ],
          [
           "Jefferson State Community College",
           "Public, 2-year",
           -86.707233,
           33.652535,
           "AL"
          ],
          [
           "Jewish Theological Seminary of America",
           "Private not-for-profit, 4-year or above",
           -73.96058199999997,
           40.811892,
           "NY"
          ],
          [
           "JFK Muhlenberg Harold B & Dorothy A Snyder Schools-School of Nursing",
           "Private not-for-profit, 2-year",
           -74.40429300000002,
           40.605982,
           "NJ"
          ],
          [
           "John A Gupton College",
           "Private not-for-profit, 2-year",
           -86.7948,
           36.156603,
           "TN"
          ],
          [
           "John A Logan College",
           "Public, 2-year",
           -89.09021,
           37.747453,
           "IL"
          ],
          [
           "John Brown University",
           "Private not-for-profit, 4-year or above",
           -94.560283,
           36.189812,
           "AR"
          ],
          [
           "John C Calhoun State Community College",
           "Public, 2-year",
           -86.949674,
           34.645844,
           "AL"
          ],
          [
           "John Carroll University",
           "Private not-for-profit, 4-year or above",
           -81.531338,
           41.491321,
           "OH"
          ],
          [
           "John F. Kennedy University",
           "Private not-for-profit, 4-year or above",
           -122.054761,
           37.956616,
           "CA"
          ],
          [
           "John Paul the Great Catholic University",
           "Private not-for-profit, 4-year or above",
           -117.082401,
           33.12085,
           "CA"
          ],
          [
           "John Tyler Community College",
           "Public, 2-year",
           -77.40791899999998,
           37.346254,
           "VA"
          ],
          [
           "John Wesley University",
           "Private not-for-profit, 4-year or above",
           -79.998419,
           35.994259,
           "NC"
          ],
          [
           "John Wood Community College",
           "Public, 2-year",
           -91.335828,
           39.913741,
           "IL"
          ],
          [
           "Johns Hopkins University",
           "Private not-for-profit, 4-year or above",
           -76.621595,
           39.328977,
           "MD"
          ],
          [
           "Johnson & Wales University-Charlotte",
           "Private not-for-profit, 4-year or above",
           -80.851208,
           35.233502,
           "NC"
          ],
          [
           "Johnson & Wales University-Denver",
           "Private not-for-profit, 4-year or above",
           -104.906281,
           39.746101,
           "CO"
          ],
          [
           "Johnson & Wales University-North Miami",
           "Private not-for-profit, 4-year or above",
           -80.164797,
           25.894337,
           "FL"
          ],
          [
           "Johnson & Wales University-Online",
           "Private not-for-profit, 4-year or above",
           -71.41277,
           41.819956,
           "RI"
          ],
          [
           "Johnson & Wales University-Providence",
           "Private not-for-profit, 4-year or above",
           -71.41277,
           41.819956,
           "RI"
          ],
          [
           "Johnson C Smith University",
           "Private not-for-profit, 4-year or above",
           -80.857251,
           35.24303300000001,
           "NC"
          ],
          [
           "Johnson College",
           "Private not-for-profit, 2-year",
           -75.642476,
           41.450409,
           "PA"
          ],
          [
           "Johnson County Community College",
           "Public, 2-year",
           -94.727798,
           38.924125,
           "KS"
          ],
          [
           "Johnson State College",
           "Public, 4-year or above",
           -72.671154,
           44.641736,
           "VT"
          ],
          [
           "Johnson University",
           "Private not-for-profit, 4-year or above",
           -83.750336,
           35.93715200000001,
           "TN"
          ],
          [
           "Johnson University Florida",
           "Private not-for-profit, 4-year or above",
           -81.36305300000002,
           28.302547,
           "FL"
          ],
          [
           "Johnston Community College",
           "Public, 2-year",
           -78.332293,
           35.501418,
           "NC"
          ],
          [
           "Joliet Junior College",
           "Public, 2-year",
           -88.18098499999998,
           41.500535,
           "IL"
          ],
          [
           "Jones County Junior College",
           "Public, 2-year",
           -89.20089499999997,
           31.596936,
           "MS"
          ],
          [
           "Joseph F McCloskey School of Nursing at Schuylkill Health",
           "Private not-for-profit, 2-year",
           -76.189164,
           40.683923,
           "PA"
          ],
          [
           "Judson College",
           "Private not-for-profit, 4-year or above",
           -87.315206,
           32.62925300000001,
           "AL"
          ],
          [
           "Judson University",
           "Private not-for-profit, 4-year or above",
           -88.291336,
           42.061754,
           "IL"
          ],
          [
           "Jung Tao School of Classical Chinese Medicine",
           "Private not-for-profit, 4-year or above",
           -81.785303,
           36.263233,
           "NC"
          ],
          [
           "Juniata College",
           "Private not-for-profit, 4-year or above",
           -78.017292,
           40.500523,
           "PA"
          ],
          [
           "Kalamazoo College",
           "Private not-for-profit, 4-year or above",
           -85.601857,
           42.290789,
           "MI"
          ],
          [
           "Kalamazoo Valley Community College",
           "Public, 2-year",
           -85.682144,
           42.225948,
           "MI"
          ],
          [
           "Kankakee Community College",
           "Public, 2-year",
           -87.851047,
           41.098178,
           "IL"
          ],
          [
           "Kansas Christian College",
           "Private not-for-profit, 4-year or above",
           -94.666878,
           38.994848,
           "KS"
          ],
          [
           "Kansas City Art Institute",
           "Private not-for-profit, 4-year or above",
           -94.583594,
           39.046353,
           "MO"
          ],
          [
           "Kansas City Kansas Community College",
           "Public, 2-year",
           -94.748061,
           39.121911,
           "KS"
          ],
          [
           "Kansas City University of Medicine and Biosciences",
           "Private not-for-profit, 4-year or above",
           -94.561374,
           39.107553,
           "MO"
          ],
          [
           "Kansas City University of Medicine and Biosciences-Joplin",
           "Private not-for-profit, 4-year or above",
           -94.527028,
           37.057686,
           "MO"
          ],
          [
           "Kansas State University",
           "Public, 4-year or above",
           -96.581077,
           39.188648,
           "KS"
          ],
          [
           "Kansas Wesleyan University",
           "Private not-for-profit, 4-year or above",
           -97.607973,
           38.813795,
           "KS"
          ],
          [
           "Kapiolani Community College",
           "Public, 2-year",
           -157.800213,
           21.27148,
           "HI"
          ],
          [
           "Kaskaskia College",
           "Public, 2-year",
           -89.191974,
           38.562112,
           "IL"
          ],
          [
           "Kauai Community College",
           "Public, 2-year",
           -159.395883,
           21.968887,
           "HI"
          ],
          [
           "Kean University",
           "Public, 4-year or above",
           -74.233503,
           40.677981,
           "NJ"
          ],
          [
           "Keck Graduate Institute",
           "Private not-for-profit, 4-year or above",
           -117.72351,
           34.093329,
           "CA"
          ],
          [
           "Keene State College",
           "Public, 4-year or above",
           -72.279276,
           42.92645200000001,
           "NH"
          ],
          [
           "Kehilath Yakov Rabbinical Seminary",
           "Private not-for-profit, 4-year or above",
           -73.814887,
           41.22052100000001,
           "NY"
          ],
          [
           "Keiser University-Ft Lauderdale",
           "Private not-for-profit, 4-year or above",
           -80.16395899999998,
           26.185869,
           "FL"
          ],
          [
           "Kellogg Community College",
           "Public, 2-year",
           -85.177329,
           42.335638,
           "MI"
          ],
          [
           "Kennebec Valley Community College",
           "Public, 2-year",
           -69.61157,
           44.594149,
           "ME"
          ],
          [
           "Kennesaw State University",
           "Public, 4-year or above",
           -84.583052,
           34.038807,
           "GA"
          ],
          [
           "Kenrick Glennon Seminary",
           "Private not-for-profit, 4-year or above",
           -90.324024,
           38.584608,
           "MO"
          ],
          [
           "Kent State University at Ashtabula",
           "Public, 4-year or above",
           -80.830377,
           41.888296,
           "OH"
          ],
          [
           "Kent State University at East Liverpool",
           "Public, 4-year or above",
           -80.576702,
           40.616966,
           "OH"
          ],
          [
           "Kent State University at Geauga",
           "Public, 4-year or above",
           -81.143085,
           41.483727,
           "OH"
          ],
          [
           "Kent State University at Kent",
           "Public, 4-year or above",
           -81.34253299999997,
           41.146653,
           "OH"
          ],
          [
           "Kent State University at Salem",
           "Public, 4-year or above",
           -80.835458,
           40.86408,
           "OH"
          ],
          [
           "Kent State University at Stark",
           "Public, 4-year or above",
           -81.43731,
           40.868568,
           "OH"
          ],
          [
           "Kent State University at Trumbull",
           "Public, 4-year or above",
           -80.836233,
           41.278748,
           "OH"
          ],
          [
           "Kent State University at Tuscarawas",
           "Public, 4-year or above",
           -81.40770699999999,
           40.467736,
           "OH"
          ],
          [
           "Kentucky Christian University",
           "Private not-for-profit, 4-year or above",
           -82.945561,
           38.338805,
           "KY"
          ],
          [
           "Kentucky Mountain Bible College",
           "Private not-for-profit, 4-year or above",
           -83.438765,
           37.603443,
           "KY"
          ],
          [
           "Kentucky State University",
           "Public, 4-year or above",
           -84.855402,
           38.201427,
           "KY"
          ],
          [
           "Kentucky Wesleyan College",
           "Private not-for-profit, 4-year or above",
           -87.119658,
           37.744489,
           "KY"
          ],
          [
           "Kenyon College",
           "Private not-for-profit, 4-year or above",
           -82.397977,
           40.374408,
           "OH"
          ],
          [
           "Kettering College",
           "Private not-for-profit, 4-year or above",
           -84.192006,
           39.695052,
           "OH"
          ],
          [
           "Kettering University",
           "Private not-for-profit, 4-year or above",
           -83.71282,
           43.012468,
           "MI"
          ],
          [
           "Keuka College",
           "Private not-for-profit, 4-year or above",
           -77.090562,
           42.615253,
           "NY"
          ],
          [
           "Keweenaw Bay Ojibwa Community College",
           "Public, 2-year",
           -88.507761,
           46.782535,
           "MI"
          ],
          [
           "Keystone College",
           "Private not-for-profit, 4-year or above",
           -75.777456,
           41.558969,
           "PA"
          ],
          [
           "Kiamichi Technology Center-Durant",
           "Public, 2-year",
           -96.406143,
           33.945957,
           "OK"
          ],
          [
           "Kilgore College",
           "Public, 2-year",
           -94.871468,
           32.377821000000004,
           "TX"
          ],
          [
           "King University",
           "Private not-for-profit, 4-year or above",
           -82.159421,
           36.585309,
           "TN"
          ],
          [
           "King's College",
           "Private not-for-profit, 4-year or above",
           -75.87982199999998,
           41.250097,
           "PA"
          ],
          [
           "Kirkwood Community College",
           "Public, 2-year",
           -91.651172,
           41.911268,
           "IA"
          ],
          [
           "Kirtland Community College",
           "Public, 2-year",
           -84.413388,
           44.49075300000001,
           "MI"
          ],
          [
           "Kishwaukee College",
           "Public, 2-year",
           -88.880524,
           41.938234,
           "IL"
          ],
          [
           "Klamath Community College",
           "Public, 2-year",
           -121.698855,
           42.195028,
           "OR"
          ],
          [
           "Knox College",
           "Private not-for-profit, 4-year or above",
           -90.373165,
           40.943064,
           "IL"
          ],
          [
           "Kutztown University of Pennsylvania",
           "Public, 4-year or above",
           -75.78393299999998,
           40.513561,
           "PA"
          ],
          [
           "Kuyper College",
           "Private not-for-profit, 4-year or above",
           -85.59265699999997,
           43.02195,
           "MI"
          ],
          [
           "La Roche College",
           "Private not-for-profit, 4-year or above",
           -80.01485100000002,
           40.568615,
           "PA"
          ],
          [
           "La Salle University",
           "Private not-for-profit, 4-year or above",
           -75.153061,
           40.037979,
           "PA"
          ],
          [
           "La Sierra University",
           "Private not-for-profit, 4-year or above",
           -117.500054,
           33.910704,
           "CA"
          ],
          [
           "Labette Community College",
           "Public, 2-year",
           -95.255368,
           37.339062,
           "KS"
          ],
          [
           "Laboure College",
           "Private not-for-profit, 4-year or above",
           -71.058279,
           42.260866,
           "MA"
          ],
          [
           "Lac Courte Oreilles Ojibwa Community College",
           "Public, 2-year",
           -91.365002,
           45.942252,
           "WI"
          ],
          [
           "Lackawanna College",
           "Private not-for-profit, 4-year or above",
           -75.658963,
           41.411556,
           "PA"
          ],
          [
           "Lafayette College",
           "Private not-for-profit, 4-year or above",
           -75.209786,
           40.69956,
           "PA"
          ],
          [
           "LaGrange College",
           "Private not-for-profit, 4-year or above",
           -85.043113,
           33.038564,
           "GA"
          ],
          [
           "Laguna College of Art and Design",
           "Private not-for-profit, 4-year or above",
           -117.772564,
           33.561448,
           "CA"
          ],
          [
           "Lake Area Technical Institute",
           "Public, 2-year",
           -97.095229,
           44.901714,
           "SD"
          ],
          [
           "Lake Erie College",
           "Private not-for-profit, 4-year or above",
           -81.251817,
           41.717841,
           "OH"
          ],
          [
           "Lake Erie College of Osteopathic Medicine",
           "Private not-for-profit, 4-year or above",
           -80.10596899999999,
           42.080699,
           "PA"
          ],
          [
           "Lake Forest College",
           "Private not-for-profit, 4-year or above",
           -87.827454,
           42.249574,
           "IL"
          ],
          [
           "Lake Forest Graduate School of Management",
           "Private not-for-profit, 4-year or above",
           -87.893204,
           42.243432,
           "IL"
          ],
          [
           "Lake Land College",
           "Public, 2-year",
           -88.380835,
           39.416969,
           "IL"
          ],
          [
           "Lake Michigan College",
           "Public, 4-year or above",
           -86.393445,
           42.097276,
           "MI"
          ],
          [
           "Lake Region State College",
           "Public, 2-year",
           -98.869034,
           48.127948,
           "ND"
          ],
          [
           "Lake Superior College",
           "Public, 2-year",
           -92.145151,
           46.78455,
           "MN"
          ],
          [
           "Lake Superior State University",
           "Public, 4-year or above",
           -84.365573,
           46.492849,
           "MI"
          ],
          [
           "Lake Tahoe Community College",
           "Public, 2-year",
           -119.972574,
           38.926797,
           "CA"
          ],
          [
           "Lake Washington Institute of Technology",
           "Public, 4-year or above",
           -122.167131,
           47.705077,
           "WA"
          ],
          [
           "Lake-Sumter State College",
           "Public, 4-year or above",
           -81.79719300000002,
           28.828649,
           "FL"
          ],
          [
           "Lakeland Community College",
           "Public, 2-year",
           -81.364723,
           41.637463,
           "OH"
          ],
          [
           "Lakeland University",
           "Private not-for-profit, 4-year or above",
           -87.883414,
           43.841573,
           "WI"
          ],
          [
           "Lakes Region Community College",
           "Public, 2-year",
           -71.462602,
           43.507568,
           "NH"
          ],
          [
           "Lakeshore Technical College",
           "Public, 2-year",
           -87.75454,
           43.924774,
           "WI"
          ],
          [
           "Lakeview College of Nursing",
           "Private not-for-profit, 4-year or above",
           -87.644379,
           40.13855,
           "IL"
          ],
          [
           "Lamar Community College",
           "Public, 2-year",
           -102.616144,
           38.068886,
           "CO"
          ],
          [
           "Lamar Institute of Technology",
           "Public, 2-year",
           -94.077126,
           30.047885,
           "TX"
          ],
          [
           "Lamar State College-Orange",
           "Public, 2-year",
           -93.732235,
           30.0922,
           "TX"
          ],
          [
           "Lamar State College-Port Arthur",
           "Public, 2-year",
           -93.925514,
           29.880903000000004,
           "TX"
          ],
          [
           "Lamar University",
           "Public, 4-year or above",
           -94.072244,
           30.042738,
           "TX"
          ],
          [
           "Lancaster Bible College",
           "Private not-for-profit, 4-year or above",
           -76.287761,
           40.075347,
           "PA"
          ],
          [
           "Lancaster County Career and Technology Center",
           "Public, 2-year",
           -76.266186,
           39.984811,
           "PA"
          ],
          [
           "Lancaster Theological Seminary",
           "Private not-for-profit, 4-year or above",
           -76.317631,
           40.045235,
           "PA"
          ],
          [
           "Lander University",
           "Public, 4-year or above",
           -82.164736,
           34.199892,
           "SC"
          ],
          [
           "Landmark College",
           "Private not-for-profit, 4-year or above",
           -72.51254899999998,
           42.977172,
           "VT"
          ],
          [
           "Lane College",
           "Private not-for-profit, 4-year or above",
           -88.806535,
           35.627378,
           "TN"
          ],
          [
           "Lane Community College",
           "Public, 2-year",
           -123.032644,
           44.009325,
           "OR"
          ],
          [
           "Laney College",
           "Public, 2-year",
           -122.262434,
           37.796205,
           "CA"
          ],
          [
           "Langston University",
           "Public, 4-year or above",
           -97.260317,
           35.943982,
           "OK"
          ],
          [
           "Lanier Technical College",
           "Public, 2-year",
           -83.864094,
           34.235819,
           "GA"
          ],
          [
           "Lansing Community College",
           "Public, 2-year",
           -84.553315,
           42.737719,
           "MI"
          ],
          [
           "Laramie County Community College",
           "Public, 2-year",
           -104.778789,
           41.104288,
           "WY"
          ],
          [
           "Laredo Community College",
           "Public, 2-year",
           -99.520772,
           27.506477,
           "TX"
          ],
          [
           "Las Positas College",
           "Public, 2-year",
           -121.80058,
           37.710873,
           "CA"
          ],
          [
           "Lasell College",
           "Private not-for-profit, 4-year or above",
           -71.24347,
           42.342148,
           "MA"
          ],
          [
           "Lassen Community College",
           "Public, 2-year",
           -120.631169,
           40.431327,
           "CA"
          ],
          [
           "Lawrence Memorial Hospital School of Nursing",
           "Private not-for-profit, 2-year",
           -71.110958,
           42.42581,
           "MA"
          ],
          [
           "Lawrence Technological University",
           "Private not-for-profit, 4-year or above",
           -83.25003000000002,
           42.474072,
           "MI"
          ],
          [
           "Lawrence University",
           "Private not-for-profit, 4-year or above",
           -88.39782199999998,
           44.261323,
           "WI"
          ],
          [
           "Lawson State Community College-Birmingham Campus",
           "Public, 2-year",
           -86.88884399999998,
           33.450814,
           "AL"
          ],
          [
           "LDS Business College",
           "Private not-for-profit, 2-year",
           -111.9002,
           40.77113,
           "UT"
          ],
          [
           "Le Moyne College",
           "Private not-for-profit, 4-year or above",
           -76.090435,
           43.049192,
           "NY"
          ],
          [
           "Le Moyne-Owen College",
           "Private not-for-profit, 4-year or above",
           -90.034101,
           35.118641,
           "TN"
          ],
          [
           "Lebanon Valley College",
           "Private not-for-profit, 4-year or above",
           -76.514431,
           40.330604,
           "PA"
          ],
          [
           "Lee College",
           "Public, 2-year",
           -94.976724,
           29.731654,
           "TX"
          ],
          [
           "Lee University",
           "Private not-for-profit, 4-year or above",
           -84.870018,
           35.166166,
           "TN"
          ],
          [
           "Leech Lake Tribal College",
           "Public, 2-year",
           -94.651563,
           47.395686,
           "MN"
          ],
          [
           "Lees-McRae College",
           "Private not-for-profit, 4-year or above",
           -81.87337099999998,
           36.162477,
           "NC"
          ],
          [
           "Leeward Community College",
           "Public, 2-year",
           -157.983771,
           21.392670000000006,
           "HI"
          ],
          [
           "Lehigh Carbon Community College",
           "Public, 2-year",
           -75.610715,
           40.66474,
           "PA"
          ],
          [
           "Lehigh University",
           "Private not-for-profit, 4-year or above",
           -75.380236,
           40.606822,
           "PA"
          ],
          [
           "Lenoir Community College",
           "Public, 2-year",
           -77.57153199999998,
           35.23440499999999,
           "NC"
          ],
          [
           "Lenoir-Rhyne University",
           "Private not-for-profit, 4-year or above",
           -81.327598,
           35.739968,
           "NC"
          ],
          [
           "Lesley University",
           "Private not-for-profit, 4-year or above",
           -71.117303,
           42.38012,
           "MA"
          ],
          [
           "LeTourneau University",
           "Private not-for-profit, 4-year or above",
           -94.72726,
           32.467658,
           "TX"
          ],
          [
           "Lewis & Clark College",
           "Private not-for-profit, 4-year or above",
           -122.669137,
           45.450882,
           "OR"
          ],
          [
           "Lewis and Clark Community College",
           "Public, 2-year",
           -90.194405,
           38.951624,
           "IL"
          ],
          [
           "Lewis University",
           "Private not-for-profit, 4-year or above",
           -88.079032,
           41.605432,
           "IL"
          ],
          [
           "Lewis-Clark State College",
           "Public, 4-year or above",
           -117.024875,
           46.412199,
           "ID"
          ],
          [
           "Lexington Theological Seminary",
           "Private not-for-profit, 4-year or above",
           -84.52607900000002,
           37.996332,
           "KY"
          ],
          [
           "Liberty University",
           "Private not-for-profit, 4-year or above",
           -79.18222,
           37.350232,
           "VA"
          ],
          [
           "Life Chiropractic College West",
           "Private not-for-profit, 4-year or above",
           -122.117619,
           37.638099,
           "CA"
          ],
          [
           "Life Pacific College",
           "Private not-for-profit, 4-year or above",
           -117.829388,
           34.098704999999995,
           "CA"
          ],
          [
           "Life University",
           "Private not-for-profit, 4-year or above",
           -84.514729,
           33.932781,
           "GA"
          ],
          [
           "Limestone College",
           "Private not-for-profit, 4-year or above",
           -81.64916099999998,
           35.057076,
           "SC"
          ],
          [
           "Lincoln Christian University",
           "Private not-for-profit, 4-year or above",
           -89.346721,
           40.148924,
           "IL"
          ],
          [
           "Lincoln College",
           "Private not-for-profit, 4-year or above",
           -89.36153,
           40.155442,
           "IL"
          ],
          [
           "Lincoln Land Community College",
           "Public, 2-year",
           -89.611249,
           39.721211,
           "IL"
          ],
          [
           "Lincoln Memorial University",
           "Private not-for-profit, 4-year or above",
           -83.660198,
           36.578508,
           "TN"
          ],
          [
           "Lincoln Trail College",
           "Public, 2-year",
           -87.689001,
           39.01958,
           "IL"
          ],
          [
           "Lincoln University",
           "Public, 4-year or above",
           -75.926458,
           39.807723,
           "PA"
          ],
          [
           "Lincoln University",
           "Public, 4-year or above",
           -92.166724,
           38.564431,
           "MO"
          ],
          [
           "Lincoln University",
           "Private not-for-profit, 4-year or above",
           -122.269745,
           37.804788,
           "CA"
          ],
          [
           "Lindenwood University",
           "Private not-for-profit, 4-year or above",
           -90.501286,
           38.785425,
           "MO"
          ],
          [
           "Lindsey Hopkins Technical College",
           "Public, 2-year",
           -80.20815400000002,
           25.794676000000006,
           "FL"
          ],
          [
           "Lindsey Wilson College",
           "Private not-for-profit, 4-year or above",
           -85.29999699999998,
           37.101502,
           "KY"
          ],
          [
           "Linfield College-McMinnville Campus",
           "Private not-for-profit, 4-year or above",
           -123.199642,
           45.201173,
           "OR"
          ],
          [
           "Linfield College-School of Nursing",
           "Private not-for-profit, 4-year or above",
           -122.697773,
           45.531476,
           "OR"
          ],
          [
           "Linn-Benton Community College",
           "Public, 2-year",
           -123.11403,
           44.587663,
           "OR"
          ],
          [
           "Lipscomb University",
           "Private not-for-profit, 4-year or above",
           -86.799304,
           36.10469000000001,
           "TN"
          ],
          [
           "Little Big Horn College",
           "Public, 2-year",
           -107.455421,
           45.603781,
           "MT"
          ],
          [
           "Little Priest Tribal College",
           "Public, 2-year",
           -96.467881,
           42.234983,
           "NE"
          ],
          [
           "LIU Brentwood",
           "Private not-for-profit, 4-year or above",
           -73.26977099999998,
           40.799667,
           "NY"
          ],
          [
           "LIU Brooklyn",
           "Private not-for-profit, 4-year or above",
           -73.98112900000002,
           40.690677,
           "NY"
          ],
          [
           "LIU Hudson at Westchester",
           "Private not-for-profit, 4-year or above",
           -73.705238,
           41.048648,
           "NY"
          ],
          [
           "LIU Post",
           "Private not-for-profit, 4-year or above",
           -73.593678,
           40.820714,
           "NY"
          ],
          [
           "LIU Riverhead",
           "Private not-for-profit, 4-year or above",
           -72.6991,
           40.876143,
           "NY"
          ],
          [
           "Livingstone College",
           "Private not-for-profit, 4-year or above",
           -80.483956,
           35.67087700000001,
           "NC"
          ],
          [
           "Lock Haven University",
           "Public, 4-year or above",
           -77.46010799999998,
           41.141517,
           "PA"
          ],
          [
           "Logan University",
           "Private not-for-profit, 4-year or above",
           -90.542333,
           38.63133,
           "MO"
          ],
          [
           "Loma Linda University",
           "Private not-for-profit, 4-year or above",
           -117.260605,
           34.051241,
           "CA"
          ],
          [
           "Lone Star College System",
           "Public, 2-year",
           -95.488103,
           30.18737,
           "TX"
          ],
          [
           "Long Beach City College",
           "Public, 2-year",
           -118.135819,
           33.831741,
           "CA"
          ],
          [
           "Longwood University",
           "Public, 4-year or above",
           -78.39575,
           37.301137,
           "VA"
          ],
          [
           "Longy School of Music of Bard College",
           "Private not-for-profit, 4-year or above",
           -71.123479,
           42.378657,
           "MA"
          ],
          [
           "Lorain County Community College",
           "Public, 2-year",
           -82.073549,
           41.413293,
           "OH"
          ],
          [
           "Loras College",
           "Private not-for-profit, 4-year or above",
           -90.679023,
           42.503908,
           "IA"
          ],
          [
           "Lord Fairfax Community College",
           "Public, 2-year",
           -78.267336,
           39.036001,
           "VA"
          ],
          [
           "Lorenzo Walker Technical College",
           "Public, 2-year",
           -81.763568,
           26.141141,
           "FL"
          ],
          [
           "Los Angeles City College",
           "Public, 2-year",
           -118.292169,
           34.087301000000004,
           "CA"
          ],
          [
           "Los Angeles County College of Nursing and Allied Health",
           "Public, 2-year",
           -118.211852,
           34.062647,
           "CA"
          ],
          [
           "Los Angeles Harbor College",
           "Public, 2-year",
           -118.28186,
           33.784201,
           "CA"
          ],
          [
           "Los Angeles Mission College",
           "Public, 2-year",
           -118.419087,
           34.314944,
           "CA"
          ],
          [
           "Los Angeles ORT College-Los Angeles Campus",
           "Private not-for-profit, 2-year",
           -118.36956399999998,
           34.064181,
           "CA"
          ],
          [
           "Los Angeles ORT College-Van Nuys Campus",
           "Private not-for-profit, 2-year",
           -118.449629,
           34.184896,
           "CA"
          ],
          [
           "Los Angeles Pierce College",
           "Public, 2-year",
           -118.575071,
           34.183949,
           "CA"
          ],
          [
           "Los Angeles Southwest College",
           "Public, 2-year",
           -118.304674,
           33.929586,
           "CA"
          ],
          [
           "Los Angeles Trade Technical College",
           "Public, 2-year",
           -118.269447,
           34.031907000000004,
           "CA"
          ],
          [
           "Los Angeles Valley College",
           "Public, 2-year",
           -118.421446,
           34.176406,
           "CA"
          ],
          [
           "Los Medanos College",
           "Public, 2-year",
           -121.860967,
           38.006474,
           "CA"
          ],
          [
           "Louisburg College",
           "Private not-for-profit, 2-year",
           -78.29898,
           36.105035,
           "NC"
          ],
          [
           "Louisiana College",
           "Private not-for-profit, 4-year or above",
           -92.425973,
           31.324528000000004,
           "LA"
          ],
          [
           "Louisiana Delta Community College",
           "Public, 2-year",
           -92.032664,
           32.49637,
           "LA"
          ],
          [
           "Louisiana State University and Agricultural & Mechanical College",
           "Public, 4-year or above",
           -91.178921,
           30.414986,
           "LA"
          ],
          [
           "Louisiana State University Health Sciences Center-New Orleans",
           "Public, 4-year or above",
           -90.083145,
           29.957272,
           "LA"
          ],
          [
           "Louisiana State University Health Sciences Center-Shreveport",
           "Public, 4-year or above",
           -93.761018,
           32.480683,
           "LA"
          ],
          [
           "Louisiana State University-Alexandria",
           "Public, 4-year or above",
           -92.414409,
           31.178616,
           "LA"
          ],
          [
           "Louisiana State University-Eunice",
           "Public, 2-year",
           -92.434523,
           30.473292,
           "LA"
          ],
          [
           "Louisiana State University-Shreveport",
           "Public, 4-year or above",
           -93.70561,
           32.428465,
           "LA"
          ],
          [
           "Louisiana Tech University",
           "Public, 4-year or above",
           -92.649963,
           32.528296999999995,
           "LA"
          ],
          [
           "Louisville Presbyterian Theological Seminary",
           "Private not-for-profit, 4-year or above",
           -85.68641099999998,
           38.237056,
           "KY"
          ],
          [
           "Lourdes University",
           "Private not-for-profit, 4-year or above",
           -83.706108,
           41.710009,
           "OH"
          ],
          [
           "Lower Columbia College",
           "Public, 2-year",
           -122.935928,
           46.14214000000001,
           "WA"
          ],
          [
           "Loyola Marymount University",
           "Private not-for-profit, 4-year or above",
           -118.415744,
           33.97085,
           "CA"
          ],
          [
           "Loyola University Chicago",
           "Private not-for-profit, 4-year or above",
           -87.65687199999998,
           42.000765,
           "IL"
          ],
          [
           "Loyola University Maryland",
           "Private not-for-profit, 4-year or above",
           -76.621872,
           39.346358,
           "MD"
          ],
          [
           "Loyola University New Orleans",
           "Private not-for-profit, 4-year or above",
           -90.120417,
           29.936141,
           "LA"
          ],
          [
           "Lubbock Christian University",
           "Private not-for-profit, 4-year or above",
           -101.934426,
           33.575973,
           "TX"
          ],
          [
           "Luna Community College",
           "Public, 2-year",
           -105.250865,
           35.616303,
           "NM"
          ],
          [
           "Lurleen B Wallace Community College",
           "Public, 2-year",
           -86.452262,
           31.322947,
           "AL"
          ],
          [
           "Luther College",
           "Private not-for-profit, 4-year or above",
           -91.802809,
           43.312304,
           "IA"
          ],
          [
           "Luther Rice College & Seminary",
           "Private not-for-profit, 4-year or above",
           -84.12317900000002,
           33.698126,
           "GA"
          ],
          [
           "Luther Seminary",
           "Private not-for-profit, 4-year or above",
           -93.196422,
           44.984629,
           "MN"
          ],
          [
           "Lutheran School of Theology at Chicago",
           "Private not-for-profit, 4-year or above",
           -87.598978,
           41.79563,
           "IL"
          ],
          [
           "Luzerne County Community College",
           "Public, 2-year",
           -75.991095,
           41.19472800000001,
           "PA"
          ],
          [
           "Lycoming College",
           "Private not-for-profit, 4-year or above",
           -77,
           41.24666,
           "PA"
          ],
          [
           "Lynchburg College",
           "Private not-for-profit, 4-year or above",
           -79.181653,
           37.399774,
           "VA"
          ],
          [
           "Lyndon State College",
           "Public, 4-year or above",
           -72.024955,
           44.534525,
           "VT"
          ],
          [
           "Lynn University",
           "Private not-for-profit, 4-year or above",
           -80.12280600000003,
           26.385985,
           "FL"
          ],
          [
           "Lyon College",
           "Private not-for-profit, 4-year or above",
           -91.625354,
           35.777619,
           "AR"
          ],
          [
           "Macalester College",
           "Private not-for-profit, 4-year or above",
           -93.168053,
           44.938565,
           "MN"
          ],
          [
           "MacCormac College",
           "Private not-for-profit, 2-year",
           -87.626657,
           41.881898,
           "IL"
          ],
          [
           "Machzikei Hadath Rabbinical College",
           "Private not-for-profit, 4-year or above",
           -73.988378,
           40.627937,
           "NY"
          ],
          [
           "MacMurray College",
           "Private not-for-profit, 4-year or above",
           -90.223986,
           39.730918,
           "IL"
          ],
          [
           "Macomb Community College",
           "Public, 2-year",
           -82.97237700000002,
           42.50599,
           "MI"
          ],
          [
           "Madison Adult Career Center",
           "Public, 2-year",
           -82.460912,
           40.774328,
           "OH"
          ],
          [
           "Madison Area Technical College",
           "Public, 4-year or above",
           -89.32792099999998,
           43.12183,
           "WI"
          ],
          [
           "Madisonville Community College",
           "Public, 2-year",
           -87.512137,
           37.362661,
           "KY"
          ],
          [
           "Madonna University",
           "Private not-for-profit, 4-year or above",
           -83.40472199999998,
           42.384323,
           "MI"
          ],
          [
           "Maharishi University of Management",
           "Private not-for-profit, 4-year or above",
           -91.967306,
           41.017781,
           "IA"
          ],
          [
           "Maine College of Art",
           "Private not-for-profit, 4-year or above",
           -70.261015,
           43.655743,
           "ME"
          ],
          [
           "Maine College of Health Professions",
           "Private not-for-profit, 2-year",
           -70.21732,
           44.100458,
           "ME"
          ],
          [
           "Maine Maritime Academy",
           "Public, 4-year or above",
           -68.80434699999999,
           44.389654,
           "ME"
          ],
          [
           "Malone University",
           "Private not-for-profit, 4-year or above",
           -81.376863,
           40.825662,
           "OH"
          ],
          [
           "Manatee Technical College",
           "Public, 2-year",
           -82.481088,
           27.447894,
           "FL"
          ],
          [
           "Manchester Community College",
           "Public, 2-year",
           -72.561939,
           41.761625,
           "CT"
          ],
          [
           "Manchester Community College",
           "Public, 2-year",
           -71.48353399999998,
           43.019823,
           "NH"
          ],
          [
           "Manchester University",
           "Private not-for-profit, 4-year or above",
           -85.76264300000003,
           41.010549,
           "IN"
          ],
          [
           "Manhattan Area Technical College",
           "Public, 2-year",
           -96.615672,
           39.197774,
           "KS"
          ],
          [
           "Manhattan Christian College",
           "Private not-for-profit, 4-year or above",
           -96.579383,
           39.184806,
           "KS"
          ],
          [
           "Manhattan College",
           "Private not-for-profit, 4-year or above",
           -73.901893,
           40.889756,
           "NY"
          ],
          [
           "Manhattan School of Music",
           "Private not-for-profit, 4-year or above",
           -73.961334,
           40.812312,
           "NY"
          ],
          [
           "Manhattanville College",
           "Private not-for-profit, 4-year or above",
           -73.715645,
           41.032187,
           "NY"
          ],
          [
           "Manor College",
           "Private not-for-profit, 2-year",
           -75.104786,
           40.08714000000001,
           "PA"
          ],
          [
           "Mansfield University of Pennsylvania",
           "Public, 4-year or above",
           -77.073901,
           41.807467,
           "PA"
          ],
          [
           "Maple Springs Baptist Bible College and Seminary",
           "Private not-for-profit, 4-year or above",
           -76.942465,
           38.86348,
           "MD"
          ],
          [
           "Maranatha Baptist University",
           "Private not-for-profit, 4-year or above",
           -88.737016,
           43.195013,
           "WI"
          ],
          [
           "Margaret H Rollins School of Nursing at Beebe Medical Center",
           "Private not-for-profit, 2-year",
           -75.142864,
           38.771565,
           "DE"
          ],
          [
           "Maria College of Albany",
           "Private not-for-profit, 4-year or above",
           -73.806287,
           42.657789,
           "NY"
          ],
          [
           "Marian University",
           "Private not-for-profit, 4-year or above",
           -86.20264300000002,
           39.813233,
           "IN"
          ],
          [
           "Marian University",
           "Private not-for-profit, 4-year or above",
           -88.420638,
           43.777411,
           "WI"
          ],
          [
           "Marietta College",
           "Private not-for-profit, 4-year or above",
           -81.45004499999997,
           39.41668,
           "OH"
          ],
          [
           "Marion Military Institute",
           "Public, 2-year",
           -87.322041,
           32.623734000000006,
           "AL"
          ],
          [
           "Marion Technical College",
           "Public, 2-year",
           -83.089156,
           40.577017,
           "OH"
          ],
          [
           "Marion Technical College",
           "Public, 2-year",
           -82.14787700000002,
           29.178271,
           "FL"
          ],
          [
           "Marist College",
           "Private not-for-profit, 4-year or above",
           -73.935484,
           41.720937,
           "NY"
          ],
          [
           "Marlboro College",
           "Private not-for-profit, 4-year or above",
           -72.736552,
           42.839603,
           "VT"
          ],
          [
           "Marlboro College Graduate & Professional Studies",
           "Private not-for-profit, 4-year or above",
           -72.725583,
           42.840495,
           "VT"
          ],
          [
           "Marquette University",
           "Private not-for-profit, 4-year or above",
           -87.927961,
           43.03903,
           "WI"
          ],
          [
           "Mars Hill University",
           "Private not-for-profit, 4-year or above",
           -82.551827,
           35.82752,
           "NC"
          ],
          [
           "Marshall B Ketchum University",
           "Private not-for-profit, 4-year or above",
           -117.886229,
           33.889348,
           "CA"
          ],
          [
           "Marshall University",
           "Public, 4-year or above",
           -82.42896400000002,
           38.422482,
           "WV"
          ],
          [
           "Marshalltown Community College",
           "Public, 2-year",
           -92.909411,
           42.00065,
           "IA"
          ],
          [
           "Martin Community College",
           "Public, 2-year",
           -77.094913,
           35.836304,
           "NC"
          ],
          [
           "Martin Luther College",
           "Private not-for-profit, 4-year or above",
           -94.472326,
           44.30526,
           "MN"
          ],
          [
           "Martin Methodist College",
           "Private not-for-profit, 4-year or above",
           -87.035661,
           35.201019,
           "TN"
          ],
          [
           "Martin University",
           "Private not-for-profit, 4-year or above",
           -86.103953,
           39.798144,
           "IN"
          ],
          [
           "Mary Baldwin University",
           "Private not-for-profit, 4-year or above",
           -79.069273,
           38.15388400000001,
           "VA"
          ],
          [
           "Marygrove College",
           "Private not-for-profit, 4-year or above",
           -83.15410899999998,
           42.41441500000001,
           "MI"
          ],
          [
           "Maryland Institute College of Art",
           "Private not-for-profit, 4-year or above",
           -76.621033,
           39.308792,
           "MD"
          ],
          [
           "Maryland University of Integrative Health",
           "Private not-for-profit, 4-year or above",
           -76.888025,
           39.165872,
           "MD"
          ],
          [
           "Marylhurst University",
           "Private not-for-profit, 4-year or above",
           -122.648645,
           45.398436,
           "OR"
          ],
          [
           "Marymount California University",
           "Private not-for-profit, 4-year or above",
           -118.333371,
           33.734887,
           "CA"
          ],
          [
           "Marymount Manhattan College",
           "Private not-for-profit, 4-year or above",
           -73.959767,
           40.768787,
           "NY"
          ],
          [
           "Marymount University",
           "Private not-for-profit, 4-year or above",
           -77.128785,
           38.905562,
           "VA"
          ],
          [
           "Maryville College",
           "Private not-for-profit, 4-year or above",
           -83.963853,
           35.751969,
           "TN"
          ],
          [
           "Maryville University of Saint Louis",
           "Private not-for-profit, 4-year or above",
           -90.505998,
           38.644774,
           "MO"
          ],
          [
           "Marywood University",
           "Private not-for-profit, 4-year or above",
           -75.634142,
           41.434587,
           "PA"
          ],
          [
           "Massachusetts Bay Community College",
           "Public, 2-year",
           -71.264004,
           42.312697,
           "MA"
          ],
          [
           "Massachusetts College of Art and Design",
           "Public, 4-year or above",
           -71.099275,
           42.336862,
           "MA"
          ],
          [
           "Massachusetts College of Liberal Arts",
           "Public, 4-year or above",
           -73.102817,
           42.691361,
           "MA"
          ],
          [
           "Massachusetts General Hospital Dietetic Internship",
           "Private not-for-profit, 4-year or above",
           -71.068939,
           42.362612,
           "MA"
          ],
          [
           "Massachusetts Institute of Technology",
           "Private not-for-profit, 4-year or above",
           -71.092115,
           42.360095,
           "MA"
          ],
          [
           "Massachusetts Maritime Academy",
           "Public, 4-year or above",
           -70.624084,
           41.739072,
           "MA"
          ],
          [
           "Massachusetts School of Law",
           "Private not-for-profit, 4-year or above",
           -71.19954,
           42.682106,
           "MA"
          ],
          [
           "Massasoit Community College",
           "Public, 2-year",
           -70.989799,
           42.07507,
           "MA"
          ],
          [
           "Mayland Community College",
           "Public, 2-year",
           -82.016988,
           35.934475,
           "NC"
          ],
          [
           "Mayo Clinic Graduate School of Biomedical Sciences",
           "Private not-for-profit, 4-year or above",
           -92.466494,
           44.02229000000001,
           "MN"
          ],
          [
           "Mayo Clinic School of Health Sciences",
           "Private not-for-profit, 4-year or above",
           -92.466656,
           44.022784,
           "MN"
          ],
          [
           "Mayo Clinic School of Medicine",
           "Private not-for-profit, 4-year or above",
           -92.466428,
           44.02215,
           "MN"
          ],
          [
           "Maysville Community and Technical College",
           "Public, 2-year",
           -83.806786,
           38.626607,
           "KY"
          ],
          [
           "Mayville State University",
           "Public, 4-year or above",
           -97.322554,
           47.505415,
           "ND"
          ],
          [
           "McCormick Theological Seminary",
           "Private not-for-profit, 4-year or above",
           -87.598511,
           41.79597,
           "IL"
          ],
          [
           "McDaniel College",
           "Private not-for-profit, 4-year or above",
           -77.001992,
           39.584231,
           "MD"
          ],
          [
           "McDowell Technical Community College",
           "Public, 2-year",
           -81.96208,
           35.656254,
           "NC"
          ],
          [
           "McHenry County College",
           "Public, 2-year",
           -88.36895600000003,
           42.259111,
           "IL"
          ],
          [
           "McKendree University",
           "Private not-for-profit, 4-year or above",
           -89.816822,
           38.608154,
           "IL"
          ],
          [
           "McLennan Community College",
           "Public, 2-year",
           -97.171228,
           31.58947,
           "TX"
          ],
          [
           "McMurry University",
           "Private not-for-profit, 4-year or above",
           -99.748682,
           32.429776000000004,
           "TX"
          ],
          [
           "McNeese State University",
           "Public, 4-year or above",
           -93.217222,
           30.178187,
           "LA"
          ],
          [
           "McPherson College",
           "Private not-for-profit, 4-year or above",
           -97.642996,
           38.371422,
           "KS"
          ],
          [
           "MCPHS University",
           "Private not-for-profit, 4-year or above",
           -71.101244,
           42.336825,
           "MA"
          ],
          [
           "Meadville Lombard Theological School",
           "Private not-for-profit, 4-year or above",
           -87.624619,
           41.87402700000001,
           "IL"
          ],
          [
           "Mechon L'hoyroa",
           "Private not-for-profit, 4-year or above",
           -74.058177,
           41.117029,
           "NY"
          ],
          [
           "Medaille College",
           "Private not-for-profit, 4-year or above",
           -78.855941,
           42.92856,
           "NY"
          ],
          [
           "Medical College of Wisconsin",
           "Private not-for-profit, 4-year or above",
           -88.022674,
           43.044527,
           "WI"
          ],
          [
           "Medical University of South Carolina",
           "Public, 4-year or above",
           -79.947158,
           32.784363,
           "SC"
          ],
          [
           "Meharry Medical College",
           "Private not-for-profit, 4-year or above",
           -86.80737099999997,
           36.165458,
           "TN"
          ],
          [
           "Memorial College of Nursing",
           "Private not-for-profit, 2-year",
           -73.747618,
           42.673486,
           "NY"
          ],
          [
           "Memorial Hospital School of Radiation Therapy Technology",
           "Private not-for-profit, 2-year",
           -73.95614300000003,
           40.764128,
           "NY"
          ],
          [
           "Memphis College of Art",
           "Private not-for-profit, 4-year or above",
           -89.993707,
           35.145874,
           "TN"
          ],
          [
           "Memphis Theological Seminary",
           "Private not-for-profit, 4-year or above",
           -89.982653,
           35.133109999999995,
           "TN"
          ],
          [
           "Mendocino College",
           "Public, 2-year",
           -123.228809,
           39.188989,
           "CA"
          ],
          [
           "Menlo College",
           "Private not-for-profit, 4-year or above",
           -122.190797,
           37.453475,
           "CA"
          ],
          [
           "Merced College",
           "Public, 2-year",
           -120.476464,
           37.3353,
           "CA"
          ],
          [
           "Mercer County Community College",
           "Public, 2-year",
           -74.650719,
           40.254398,
           "NJ"
          ],
          [
           "Mercer County Technical Education Center",
           "Public, 2-year",
           -81.104647,
           37.360024,
           "WV"
          ],
          [
           "Mercer University",
           "Private not-for-profit, 4-year or above",
           -83.64829499999998,
           32.831787,
           "GA"
          ],
          [
           "Mercy College",
           "Private not-for-profit, 4-year or above",
           -73.874447,
           41.021626,
           "NY"
          ],
          [
           "Mercy College of Health Sciences",
           "Private not-for-profit, 4-year or above",
           -93.626238,
           41.594559,
           "IA"
          ],
          [
           "Mercy College of Ohio",
           "Private not-for-profit, 4-year or above",
           -83.552538,
           41.658319,
           "OH"
          ],
          [
           "Mercy Hospital School of Nursing",
           "Private not-for-profit, 2-year",
           -79.98644499999997,
           40.43558400000001,
           "PA"
          ],
          [
           "Mercy-St Luke's School of Radiologic Technology",
           "Private not-for-profit, 2-year",
           -91.660609,
           41.985552,
           "IA"
          ],
          [
           "Mercyhurst University",
           "Private not-for-profit, 4-year or above",
           -80.053412,
           42.10578,
           "PA"
          ],
          [
           "Mercyhurst University-North East Campus",
           "Private not-for-profit, 2-year",
           -79.83574499999997,
           42.219677,
           "PA"
          ],
          [
           "Meredith College",
           "Private not-for-profit, 4-year or above",
           -78.689995,
           35.799351,
           "NC"
          ],
          [
           "Meridian Community College",
           "Public, 2-year",
           -88.732823,
           32.367355,
           "MS"
          ],
          [
           "Meridian Technology Center",
           "Public, 2-year",
           -97.108414,
           36.106981,
           "OK"
          ],
          [
           "Merkaz Bnos-Business School",
           "Private not-for-profit, 2-year",
           -73.997176,
           40.601511,
           "NY"
          ],
          [
           "Merrimack College",
           "Private not-for-profit, 4-year or above",
           -71.124216,
           42.668352,
           "MA"
          ],
          [
           "Merritt College",
           "Public, 2-year",
           -122.167335,
           37.789088,
           "CA"
          ],
          [
           "Mesa Community College",
           "Public, 2-year",
           -111.871255,
           33.390322999999995,
           "AZ"
          ],
          [
           "Mesabi Range College",
           "Public, 2-year",
           -92.549092,
           47.524561,
           "MN"
          ],
          [
           "Mesalands Community College",
           "Public, 2-year",
           -103.736303,
           35.170332,
           "NM"
          ],
          [
           "Mesivta of Eastern Parkway-Yeshiva Zichron Meilech",
           "Private not-for-profit, 4-year or above",
           -73.979327,
           40.635236,
           "NY"
          ],
          [
           "Mesivta Torah Vodaath Rabbinical Seminary",
           "Private not-for-profit, 4-year or above",
           -73.96939499999998,
           40.6382,
           "NY"
          ],
          [
           "Mesivtha Tifereth Jerusalem of America",
           "Private not-for-profit, 4-year or above",
           -73.991271,
           40.713812,
           "NY"
          ],
          [
           "Messenger College",
           "Private not-for-profit, 4-year or above",
           -97.100318,
           32.831171999999995,
           "TX"
          ],
          [
           "Messiah College",
           "Private not-for-profit, 4-year or above",
           -76.98826899999997,
           40.156579,
           "PA"
          ],
          [
           "Methodist College",
           "Private not-for-profit, 4-year or above",
           -89.682864,
           40.7804,
           "IL"
          ],
          [
           "Methodist Theological School in Ohio",
           "Private not-for-profit, 4-year or above",
           -83.060146,
           40.253643,
           "OH"
          ],
          [
           "Methodist University",
           "Private not-for-profit, 4-year or above",
           -78.874426,
           35.135058,
           "NC"
          ],
          [
           "Metro Technology Centers",
           "Public, 2-year",
           -97.478182,
           35.512549,
           "OK"
          ],
          [
           "Metropolitan College of New York",
           "Private not-for-profit, 4-year or above",
           -74.014702,
           40.708706,
           "NY"
          ],
          [
           "Metropolitan Community College Area",
           "Public, 2-year",
           -95.957829,
           41.310451,
           "NE"
          ],
          [
           "Metropolitan Community College-Kansas City",
           "Public, 2-year",
           -94.58966,
           39.068668,
           "MO"
          ],
          [
           "Metropolitan State University",
           "Public, 4-year or above",
           -93.074361,
           44.957256,
           "MN"
          ],
          [
           "Metropolitan State University of Denver",
           "Public, 4-year or above",
           -105.00504,
           39.744202,
           "CO"
          ],
          [
           "MGH Institute of Health Professions",
           "Private not-for-profit, 4-year or above",
           -71.054002,
           42.375018,
           "MA"
          ],
          [
           "Miami Dade College",
           "Public, 4-year or above",
           -80.19085600000003,
           25.777717000000006,
           "FL"
          ],
          [
           "Miami Lakes Educational Center and Technical College",
           "Public, 2-year",
           -80.29513,
           25.916128,
           "FL"
          ],
          [
           "Miami University-Hamilton",
           "Public, 4-year or above",
           -84.563385,
           39.377448,
           "OH"
          ],
          [
           "Miami University-Middletown",
           "Public, 4-year or above",
           -84.35724,
           39.523776,
           "OH"
          ],
          [
           "Miami University-Oxford",
           "Public, 4-year or above",
           -84.732954,
           39.507757,
           "OH"
          ],
          [
           "Michigan Barber School Inc",
           "Private not-for-profit, 2-year",
           -83.128883,
           42.365023,
           "MI"
          ],
          [
           "Michigan School of Professional Psychology",
           "Private not-for-profit, 4-year or above",
           -83.359575,
           42.491427,
           "MI"
          ],
          [
           "Michigan State University",
           "Public, 4-year or above",
           -84.476111,
           42.73212,
           "MI"
          ],
          [
           "Michigan State University-College of Law",
           "Private not-for-profit, 4-year or above",
           -84.47352,
           42.725733,
           "MI"
          ],
          [
           "Michigan Technological University",
           "Public, 4-year or above",
           -88.54809200000003,
           47.11866,
           "MI"
          ],
          [
           "Mid Michigan Community College",
           "Public, 2-year",
           -84.763715,
           43.969586,
           "MI"
          ],
          [
           "Mid-America Christian University",
           "Private not-for-profit, 4-year or above",
           -97.578297,
           35.34778499999999,
           "OK"
          ],
          [
           "Mid-America College of Funeral Service",
           "Private not-for-profit, 4-year or above",
           -85.74469599999998,
           38.31209000000001,
           "IN"
          ],
          [
           "Mid-Atlantic Christian University",
           "Private not-for-profit, 4-year or above",
           -76.217139,
           36.304673,
           "NC"
          ],
          [
           "Mid-Plains Community College",
           "Public, 2-year",
           -100.748417,
           41.110429,
           "NE"
          ],
          [
           "Mid-South Christian College",
           "Private not-for-profit, 4-year or above",
           -89.911799,
           35.064172,
           "TN"
          ],
          [
           "Mid-State Technical College",
           "Public, 2-year",
           -89.783785,
           44.391091,
           "WI"
          ],
          [
           "MidAmerica Nazarene University",
           "Private not-for-profit, 4-year or above",
           -94.781635,
           38.875615,
           "KS"
          ],
          [
           "Middle Georgia State University",
           "Public, 4-year or above",
           -83.732058,
           32.808091999999995,
           "GA"
          ],
          [
           "Middle Tennessee School of Anesthesia Inc",
           "Private not-for-profit, 4-year or above",
           -86.683396,
           36.252997,
           "TN"
          ],
          [
           "Middle Tennessee State University",
           "Public, 4-year or above",
           -86.360618,
           35.848005,
           "TN"
          ],
          [
           "Middlebury College",
           "Private not-for-profit, 4-year or above",
           -73.176068,
           44.009117,
           "VT"
          ],
          [
           "Middlebury Institute of International Studies at Monterey",
           "Private not-for-profit, 4-year or above",
           -121.897325,
           36.599736,
           "CA"
          ],
          [
           "Middlesex Community College",
           "Public, 2-year",
           -72.611838,
           41.539516,
           "CT"
          ],
          [
           "Middlesex Community College",
           "Public, 2-year",
           -71.27493100000002,
           42.524328,
           "MA"
          ],
          [
           "Middlesex County College",
           "Public, 2-year",
           -74.36654399999998,
           40.504728,
           "NJ"
          ],
          [
           "Midland College",
           "Public, 4-year or above",
           -102.106153,
           32.029646,
           "TX"
          ],
          [
           "Midland University",
           "Private not-for-profit, 4-year or above",
           -96.488008,
           41.43674,
           "NE"
          ],
          [
           "Midlands Technical College",
           "Public, 2-year",
           -81.11576099999998,
           33.949325,
           "SC"
          ],
          [
           "Midway University",
           "Private not-for-profit, 4-year or above",
           -84.67814200000002,
           38.146126,
           "KY"
          ],
          [
           "Midwestern Baptist Theological Seminary",
           "Private not-for-profit, 4-year or above",
           -94.573185,
           39.185691,
           "MO"
          ],
          [
           "Midwestern State University",
           "Public, 4-year or above",
           -98.519386,
           33.874809,
           "TX"
          ],
          [
           "Midwestern University-Downers Grove",
           "Private not-for-profit, 4-year or above",
           -87.99834200000002,
           41.828115,
           "IL"
          ],
          [
           "Midwestern University-Glendale",
           "Private not-for-profit, 4-year or above",
           -112.183633,
           33.663853,
           "AZ"
          ],
          [
           "Midwives College of Utah",
           "Private not-for-profit, 4-year or above",
           -111.857036,
           40.71089,
           "UT"
          ],
          [
           "Miles College",
           "Private not-for-profit, 4-year or above",
           -86.908751,
           33.482442,
           "AL"
          ],
          [
           "Miles Community College",
           "Public, 2-year",
           -105.826524,
           46.40526,
           "MT"
          ],
          [
           "Millersville University of Pennsylvania",
           "Public, 4-year or above",
           -76.357381,
           40.000337,
           "PA"
          ],
          [
           "Milligan College",
           "Private not-for-profit, 4-year or above",
           -82.29406999999998,
           36.300147,
           "TN"
          ],
          [
           "Millikin University",
           "Private not-for-profit, 4-year or above",
           -88.976298,
           39.842612,
           "IL"
          ],
          [
           "Mills College",
           "Private not-for-profit, 4-year or above",
           -122.182294,
           37.781425,
           "CA"
          ],
          [
           "Millsaps College",
           "Private not-for-profit, 4-year or above",
           -90.179957,
           32.322746,
           "MS"
          ],
          [
           "Milwaukee Area Technical College",
           "Public, 2-year",
           -87.92081800000003,
           43.04359,
           "WI"
          ],
          [
           "Milwaukee Institute of Art & Design",
           "Private not-for-profit, 4-year or above",
           -87.907925,
           43.030917,
           "WI"
          ],
          [
           "Milwaukee School of Engineering",
           "Private not-for-profit, 4-year or above",
           -87.907691,
           43.045364,
           "WI"
          ],
          [
           "Mineral Area College",
           "Public, 2-year",
           -90.481847,
           37.845199,
           "MO"
          ],
          [
           "Minneapolis College of Art and Design",
           "Private not-for-profit, 4-year or above",
           -93.274705,
           44.956988,
           "MN"
          ],
          [
           "Minneapolis Community and Technical College",
           "Public, 2-year",
           -93.284507,
           44.972679,
           "MN"
          ],
          [
           "Minnesota State College Southeast",
           "Public, 2-year",
           -91.618318,
           44.024554,
           "MN"
          ],
          [
           "Minnesota State Community and Technical College",
           "Public, 2-year",
           -96.097321,
           46.289194,
           "MN"
          ],
          [
           "Minnesota State University Moorhead",
           "Public, 4-year or above",
           -96.759532,
           46.867153,
           "MN"
          ],
          [
           "Minnesota State University-Mankato",
           "Public, 4-year or above",
           -93.99945,
           44.146712,
           "MN"
          ],
          [
           "Minnesota West Community and Technical College",
           "Public, 2-year",
           -95.56172,
           44.80755,
           "MN"
          ],
          [
           "Minot State University",
           "Public, 4-year or above",
           -101.29861,
           48.246961,
           "ND"
          ],
          [
           "MiraCosta College",
           "Public, 4-year or above",
           -117.302606,
           33.190483,
           "CA"
          ],
          [
           "Mirrer Yeshiva Cent Institute",
           "Private not-for-profit, 4-year or above",
           -73.966049,
           40.605043,
           "NY"
          ],
          [
           "Misericordia University",
           "Private not-for-profit, 4-year or above",
           -75.971541,
           41.345277,
           "PA"
          ],
          [
           "Mission College",
           "Public, 2-year",
           -121.980783,
           37.391935,
           "CA"
          ],
          [
           "Mississippi College",
           "Private not-for-profit, 4-year or above",
           -90.329821,
           32.335515,
           "MS"
          ],
          [
           "Mississippi Delta Community College",
           "Public, 2-year",
           -90.502053,
           33.444906,
           "MS"
          ],
          [
           "Mississippi Gulf Coast Community College",
           "Public, 2-year",
           -89.14295200000002,
           30.780784000000004,
           "MS"
          ],
          [
           "Mississippi State University",
           "Public, 4-year or above",
           -88.790139,
           33.454852,
           "MS"
          ],
          [
           "Mississippi University for Women",
           "Public, 4-year or above",
           -88.418601,
           33.493305,
           "MS"
          ],
          [
           "Mississippi Valley State University",
           "Public, 4-year or above",
           -90.341274,
           33.514142,
           "MS"
          ],
          [
           "Missouri Baptist University",
           "Private not-for-profit, 4-year or above",
           -90.462586,
           38.641526,
           "MO"
          ],
          [
           "Missouri Southern State University",
           "Public, 4-year or above",
           -94.461689,
           37.095155,
           "MO"
          ],
          [
           "Missouri State University-Springfield",
           "Public, 4-year or above",
           -93.281281,
           37.199258,
           "MO"
          ],
          [
           "Missouri State University-West Plains",
           "Public, 2-year",
           -91.857838,
           36.729574,
           "MO"
          ],
          [
           "Missouri University of Science and Technology",
           "Public, 4-year or above",
           -91.775583,
           37.953426,
           "MO"
          ],
          [
           "Missouri Valley College",
           "Private not-for-profit, 4-year or above",
           -93.190654,
           39.108522,
           "MO"
          ],
          [
           "Missouri Western State University",
           "Public, 4-year or above",
           -94.785643,
           39.7575,
           "MO"
          ],
          [
           "Mitchell College",
           "Private not-for-profit, 4-year or above",
           -72.09523,
           41.328013,
           "CT"
          ],
          [
           "Mitchell Community College",
           "Public, 2-year",
           -80.894083,
           35.782814,
           "NC"
          ],
          [
           "Mitchell Hamline School of Law",
           "Private not-for-profit, 4-year or above",
           -93.138224,
           44.94202,
           "MN"
          ],
          [
           "Mitchell Technical Institute",
           "Public, 2-year",
           -98.002505,
           43.688663,
           "SD"
          ],
          [
           "Moberly Area Community College",
           "Public, 2-year",
           -92.455064,
           39.418607,
           "MO"
          ],
          [
           "Modesto Junior College",
           "Public, 4-year or above",
           -121.009723,
           37.652042,
           "CA"
          ],
          [
           "Mohave Community College",
           "Public, 2-year",
           -114.02983799999998,
           35.27099600000001,
           "AZ"
          ],
          [
           "Mohawk Valley Community College",
           "Public, 2-year",
           -75.219367,
           43.076765,
           "NY"
          ],
          [
           "Molloy College",
           "Private not-for-profit, 4-year or above",
           -73.626183,
           40.685941,
           "NY"
          ],
          [
           "Monmouth College",
           "Private not-for-profit, 4-year or above",
           -90.63731,
           40.914824,
           "IL"
          ],
          [
           "Monmouth University",
           "Private not-for-profit, 4-year or above",
           -74.006447,
           40.280066,
           "NJ"
          ],
          [
           "Monroe Community College",
           "Public, 2-year",
           -77.610136,
           43.101036,
           "NY"
          ],
          [
           "Monroe County Community College",
           "Public, 2-year",
           -83.470274,
           41.91617,
           "MI"
          ],
          [
           "Montana State University",
           "Public, 4-year or above",
           -111.048812,
           45.666726,
           "MT"
          ],
          [
           "Montana State University-Billings",
           "Public, 4-year or above",
           -108.523009,
           45.796896,
           "MT"
          ],
          [
           "Montana State University-Northern",
           "Public, 4-year or above",
           -109.687806,
           48.54149,
           "MT"
          ],
          [
           "Montana Tech of the University of Montana",
           "Public, 4-year or above",
           -112.559511,
           46.012868,
           "MT"
          ],
          [
           "Montcalm Community College",
           "Public, 2-year",
           -85.100181,
           43.253191,
           "MI"
          ],
          [
           "Montclair State University",
           "Public, 4-year or above",
           -74.198141,
           40.860414,
           "NJ"
          ],
          [
           "Monterey Peninsula College",
           "Public, 2-year",
           -121.884931,
           36.590558,
           "CA"
          ],
          [
           "Montessori Education Center of the Rockies",
           "Private not-for-profit, 4-year or above",
           -105.241331,
           40.019673,
           "CO"
          ],
          [
           "Montessori Institute of Milwaukee",
           "Private not-for-profit, 4-year or above",
           -87.915838,
           43.024779,
           "WI"
          ],
          [
           "Montgomery College",
           "Public, 2-year",
           -77.15929,
           39.098656,
           "MD"
          ],
          [
           "Montgomery Community College",
           "Public, 2-year",
           -79.870005,
           35.367107,
           "NC"
          ],
          [
           "Montgomery County Community College",
           "Public, 2-year",
           -75.276093,
           40.175609,
           "PA"
          ],
          [
           "Montreat College",
           "Private not-for-profit, 4-year or above",
           -82.2976,
           35.646577,
           "NC"
          ],
          [
           "Montserrat College of Art",
           "Private not-for-profit, 4-year or above",
           -70.876131,
           42.550212,
           "MA"
          ],
          [
           "Moody Bible Institute",
           "Private not-for-profit, 4-year or above",
           -87.633459,
           41.897822,
           "IL"
          ],
          [
           "Moore College of Art and Design",
           "Private not-for-profit, 4-year or above",
           -75.172105,
           39.957078,
           "PA"
          ],
          [
           "Moore Norman Technology Center",
           "Public, 2-year",
           -97.457319,
           35.274434,
           "OK"
          ],
          [
           "Moorpark College",
           "Public, 2-year",
           -118.834528,
           34.301146,
           "CA"
          ],
          [
           "Moraine Park Technical College",
           "Public, 2-year",
           -88.41765600000002,
           43.785224,
           "WI"
          ],
          [
           "Moraine Valley Community College",
           "Public, 2-year",
           -87.836915,
           41.694613,
           "IL"
          ],
          [
           "Moravian College",
           "Private not-for-profit, 4-year or above",
           -75.383638,
           40.630947,
           "PA"
          ],
          [
           "Morehead State University",
           "Public, 4-year or above",
           -83.434021,
           38.186768,
           "KY"
          ],
          [
           "Morehouse College",
           "Private not-for-profit, 4-year or above",
           -84.414917,
           33.745982,
           "GA"
          ],
          [
           "Morehouse School of Medicine",
           "Private not-for-profit, 4-year or above",
           -84.41186,
           33.742888,
           "GA"
          ],
          [
           "Moreno Valley College",
           "Public, 2-year",
           -117.20271,
           33.887440000000005,
           "CA"
          ],
          [
           "Morgan Community College",
           "Public, 2-year",
           -103.771822,
           40.258792,
           "CO"
          ],
          [
           "Morgan State University",
           "Public, 4-year or above",
           -76.585565,
           39.344161,
           "MD"
          ],
          [
           "Morningside College",
           "Private not-for-profit, 4-year or above",
           -96.359464,
           42.473891,
           "IA"
          ],
          [
           "Morris College",
           "Private not-for-profit, 4-year or above",
           -80.34615500000002,
           33.938574,
           "SC"
          ],
          [
           "Morrison Institute of Technology",
           "Private not-for-profit, 2-year",
           -89.965963,
           41.7971,
           "IL"
          ],
          [
           "Morrisville State College",
           "Public, 4-year or above",
           -75.64058299999998,
           42.893962,
           "NY"
          ],
          [
           "Morton College",
           "Public, 2-year",
           -87.76230600000002,
           41.824303,
           "IL"
          ],
          [
           "Motlow State Community College",
           "Public, 2-year",
           -86.299406,
           35.365519,
           "TN"
          ],
          [
           "Mott Community College",
           "Public, 2-year",
           -83.67243,
           43.019941,
           "MI"
          ],
          [
           "Mount Aloysius College",
           "Private not-for-profit, 4-year or above",
           -78.600898,
           40.459679,
           "PA"
          ],
          [
           "Mount Angel Seminary",
           "Private not-for-profit, 4-year or above",
           -122.775405,
           45.057871,
           "OR"
          ],
          [
           "Mount Carmel College of Nursing",
           "Private not-for-profit, 4-year or above",
           -83.021501,
           39.956625,
           "OH"
          ],
          [
           "Mount Holyoke College",
           "Private not-for-profit, 4-year or above",
           -72.57551099999998,
           42.256838,
           "MA"
          ],
          [
           "Mount Ida College",
           "Private not-for-profit, 4-year or above",
           -71.193175,
           42.293525,
           "MA"
          ],
          [
           "Mount Marty College",
           "Private not-for-profit, 4-year or above",
           -97.409904,
           42.874475,
           "SD"
          ],
          [
           "Mount Mary University",
           "Private not-for-profit, 4-year or above",
           -88.030732,
           43.072507,
           "WI"
          ],
          [
           "Mount Mercy University",
           "Private not-for-profit, 4-year or above",
           -91.650991,
           42.001931,
           "IA"
          ],
          [
           "Mount Saint Joseph University",
           "Private not-for-profit, 4-year or above",
           -84.639453,
           39.095893,
           "OH"
          ],
          [
           "Mount Saint Mary College",
           "Private not-for-profit, 4-year or above",
           -74.01265500000002,
           41.513872,
           "NY"
          ],
          [
           "Mount Saint Mary's University",
           "Private not-for-profit, 4-year or above",
           -118.482879,
           34.085315,
           "CA"
          ],
          [
           "Mount St. Mary's University",
           "Private not-for-profit, 4-year or above",
           -77.351887,
           39.681705,
           "MD"
          ],
          [
           "Mount Vernon Nazarene University",
           "Private not-for-profit, 4-year or above",
           -82.471074,
           40.372901,
           "OH"
          ],
          [
           "Mount Wachusett Community College",
           "Public, 2-year",
           -71.984149,
           42.593151,
           "MA"
          ],
          [
           "Mountain Empire Community College",
           "Public, 2-year",
           -82.758277,
           36.854421,
           "VA"
          ],
          [
           "Mountain View College",
           "Public, 2-year",
           -96.903798,
           32.726572999999995,
           "TX"
          ],
          [
           "Mountainland Technical College",
           "Public, 2-year",
           -111.886031,
           40.419941,
           "UT"
          ],
          [
           "Mountwest Community and Technical College",
           "Public, 2-year",
           -82.458186,
           38.392635,
           "WV"
          ],
          [
           "Mt Hood Community College",
           "Public, 2-year",
           -122.396972,
           45.514862,
           "OR"
          ],
          [
           "Mt San Antonio College",
           "Public, 2-year",
           -117.846629,
           34.047764,
           "CA"
          ],
          [
           "Mt San Jacinto Community College District",
           "Public, 2-year",
           -116.97006299999998,
           33.807364,
           "CA"
          ],
          [
           "Muhlenberg College",
           "Private not-for-profit, 4-year or above",
           -75.50850200000002,
           40.596416,
           "PA"
          ],
          [
           "Multnomah University",
           "Private not-for-profit, 4-year or above",
           -122.575557,
           45.527139,
           "OR"
          ],
          [
           "Murray State College",
           "Public, 2-year",
           -96.677906,
           34.222949,
           "OK"
          ],
          [
           "Murray State University",
           "Public, 4-year or above",
           -88.323629,
           36.612419,
           "KY"
          ],
          [
           "Muskegon Community College",
           "Public, 2-year",
           -86.196384,
           43.250329,
           "MI"
          ],
          [
           "Muskingum University",
           "Private not-for-profit, 4-year or above",
           -81.73703,
           39.996426,
           "OH"
          ],
          [
           "Napa Valley College",
           "Public, 2-year",
           -122.274381,
           38.274081,
           "CA"
          ],
          [
           "Naropa University",
           "Private not-for-profit, 4-year or above",
           -105.266987,
           40.014235,
           "CO"
          ],
          [
           "Nash Community College",
           "Public, 2-year",
           -77.898348,
           35.976823,
           "NC"
          ],
          [
           "Nashotah House",
           "Private not-for-profit, 4-year or above",
           -88.423743,
           43.082193,
           "WI"
          ],
          [
           "Nashua Community College",
           "Public, 2-year",
           -71.523462,
           42.794576,
           "NH"
          ],
          [
           "Nashville State Community College",
           "Public, 2-year",
           -86.856723,
           36.13545300000001,
           "TN"
          ],
          [
           "Nassau Community College",
           "Public, 2-year",
           -73.595286,
           40.728872,
           "NY"
          ],
          [
           "National Conservatory of Dramatic Arts",
           "Private not-for-profit, 2-year",
           -77.065095,
           38.910024,
           "DC"
          ],
          [
           "National Graduate School of Quality Management",
           "Private not-for-profit, 4-year or above",
           -70.61202800000002,
           41.562403,
           "MA"
          ],
          [
           "National Louis University",
           "Private not-for-profit, 4-year or above",
           -87.62469899999998,
           41.880093,
           "IL"
          ],
          [
           "National Park College",
           "Public, 2-year",
           -93.119248,
           34.512687,
           "AR"
          ],
          [
           "National University",
           "Private not-for-profit, 4-year or above",
           -117.243026,
           32.909894,
           "CA"
          ],
          [
           "National University of Health Sciences",
           "Private not-for-profit, 4-year or above",
           -88.013171,
           41.861697,
           "IL"
          ],
          [
           "National University of Natural Medicine",
           "Private not-for-profit, 4-year or above",
           -122.6766,
           45.501931,
           "OR"
          ],
          [
           "Naugatuck Valley Community College",
           "Public, 2-year",
           -73.072963,
           41.549749,
           "CT"
          ],
          [
           "Navajo Technical University",
           "Public, 4-year or above",
           -108.149392,
           35.687431,
           "NM"
          ],
          [
           "Navarro College",
           "Public, 2-year",
           -96.498738,
           32.076066,
           "TX"
          ],
          [
           "Nazarene Bible College",
           "Private not-for-profit, 4-year or above",
           -104.751176,
           38.814671,
           "CO"
          ],
          [
           "Nazarene Theological Seminary",
           "Private not-for-profit, 4-year or above",
           -94.565781,
           39.009265,
           "MO"
          ],
          [
           "Nazareth College",
           "Private not-for-profit, 4-year or above",
           -77.518579,
           43.101576,
           "NY"
          ],
          [
           "Nebraska Christian College of Hope International University",
           "Private not-for-profit, 4-year or above",
           -96.09437,
           41.12314,
           "NE"
          ],
          [
           "Nebraska College of Technical Agriculture",
           "Public, 2-year",
           -100.510409,
           40.635454,
           "NE"
          ],
          [
           "Nebraska Indian Community College",
           "Public, 2-year",
           -96.35176,
           42.11677,
           "NE"
          ],
          [
           "Nebraska Methodist College of Nursing & Allied Health",
           "Private not-for-profit, 4-year or above",
           -96.048511,
           41.265973,
           "NE"
          ],
          [
           "Nebraska Wesleyan University",
           "Private not-for-profit, 4-year or above",
           -96.64831,
           40.839098,
           "NE"
          ],
          [
           "Neighborhood Playhouse School of the Theater",
           "Private not-for-profit, 2-year",
           -73.96533199999998,
           40.756613,
           "NY"
          ],
          [
           "Neosho County Community College",
           "Public, 2-year",
           -95.464976,
           37.670672,
           "KS"
          ],
          [
           "Ner Israel Rabbinical College",
           "Private not-for-profit, 4-year or above",
           -76.75352600000002,
           39.388021,
           "MD"
          ],
          [
           "Neumann University",
           "Private not-for-profit, 4-year or above",
           -75.440022,
           39.874876,
           "PA"
          ],
          [
           "Nevada State College",
           "Public, 4-year or above",
           -114.938044,
           35.982345,
           "NV"
          ],
          [
           "New Brunswick Theological Seminary",
           "Private not-for-profit, 4-year or above",
           -74.449368,
           40.501314,
           "NJ"
          ],
          [
           "New College of Florida",
           "Public, 4-year or above",
           -82.55858,
           27.384925,
           "FL"
          ],
          [
           "New England College",
           "Private not-for-profit, 4-year or above",
           -71.822282,
           43.176403,
           "NH"
          ],
          [
           "New England College of Optometry",
           "Private not-for-profit, 4-year or above",
           -71.08682900000002,
           42.35185300000001,
           "MA"
          ],
          [
           "New England Institute of Technology",
           "Private not-for-profit, 4-year or above",
           -71.502892,
           41.661783,
           "RI"
          ],
          [
           "New England Law-Boston",
           "Private not-for-profit, 4-year or above",
           -71.0665,
           42.350833,
           "MA"
          ],
          [
           "New Hampshire Institute of Art",
           "Private not-for-profit, 4-year or above",
           -71.458947,
           42.992953,
           "NH"
          ],
          [
           "New Hope Christian College-Eugene",
           "Private not-for-profit, 4-year or above",
           -123.15355,
           44.032674,
           "OR"
          ],
          [
           "New Jersey City University",
           "Public, 4-year or above",
           -74.08726999999998,
           40.709937,
           "NJ"
          ],
          [
           "New Jersey Institute of Technology",
           "Public, 4-year or above",
           -74.177113,
           40.741997,
           "NJ"
          ],
          [
           "New Mexico Highlands University",
           "Public, 4-year or above",
           -105.219197,
           35.59623300000001,
           "NM"
          ],
          [
           "New Mexico Institute of Mining and Technology",
           "Public, 4-year or above",
           -106.905211,
           34.067041,
           "NM"
          ],
          [
           "New Mexico Junior College",
           "Public, 2-year",
           -103.182896,
           32.757808000000004,
           "NM"
          ],
          [
           "New Mexico Military Institute",
           "Public, 2-year",
           -104.524448,
           33.409617,
           "NM"
          ],
          [
           "New Mexico State University-Alamogordo",
           "Public, 2-year",
           -105.926241,
           32.92033,
           "NM"
          ],
          [
           "New Mexico State University-Carlsbad",
           "Public, 2-year",
           -104.265536,
           32.442028,
           "NM"
          ],
          [
           "New Mexico State University-Dona Ana",
           "Public, 2-year",
           -106.737172,
           32.354486,
           "NM"
          ],
          [
           "New Mexico State University-Grants",
           "Public, 2-year",
           -107.84363799999998,
           35.165965,
           "NM"
          ],
          [
           "New Mexico State University-Main Campus",
           "Public, 4-year or above",
           -106.752069,
           32.281568,
           "NM"
          ],
          [
           "New River Community and Technical College",
           "Public, 2-year",
           -81.136085,
           37.76767,
           "WV"
          ],
          [
           "New River Community College",
           "Public, 2-year",
           -80.69605,
           37.10523900000001,
           "VA"
          ],
          [
           "New York Academy of Art",
           "Private not-for-profit, 4-year or above",
           -74.006019,
           40.718388,
           "NY"
          ],
          [
           "New York Chiropractic College",
           "Private not-for-profit, 4-year or above",
           -76.756232,
           42.91173,
           "NY"
          ],
          [
           "New York College of Health Professions",
           "Private not-for-profit, 4-year or above",
           -73.516191,
           40.809329,
           "NY"
          ],
          [
           "New York College of Podiatric Medicine",
           "Private not-for-profit, 4-year or above",
           -73.940496,
           40.805037,
           "NY"
          ],
          [
           "New York College of Traditional Chinese Medicine",
           "Private not-for-profit, 4-year or above",
           -73.638911,
           40.73945,
           "NY"
          ],
          [
           "New York Institute of Technology",
           "Private not-for-profit, 4-year or above",
           -73.6078,
           40.812447,
           "NY"
          ],
          [
           "New York Law School",
           "Private not-for-profit, 4-year or above",
           -74.006969,
           40.717998,
           "NY"
          ],
          [
           "New York Medical College",
           "Private not-for-profit, 4-year or above",
           -73.81004200000002,
           41.085031,
           "NY"
          ],
          [
           "New York Methodist Hospital Center for Allied Health Education",
           "Private not-for-profit, 2-year",
           -73.958977,
           40.608783,
           "NY"
          ],
          [
           "New York School of Interior Design",
           "Private not-for-profit, 4-year or above",
           -73.962404,
           40.768615,
           "NY"
          ],
          [
           "New York Theological Seminary",
           "Private not-for-profit, 4-year or above",
           -73.96379300000002,
           40.810869,
           "NY"
          ],
          [
           "New York University",
           "Private not-for-profit, 4-year or above",
           -73.997264,
           40.729452,
           "NY"
          ],
          [
           "Newberry College",
           "Private not-for-profit, 4-year or above",
           -81.619777,
           34.285868,
           "SC"
          ],
          [
           "Newbury College",
           "Private not-for-profit, 4-year or above",
           -71.14208199999999,
           42.331032,
           "MA"
          ],
          [
           "Newman University",
           "Private not-for-profit, 4-year or above",
           -97.37768,
           37.672643,
           "KS"
          ],
          [
           "NHTI-Concord's Community College",
           "Public, 2-year",
           -71.531979,
           43.223621,
           "NH"
          ],
          [
           "Niagara County Community College",
           "Public, 2-year",
           -78.87579000000002,
           43.147701,
           "NY"
          ],
          [
           "Niagara University",
           "Private not-for-profit, 4-year or above",
           -79.036689,
           43.137279,
           "NY"
          ],
          [
           "Nicholls State University",
           "Public, 4-year or above",
           -90.801571,
           29.794486,
           "LA"
          ],
          [
           "Nichols College",
           "Private not-for-profit, 4-year or above",
           -71.930283,
           42.044033,
           "MA"
          ],
          [
           "Nicolet Area Technical College",
           "Public, 2-year",
           -89.425055,
           45.609542,
           "WI"
          ],
          [
           "Norco College",
           "Public, 2-year",
           -117.570212,
           33.917387,
           "CA"
          ],
          [
           "Norfolk State University",
           "Public, 4-year or above",
           -76.261375,
           36.848429,
           "VA"
          ],
          [
           "Normandale Community College",
           "Public, 2-year",
           -93.331673,
           44.829706,
           "MN"
          ],
          [
           "North American University",
           "Private not-for-profit, 4-year or above",
           -95.588338,
           29.646303000000003,
           "TX"
          ],
          [
           "North Arkansas College",
           "Public, 2-year",
           -93.08844,
           36.219909,
           "AR"
          ],
          [
           "North Bennet Street School",
           "Private not-for-profit, 2-year",
           -71.05452,
           42.36279,
           "MA"
          ],
          [
           "North Carolina A & T State University",
           "Public, 4-year or above",
           -79.773375,
           36.07282,
           "NC"
          ],
          [
           "North Carolina Central University",
           "Public, 4-year or above",
           -78.898602,
           35.974237,
           "NC"
          ],
          [
           "North Carolina State University at Raleigh",
           "Public, 4-year or above",
           -78.67451700000002,
           35.785111,
           "NC"
          ],
          [
           "North Carolina Wesleyan College",
           "Private not-for-profit, 4-year or above",
           -77.77398199999998,
           36.019665,
           "NC"
          ],
          [
           "North Central College",
           "Private not-for-profit, 4-year or above",
           -88.14279,
           41.77576,
           "IL"
          ],
          [
           "North Central Kansas Technical College",
           "Public, 2-year",
           -98.110826,
           39.482419,
           "KS"
          ],
          [
           "North Central Michigan College",
           "Public, 2-year",
           -84.954183,
           45.361727,
           "MI"
          ],
          [
           "North Central Missouri College",
           "Public, 2-year",
           -93.617353,
           40.078096,
           "MO"
          ],
          [
           "North Central State College",
           "Public, 2-year",
           -82.581582,
           40.798777,
           "OH"
          ],
          [
           "North Central Texas College",
           "Public, 2-year",
           -97.165273,
           33.618269,
           "TX"
          ],
          [
           "North Central University",
           "Private not-for-profit, 4-year or above",
           -93.261511,
           44.968625,
           "MN"
          ],
          [
           "North Country Community College",
           "Public, 2-year",
           -74.11998100000002,
           44.318645,
           "NY"
          ],
          [
           "North Dakota State College of Science",
           "Public, 2-year",
           -96.607379,
           46.27215800000001,
           "ND"
          ],
          [
           "North Dakota State University-Main Campus",
           "Public, 4-year or above",
           -96.800838,
           46.893127,
           "ND"
          ],
          [
           "North Florida Community College",
           "Public, 4-year or above",
           -83.420732,
           30.473841,
           "FL"
          ],
          [
           "North Georgia Technical College",
           "Public, 2-year",
           -83.530118,
           34.639721,
           "GA"
          ],
          [
           "North Greenville University",
           "Private not-for-profit, 4-year or above",
           -82.37026,
           35.069758,
           "SC"
          ],
          [
           "North Hennepin Community College",
           "Public, 2-year",
           -93.374536,
           45.106937,
           "MN"
          ],
          [
           "North Idaho College",
           "Public, 2-year",
           -116.798905,
           47.67569,
           "ID"
          ],
          [
           "North Iowa Area Community College",
           "Public, 2-year",
           -93.13126,
           43.157169,
           "IA"
          ],
          [
           "North Lake College",
           "Public, 2-year",
           -96.967106,
           32.871878,
           "TX"
          ],
          [
           "North Park University",
           "Private not-for-profit, 4-year or above",
           -87.709948,
           41.975268,
           "IL"
          ],
          [
           "North Seattle College",
           "Public, 4-year or above",
           -122.333584,
           47.698408,
           "WA"
          ],
          [
           "North Shore Community College",
           "Public, 2-year",
           -70.96804399999998,
           42.590103000000006,
           "MA"
          ],
          [
           "Northampton County Area Community College",
           "Public, 2-year",
           -75.32351,
           40.67253,
           "PA"
          ],
          [
           "Northcentral Technical College",
           "Public, 2-year",
           -89.64636899999998,
           44.986458,
           "WI"
          ],
          [
           "Northeast Alabama Community College",
           "Public, 2-year",
           -85.911664,
           34.545471,
           "AL"
          ],
          [
           "Northeast Catholic College",
           "Private not-for-profit, 4-year or above",
           -71.83444399999998,
           43.314908,
           "NH"
          ],
          [
           "Northeast Community College",
           "Public, 2-year",
           -97.396578,
           42.048647,
           "NE"
          ],
          [
           "Northeast Iowa Community College",
           "Public, 2-year",
           -91.867105,
           43.17523,
           "IA"
          ],
          [
           "Northeast Lakeview College",
           "Public, 2-year",
           -98.323246,
           29.545802,
           "TX"
          ],
          [
           "Northeast Mississippi Community College",
           "Public, 2-year",
           -88.562609,
           34.668339,
           "MS"
          ],
          [
           "Northeast Ohio Medical University",
           "Public, 4-year or above",
           -81.245302,
           41.102919,
           "OH"
          ],
          [
           "Northeast State Community College",
           "Public, 2-year",
           -82.408626,
           36.48558,
           "TN"
          ],
          [
           "Northeast Texas Community College",
           "Public, 2-year",
           -94.881862,
           33.104937,
           "TX"
          ],
          [
           "Northeast Wisconsin Technical College",
           "Public, 2-year",
           -88.105675,
           44.526467,
           "WI"
          ],
          [
           "Northeastern Illinois University",
           "Public, 4-year or above",
           -87.718983,
           41.980399,
           "IL"
          ],
          [
           "Northeastern Junior College",
           "Public, 2-year",
           -103.197329,
           40.63721500000001,
           "CO"
          ],
          [
           "Northeastern Oklahoma A&M College",
           "Public, 2-year",
           -94.867248,
           36.877255,
           "OK"
          ],
          [
           "Northeastern Seminary",
           "Private not-for-profit, 4-year or above",
           -77.8007,
           43.122873,
           "NY"
          ],
          [
           "Northeastern State University",
           "Public, 4-year or above",
           -94.967229,
           35.919939,
           "OK"
          ],
          [
           "Northeastern Technical College",
           "Public, 2-year",
           -79.939245,
           34.698248,
           "SC"
          ],
          [
           "Northeastern University",
           "Private not-for-profit, 4-year or above",
           -71.088782,
           42.339992,
           "MA"
          ],
          [
           "Northeastern University Professional Advancement Network",
           "Private not-for-profit, 4-year or above",
           -71.087841,
           42.339477,
           "MA"
          ],
          [
           "Northern Arizona University",
           "Public, 4-year or above",
           -111.653724,
           35.188449,
           "AZ"
          ],
          [
           "Northern Baptist Theological Seminary",
           "Private not-for-profit, 4-year or above",
           -87.99985500000003,
           41.842402,
           "IL"
          ],
          [
           "Northern Essex Community College",
           "Public, 2-year",
           -71.04904,
           42.79663400000001,
           "MA"
          ],
          [
           "Northern Illinois University",
           "Public, 4-year or above",
           -88.766428,
           41.933869,
           "IL"
          ],
          [
           "Northern Kentucky University",
           "Public, 4-year or above",
           -84.463483,
           39.029714,
           "KY"
          ],
          [
           "Northern Maine Community College",
           "Public, 2-year",
           -68.034796,
           46.694668,
           "ME"
          ],
          [
           "Northern Michigan University",
           "Public, 4-year or above",
           -87.40656800000002,
           46.559751,
           "MI"
          ],
          [
           "Northern New Mexico College",
           "Public, 4-year or above",
           -106.084395,
           36.004073,
           "NM"
          ],
          [
           "Northern Oklahoma College",
           "Public, 2-year",
           -97.295887,
           36.678649,
           "OK"
          ],
          [
           "Northern State University",
           "Public, 4-year or above",
           -98.484728,
           45.450829,
           "SD"
          ],
          [
           "Northern Virginia Community College",
           "Public, 2-year",
           -77.23667900000002,
           38.834039,
           "VA"
          ],
          [
           "Northland College",
           "Private not-for-profit, 4-year or above",
           -90.87476,
           46.579087,
           "WI"
          ],
          [
           "Northland Community and Technical College",
           "Public, 2-year",
           -96.162366,
           48.124969,
           "MN"
          ],
          [
           "Northland Pioneer College",
           "Public, 2-year",
           -110.142199,
           34.93031,
           "AZ"
          ],
          [
           "Northpoint Bible College",
           "Private not-for-profit, 4-year or above",
           -71.079336,
           42.765366,
           "MA"
          ],
          [
           "Northshore Technical Community College",
           "Public, 2-year",
           -89.845279,
           30.759099,
           "LA"
          ],
          [
           "NorthShore University HealthSystem School of Nurse Anesthesia",
           "Private not-for-profit, 4-year or above",
           -87.684445,
           42.065549,
           "IL"
          ],
          [
           "NorthWest Arkansas Community College",
           "Public, 2-year",
           -94.17289,
           36.357704,
           "AR"
          ],
          [
           "Northwest Christian University",
           "Private not-for-profit, 4-year or above",
           -123.079754,
           44.047483,
           "OR"
          ],
          [
           "Northwest College",
           "Public, 2-year",
           -108.761853,
           44.760656,
           "WY"
          ],
          [
           "Northwest Florida State College",
           "Public, 4-year or above",
           -86.47456,
           30.540017,
           "FL"
          ],
          [
           "Northwest Indian College",
           "Public, 4-year or above",
           -122.614656,
           48.794131,
           "WA"
          ],
          [
           "Northwest Iowa Community College",
           "Public, 2-year",
           -95.880639,
           43.184701,
           "IA"
          ],
          [
           "Northwest Kansas Technical College",
           "Public, 2-year",
           -101.70022,
           39.346424,
           "KS"
          ],
          [
           "Northwest Louisiana Technical College",
           "Public, 2-year",
           -93.26302,
           32.586037,
           "LA"
          ],
          [
           "Northwest Mississippi Community College",
           "Public, 2-year",
           -89.969525,
           34.625532,
           "MS"
          ],
          [
           "Northwest Missouri State University",
           "Public, 4-year or above",
           -94.883339,
           40.351692,
           "MO"
          ],
          [
           "Northwest Nazarene University",
           "Private not-for-profit, 4-year or above",
           -116.565783,
           43.562411,
           "ID"
          ],
          [
           "Northwest School of Wooden Boat Building",
           "Private not-for-profit, 2-year",
           -122.752588,
           48.03413,
           "WA"
          ],
          [
           "Northwest State Community College",
           "Public, 2-year",
           -84.297855,
           41.450596,
           "OH"
          ],
          [
           "Northwest Suburban College",
           "Private not-for-profit, 2-year",
           -88.004207,
           42.052481,
           "IL"
          ],
          [
           "Northwest Technical College",
           "Public, 2-year",
           -94.853974,
           47.452652,
           "MN"
          ],
          [
           "Northwest University",
           "Private not-for-profit, 4-year or above",
           -122.192763,
           47.657945,
           "WA"
          ],
          [
           "Northwest University-College of Adult and Professional Studies",
           "Private not-for-profit, 4-year or above",
           -122.195774,
           47.657502,
           "WA"
          ],
          [
           "Northwest Vista College",
           "Public, 2-year",
           -98.708405,
           29.471082,
           "TX"
          ],
          [
           "Northwest-Shoals Community College",
           "Public, 2-year",
           -87.678089,
           34.739788,
           "AL"
          ],
          [
           "Northwestern College",
           "Private not-for-profit, 4-year or above",
           -96.058772,
           42.999007,
           "IA"
          ],
          [
           "Northwestern Connecticut Community College",
           "Public, 2-year",
           -73.058734,
           41.920668,
           "CT"
          ],
          [
           "Northwestern Health Sciences University",
           "Private not-for-profit, 4-year or above",
           -93.311222,
           44.850963,
           "MN"
          ],
          [
           "Northwestern Michigan College",
           "Public, 4-year or above",
           -85.58551700000002,
           44.765436,
           "MI"
          ],
          [
           "Northwestern Oklahoma State University",
           "Public, 4-year or above",
           -98.667673,
           36.796658,
           "OK"
          ],
          [
           "Northwestern State University of Louisiana",
           "Public, 4-year or above",
           -93.097797,
           31.750666,
           "LA"
          ],
          [
           "Northwestern University",
           "Private not-for-profit, 4-year or above",
           -87.679858,
           42.050356,
           "IL"
          ],
          [
           "Northwood University",
           "Private not-for-profit, 4-year or above",
           -84.27682,
           43.628717,
           "MI"
          ],
          [
           "Norwalk Community College",
           "Public, 2-year",
           -73.450965,
           41.102574,
           "CT"
          ],
          [
           "Norwich University",
           "Private not-for-profit, 4-year or above",
           -72.65978299999998,
           44.140237,
           "VT"
          ],
          [
           "Notre Dame College",
           "Private not-for-profit, 4-year or above",
           -81.51661700000002,
           41.506894,
           "OH"
          ],
          [
           "Notre Dame de Namur University",
           "Private not-for-profit, 4-year or above",
           -122.284618,
           37.517501,
           "CA"
          ],
          [
           "Notre Dame of Maryland University",
           "Private not-for-profit, 4-year or above",
           -76.619739,
           39.350612,
           "MD"
          ],
          [
           "Nova Southeastern University",
           "Private not-for-profit, 4-year or above",
           -80.24248,
           26.079337,
           "FL"
          ],
          [
           "Nueta Hidatsa Sahnish College",
           "Public, 4-year or above",
           -102.472814,
           47.983311,
           "ND"
          ],
          [
           "Nunez Community College",
           "Public, 2-year",
           -89.95888000000002,
           29.954190000000004,
           "LA"
          ],
          [
           "Nyack College",
           "Private not-for-profit, 4-year or above",
           -73.927863,
           41.081957,
           "NY"
          ],
          [
           "O C Collins Career Center",
           "Public, 2-year",
           -82.473516,
           38.491898,
           "OH"
          ],
          [
           "O'More College of Design",
           "Private not-for-profit, 4-year or above",
           -86.868319,
           35.92022700000001,
           "TN"
          ],
          [
           "Oak Hills Christian College",
           "Private not-for-profit, 4-year or above",
           -94.901503,
           47.425836,
           "MN"
          ],
          [
           "Oakland City University",
           "Private not-for-profit, 4-year or above",
           -87.35144,
           38.340891,
           "IN"
          ],
          [
           "Oakland Community College",
           "Public, 2-year",
           -83.244787,
           42.595441,
           "MI"
          ],
          [
           "Oakland University",
           "Public, 4-year or above",
           -83.216418,
           42.674573,
           "MI"
          ],
          [
           "Oakton Community College",
           "Public, 2-year",
           -87.88064399999998,
           42.061893,
           "IL"
          ],
          [
           "Oakwood University",
           "Private not-for-profit, 4-year or above",
           -86.65270500000003,
           34.756344,
           "AL"
          ],
          [
           "Oberlin College",
           "Private not-for-profit, 4-year or above",
           -82.21679499999998,
           41.291992,
           "OH"
          ],
          [
           "Oblate School of Theology",
           "Private not-for-profit, 4-year or above",
           -98.503348,
           29.505488,
           "TX"
          ],
          [
           "Occidental College",
           "Private not-for-profit, 4-year or above",
           -118.210783,
           34.126224,
           "CA"
          ],
          [
           "Ocean County College",
           "Public, 2-year",
           -74.16549,
           40.007809,
           "NJ"
          ],
          [
           "Oconee Fall Line Technical College",
           "Public, 2-year",
           -82.839621,
           32.996687,
           "GA"
          ],
          [
           "Odessa College",
           "Public, 2-year",
           -102.383477,
           31.866812,
           "TX"
          ],
          [
           "Ogeechee Technical College",
           "Public, 2-year",
           -81.818517,
           32.395767,
           "GA"
          ],
          [
           "Oglala Lakota College",
           "Public, 4-year or above",
           -102.240331,
           43.366813,
           "SD"
          ],
          [
           "Oglethorpe University",
           "Private not-for-profit, 4-year or above",
           -84.333687,
           33.875440999999995,
           "GA"
          ],
          [
           "Ohio Christian University",
           "Private not-for-profit, 4-year or above",
           -82.904885,
           39.613155,
           "OH"
          ],
          [
           "Ohio Dominican University",
           "Private not-for-profit, 4-year or above",
           -82.940689,
           39.992764,
           "OH"
          ],
          [
           "Ohio Northern University",
           "Private not-for-profit, 4-year or above",
           -83.82744100000002,
           40.7662,
           "OH"
          ],
          [
           "Ohio State University Agricultural Technical Institute",
           "Public, 2-year",
           -81.92293599999998,
           40.775194,
           "OH"
          ],
          [
           "Ohio State University-Lima Campus",
           "Public, 4-year or above",
           -84.02384,
           40.738521,
           "OH"
          ],
          [
           "Ohio State University-Main Campus",
           "Public, 4-year or above",
           -83.014853,
           39.999324,
           "OH"
          ],
          [
           "Ohio State University-Mansfield Campus",
           "Public, 4-year or above",
           -82.58019399999998,
           40.796536,
           "OH"
          ],
          [
           "Ohio State University-Marion Campus",
           "Public, 4-year or above",
           -83.090597,
           40.577779,
           "OH"
          ],
          [
           "Ohio State University-Newark Campus",
           "Public, 4-year or above",
           -82.447441,
           40.069314,
           "OH"
          ],
          [
           "Ohio University-Chillicothe Campus",
           "Public, 4-year or above",
           -83.002175,
           39.329404,
           "OH"
          ],
          [
           "Ohio University-Eastern Campus",
           "Public, 4-year or above",
           -80.976073,
           40.073392,
           "OH"
          ],
          [
           "Ohio University-Lancaster Campus",
           "Public, 4-year or above",
           -82.586069,
           39.73875200000001,
           "OH"
          ],
          [
           "Ohio University-Main Campus",
           "Public, 4-year or above",
           -82.100985,
           39.326798,
           "OH"
          ],
          [
           "Ohio University-Southern Campus",
           "Public, 4-year or above",
           -82.666876,
           38.524781,
           "OH"
          ],
          [
           "Ohio University-Zanesville Campus",
           "Public, 4-year or above",
           -82.031063,
           39.96098,
           "OH"
          ],
          [
           "Ohio Valley University",
           "Private not-for-profit, 4-year or above",
           -81.537808,
           39.312447,
           "WV"
          ],
          [
           "Ohio Wesleyan University",
           "Private not-for-profit, 4-year or above",
           -83.069757,
           40.295963,
           "OH"
          ],
          [
           "Ohlone College",
           "Public, 2-year",
           -121.916339,
           37.52773,
           "CA"
          ],
          [
           "Ohr Hameir Theological Seminary",
           "Private not-for-profit, 4-year or above",
           -73.88979300000003,
           41.268725,
           "NY"
          ],
          [
           "Okaloosa Technical College",
           "Public, 2-year",
           -86.61484399999998,
           30.46866,
           "FL"
          ],
          [
           "Oklahoma Baptist University",
           "Private not-for-profit, 4-year or above",
           -96.932459,
           35.360492,
           "OK"
          ],
          [
           "Oklahoma Christian University",
           "Private not-for-profit, 4-year or above",
           -97.469526,
           35.611412,
           "OK"
          ],
          [
           "Oklahoma City Community College",
           "Public, 2-year",
           -97.570109,
           35.387699,
           "OK"
          ],
          [
           "Oklahoma City University",
           "Private not-for-profit, 4-year or above",
           -97.541242,
           35.495271,
           "OK"
          ],
          [
           "Oklahoma Panhandle State University",
           "Public, 4-year or above",
           -101.638488,
           36.594518,
           "OK"
          ],
          [
           "Oklahoma State University Center for Health Sciences",
           "Public, 4-year or above",
           -96.005702,
           36.137977,
           "OK"
          ],
          [
           "Oklahoma State University Institute of Technology",
           "Public, 4-year or above",
           -95.940373,
           35.62693400000001,
           "OK"
          ],
          [
           "Oklahoma State University-Main Campus",
           "Public, 4-year or above",
           -97.069743,
           36.123085,
           "OK"
          ],
          [
           "Oklahoma State University-Oklahoma City",
           "Public, 4-year or above",
           -97.581959,
           35.474969,
           "OK"
          ],
          [
           "Oklahoma Wesleyan University",
           "Private not-for-profit, 4-year or above",
           -95.95671,
           36.717453000000006,
           "OK"
          ],
          [
           "Old Dominion University",
           "Public, 4-year or above",
           -76.30666,
           36.886418,
           "VA"
          ],
          [
           "Olivet College",
           "Private not-for-profit, 4-year or above",
           -84.923891,
           42.442891,
           "MI"
          ],
          [
           "Olivet Nazarene University",
           "Private not-for-profit, 4-year or above",
           -87.875165,
           41.155237,
           "IL"
          ],
          [
           "Olney Central College",
           "Public, 2-year",
           -88.099589,
           38.735913,
           "IL"
          ],
          [
           "Olympic College",
           "Public, 4-year or above",
           -122.635113,
           47.574769,
           "WA"
          ],
          [
           "Omaha School of Massage and Healthcare of Herzing University",
           "Private not-for-profit, 2-year",
           -96.065044,
           41.203481,
           "NE"
          ],
          [
           "Onondaga Community College",
           "Public, 2-year",
           -76.197878,
           43.006329,
           "NY"
          ],
          [
           "Oral Roberts University",
           "Private not-for-profit, 4-year or above",
           -95.952547,
           36.049129,
           "OK"
          ],
          [
           "Orange Coast College",
           "Public, 2-year",
           -117.911401,
           33.670171,
           "CA"
          ],
          [
           "Orange County Community College",
           "Public, 2-year",
           -74.426028,
           41.438629,
           "NY"
          ],
          [
           "Orange Technical College-Mid Florida Campus",
           "Public, 2-year",
           -81.41599599999998,
           28.471695,
           "FL"
          ],
          [
           "Orange Technical College-Orlando Campus",
           "Public, 2-year",
           -81.383783,
           28.550422,
           "FL"
          ],
          [
           "Orange Technical College-Westside Campus",
           "Public, 2-year",
           -81.57153199999998,
           28.559574,
           "FL"
          ],
          [
           "Orangeburg Calhoun Technical College",
           "Public, 2-year",
           -80.82927,
           33.54485,
           "SC"
          ],
          [
           "Oregon Coast Community College",
           "Public, 2-year",
           -124.046973,
           44.603136,
           "OR"
          ],
          [
           "Oregon College of Art and Craft",
           "Private not-for-profit, 4-year or above",
           -122.761912,
           45.511121,
           "OR"
          ],
          [
           "Oregon College of Oriental Medicine",
           "Private not-for-profit, 4-year or above",
           -122.671099,
           45.524121,
           "OR"
          ],
          [
           "Oregon Health & Science University",
           "Public, 4-year or above",
           -122.686096,
           45.498772,
           "OR"
          ],
          [
           "Oregon Institute of Technology",
           "Public, 4-year or above",
           -121.785177,
           42.25715200000001,
           "OR"
          ],
          [
           "Oregon State University",
           "Public, 4-year or above",
           -123.274723,
           44.56395,
           "OR"
          ],
          [
           "Oregon State University-Cascades Campus",
           "Public, 4-year or above",
           -121.333703,
           44.042795,
           "OR"
          ],
          [
           "Orleans Technical College",
           "Private not-for-profit, 2-year",
           -75.011324,
           40.090338,
           "PA"
          ],
          [
           "Otero Junior College",
           "Public, 2-year",
           -103.544874,
           37.969984,
           "CO"
          ],
          [
           "Otis College of Art and Design",
           "Private not-for-profit, 4-year or above",
           -118.416615,
           33.956607,
           "CA"
          ],
          [
           "Ottawa University-Jeffersonville",
           "Private not-for-profit, 4-year or above",
           -85.71137,
           38.327179,
           "IN"
          ],
          [
           "Ottawa University-Kansas City",
           "Private not-for-profit, 4-year or above",
           -94.635461,
           38.932055,
           "KS"
          ],
          [
           "Ottawa University-Milwaukee",
           "Private not-for-profit, 4-year or above",
           -88.115185,
           43.02963,
           "WI"
          ],
          [
           "Ottawa University-Online",
           "Private not-for-profit, 4-year or above",
           -95.264165,
           38.602351,
           "KS"
          ],
          [
           "Ottawa University-Ottawa",
           "Private not-for-profit, 4-year or above",
           -95.264187,
           38.603173,
           "KS"
          ],
          [
           "Ottawa University-Phoenix",
           "Private not-for-profit, 4-year or above",
           -112.113001,
           33.572173,
           "AZ"
          ],
          [
           "Otterbein University",
           "Private not-for-profit, 4-year or above",
           -82.936444,
           40.125327,
           "OH"
          ],
          [
           "Ouachita Baptist University",
           "Private not-for-profit, 4-year or above",
           -93.052471,
           34.126093,
           "AR"
          ],
          [
           "Our Lady of the Lake University",
           "Private not-for-profit, 4-year or above",
           -98.54395,
           29.425611,
           "TX"
          ],
          [
           "Owens Community College",
           "Public, 2-year",
           -83.538634,
           41.587998,
           "OH"
          ],
          [
           "Owensboro Community and Technical College",
           "Public, 2-year",
           -87.082861,
           37.717355,
           "KY"
          ],
          [
           "Oxford Graduate School",
           "Private not-for-profit, 4-year or above",
           -85.053774,
           35.468142,
           "TN"
          ],
          [
           "Oxnard College",
           "Public, 2-year",
           -119.157604,
           34.166104,
           "CA"
          ],
          [
           "Ozark Christian College",
           "Private not-for-profit, 4-year or above",
           -94.510622,
           37.103172,
           "MO"
          ],
          [
           "Ozarka College",
           "Public, 2-year",
           -91.896355,
           36.053031,
           "AR"
          ],
          [
           "Ozarks Technical Community College",
           "Public, 2-year",
           -93.279985,
           37.216479,
           "MO"
          ],
          [
           "Pace University-New York",
           "Private not-for-profit, 4-year or above",
           -74.004719,
           40.711014,
           "NY"
          ],
          [
           "PACIFIC BIBLE COLLEGE",
           "Private not-for-profit, 2-year",
           -122.874107,
           42.324959,
           "OR"
          ],
          [
           "Pacific Lutheran University",
           "Private not-for-profit, 4-year or above",
           -122.440421,
           47.14516,
           "WA"
          ],
          [
           "Pacific Northwest College of Art",
           "Private not-for-profit, 4-year or above",
           -122.678182,
           45.526766,
           "OR"
          ],
          [
           "Pacific Northwest University of Health Sciences",
           "Private not-for-profit, 4-year or above",
           -120.45598,
           46.602872,
           "WA"
          ],
          [
           "Pacific Oaks College",
           "Private not-for-profit, 4-year or above",
           -118.151323,
           34.153382,
           "CA"
          ],
          [
           "Pacific Rim Christian University",
           "Private not-for-profit, 4-year or above",
           -157.888379,
           21.328198,
           "HI"
          ],
          [
           "Pacific School of Religion",
           "Private not-for-profit, 4-year or above",
           -122.263331,
           37.876599,
           "CA"
          ],
          [
           "Pacific States University",
           "Private not-for-profit, 4-year or above",
           -118.298408,
           34.061315,
           "CA"
          ],
          [
           "Pacific Union College",
           "Private not-for-profit, 4-year or above",
           -122.440308,
           38.570585,
           "CA"
          ],
          [
           "Pacific University",
           "Private not-for-profit, 4-year or above",
           -123.108777,
           45.521394,
           "OR"
          ],
          [
           "Paine College",
           "Private not-for-profit, 4-year or above",
           -81.993225,
           33.469545000000004,
           "GA"
          ],
          [
           "Palm Beach Atlantic University",
           "Private not-for-profit, 4-year or above",
           -80.05247,
           26.7044,
           "FL"
          ],
          [
           "Palm Beach State College",
           "Public, 4-year or above",
           -80.08653000000002,
           26.61256,
           "FL"
          ],
          [
           "Palmer College of Chiropractic",
           "Private not-for-profit, 4-year or above",
           -90.574607,
           41.529021,
           "IA"
          ],
          [
           "Palo Alto College",
           "Public, 2-year",
           -98.546713,
           29.322925,
           "TX"
          ],
          [
           "Palo Alto University",
           "Private not-for-profit, 4-year or above",
           -122.18743700000002,
           37.382216,
           "CA"
          ],
          [
           "Palo Verde College",
           "Public, 2-year",
           -114.651698,
           33.661538,
           "CA"
          ],
          [
           "Palomar College",
           "Public, 2-year",
           -117.181718,
           33.15019,
           "CA"
          ],
          [
           "Pamlico Community College",
           "Public, 2-year",
           -76.83372,
           35.068397999999995,
           "NC"
          ],
          [
           "Panola College",
           "Public, 2-year",
           -94.356355,
           32.156214,
           "TX"
          ],
          [
           "Paradise Valley Community College",
           "Public, 2-year",
           -112.009865,
           33.652134999999994,
           "AZ"
          ],
          [
           "Pardee RAND Graduate School",
           "Private not-for-profit, 4-year or above",
           -118.490655,
           34.00973,
           "CA"
          ],
          [
           "Paris Junior College",
           "Public, 2-year",
           -95.529177,
           33.650929,
           "TX"
          ],
          [
           "Park University",
           "Private not-for-profit, 4-year or above",
           -94.679041,
           39.189256,
           "MO"
          ],
          [
           "Parker University",
           "Private not-for-profit, 4-year or above",
           -96.893572,
           32.880340999999994,
           "TX"
          ],
          [
           "Parkland College",
           "Public, 2-year",
           -88.290359,
           40.131963,
           "IL"
          ],
          [
           "Pasadena City College",
           "Public, 2-year",
           -118.118196,
           34.144552000000004,
           "CA"
          ],
          [
           "Pasco-Hernando State College",
           "Public, 4-year or above",
           -82.646727,
           28.2751,
           "FL"
          ],
          [
           "Passaic County Community College",
           "Public, 2-year",
           -74.168778,
           40.918449,
           "NJ"
          ],
          [
           "Patrick Henry Community College",
           "Public, 2-year",
           -79.87113599999998,
           36.7379,
           "VA"
          ],
          [
           "Paul D Camp Community College",
           "Public, 2-year",
           -76.937572,
           36.674535,
           "VA"
          ],
          [
           "Paul Quinn College",
           "Private not-for-profit, 4-year or above",
           -96.755864,
           32.677195000000005,
           "TX"
          ],
          [
           "Paul Smiths College of Arts and Science",
           "Private not-for-profit, 4-year or above",
           -74.252675,
           44.433965,
           "NY"
          ],
          [
           "Payne Theological Seminary",
           "Private not-for-profit, 4-year or above",
           -83.88487099999998,
           39.715286,
           "OH"
          ],
          [
           "Pearl River Community College",
           "Public, 2-year",
           -89.543052,
           30.844322,
           "MS"
          ],
          [
           "Peirce College",
           "Private not-for-profit, 4-year or above",
           -75.166332,
           39.945483,
           "PA"
          ],
          [
           "Pellissippi State Community College",
           "Public, 2-year",
           -84.166504,
           35.948303,
           "TN"
          ],
          [
           "Peninsula College",
           "Public, 4-year or above",
           -123.412865,
           48.101295,
           "WA"
          ],
          [
           "Pennsylvania Academy of the Fine Arts",
           "Private not-for-profit, 4-year or above",
           -75.16345600000002,
           39.955692,
           "PA"
          ],
          [
           "Pennsylvania College of Art and Design",
           "Private not-for-profit, 4-year or above",
           -76.308769,
           40.041152,
           "PA"
          ],
          [
           "Pennsylvania College of Health Sciences",
           "Private not-for-profit, 4-year or above",
           -76.247035,
           40.060419,
           "PA"
          ],
          [
           "Pennsylvania College of Technology",
           "Public, 4-year or above",
           -77.02366500000002,
           41.234145,
           "PA"
          ],
          [
           "Pennsylvania Highlands Community College",
           "Public, 2-year",
           -78.837175,
           40.26408,
           "PA"
          ],
          [
           "Pennsylvania Institute of Technology",
           "Private not-for-profit, 2-year",
           -75.38893,
           39.908335,
           "PA"
          ],
          [
           "Pennsylvania State University-College of Medicine",
           "Public, 4-year or above",
           -76.67408,
           40.264245,
           "PA"
          ],
          [
           "Pennsylvania State University-Dickinson Law",
           "Public, 4-year or above",
           -77.19779399999999,
           40.199443,
           "PA"
          ],
          [
           "Pennsylvania State University-Main Campus",
           "Public, 4-year or above",
           -77.862848,
           40.7965,
           "PA"
          ],
          [
           "Pennsylvania State University-Penn State Abington",
           "Public, 4-year or above",
           -75.109083,
           40.11683,
           "PA"
          ],
          [
           "Pennsylvania State University-Penn State Altoona",
           "Public, 4-year or above",
           -78.408247,
           40.54092,
           "PA"
          ],
          [
           "Pennsylvania State University-Penn State Beaver",
           "Public, 4-year or above",
           -80.296235,
           40.678254,
           "PA"
          ],
          [
           "Pennsylvania State University-Penn State Berks",
           "Public, 4-year or above",
           -75.97214100000002,
           40.357987,
           "PA"
          ],
          [
           "Pennsylvania State University-Penn State Brandywine",
           "Public, 4-year or above",
           -75.44698299999997,
           39.926381,
           "PA"
          ],
          [
           "Pennsylvania State University-Penn State DuBois",
           "Public, 4-year or above",
           -78.751784,
           41.126941,
           "PA"
          ],
          [
           "Pennsylvania State University-Penn State Erie-Behrend College",
           "Public, 4-year or above",
           -79.983773,
           42.119433,
           "PA"
          ],
          [
           "Pennsylvania State University-Penn State Fayette- Eberly",
           "Public, 4-year or above",
           -79.65776899999999,
           39.947217,
           "PA"
          ],
          [
           "Pennsylvania State University-Penn State Great Valley",
           "Public, 4-year or above",
           -75.522545,
           40.052256,
           "PA"
          ],
          [
           "Pennsylvania State University-Penn State Greater Allegheny",
           "Public, 4-year or above",
           -79.82744699999998,
           40.345582,
           "PA"
          ],
          [
           "Pennsylvania State University-Penn State Harrisburg",
           "Public, 4-year or above",
           -76.7423,
           40.203766,
           "PA"
          ],
          [
           "Pennsylvania State University-Penn State Hazleton",
           "Public, 4-year or above",
           -76.031061,
           40.983958,
           "PA"
          ],
          [
           "Pennsylvania State University-Penn State Lehigh Valley",
           "Public, 4-year or above",
           -75.402507,
           40.559208,
           "PA"
          ],
          [
           "Pennsylvania State University-Penn State Mont Alto",
           "Public, 4-year or above",
           -77.542355,
           39.842047,
           "PA"
          ],
          [
           "Pennsylvania State University-Penn State New Kensington",
           "Public, 4-year or above",
           -79.697232,
           40.55115900000001,
           "PA"
          ],
          [
           "Pennsylvania State University-Penn State Schuylkill",
           "Public, 4-year or above",
           -76.166326,
           40.640499,
           "PA"
          ],
          [
           "Pennsylvania State University-Penn State Shenango",
           "Public, 4-year or above",
           -80.508764,
           41.235053,
           "PA"
          ],
          [
           "Pennsylvania State University-Penn State Wilkes-Barre",
           "Public, 4-year or above",
           -76.016599,
           41.306003,
           "PA"
          ],
          [
           "Pennsylvania State University-Penn State Worthington Scranton",
           "Public, 4-year or above",
           -75.620583,
           41.440258,
           "PA"
          ],
          [
           "Pennsylvania State University-Penn State York",
           "Public, 4-year or above",
           -76.702835,
           39.952327,
           "PA"
          ],
          [
           "Pennsylvania State University-World Campus",
           "Public, 4-year or above",
           -77.841594,
           40.832783,
           "PA"
          ],
          [
           "Pensacola State College",
           "Public, 4-year or above",
           -87.200265,
           30.479267,
           "FL"
          ],
          [
           "Pentecostal Theological Seminary",
           "Private not-for-profit, 4-year or above",
           -84.868326,
           35.162528,
           "TN"
          ],
          [
           "Pepperdine University",
           "Private not-for-profit, 4-year or above",
           -118.707077,
           34.037786,
           "CA"
          ],
          [
           "Perry Technical Institute",
           "Private not-for-profit, 2-year",
           -120.537976,
           46.571492,
           "WA"
          ],
          [
           "Peru State College",
           "Public, 4-year or above",
           -95.732731,
           40.474689,
           "NE"
          ],
          [
           "Pfeiffer University",
           "Private not-for-profit, 4-year or above",
           -80.283168,
           35.484696,
           "NC"
          ],
          [
           "Philadelphia College of Osteopathic Medicine",
           "Private not-for-profit, 4-year or above",
           -75.216092,
           40.004885,
           "PA"
          ],
          [
           "Philander Smith College",
           "Private not-for-profit, 4-year or above",
           -92.283015,
           34.737131,
           "AR"
          ],
          [
           "Phillips Community College of the University of Arkansas",
           "Public, 2-year",
           -90.616884,
           34.546155,
           "AR"
          ],
          [
           "Phillips Graduate University",
           "Private not-for-profit, 4-year or above",
           -118.567688,
           34.242,
           "CA"
          ],
          [
           "Phillips School of Nursing at Mount Sinai Beth Israel",
           "Private not-for-profit, 4-year or above",
           -73.990936,
           40.744973,
           "NY"
          ],
          [
           "Phillips Theological Seminary",
           "Private not-for-profit, 4-year or above",
           -95.868146,
           36.167983,
           "OK"
          ],
          [
           "Phoenix College",
           "Public, 2-year",
           -112.088293,
           33.481361,
           "AZ"
          ],
          [
           "Phoenix Seminary",
           "Private not-for-profit, 4-year or above",
           -111.910665,
           33.581645,
           "AZ"
          ],
          [
           "Pickens Technical College",
           "Public, 2-year",
           -104.789683,
           39.723705,
           "CO"
          ],
          [
           "Piedmont College",
           "Private not-for-profit, 4-year or above",
           -83.542126,
           34.566042,
           "GA"
          ],
          [
           "Piedmont Community College",
           "Public, 2-year",
           -78.98060699999998,
           36.431674,
           "NC"
          ],
          [
           "Piedmont International University",
           "Private not-for-profit, 4-year or above",
           -80.250153,
           36.087962,
           "NC"
          ],
          [
           "Piedmont Technical College",
           "Public, 2-year",
           -82.120635,
           34.207415000000005,
           "SC"
          ],
          [
           "Piedmont Virginia Community College",
           "Public, 2-year",
           -78.48371,
           38.006902,
           "VA"
          ],
          [
           "Pierce College-Fort Steilacoom",
           "Public, 4-year or above",
           -122.570935,
           47.172082,
           "WA"
          ],
          [
           "Pierce College-Puyallup",
           "Public, 2-year",
           -122.272365,
           47.156328,
           "WA"
          ],
          [
           "Pierpont Community and Technical College",
           "Public, 2-year",
           -80.162447,
           39.483057,
           "WV"
          ],
          [
           "Pikes Peak Community College",
           "Public, 2-year",
           -104.787261,
           38.764287,
           "CO"
          ],
          [
           "Pillar College",
           "Private not-for-profit, 4-year or above",
           -74.16915300000002,
           40.738539,
           "NJ"
          ],
          [
           "Pima Community College",
           "Public, 2-year",
           -110.886659,
           32.222125,
           "AZ"
          ],
          [
           "Pinchot University",
           "Private not-for-profit, 4-year or above",
           -122.331256,
           47.600511,
           "WA"
          ],
          [
           "Pine Manor College",
           "Private not-for-profit, 4-year or above",
           -71.156464,
           42.320827,
           "MA"
          ],
          [
           "Pine Technical & Community College",
           "Public, 2-year",
           -92.968283,
           45.818667,
           "MN"
          ],
          [
           "Pinellas Technical College-St. Petersburg",
           "Public, 2-year",
           -82.681534,
           27.761183000000006,
           "FL"
          ],
          [
           "Pitt Community College",
           "Public, 2-year",
           -77.40720300000002,
           35.550591,
           "NC"
          ],
          [
           "Pittsburg State University",
           "Public, 4-year or above",
           -94.702473,
           37.392071,
           "KS"
          ],
          [
           "Pittsburgh Institute of Aeronautics",
           "Private not-for-profit, 2-year",
           -79.926575,
           40.350804,
           "PA"
          ],
          [
           "Pittsburgh Institute of Mortuary Science Inc",
           "Private not-for-profit, 2-year",
           -79.930487,
           40.459175,
           "PA"
          ],
          [
           "Pittsburgh Technical College",
           "Private not-for-profit, 4-year or above",
           -80.18940400000002,
           40.424679,
           "PA"
          ],
          [
           "Pittsburgh Theological Seminary",
           "Private not-for-profit, 4-year or above",
           -79.921397,
           40.467347,
           "PA"
          ],
          [
           "Pitzer College",
           "Private not-for-profit, 4-year or above",
           -117.706675,
           34.104107,
           "CA"
          ],
          [
           "Plymouth State University",
           "Public, 4-year or above",
           -71.690164,
           43.759573,
           "NH"
          ],
          [
           "Point Loma Nazarene University",
           "Private not-for-profit, 4-year or above",
           -117.25026499999998,
           32.718391,
           "CA"
          ],
          [
           "Point Park University",
           "Private not-for-profit, 4-year or above",
           -80.002061,
           40.438768,
           "PA"
          ],
          [
           "Point University",
           "Private not-for-profit, 4-year or above",
           -85.184931,
           32.87912,
           "GA"
          ],
          [
           "Polk State College",
           "Public, 4-year or above",
           -81.711873,
           28.032411,
           "FL"
          ],
          [
           "Polytechnic University of Puerto Rico-Miami",
           "Private not-for-profit, 4-year or above",
           -80.328482,
           25.80915,
           "FL"
          ],
          [
           "Polytechnic University of Puerto Rico-Orlando",
           "Private not-for-profit, 4-year or above",
           -81.253943,
           28.55158,
           "FL"
          ],
          [
           "Pomeroy College of Nursing at Crouse Hospital",
           "Private not-for-profit, 2-year",
           -76.137558,
           43.040018,
           "NY"
          ],
          [
           "Pomona College",
           "Private not-for-profit, 4-year or above",
           -117.711944,
           34.098298,
           "CA"
          ],
          [
           "Pontifical College Josephinum",
           "Private not-for-profit, 4-year or above",
           -83.018829,
           40.120735,
           "OH"
          ],
          [
           "Pontifical Faculty of the Immaculate Conception at the Dominican House of Studies",
           "Private not-for-profit, 4-year or above",
           -76.998724,
           38.931652,
           "DC"
          ],
          [
           "Pontifical John Paul II Institute for Studies on Marriage and Family",
           "Private not-for-profit, 4-year or above",
           -76.99860600000002,
           38.933246,
           "DC"
          ],
          [
           "Pope St John XXIII National Seminary",
           "Private not-for-profit, 4-year or above",
           -71.311059,
           42.339408,
           "MA"
          ],
          [
           "Porterville College",
           "Public, 2-year",
           -119.014368,
           36.049256,
           "CA"
          ],
          [
           "Portland Actors Conservatory",
           "Private not-for-profit, 2-year",
           -122.687534,
           45.521752,
           "OR"
          ],
          [
           "Portland Community College",
           "Public, 2-year",
           -122.730876,
           45.438154,
           "OR"
          ],
          [
           "Portland State University",
           "Public, 4-year or above",
           -122.686289,
           45.511601,
           "OR"
          ],
          [
           "Potomac State College of West Virginia University",
           "Public, 4-year or above",
           -78.981441,
           39.438323,
           "WV"
          ],
          [
           "Prairie State College",
           "Public, 2-year",
           -87.63894300000003,
           41.525316,
           "IL"
          ],
          [
           "Prairie View A & M University",
           "Public, 4-year or above",
           -95.989475,
           30.092425,
           "TX"
          ],
          [
           "Pratt Community College",
           "Public, 2-year",
           -98.714538,
           37.654451,
           "KS"
          ],
          [
           "Pratt Institute-Main",
           "Private not-for-profit, 4-year or above",
           -73.96431,
           40.691297,
           "NY"
          ],
          [
           "Presbyterian College",
           "Private not-for-profit, 4-year or above",
           -81.87448,
           34.465834,
           "SC"
          ],
          [
           "Presbyterian Theological Seminary in America",
           "Private not-for-profit, 4-year or above",
           -118.047065,
           33.88856,
           "CA"
          ],
          [
           "Prescott College",
           "Private not-for-profit, 4-year or above",
           -112.477185,
           34.5452,
           "AZ"
          ],
          [
           "Presentation College",
           "Private not-for-profit, 4-year or above",
           -98.49129,
           45.483339,
           "SD"
          ],
          [
           "Presidio Graduate School",
           "Private not-for-profit, 4-year or above",
           -122.475292,
           37.80026,
           "CA"
          ],
          [
           "Prince George's Community College",
           "Public, 2-year",
           -76.824623,
           38.888689,
           "MD"
          ],
          [
           "Princeton Theological Seminary",
           "Private not-for-profit, 4-year or above",
           -74.66645,
           40.345849,
           "NJ"
          ],
          [
           "Princeton University",
           "Private not-for-profit, 4-year or above",
           -74.65936500000002,
           40.348732,
           "NJ"
          ],
          [
           "Providence Christian College",
           "Private not-for-profit, 4-year or above",
           -118.118842,
           34.172467,
           "CA"
          ],
          [
           "Providence College",
           "Private not-for-profit, 4-year or above",
           -71.437446,
           41.842742,
           "RI"
          ],
          [
           "Pueblo Community College",
           "Public, 4-year or above",
           -104.636258,
           38.262124,
           "CO"
          ],
          [
           "Purdue University Northwest",
           "Public, 4-year or above",
           -87.474236,
           41.584324,
           "IN"
          ],
          [
           "Purdue University-Main Campus",
           "Public, 4-year or above",
           -86.914435,
           40.428206,
           "IN"
          ],
          [
           "Queens University of Charlotte",
           "Private not-for-profit, 4-year or above",
           -80.83350899999998,
           35.189051,
           "NC"
          ],
          [
           "Quincy College",
           "Public, 2-year",
           -71.003476,
           42.252416,
           "MA"
          ],
          [
           "Quincy University",
           "Private not-for-profit, 4-year or above",
           -91.385975,
           39.938898,
           "IL"
          ],
          [
           "Quinebaug Valley Community College",
           "Public, 2-year",
           -71.889673,
           41.82623,
           "CT"
          ],
          [
           "Quinnipiac University",
           "Private not-for-profit, 4-year or above",
           -72.89411700000002,
           41.41891500000001,
           "CT"
          ],
          [
           "Quinsigamond Community College",
           "Public, 2-year",
           -71.79503000000003,
           42.31379,
           "MA"
          ],
          [
           "Rabbi Jacob Joseph School",
           "Private not-for-profit, 4-year or above",
           -74.397954,
           40.501001,
           "NJ"
          ],
          [
           "Rabbinical Academy Mesivta Rabbi Chaim Berlin",
           "Private not-for-profit, 4-year or above",
           -73.963702,
           40.618467,
           "NY"
          ],
          [
           "Rabbinical College Beth Shraga",
           "Private not-for-profit, 4-year or above",
           -74.07258,
           41.114116,
           "NY"
          ],
          [
           "Rabbinical College Bobover Yeshiva Bnei Zion",
           "Private not-for-profit, 4-year or above",
           -73.985026,
           40.631954,
           "NY"
          ],
          [
           "Rabbinical College of America",
           "Private not-for-profit, 4-year or above",
           -74.49878000000002,
           40.805705,
           "NJ"
          ],
          [
           "Rabbinical College of Long Island",
           "Private not-for-profit, 4-year or above",
           -73.670238,
           40.586427,
           "NY"
          ],
          [
           "Rabbinical College of Ohr Shimon Yisroel",
           "Private not-for-profit, 4-year or above",
           -73.956772,
           40.704389,
           "NY"
          ],
          [
           "Rabbinical College Ohr Yisroel",
           "Private not-for-profit, 4-year or above",
           -73.896524,
           40.629707,
           "NY"
          ],
          [
           "Rabbinical College Telshe",
           "Private not-for-profit, 4-year or above",
           -81.485261,
           41.593533,
           "OH"
          ],
          [
           "Rabbinical Seminary of America",
           "Private not-for-profit, 4-year or above",
           -73.817161,
           40.72308,
           "NY"
          ],
          [
           "Radford M Locklin Technical Center",
           "Public, 2-year",
           -87.09971,
           30.648077,
           "FL"
          ],
          [
           "Radford University",
           "Public, 4-year or above",
           -80.54973100000002,
           37.136914,
           "VA"
          ],
          [
           "Rainy River Community College",
           "Public, 2-year",
           -93.431603,
           48.590001,
           "MN"
          ],
          [
           "Ramapo College of New Jersey",
           "Public, 4-year or above",
           -74.174086,
           41.080942,
           "NJ"
          ],
          [
           "Randall University",
           "Private not-for-profit, 4-year or above",
           -97.491107,
           35.300757,
           "OK"
          ],
          [
           "Randolph College",
           "Private not-for-profit, 4-year or above",
           -79.17079,
           37.437429,
           "VA"
          ],
          [
           "Randolph Community College",
           "Public, 2-year",
           -79.828538,
           35.672814,
           "NC"
          ],
          [
           "Randolph-Macon College",
           "Private not-for-profit, 4-year or above",
           -77.47841600000002,
           37.76043,
           "VA"
          ],
          [
           "Ranger College",
           "Public, 2-year",
           -98.685215,
           32.456773,
           "TX"
          ],
          [
           "Ranken Technical College",
           "Private not-for-profit, 4-year or above",
           -90.248465,
           38.653303,
           "MO"
          ],
          [
           "Rappahannock Community College",
           "Public, 2-year",
           -76.623915,
           37.564433,
           "VA"
          ],
          [
           "Raritan Valley Community College",
           "Public, 2-year",
           -74.68812700000002,
           40.609681,
           "NJ"
          ],
          [
           "Reading Area Community College",
           "Public, 2-year",
           -75.935086,
           40.334861,
           "PA"
          ],
          [
           "Reading Hospital School of Health Sciences",
           "Private not-for-profit, 2-year",
           -75.950474,
           40.32606,
           "PA"
          ],
          [
           "Reconstructionist Rabbinical College",
           "Private not-for-profit, 4-year or above",
           -75.149506,
           40.08768900000001,
           "PA"
          ],
          [
           "Red Rocks Community College",
           "Public, 4-year or above",
           -105.150094,
           39.720277,
           "CO"
          ],
          [
           "Redlands Community College",
           "Public, 2-year",
           -97.974592,
           35.518475,
           "OK"
          ],
          [
           "Reed College",
           "Private not-for-profit, 4-year or above",
           -122.630348,
           45.48095900000001,
           "OR"
          ],
          [
           "Reedley College",
           "Public, 2-year",
           -119.45993,
           36.605968,
           "CA"
          ],
          [
           "Reformed Presbyterian Theological Seminary",
           "Private not-for-profit, 4-year or above",
           -79.897657,
           40.447417,
           "PA"
          ],
          [
           "Reformed University",
           "Private not-for-profit, 4-year or above",
           -84.07814,
           33.971965999999995,
           "GA"
          ],
          [
           "Regent University",
           "Private not-for-profit, 4-year or above",
           -76.194627,
           36.801173,
           "VA"
          ],
          [
           "Regis College",
           "Private not-for-profit, 4-year or above",
           -71.309126,
           42.351105,
           "MA"
          ],
          [
           "Regis University",
           "Private not-for-profit, 4-year or above",
           -105.030756,
           39.788175,
           "CO"
          ],
          [
           "Reid State Technical College",
           "Public, 2-year",
           -86.96479699999998,
           31.460265000000003,
           "AL"
          ],
          [
           "Reinhardt University",
           "Private not-for-profit, 4-year or above",
           -84.554264,
           34.319756,
           "GA"
          ],
          [
           "Relay Graduate School of Education",
           "Private not-for-profit, 4-year or above",
           -73.99340699999998,
           40.740511,
           "NY"
          ],
          [
           "Remington College-Baton Rouge Campus",
           "Private not-for-profit, 2-year",
           -91.052999,
           30.411857,
           "LA"
          ],
          [
           "Remington College-Cleveland Campus",
           "Private not-for-profit, 2-year",
           -81.579347,
           41.422951,
           "OH"
          ],
          [
           "Remington College-Dallas Campus",
           "Private not-for-profit, 4-year or above",
           -96.654112,
           32.8606,
           "TX"
          ],
          [
           "Remington College-Fort Worth Campus",
           "Private not-for-profit, 4-year or above",
           -97.213562,
           32.775981,
           "TX"
          ],
          [
           "Remington College-Heathrow Campus",
           "Private not-for-profit, 4-year or above",
           -81.359465,
           28.784765000000004,
           "FL"
          ],
          [
           "Remington College-Honolulu Campus",
           "Private not-for-profit, 4-year or above",
           -157.86002299999996,
           21.309273,
           "HI"
          ],
          [
           "Remington College-Houston Southeast Campus",
           "Private not-for-profit, 2-year",
           -95.123503,
           29.52528,
           "TX"
          ],
          [
           "Remington College-Lafayette Campus",
           "Private not-for-profit, 2-year",
           -92.023767,
           30.16862,
           "LA"
          ],
          [
           "Remington College-Little Rock Campus",
           "Private not-for-profit, 2-year",
           -92.393771,
           34.71308,
           "AR"
          ],
          [
           "Remington College-Memphis Campus",
           "Private not-for-profit, 4-year or above",
           -89.98988100000003,
           35.071403000000004,
           "TN"
          ],
          [
           "Remington College-Mobile Campus",
           "Private not-for-profit, 4-year or above",
           -88.145035,
           30.671139,
           "AL"
          ],
          [
           "Remington College-Nashville Campus",
           "Private not-for-profit, 2-year",
           -86.66562900000002,
           36.152337,
           "TN"
          ],
          [
           "Remington College-North Houston Campus",
           "Private not-for-profit, 4-year or above",
           -95.424917,
           29.946669,
           "TX"
          ],
          [
           "Remington College-Shreveport Campus",
           "Private not-for-profit, 4-year or above",
           -93.793578,
           32.403166,
           "LA"
          ],
          [
           "Rend Lake College",
           "Public, 2-year",
           -88.918283,
           38.131481,
           "IL"
          ],
          [
           "Rensselaer at Hartford",
           "Private not-for-profit, 4-year or above",
           -72.673916,
           41.773462,
           "CT"
          ],
          [
           "Rensselaer Polytechnic Institute",
           "Private not-for-profit, 4-year or above",
           -73.67664599999998,
           42.729978,
           "NY"
          ],
          [
           "Renton Technical College",
           "Public, 4-year or above",
           -122.176303,
           47.489206,
           "WA"
          ],
          [
           "Resurrection University",
           "Private not-for-profit, 4-year or above",
           -87.685291,
           41.90748,
           "IL"
          ],
          [
           "Rhode Island College",
           "Public, 4-year or above",
           -71.46556,
           41.842415,
           "RI"
          ],
          [
           "Rhode Island School of Design",
           "Private not-for-profit, 4-year or above",
           -71.407692,
           41.825935,
           "RI"
          ],
          [
           "Rhodes College",
           "Private not-for-profit, 4-year or above",
           -89.989187,
           35.154424,
           "TN"
          ],
          [
           "Rice University",
           "Private not-for-profit, 4-year or above",
           -95.402035,
           29.717897,
           "TX"
          ],
          [
           "Richard Bland College of William and Mary",
           "Public, 2-year",
           -77.39993199999998,
           37.156972,
           "VA"
          ],
          [
           "Richland College",
           "Public, 2-year",
           -96.730505,
           32.922141,
           "TX"
          ],
          [
           "Richland Community College",
           "Public, 2-year",
           -88.894125,
           39.883887,
           "IL"
          ],
          [
           "Richmond Community College",
           "Public, 2-year",
           -79.70964000000002,
           34.905252000000004,
           "NC"
          ],
          [
           "Richmont Graduate University",
           "Private not-for-profit, 4-year or above",
           -85.274642,
           35.036337,
           "TN"
          ],
          [
           "Rider University",
           "Private not-for-profit, 4-year or above",
           -74.737833,
           40.278796,
           "NJ"
          ],
          [
           "Ridgewater College",
           "Public, 2-year",
           -95.07305,
           45.138313,
           "MN"
          ],
          [
           "Ringling College of Art and Design",
           "Private not-for-profit, 4-year or above",
           -82.547803,
           27.360931,
           "FL"
          ],
          [
           "Rio Hondo College",
           "Public, 4-year or above",
           -118.033329,
           34.01987800000001,
           "CA"
          ],
          [
           "Rio Salado College",
           "Public, 2-year",
           -111.97417,
           33.413309000000005,
           "AZ"
          ],
          [
           "Ripon College",
           "Private not-for-profit, 4-year or above",
           -88.842333,
           43.844135,
           "WI"
          ],
          [
           "River Parishes Community College",
           "Public, 2-year",
           -90.930804,
           30.191006,
           "LA"
          ],
          [
           "River Valley Community College",
           "Public, 2-year",
           -72.333114,
           43.39904600000001,
           "NH"
          ],
          [
           "Riverland Community College",
           "Public, 2-year",
           -92.995626,
           43.676271,
           "MN"
          ],
          [
           "RIVEROAK Technical College",
           "Public, 2-year",
           -82.992512,
           30.281999,
           "FL"
          ],
          [
           "Riverside City College",
           "Public, 2-year",
           -117.38054,
           33.971481,
           "CA"
          ],
          [
           "Riverside College of Health Careers",
           "Private not-for-profit, 2-year",
           -76.456164,
           37.034972,
           "VA"
          ],
          [
           "Rivier University",
           "Private not-for-profit, 4-year or above",
           -71.45626,
           42.738676,
           "NH"
          ],
          [
           "Roane State Community College",
           "Public, 2-year",
           -84.620766,
           35.881291,
           "TN"
          ],
          [
           "Roane-Jackson Technical Center",
           "Public, 2-year",
           -81.561142,
           38.82254,
           "WV"
          ],
          [
           "Roanoke College",
           "Private not-for-profit, 4-year or above",
           -80.056433,
           37.29686,
           "VA"
          ],
          [
           "Roanoke-Chowan Community College",
           "Public, 2-year",
           -77.023662,
           36.324827,
           "NC"
          ],
          [
           "Robert Morgan Educational Center and Technical College",
           "Public, 2-year",
           -80.390054,
           25.599247,
           "FL"
          ],
          [
           "Robert Morris University",
           "Private not-for-profit, 4-year or above",
           -80.210468,
           40.520415,
           "PA"
          ],
          [
           "Robert Morris University Illinois",
           "Private not-for-profit, 4-year or above",
           -87.62706800000002,
           41.876278000000006,
           "IL"
          ],
          [
           "Roberts Wesleyan College",
           "Private not-for-profit, 4-year or above",
           -77.798498,
           43.125755,
           "NY"
          ],
          [
           "Robeson Community College",
           "Public, 2-year",
           -79.00664,
           34.675194,
           "NC"
          ],
          [
           "Rochester College",
           "Private not-for-profit, 4-year or above",
           -83.144959,
           42.667521,
           "MI"
          ],
          [
           "Rochester Community and Technical College",
           "Public, 2-year",
           -92.42321,
           44.014488,
           "MN"
          ],
          [
           "Rochester Institute of Technology",
           "Private not-for-profit, 4-year or above",
           -77.67385999999998,
           43.084188,
           "NY"
          ],
          [
           "Rock Valley College",
           "Public, 2-year",
           -88.993544,
           42.306174,
           "IL"
          ],
          [
           "Rockford University",
           "Private not-for-profit, 4-year or above",
           -89.019536,
           42.270639,
           "IL"
          ],
          [
           "Rockhurst University",
           "Private not-for-profit, 4-year or above",
           -94.573003,
           39.032318,
           "MO"
          ],
          [
           "Rockingham Community College",
           "Public, 2-year",
           -79.758353,
           36.388682,
           "NC"
          ],
          [
           "Rockland Community College",
           "Public, 2-year",
           -74.08596899999998,
           41.133929,
           "NY"
          ],
          [
           "Rocky Mountain College",
           "Private not-for-profit, 4-year or above",
           -108.554075,
           45.796522,
           "MT"
          ],
          [
           "Roger Williams University",
           "Private not-for-profit, 4-year or above",
           -71.260374,
           41.650214,
           "RI"
          ],
          [
           "Roger Williams University School of Law",
           "Private not-for-profit, 4-year or above",
           -71.261978,
           41.650974,
           "RI"
          ],
          [
           "Rogers State University",
           "Public, 4-year or above",
           -95.635718,
           36.321437,
           "OK"
          ],
          [
           "Rogue Community College",
           "Public, 2-year",
           -123.39326,
           42.412159,
           "OR"
          ],
          [
           "Rolla Technical Institute/Center",
           "Public, 2-year",
           -91.748741,
           37.947448,
           "MO"
          ],
          [
           "Rollins College",
           "Private not-for-profit, 4-year or above",
           -81.349239,
           28.592787,
           "FL"
          ],
          [
           "Roosevelt University",
           "Private not-for-profit, 4-year or above",
           -87.62495200000002,
           41.876055,
           "IL"
          ],
          [
           "Rosalind Franklin University of Medicine and Science",
           "Private not-for-profit, 4-year or above",
           -87.85963199999998,
           42.300069,
           "IL"
          ],
          [
           "Rose State College",
           "Public, 2-year",
           -97.414113,
           35.44372,
           "OK"
          ],
          [
           "Rose-Hulman Institute of Technology",
           "Private not-for-profit, 4-year or above",
           -87.32674899999998,
           39.48360200000001,
           "IN"
          ],
          [
           "Rosedale Bible College",
           "Private not-for-profit, 2-year",
           -83.456645,
           40.077583,
           "OH"
          ],
          [
           "Rosedale Technical College",
           "Private not-for-profit, 2-year",
           -80.103926,
           40.45205,
           "PA"
          ],
          [
           "Roseman University of Health Sciences",
           "Private not-for-profit, 4-year or above",
           -115.064633,
           36.073182,
           "NV"
          ],
          [
           "Rosemont College",
           "Private not-for-profit, 4-year or above",
           -75.32925,
           40.033417,
           "PA"
          ],
          [
           "Rowan College at Burlington County",
           "Public, 2-year",
           -74.894464,
           39.972205,
           "NJ"
          ],
          [
           "Rowan College at Gloucester County",
           "Public, 2-year",
           -75.121269,
           39.781339,
           "NJ"
          ],
          [
           "Rowan University",
           "Public, 4-year or above",
           -75.119119,
           39.709108,
           "NJ"
          ],
          [
           "Rowan-Cabarrus Community College",
           "Public, 2-year",
           -80.48181,
           35.63938800000001,
           "NC"
          ],
          [
           "Roxbury Community College",
           "Public, 2-year",
           -71.09549,
           42.329249,
           "MA"
          ],
          [
           "Rush University",
           "Private not-for-profit, 4-year or above",
           -87.668581,
           41.874742,
           "IL"
          ],
          [
           "Rust College",
           "Private not-for-profit, 4-year or above",
           -89.446999,
           34.776862,
           "MS"
          ],
          [
           "Rutgers University-Camden",
           "Public, 4-year or above",
           -75.12224,
           39.948064,
           "NJ"
          ],
          [
           "Rutgers University-New Brunswick",
           "Public, 4-year or above",
           -74.446251,
           40.498769,
           "NJ"
          ],
          [
           "Rutgers University-Newark",
           "Public, 4-year or above",
           -74.175809,
           40.739122,
           "NJ"
          ],
          [
           "SABER College",
           "Private not-for-profit, 2-year",
           -80.261299,
           25.771518,
           "FL"
          ],
          [
           "Sacramento City College",
           "Public, 2-year",
           -121.491139,
           38.541096,
           "CA"
          ],
          [
           "Sacred Heart Major Seminary",
           "Private not-for-profit, 4-year or above",
           -83.111682,
           42.375248,
           "MI"
          ],
          [
           "Sacred Heart Seminary and School of Theology",
           "Private not-for-profit, 4-year or above",
           -88.04438,
           42.910829,
           "WI"
          ],
          [
           "Sacred Heart University",
           "Private not-for-profit, 4-year or above",
           -73.243332,
           41.220893,
           "CT"
          ],
          [
           "Saddleback College",
           "Public, 2-year",
           -117.665584,
           33.553346000000005,
           "CA"
          ],
          [
           "Saginaw Chippewa Tribal College",
           "Public, 2-year",
           -84.732485,
           43.607105,
           "MI"
          ],
          [
           "Saginaw Valley State University",
           "Public, 4-year or above",
           -83.96427299999998,
           43.51176,
           "MI"
          ],
          [
           "Saint Ambrose University",
           "Private not-for-profit, 4-year or above",
           -90.579854,
           41.54065,
           "IA"
          ],
          [
           "Saint Anselm College",
           "Private not-for-profit, 4-year or above",
           -71.503622,
           42.986889,
           "NH"
          ],
          [
           "Saint Anthony College of Nursing",
           "Private not-for-profit, 4-year or above",
           -88.991968,
           42.310147,
           "IL"
          ],
          [
           "Saint Augustine College",
           "Private not-for-profit, 4-year or above",
           -87.662806,
           41.972414,
           "IL"
          ],
          [
           "Saint Augustine's University",
           "Private not-for-profit, 4-year or above",
           -78.621301,
           35.785468,
           "NC"
          ],
          [
           "Saint Charles Borromeo Seminary-Overbrook",
           "Private not-for-profit, 4-year or above",
           -75.255675,
           39.99133,
           "PA"
          ],
          [
           "Saint Cloud State University",
           "Public, 4-year or above",
           -94.152657,
           45.553227,
           "MN"
          ],
          [
           "Saint Edward's University",
           "Private not-for-profit, 4-year or above",
           -97.75763,
           30.229844,
           "TX"
          ],
          [
           "Saint Elizabeth College of Nursing",
           "Private not-for-profit, 2-year",
           -75.26785699999998,
           43.082768,
           "NY"
          ],
          [
           "Saint Elizabeth School of Nursing",
           "Private not-for-profit, 2-year",
           -86.88083,
           40.427401,
           "IN"
          ],
          [
           "Saint Francis Medical Center College of Nursing",
           "Private not-for-profit, 4-year or above",
           -89.590322,
           40.701241,
           "IL"
          ],
          [
           "Saint Francis Medical Center School of Nursing",
           "Private not-for-profit, 2-year",
           -74.74186,
           40.216523,
           "NJ"
          ],
          [
           "Saint Francis University",
           "Private not-for-profit, 4-year or above",
           -78.63904000000002,
           40.506734,
           "PA"
          ],
          [
           "Saint John Fisher College",
           "Private not-for-profit, 4-year or above",
           -77.513056,
           43.116259,
           "NY"
          ],
          [
           "Saint John Vianney College Seminary",
           "Private not-for-profit, 4-year or above",
           -80.337411,
           25.742579,
           "FL"
          ],
          [
           "Saint John's Seminary",
           "Private not-for-profit, 4-year or above",
           -71.161998,
           42.344146,
           "MA"
          ],
          [
           "Saint Johns River State College",
           "Public, 4-year or above",
           -81.681387,
           29.647516,
           "FL"
          ],
          [
           "Saint Johns University",
           "Private not-for-profit, 4-year or above",
           -94.393621,
           45.580075,
           "MN"
          ],
          [
           "Saint Joseph Seminary College",
           "Private not-for-profit, 4-year or above",
           -90.113621,
           30.526778000000004,
           "LA"
          ],
          [
           "Saint Joseph's College of Maine",
           "Private not-for-profit, 4-year or above",
           -70.483373,
           43.826314,
           "ME"
          ],
          [
           "Saint Joseph's University",
           "Private not-for-profit, 4-year or above",
           -75.238343,
           39.994442,
           "PA"
          ],
          [
           "Saint Leo University",
           "Private not-for-profit, 4-year or above",
           -82.257801,
           28.336776,
           "FL"
          ],
          [
           "Saint Louis Christian College",
           "Private not-for-profit, 4-year or above",
           -90.294569,
           38.775771,
           "MO"
          ],
          [
           "Saint Louis Community College",
           "Public, 2-year",
           -90.190701,
           38.62273,
           "MO"
          ],
          [
           "Saint Louis University",
           "Private not-for-profit, 4-year or above",
           -90.2351,
           38.636801,
           "MO"
          ],
          [
           "Saint Luke's College of Health Sciences",
           "Private not-for-profit, 4-year or above",
           -94.594656,
           39.051884,
           "MO"
          ],
          [
           "Saint Martin's University",
           "Private not-for-profit, 4-year or above",
           -122.816354,
           47.041068,
           "WA"
          ],
          [
           "Saint Mary's College",
           "Private not-for-profit, 4-year or above",
           -86.256947,
           41.707274,
           "IN"
          ],
          [
           "Saint Mary's College of California",
           "Private not-for-profit, 4-year or above",
           -122.109031,
           37.840731,
           "CA"
          ],
          [
           "Saint Mary's University of Minnesota",
           "Private not-for-profit, 4-year or above",
           -91.695449,
           44.044736,
           "MN"
          ],
          [
           "Saint Mary-of-the-Woods College",
           "Private not-for-profit, 4-year or above",
           -87.463791,
           39.508546,
           "IN"
          ],
          [
           "Saint Meinrad School of Theology",
           "Private not-for-profit, 4-year or above",
           -86.810388,
           38.165546,
           "IN"
          ],
          [
           "Saint Michael's College",
           "Private not-for-profit, 4-year or above",
           -73.167069,
           44.49455800000001,
           "VT"
          ],
          [
           "Saint Norbert College",
           "Private not-for-profit, 4-year or above",
           -88.067812,
           44.44483,
           "WI"
          ],
          [
           "Saint Paul College",
           "Public, 2-year",
           -93.109646,
           44.949186,
           "MN"
          ],
          [
           "Saint Paul School of Theology",
           "Private not-for-profit, 4-year or above",
           -94.641277,
           38.880458,
           "KS"
          ],
          [
           "Saint Peter's University",
           "Private not-for-profit, 4-year or above",
           -74.071541,
           40.727105,
           "NJ"
          ],
          [
           "Saint Vincent College",
           "Private not-for-profit, 4-year or above",
           -79.403762,
           40.29265,
           "PA"
          ],
          [
           "Saint Vincent de Paul Regional Seminary",
           "Private not-for-profit, 4-year or above",
           -80.125185,
           26.516538,
           "FL"
          ],
          [
           "Saint Vincent Seminary",
           "Private not-for-profit, 4-year or above",
           -79.403762,
           40.29265,
           "PA"
          ],
          [
           "Saint Vladimirs Orthodox Theological Seminary",
           "Private not-for-profit, 4-year or above",
           -73.82435799999998,
           40.969393,
           "NY"
          ],
          [
           "Saint Xavier University",
           "Private not-for-profit, 4-year or above",
           -87.714749,
           41.707199,
           "IL"
          ],
          [
           "Salem College",
           "Private not-for-profit, 4-year or above",
           -80.241297,
           36.086271,
           "NC"
          ],
          [
           "Salem Community College",
           "Public, 2-year",
           -75.47013000000003,
           39.698756,
           "NJ"
          ],
          [
           "Salem State University",
           "Public, 4-year or above",
           -70.89023399999998,
           42.503575,
           "MA"
          ],
          [
           "Salina Area Technical College",
           "Public, 2-year",
           -97.636892,
           38.793582,
           "KS"
          ],
          [
           "Salisbury University",
           "Public, 4-year or above",
           -75.604815,
           38.34648,
           "MD"
          ],
          [
           "Salish Kootenai College",
           "Private not-for-profit, 4-year or above",
           -114.111635,
           47.598592,
           "MT"
          ],
          [
           "Salt Lake Community College",
           "Public, 2-year",
           -111.942809,
           40.671575,
           "UT"
          ],
          [
           "Salus University",
           "Private not-for-profit, 4-year or above",
           -75.129511,
           40.085774,
           "PA"
          ],
          [
           "Salve Regina University",
           "Private not-for-profit, 4-year or above",
           -71.30124,
           41.471545,
           "RI"
          ],
          [
           "Sam Houston State University",
           "Public, 4-year or above",
           -95.546205,
           30.714738,
           "TX"
          ],
          [
           "Samaritan Hospital School of Nursing",
           "Private not-for-profit, 2-year",
           -73.676151,
           42.742861,
           "NY"
          ],
          [
           "Samford University",
           "Private not-for-profit, 4-year or above",
           -86.791799,
           33.464128,
           "AL"
          ],
          [
           "Sampson Community College",
           "Public, 2-year",
           -78.361136,
           34.99086,
           "NC"
          ],
          [
           "Samuel Merritt University",
           "Private not-for-profit, 4-year or above",
           -122.266331,
           37.82029,
           "CA"
          ],
          [
           "San Antonio College",
           "Public, 2-year",
           -98.497647,
           29.446340000000006,
           "TX"
          ],
          [
           "San Bernardino Valley College",
           "Public, 2-year",
           -117.313248,
           34.086353,
           "CA"
          ],
          [
           "San Diego Christian College",
           "Private not-for-profit, 4-year or above",
           -116.978112,
           32.842403999999995,
           "CA"
          ],
          [
           "San Diego City College",
           "Public, 2-year",
           -117.151641,
           32.718855,
           "CA"
          ],
          [
           "San Diego Mesa College",
           "Public, 4-year or above",
           -117.169165,
           32.803825,
           "CA"
          ],
          [
           "San Diego Miramar College",
           "Public, 2-year",
           -117.120888,
           32.909546,
           "CA"
          ],
          [
           "San Diego State University",
           "Public, 4-year or above",
           -117.071228,
           32.77525,
           "CA"
          ],
          [
           "San Francisco Art Institute",
           "Private not-for-profit, 4-year or above",
           -122.417,
           37.803575,
           "CA"
          ],
          [
           "San Francisco Conservatory of Music",
           "Private not-for-profit, 4-year or above",
           -122.420292,
           37.775543,
           "CA"
          ],
          [
           "San Francisco State University",
           "Public, 4-year or above",
           -122.477905,
           37.721345,
           "CA"
          ],
          [
           "San Francisco Theological Seminary",
           "Private not-for-profit, 4-year or above",
           -122.565407,
           37.969952,
           "CA"
          ],
          [
           "San Jacinto Community College",
           "Public, 2-year",
           -95.115941,
           29.660335,
           "TX"
          ],
          [
           "San Joaquin College of Law",
           "Private not-for-profit, 4-year or above",
           -119.697657,
           36.82448,
           "CA"
          ],
          [
           "San Joaquin Delta College",
           "Public, 2-year",
           -121.317226,
           37.994643,
           "CA"
          ],
          [
           "San Jose City College",
           "Public, 2-year",
           -121.926185,
           37.315827,
           "CA"
          ],
          [
           "San Jose State University",
           "Public, 4-year or above",
           -121.880621,
           37.336569,
           "CA"
          ],
          [
           "San Juan College",
           "Public, 2-year",
           -108.169468,
           36.770446,
           "NM"
          ],
          [
           "Sandhills Community College",
           "Public, 2-year",
           -79.40635,
           35.220086,
           "NC"
          ],
          [
           "Sanford Medical Center",
           "Private not-for-profit, 2-year",
           -96.74341,
           43.535591,
           "SD"
          ],
          [
           "Santa Ana College",
           "Public, 4-year or above",
           -117.888384,
           33.759203,
           "CA"
          ],
          [
           "Santa Barbara City College",
           "Public, 2-year",
           -119.698045,
           34.406788,
           "CA"
          ],
          [
           "Santa Clara University",
           "Private not-for-profit, 4-year or above",
           -121.93784,
           37.348362,
           "CA"
          ],
          [
           "Santa Fe College",
           "Public, 4-year or above",
           -82.433143,
           29.681037,
           "FL"
          ],
          [
           "Santa Fe Community College",
           "Public, 2-year",
           -105.998054,
           35.605871,
           "NM"
          ],
          [
           "Santa Monica College",
           "Public, 4-year or above",
           -118.469765,
           34.017022,
           "CA"
          ],
          [
           "Santa Rosa Junior College",
           "Public, 2-year",
           -122.720689,
           38.45416,
           "CA"
          ],
          [
           "Santiago Canyon College",
           "Public, 2-year",
           -117.766762,
           33.795449,
           "CA"
          ],
          [
           "Sarah Lawrence College",
           "Private not-for-profit, 4-year or above",
           -73.843727,
           40.9355,
           "NY"
          ],
          [
           "Sauk Valley Community College",
           "Public, 2-year",
           -89.59648299999998,
           41.817659,
           "IL"
          ],
          [
           "Savannah College of Art and Design",
           "Private not-for-profit, 4-year or above",
           -81.093849,
           32.072963,
           "GA"
          ],
          [
           "Savannah State University",
           "Public, 4-year or above",
           -81.063377,
           32.024781,
           "GA"
          ],
          [
           "Savannah Technical College",
           "Public, 2-year",
           -81.11475300000002,
           32.023211,
           "GA"
          ],
          [
           "Saybrook University",
           "Private not-for-profit, 4-year or above",
           -122.27239099999998,
           37.80446,
           "CA"
          ],
          [
           "Schenectady County Community College",
           "Public, 2-year",
           -73.950008,
           42.814412,
           "NY"
          ],
          [
           "School of Architecture at Taliesin",
           "Private not-for-profit, 4-year or above",
           -111.845411,
           33.607097,
           "AZ"
          ],
          [
           "School of Missionary Aviation Technology",
           "Private not-for-profit, 2-year",
           -85.07224000000002,
           42.941371,
           "MI"
          ],
          [
           "School of Professional Horticulture  New York Botanical Garden",
           "Private not-for-profit, 2-year",
           -73.878164,
           40.866742,
           "NY"
          ],
          [
           "School of the Art Institute of Chicago",
           "Private not-for-profit, 4-year or above",
           -87.62575799999998,
           41.88105,
           "IL"
          ],
          [
           "Schoolcraft College",
           "Public, 4-year or above",
           -83.43095799999998,
           42.419279,
           "MI"
          ],
          [
           "Schreiner University",
           "Private not-for-profit, 4-year or above",
           -99.130586,
           30.031458,
           "TX"
          ],
          [
           "Scottsdale Community College",
           "Public, 2-year",
           -111.885186,
           33.51135,
           "AZ"
          ],
          [
           "Scripps College",
           "Private not-for-profit, 4-year or above",
           -117.711294,
           34.104147,
           "CA"
          ],
          [
           "Seattle Central College",
           "Public, 4-year or above",
           -122.321231,
           47.616748,
           "WA"
          ],
          [
           "Seattle Pacific University",
           "Private not-for-profit, 4-year or above",
           -122.361667,
           47.650214,
           "WA"
          ],
          [
           "Seattle University",
           "Private not-for-profit, 4-year or above",
           -122.318851,
           47.608859,
           "WA"
          ],
          [
           "Selma University",
           "Private not-for-profit, 4-year or above",
           -87.032392,
           32.420387,
           "AL"
          ],
          [
           "Seminar L'moros Bais Yaakov",
           "Private not-for-profit, 2-year",
           -73.985376,
           40.634863,
           "NY"
          ],
          [
           "Seminole State College",
           "Public, 2-year",
           -96.704908,
           35.249515,
           "OK"
          ],
          [
           "Seminole State College of Florida",
           "Public, 4-year or above",
           -81.308003,
           28.745482,
           "FL"
          ],
          [
           "Sentara College of Health Sciences",
           "Private not-for-profit, 4-year or above",
           -76.242722,
           36.777001,
           "VA"
          ],
          [
           "Seton Hall University",
           "Private not-for-profit, 4-year or above",
           -74.246027,
           40.742336,
           "NJ"
          ],
          [
           "Seton Hill University",
           "Private not-for-profit, 4-year or above",
           -79.55743299999997,
           40.309407,
           "PA"
          ],
          [
           "Sewanee-The University of the South",
           "Private not-for-profit, 4-year or above",
           -85.917772,
           35.20443,
           "TN"
          ],
          [
           "Seward County Community College",
           "Public, 2-year",
           -100.917695,
           37.059807,
           "KS"
          ],
          [
           "Sh'or Yoshuv Rabbinical College",
           "Private not-for-profit, 4-year or above",
           -73.740085,
           40.605227,
           "NY"
          ],
          [
           "Shasta Bible College and Graduate School",
           "Private not-for-profit, 4-year or above",
           -122.314419,
           40.566034,
           "CA"
          ],
          [
           "Shasta College",
           "Public, 4-year or above",
           -122.317982,
           40.625731,
           "CA"
          ],
          [
           "Shaw University",
           "Private not-for-profit, 4-year or above",
           -78.637693,
           35.771181,
           "NC"
          ],
          [
           "Shawnee Community College",
           "Public, 2-year",
           -89.03352,
           37.270198,
           "IL"
          ],
          [
           "Shawnee State University",
           "Public, 4-year or above",
           -82.993769,
           38.730867,
           "OH"
          ],
          [
           "Shelton State Community College",
           "Public, 2-year",
           -87.56148,
           33.120531,
           "AL"
          ],
          [
           "Shenandoah University",
           "Private not-for-profit, 4-year or above",
           -78.158376,
           39.166058,
           "VA"
          ],
          [
           "Shepherd University",
           "Public, 4-year or above",
           -77.804101,
           39.43307100000001,
           "WV"
          ],
          [
           "Shepherds College",
           "Private not-for-profit, 2-year",
           -88.062268,
           42.680369,
           "WI"
          ],
          [
           "Shepherds Theological Seminary",
           "Private not-for-profit, 4-year or above",
           -78.742623,
           35.744334,
           "NC"
          ],
          [
           "Sheridan College",
           "Public, 2-year",
           -106.941105,
           44.763926,
           "WY"
          ],
          [
           "Sheridan Technical College",
           "Public, 2-year",
           -80.198024,
           26.031736,
           "FL"
          ],
          [
           "Sherman College of Straight Chiropractic",
           "Private not-for-profit, 4-year or above",
           -81.985878,
           35.014602000000004,
           "SC"
          ],
          [
           "Shiloh University",
           "Private not-for-profit, 4-year or above",
           -91.705724,
           41.459135,
           "IA"
          ],
          [
           "Shippensburg University of Pennsylvania",
           "Public, 4-year or above",
           -77.522335,
           40.057933,
           "PA"
          ],
          [
           "Shoreline Community College",
           "Public, 2-year",
           -122.358626,
           47.747402,
           "WA"
          ],
          [
           "Shorter College",
           "Private not-for-profit, 2-year",
           -92.261331,
           34.75933,
           "AR"
          ],
          [
           "Shorter University",
           "Private not-for-profit, 4-year or above",
           -85.196529,
           34.257543,
           "GA"
          ],
          [
           "Shorter University-College of Adult & Professional Programs",
           "Private not-for-profit, 4-year or above",
           -84.482166,
           33.92788,
           "GA"
          ],
          [
           "Siena College",
           "Private not-for-profit, 4-year or above",
           -73.7526,
           42.717602,
           "NY"
          ],
          [
           "Siena Heights University",
           "Private not-for-profit, 4-year or above",
           -84.01884100000002,
           41.905624,
           "MI"
          ],
          [
           "Sierra College",
           "Public, 2-year",
           -121.211688,
           38.790773,
           "CA"
          ],
          [
           "Sierra Nevada College",
           "Private not-for-profit, 4-year or above",
           -119.939125,
           39.244278,
           "NV"
          ],
          [
           "Signature Healthcare Brockton Hospital School of Nursing",
           "Private not-for-profit, 2-year",
           -70.991415,
           42.08736,
           "MA"
          ],
          [
           "Silver Lake College of the Holy Family",
           "Private not-for-profit, 4-year or above",
           -87.742961,
           44.071038,
           "WI"
          ],
          [
           "Simmons College",
           "Private not-for-profit, 4-year or above",
           -71.099967,
           42.3393,
           "MA"
          ],
          [
           "Simmons College of Kentucky",
           "Private not-for-profit, 4-year or above",
           -85.764811,
           38.239519,
           "KY"
          ],
          [
           "Simpson College",
           "Private not-for-profit, 4-year or above",
           -93.563471,
           41.365503,
           "IA"
          ],
          [
           "Simpson University",
           "Private not-for-profit, 4-year or above",
           -122.333048,
           40.61331,
           "CA"
          ],
          [
           "Sinclair Community College",
           "Public, 2-year",
           -84.20062800000002,
           39.757598,
           "OH"
          ],
          [
           "Sinte Gleska University",
           "Private not-for-profit, 4-year or above",
           -100.622549,
           43.298878,
           "SD"
          ],
          [
           "Sioux Falls Seminary",
           "Private not-for-profit, 4-year or above",
           -96.735896,
           43.525446,
           "SD"
          ],
          [
           "Sisseton Wahpeton College",
           "Public, 2-year",
           -97.060835,
           45.562731,
           "SD"
          ],
          [
           "SIT Graduate Institute",
           "Private not-for-profit, 4-year or above",
           -72.56738,
           42.891035,
           "VT"
          ],
          [
           "Sitting Bull College",
           "Public, 4-year or above",
           -100.674735,
           46.085288,
           "ND"
          ],
          [
           "Skagit Valley College",
           "Public, 4-year or above",
           -122.30894,
           48.437194,
           "WA"
          ],
          [
           "Skidmore College",
           "Private not-for-profit, 4-year or above",
           -73.785335,
           43.097035,
           "NY"
          ],
          [
           "Skyline College",
           "Public, 4-year or above",
           -122.467335,
           37.63042,
           "CA"
          ],
          [
           "Slippery Rock University of Pennsylvania",
           "Public, 4-year or above",
           -80.045965,
           41.062719,
           "PA"
          ],
          [
           "Smith College",
           "Private not-for-profit, 4-year or above",
           -72.638097,
           42.318111,
           "MA"
          ],
          [
           "Snead State Community College",
           "Public, 2-year",
           -86.16989699999998,
           34.201495,
           "AL"
          ],
          [
           "Snow College",
           "Public, 4-year or above",
           -111.58296,
           39.360177,
           "UT"
          ],
          [
           "Soka University of America",
           "Private not-for-profit, 4-year or above",
           -117.735344,
           33.554546,
           "CA"
          ],
          [
           "Solano Community College",
           "Public, 4-year or above",
           -122.122368,
           38.235881,
           "CA"
          ],
          [
           "Somerset Community College",
           "Public, 2-year",
           -84.61754599999998,
           37.059599,
           "KY"
          ],
          [
           "Sonoma State University",
           "Public, 4-year or above",
           -122.677066,
           38.340274,
           "CA"
          ],
          [
           "South Arkansas Community College",
           "Public, 2-year",
           -92.666087,
           33.209446,
           "AR"
          ],
          [
           "South Baylo University",
           "Private not-for-profit, 4-year or above",
           -117.958663,
           33.847936,
           "CA"
          ],
          [
           "South Carolina State University",
           "Public, 4-year or above",
           -80.848722,
           33.497968,
           "SC"
          ],
          [
           "South Central College",
           "Public, 2-year",
           -94.047428,
           44.174319,
           "MN"
          ],
          [
           "South Central Louisiana Technical College",
           "Public, 2-year",
           -91.197848,
           29.690728000000004,
           "LA"
          ],
          [
           "South Dakota School of Mines and Technology",
           "Public, 4-year or above",
           -103.205753,
           44.075439,
           "SD"
          ],
          [
           "South Dakota State University",
           "Public, 4-year or above",
           -96.782139,
           44.317485,
           "SD"
          ],
          [
           "South Florida Bible College and Theological Seminary",
           "Private not-for-profit, 4-year or above",
           -80.134508,
           26.302940000000003,
           "FL"
          ],
          [
           "South Florida State College",
           "Public, 4-year or above",
           -81.508667,
           27.569740000000003,
           "FL"
          ],
          [
           "South Georgia State College",
           "Public, 4-year or above",
           -82.855231,
           31.495903,
           "GA"
          ],
          [
           "South Georgia Technical College",
           "Public, 2-year",
           -84.188321,
           32.116663,
           "GA"
          ],
          [
           "South Louisiana Community College",
           "Public, 2-year",
           -92.050933,
           30.218616,
           "LA"
          ],
          [
           "South Mountain Community College",
           "Public, 2-year",
           -112.032635,
           33.382406,
           "AZ"
          ],
          [
           "South Piedmont Community College",
           "Public, 2-year",
           -80.211087,
           35.000312,
           "NC"
          ],
          [
           "South Plains College",
           "Public, 2-year",
           -102.365075,
           33.575904,
           "TX"
          ],
          [
           "South Puget Sound Community College",
           "Public, 2-year",
           -122.929578,
           47.023698,
           "WA"
          ],
          [
           "South Seattle College",
           "Public, 4-year or above",
           -122.352672,
           47.5475,
           "WA"
          ],
          [
           "South Suburban College",
           "Public, 2-year",
           -87.619123,
           41.606427,
           "IL"
          ],
          [
           "South Texas College",
           "Public, 4-year or above",
           -98.253634,
           26.217591,
           "TX"
          ],
          [
           "South Texas College of Law Houston",
           "Private not-for-profit, 4-year or above",
           -95.36455,
           29.753171,
           "TX"
          ],
          [
           "Southcentral Kentucky Community and Technical College",
           "Public, 2-year",
           -86.47671700000002,
           36.984827,
           "KY"
          ],
          [
           "Southeast Arkansas College",
           "Public, 2-year",
           -92.025936,
           34.210309,
           "AR"
          ],
          [
           "Southeast Community College Area",
           "Public, 2-year",
           -96.62818,
           40.81079,
           "NE"
          ],
          [
           "Southeast Kentucky Community and Technical College",
           "Public, 2-year",
           -82.997661,
           36.966051,
           "KY"
          ],
          [
           "Southeast Missouri Hospital College of Nursing and Health Sciences",
           "Private not-for-profit, 4-year or above",
           -89.54587,
           37.302453,
           "MO"
          ],
          [
           "Southeast Missouri State University",
           "Public, 4-year or above",
           -89.531187,
           37.311107,
           "MO"
          ],
          [
           "Southeast Technical Institute",
           "Public, 2-year",
           -96.780241,
           43.570446,
           "SD"
          ],
          [
           "Southeastern Baptist College",
           "Private not-for-profit, 4-year or above",
           -89.149373,
           31.748512,
           "MS"
          ],
          [
           "Southeastern Baptist Theological Seminary",
           "Private not-for-profit, 4-year or above",
           -78.513755,
           35.981858,
           "NC"
          ],
          [
           "Southeastern Community College",
           "Public, 2-year",
           -78.783365,
           34.331749,
           "NC"
          ],
          [
           "Southeastern Community College",
           "Public, 2-year",
           -91.171881,
           40.81449600000001,
           "IA"
          ],
          [
           "Southeastern Illinois College",
           "Public, 2-year",
           -88.436631,
           37.75174000000001,
           "IL"
          ],
          [
           "Southeastern Louisiana University",
           "Public, 4-year or above",
           -90.468676,
           30.514652,
           "LA"
          ],
          [
           "Southeastern Oklahoma State University",
           "Public, 4-year or above",
           -96.376864,
           34.006808,
           "OK"
          ],
          [
           "Southeastern Technical College",
           "Public, 2-year",
           -82.365827,
           32.20393,
           "GA"
          ],
          [
           "Southeastern University",
           "Private not-for-profit, 4-year or above",
           -81.918382,
           28.029733,
           "FL"
          ],
          [
           "Southern Adventist University",
           "Private not-for-profit, 4-year or above",
           -85.050878,
           35.049136,
           "TN"
          ],
          [
           "Southern Arkansas University Main Campus",
           "Public, 4-year or above",
           -93.235922,
           33.291618,
           "AR"
          ],
          [
           "Southern Arkansas University Tech",
           "Public, 2-year",
           -92.721629,
           33.628367,
           "AR"
          ],
          [
           "Southern California Institute of Architecture",
           "Private not-for-profit, 4-year or above",
           -118.232799,
           34.044215,
           "CA"
          ],
          [
           "Southern California Seminary",
           "Private not-for-profit, 4-year or above",
           -116.90546100000002,
           32.799614,
           "CA"
          ],
          [
           "Southern California University of Health Sciences",
           "Private not-for-profit, 4-year or above",
           -117.983401,
           33.922965999999995,
           "CA"
          ],
          [
           "Southern College of Optometry",
           "Private not-for-profit, 4-year or above",
           -90.019856,
           35.138252,
           "TN"
          ],
          [
           "Southern Connecticut State University",
           "Public, 4-year or above",
           -72.947897,
           41.333225,
           "CT"
          ],
          [
           "Southern Crescent Technical College",
           "Public, 2-year",
           -84.291662,
           33.255438,
           "GA"
          ],
          [
           "Southern Illinois University-Carbondale",
           "Public, 4-year or above",
           -89.21727299999998,
           37.714193,
           "IL"
          ],
          [
           "Southern Illinois University-Edwardsville",
           "Public, 4-year or above",
           -89.99777900000002,
           38.793949,
           "IL"
          ],
          [
           "Southern Maine Community College",
           "Public, 2-year",
           -70.229182,
           43.646649,
           "ME"
          ],
          [
           "Southern Methodist University",
           "Private not-for-profit, 4-year or above",
           -96.784855,
           32.845254,
           "TX"
          ],
          [
           "Southern Nazarene University",
           "Private not-for-profit, 4-year or above",
           -97.629504,
           35.513295,
           "OK"
          ],
          [
           "Southern New Hampshire University",
           "Private not-for-profit, 4-year or above",
           -71.451842,
           43.038922,
           "NH"
          ],
          [
           "Southern Oregon University",
           "Public, 4-year or above",
           -122.695081,
           42.185077,
           "OR"
          ],
          [
           "Southern Regional Technical College",
           "Public, 2-year",
           -83.9514,
           30.863799,
           "GA"
          ],
          [
           "Southern State Community College",
           "Public, 2-year",
           -83.614085,
           39.236924,
           "OH"
          ],
          [
           "Southern Union State Community College",
           "Public, 2-year",
           -85.57238199999998,
           33.128785,
           "AL"
          ],
          [
           "Southern University and A & M College",
           "Public, 4-year or above",
           -91.190105,
           30.524558000000006,
           "LA"
          ],
          [
           "Southern University at New Orleans",
           "Public, 4-year or above",
           -90.044912,
           30.026162,
           "LA"
          ],
          [
           "Southern University at Shreveport",
           "Public, 2-year",
           -93.834559,
           32.545632,
           "LA"
          ],
          [
           "Southern University Law Center",
           "Public, 4-year or above",
           -91.194417,
           30.523898,
           "LA"
          ],
          [
           "Southern Utah University",
           "Public, 4-year or above",
           -113.070146,
           37.674617,
           "UT"
          ],
          [
           "Southern Vermont College",
           "Private not-for-profit, 4-year or above",
           -73.218518,
           42.867713,
           "VT"
          ],
          [
           "Southern Virginia University",
           "Private not-for-profit, 4-year or above",
           -79.35037,
           37.740368,
           "VA"
          ],
          [
           "Southern Wesleyan University",
           "Private not-for-profit, 4-year or above",
           -82.761586,
           34.728068,
           "SC"
          ],
          [
           "Southern West Virginia Community and Technical College",
           "Public, 2-year",
           -82.023014,
           37.851756,
           "WV"
          ],
          [
           "Southside Virginia Community College",
           "Public, 2-year",
           -77.917964,
           36.839073,
           "VA"
          ],
          [
           "Southwest Baptist University",
           "Private not-for-profit, 4-year or above",
           -93.407056,
           37.602425,
           "MO"
          ],
          [
           "Southwest College of Naturopathic Medicine & Health Sciences",
           "Private not-for-profit, 4-year or above",
           -111.89442,
           33.40789,
           "AZ"
          ],
          [
           "Southwest Collegiate Institute for the Deaf",
           "Public, 2-year",
           -101.503419,
           32.227753,
           "TX"
          ],
          [
           "Southwest Minnesota State University",
           "Public, 4-year or above",
           -95.759548,
           44.45373,
           "MN"
          ],
          [
           "Southwest Mississippi Community College",
           "Public, 2-year",
           -90.443295,
           31.295121,
           "MS"
          ],
          [
           "Southwest Technology Center",
           "Public, 2-year",
           -99.341161,
           34.668194,
           "OK"
          ],
          [
           "Southwest Tennessee Community College",
           "Public, 2-year",
           -90.03654300000002,
           35.137577,
           "TN"
          ],
          [
           "Southwest Texas Junior College",
           "Public, 2-year",
           -99.741245,
           29.219676,
           "TX"
          ],
          [
           "Southwest Virginia Community College",
           "Public, 2-year",
           -81.79668199999998,
           37.006196,
           "VA"
          ],
          [
           "Southwest Wisconsin Technical College",
           "Public, 2-year",
           -90.637714,
           42.976238,
           "WI"
          ],
          [
           "Southwestern Adventist University",
           "Private not-for-profit, 4-year or above",
           -97.32702,
           32.397617,
           "TX"
          ],
          [
           "Southwestern Assemblies of God University",
           "Private not-for-profit, 4-year or above",
           -96.853492,
           32.40443,
           "TX"
          ],
          [
           "Southwestern Christian College",
           "Private not-for-profit, 4-year or above",
           -96.285649,
           32.735508,
           "TX"
          ],
          [
           "Southwestern Christian University",
           "Private not-for-profit, 4-year or above",
           -97.63934,
           35.513314,
           "OK"
          ],
          [
           "Southwestern College",
           "Private not-for-profit, 4-year or above",
           -106.052585,
           35.636241,
           "NM"
          ],
          [
           "Southwestern College",
           "Public, 2-year",
           -116.997215,
           32.641566999999995,
           "CA"
          ],
          [
           "Southwestern College",
           "Private not-for-profit, 4-year or above",
           -96.975405,
           37.248608,
           "KS"
          ],
          [
           "Southwestern Community College",
           "Public, 2-year",
           -83.20712900000002,
           35.348575,
           "NC"
          ],
          [
           "Southwestern Community College",
           "Public, 2-year",
           -94.380906,
           41.073437,
           "IA"
          ],
          [
           "Southwestern Illinois College",
           "Public, 2-year",
           -89.92446600000002,
           38.516406,
           "IL"
          ],
          [
           "Southwestern Indian Polytechnic Institute",
           "Public, 2-year",
           -106.664475,
           35.176084,
           "NM"
          ],
          [
           "Southwestern Law School",
           "Private not-for-profit, 4-year or above",
           -118.288375,
           34.061558000000005,
           "CA"
          ],
          [
           "Southwestern Michigan College",
           "Public, 2-year",
           -86.08271500000002,
           41.965095,
           "MI"
          ],
          [
           "Southwestern Oklahoma State University",
           "Public, 4-year or above",
           -98.707768,
           35.535281,
           "OK"
          ],
          [
           "Southwestern Oregon Community College",
           "Public, 2-year",
           -124.25224,
           43.395327,
           "OR"
          ],
          [
           "Southwestern University",
           "Private not-for-profit, 4-year or above",
           -97.665738,
           30.634341,
           "TX"
          ],
          [
           "SOWELA Technical Community College",
           "Public, 2-year",
           -93.16252,
           30.217331,
           "LA"
          ],
          [
           "Spalding University",
           "Private not-for-profit, 4-year or above",
           -85.757725,
           38.242407,
           "KY"
          ],
          [
           "Spartanburg Community College",
           "Public, 2-year",
           -81.989811,
           34.974587,
           "SC"
          ],
          [
           "Spartanburg Methodist College",
           "Private not-for-profit, 2-year",
           -81.970863,
           34.955117,
           "SC"
          ],
          [
           "Spelman College",
           "Private not-for-profit, 4-year or above",
           -84.411527,
           33.745279,
           "GA"
          ],
          [
           "Spertus College",
           "Private not-for-profit, 4-year or above",
           -87.624785,
           41.873881,
           "IL"
          ],
          [
           "Spokane Community College",
           "Public, 4-year or above",
           -117.360065,
           47.674034000000006,
           "WA"
          ],
          [
           "Spokane Falls Community College",
           "Public, 4-year or above",
           -117.463538,
           47.676741,
           "WA"
          ],
          [
           "Spoon River College",
           "Public, 2-year",
           -90.07233,
           40.527991,
           "IL"
          ],
          [
           "Spring Arbor University",
           "Private not-for-profit, 4-year or above",
           -84.556074,
           42.206568,
           "MI"
          ],
          [
           "Spring Hill College",
           "Private not-for-profit, 4-year or above",
           -88.138199,
           30.694751,
           "AL"
          ],
          [
           "Springfield College",
           "Private not-for-profit, 4-year or above",
           -72.556751,
           42.101576,
           "MA"
          ],
          [
           "Springfield College-School of Professional and Continuing Studies",
           "Private not-for-profit, 4-year or above",
           -72.556647,
           42.1022,
           "MA"
          ],
          [
           "Springfield Technical Community College",
           "Public, 2-year",
           -72.581598,
           42.108393,
           "MA"
          ],
          [
           "St Bernard's School of Theology and Ministry",
           "Private not-for-profit, 4-year or above",
           -77.526326,
           43.102185,
           "NY"
          ],
          [
           "St Bonaventure University",
           "Private not-for-profit, 4-year or above",
           -78.481107,
           42.080191,
           "NY"
          ],
          [
           "St Catherine University",
           "Private not-for-profit, 4-year or above",
           -93.183761,
           44.924926,
           "MN"
          ],
          [
           "St Charles Community College",
           "Public, 2-year",
           -90.641105,
           38.759703,
           "MO"
          ],
          [
           "St Clair County Community College",
           "Public, 2-year",
           -82.428717,
           42.979494,
           "MI"
          ],
          [
           "St Cloud Technical and Community College",
           "Public, 2-year",
           -94.175841,
           45.579065,
           "MN"
          ],
          [
           "St Francis College",
           "Private not-for-profit, 4-year or above",
           -73.992164,
           40.69322800000001,
           "NY"
          ],
          [
           "St Francis Medical Center-School of Radiologic Technology",
           "Private not-for-profit, 2-year",
           -74.741869,
           40.216592,
           "NJ"
          ],
          [
           "St John's University-New York",
           "Private not-for-profit, 4-year or above",
           -73.796104,
           40.722523,
           "NY"
          ],
          [
           "St Joseph School of Nursing",
           "Private not-for-profit, 2-year",
           -71.478401,
           42.750142,
           "NH"
          ],
          [
           "St Joseph's College of Nursing at St Joseph's Hospital Health Center",
           "Private not-for-profit, 2-year",
           -76.14835500000002,
           43.055355,
           "NY"
          ],
          [
           "St Lawrence University",
           "Private not-for-profit, 4-year or above",
           -75.161343,
           44.589879,
           "NY"
          ],
          [
           "St Luke's College",
           "Private not-for-profit, 4-year or above",
           -96.404724,
           42.520081,
           "IA"
          ],
          [
           "St Margaret School of Nursing",
           "Private not-for-profit, 2-year",
           -79.863106,
           40.491687,
           "PA"
          ],
          [
           "St Mary's College of Maryland",
           "Public, 4-year or above",
           -76.43105899999998,
           38.188075,
           "MD"
          ],
          [
           "St Olaf College",
           "Private not-for-profit, 4-year or above",
           -93.182039,
           44.461529,
           "MN"
          ],
          [
           "St Petersburg College",
           "Public, 4-year or above",
           -82.717331,
           27.902420000000006,
           "FL"
          ],
          [
           "St Philip's College",
           "Public, 2-year",
           -98.452987,
           29.41456,
           "TX"
          ],
          [
           "St Thomas University",
           "Private not-for-profit, 4-year or above",
           -80.253273,
           25.922071,
           "FL"
          ],
          [
           "St Vincent's College",
           "Private not-for-profit, 4-year or above",
           -73.20110600000002,
           41.201198,
           "CT"
          ],
          [
           "St. Andrews University",
           "Private not-for-profit, 4-year or above",
           -79.478567,
           34.74563,
           "NC"
          ],
          [
           "St. John's College",
           "Private not-for-profit, 4-year or above",
           -76.491359,
           38.981598,
           "MD"
          ],
          [
           "St. John's College",
           "Private not-for-profit, 4-year or above",
           -105.912478,
           35.666974,
           "NM"
          ],
          [
           "St. John's College-Department of Nursing",
           "Private not-for-profit, 4-year or above",
           -89.64532,
           39.807602,
           "IL"
          ],
          [
           "St. Joseph's College-Long Island",
           "Private not-for-profit, 4-year or above",
           -73.024661,
           40.775933,
           "NY"
          ],
          [
           "St. Joseph's College-New York",
           "Private not-for-profit, 4-year or above",
           -73.967664,
           40.690418,
           "NY"
          ],
          [
           "St. Louis College of Pharmacy",
           "Private not-for-profit, 4-year or above",
           -90.260617,
           38.636904,
           "MO"
          ],
          [
           "St. Mary's University",
           "Private not-for-profit, 4-year or above",
           -98.562778,
           29.453244,
           "TX"
          ],
          [
           "St. Thomas Aquinas College",
           "Private not-for-profit, 4-year or above",
           -73.936799,
           41.041576,
           "NY"
          ],
          [
           "Stanford University",
           "Private not-for-profit, 4-year or above",
           -122.167359,
           37.429434,
           "CA"
          ],
          [
           "Stanly Community College",
           "Public, 2-year",
           -80.236303,
           35.339895,
           "NC"
          ],
          [
           "Stark State College",
           "Public, 2-year",
           -81.439017,
           40.870597,
           "OH"
          ],
          [
           "Starr King School for the Ministry",
           "Private not-for-profit, 4-year or above",
           -122.261778,
           37.876939,
           "CA"
          ],
          [
           "State College of Florida-Manatee-Sarasota",
           "Public, 4-year or above",
           -82.590887,
           27.43804,
           "FL"
          ],
          [
           "State Fair Community College",
           "Public, 2-year",
           -93.268028,
           38.696423,
           "MO"
          ],
          [
           "State Technical College of Missouri",
           "Public, 2-year",
           -91.814259,
           38.467699,
           "MO"
          ],
          [
           "State University of New York at New Paltz",
           "Public, 4-year or above",
           -74.082188,
           41.740936,
           "NY"
          ],
          [
           "Stella and Charles Guttman Community College",
           "Public, 2-year",
           -73.984131,
           40.75281,
           "NY"
          ],
          [
           "Stephen F Austin State University",
           "Public, 4-year or above",
           -94.64908,
           31.621056,
           "TX"
          ],
          [
           "Stephens College",
           "Private not-for-profit, 4-year or above",
           -92.319204,
           38.95204,
           "MO"
          ],
          [
           "Sterling College",
           "Private not-for-profit, 4-year or above",
           -98.208644,
           38.219937,
           "KS"
          ],
          [
           "Sterling College",
           "Private not-for-profit, 4-year or above",
           -72.382372,
           44.65225,
           "VT"
          ],
          [
           "Stetson University",
           "Private not-for-profit, 4-year or above",
           -81.30074599999998,
           29.035475,
           "FL"
          ],
          [
           "Stevens Institute of Technology",
           "Private not-for-profit, 4-year or above",
           -74.025334,
           40.744776,
           "NJ"
          ],
          [
           "Stevens-Henager College",
           "Private not-for-profit, 4-year or above",
           -112.011617,
           41.232847,
           "UT"
          ],
          [
           "Stevens-Henager College",
           "Private not-for-profit, 4-year or above",
           -111.713264,
           40.269691,
           "UT"
          ],
          [
           "Stevens-Henager College",
           "Private not-for-profit, 4-year or above",
           -116.27828999999998,
           43.591087,
           "ID"
          ],
          [
           "Stevens-Henager College",
           "Private not-for-profit, 4-year or above",
           -113.557643,
           37.095406,
           "UT"
          ],
          [
           "Stevens-Henager College",
           "Private not-for-profit, 4-year or above",
           -111.835961,
           41.71803900000001,
           "UT"
          ],
          [
           "Stevens-Henager College",
           "Private not-for-profit, 4-year or above",
           -112.05156,
           43.48346,
           "ID"
          ],
          [
           "Stevens-Henager College",
           "Private not-for-profit, 4-year or above",
           -111.902145,
           40.659626,
           "UT"
          ],
          [
           "Stevenson University",
           "Private not-for-profit, 4-year or above",
           -76.70209200000002,
           39.421988,
           "MD"
          ],
          [
           "Stillman College",
           "Private not-for-profit, 4-year or above",
           -87.585278,
           33.200006,
           "AL"
          ],
          [
           "Stockton University",
           "Public, 4-year or above",
           -74.531087,
           39.492036,
           "NJ"
          ],
          [
           "Stone Child College",
           "Public, 4-year or above",
           -109.870182,
           48.289808,
           "MT"
          ],
          [
           "Stonehill College",
           "Private not-for-profit, 4-year or above",
           -71.080632,
           42.05905,
           "MA"
          ],
          [
           "Stony Brook University",
           "Public, 4-year or above",
           -73.12046,
           40.91476,
           "NY"
          ],
          [
           "Studio Incamminati",
           "Private not-for-profit, 2-year",
           -75.158463,
           39.958981,
           "PA"
          ],
          [
           "Suffolk County Community College",
           "Public, 2-year",
           -73.05616500000002,
           40.848963,
           "NY"
          ],
          [
           "Suffolk University",
           "Private not-for-profit, 4-year or above",
           -71.061788,
           42.358944,
           "MA"
          ],
          [
           "Sul Ross State University",
           "Public, 4-year or above",
           -103.651469,
           30.363139,
           "TX"
          ],
          [
           "Sullivan County Community College",
           "Public, 2-year",
           -74.66776899999998,
           41.7641,
           "NY"
          ],
          [
           "SUM Bible College and Theological Seminary",
           "Private not-for-profit, 4-year or above",
           -121.055684,
           38.620464,
           "CA"
          ],
          [
           "Summit Christian College",
           "Private not-for-profit, 4-year or above",
           -103.675715,
           41.829274,
           "NE"
          ],
          [
           "Sunstate Academy-Jones Technical Institute",
           "Private not-for-profit, 2-year",
           -81.561491,
           30.20813,
           "FL"
          ],
          [
           "SUNY at Albany",
           "Public, 4-year or above",
           -73.824662,
           42.685489,
           "NY"
          ],
          [
           "SUNY at Fredonia",
           "Public, 4-year or above",
           -79.337375,
           42.452236,
           "NY"
          ],
          [
           "SUNY at Purchase College",
           "Public, 4-year or above",
           -73.701955,
           41.047223,
           "NY"
          ],
          [
           "SUNY Broome Community College",
           "Public, 2-year",
           -75.90806500000002,
           42.135872,
           "NY"
          ],
          [
           "SUNY Buffalo State",
           "Public, 4-year or above",
           -78.882125,
           42.933832,
           "NY"
          ],
          [
           "SUNY College at Brockport",
           "Public, 4-year or above",
           -77.947188,
           43.211926,
           "NY"
          ],
          [
           "SUNY College at Geneseo",
           "Public, 4-year or above",
           -77.821894,
           42.796645,
           "NY"
          ],
          [
           "SUNY College at Old Westbury",
           "Public, 4-year or above",
           -73.571907,
           40.799021,
           "NY"
          ],
          [
           "SUNY College at Oswego",
           "Public, 4-year or above",
           -76.540798,
           43.454287,
           "NY"
          ],
          [
           "SUNY College at Plattsburgh",
           "Public, 4-year or above",
           -73.466536,
           44.69293,
           "NY"
          ],
          [
           "SUNY College at Potsdam",
           "Public, 4-year or above",
           -74.973815,
           44.662148,
           "NY"
          ],
          [
           "SUNY College of Agriculture and Technology at Cobleskill",
           "Public, 4-year or above",
           -74.49825799999998,
           42.67253400000001,
           "NY"
          ],
          [
           "SUNY College of Environmental Science and Forestry",
           "Public, 4-year or above",
           -76.138724,
           43.034765,
           "NY"
          ],
          [
           "SUNY College of Optometry",
           "Public, 4-year or above",
           -73.982236,
           40.754465,
           "NY"
          ],
          [
           "SUNY College of Technology at Alfred",
           "Public, 4-year or above",
           -77.794632,
           42.255262,
           "NY"
          ],
          [
           "SUNY College of Technology at Canton",
           "Public, 4-year or above",
           -75.182906,
           44.60409600000001,
           "NY"
          ],
          [
           "SUNY College of Technology at Delhi",
           "Public, 4-year or above",
           -74.924612,
           42.269859,
           "NY"
          ],
          [
           "SUNY Cortland",
           "Public, 4-year or above",
           -76.18865500000003,
           42.598022,
           "NY"
          ],
          [
           "SUNY Downstate Medical Center",
           "Public, 4-year or above",
           -73.94553499999998,
           40.653855,
           "NY"
          ],
          [
           "SUNY Empire State College",
           "Public, 4-year or above",
           -73.782484,
           43.077283,
           "NY"
          ],
          [
           "SUNY Maritime College",
           "Public, 4-year or above",
           -73.795309,
           40.807217,
           "NY"
          ],
          [
           "SUNY Oneonta",
           "Public, 4-year or above",
           -75.063632,
           42.468861,
           "NY"
          ],
          [
           "SUNY Polytechnic Institute",
           "Public, 4-year or above",
           -75.22984100000002,
           43.137701,
           "NY"
          ],
          [
           "SUNY Westchester Community College",
           "Public, 2-year",
           -73.78966899999998,
           41.068458,
           "NY"
          ],
          [
           "Surry Community College",
           "Public, 2-year",
           -80.71683399999998,
           36.384334,
           "NC"
          ],
          [
           "Susquehanna University",
           "Private not-for-profit, 4-year or above",
           -76.87532900000002,
           40.797502,
           "PA"
          ],
          [
           "Sussex County Community College",
           "Public, 2-year",
           -74.75807900000002,
           41.067633,
           "NJ"
          ],
          [
           "Swarthmore College",
           "Private not-for-profit, 4-year or above",
           -75.35427800000002,
           39.90515900000001,
           "PA"
          ],
          [
           "Sweet Briar College",
           "Private not-for-profit, 4-year or above",
           -79.081014,
           37.556725,
           "VA"
          ],
          [
           "Syracuse University",
           "Private not-for-profit, 4-year or above",
           -76.136975,
           43.040176,
           "NY"
          ],
          [
           "Tabor College",
           "Private not-for-profit, 4-year or above",
           -97.200949,
           38.348606,
           "KS"
          ],
          [
           "Tacoma Community College",
           "Public, 4-year or above",
           -122.524793,
           47.244622,
           "WA"
          ],
          [
           "Taft College",
           "Public, 2-year",
           -119.459751,
           35.149343,
           "CA"
          ],
          [
           "Talladega College",
           "Private not-for-profit, 4-year or above",
           -86.11270400000002,
           33.433471999999995,
           "AL"
          ],
          [
           "Tallahassee Community College",
           "Public, 4-year or above",
           -84.339,
           30.443866,
           "FL"
          ],
          [
           "Talmudic College of Florida",
           "Private not-for-profit, 4-year or above",
           -80.13629300000002,
           25.811996,
           "FL"
          ],
          [
           "Talmudical Academy-New Jersey",
           "Private not-for-profit, 4-year or above",
           -74.250167,
           40.217456,
           "NJ"
          ],
          [
           "Talmudical Institute of Upstate New York",
           "Private not-for-profit, 4-year or above",
           -77.574943,
           43.147062,
           "NY"
          ],
          [
           "Talmudical Seminary of Bobov",
           "Private not-for-profit, 4-year or above",
           -73.995378,
           40.634485,
           "NY"
          ],
          [
           "Talmudical Seminary Oholei Torah",
           "Private not-for-profit, 4-year or above",
           -73.945759,
           40.670089,
           "NY"
          ],
          [
           "Talmudical Yeshiva of Philadelphia",
           "Private not-for-profit, 4-year or above",
           -75.247964,
           39.989249,
           "PA"
          ],
          [
           "Tarleton State University",
           "Public, 4-year or above",
           -98.214866,
           32.214988,
           "TX"
          ],
          [
           "Tarrant County College District",
           "Public, 2-year",
           -97.327948,
           32.747501,
           "TX"
          ],
          [
           "Taylor University",
           "Private not-for-profit, 4-year or above",
           -85.497034,
           40.456246,
           "IN"
          ],
          [
           "Teachers College at Columbia University",
           "Private not-for-profit, 4-year or above",
           -73.960194,
           40.810216,
           "NY"
          ],
          [
           "Technical College of the Lowcountry",
           "Public, 2-year",
           -80.689468,
           32.420196999999995,
           "SC"
          ],
          [
           "Technical Education Center-Osceola",
           "Public, 2-year",
           -81.349696,
           28.298648,
           "FL"
          ],
          [
           "Telshe Yeshiva-Chicago",
           "Private not-for-profit, 4-year or above",
           -87.71755,
           41.975536,
           "IL"
          ],
          [
           "Temple College",
           "Public, 2-year",
           -97.350471,
           31.070715000000003,
           "TX"
          ],
          [
           "Temple University",
           "Public, 4-year or above",
           -75.156859,
           39.980546,
           "PA"
          ],
          [
           "Tennessee College of Applied Technology Nashville",
           "Public, 2-year",
           -86.856335,
           36.132649,
           "TN"
          ],
          [
           "Tennessee College of Applied Technology-Athens",
           "Public, 2-year",
           -84.630484,
           35.442944,
           "TN"
          ],
          [
           "Tennessee College of Applied Technology-Covington",
           "Public, 2-year",
           -89.659976,
           35.545225,
           "TN"
          ],
          [
           "Tennessee College of Applied Technology-Crossville",
           "Public, 2-year",
           -85.039137,
           35.946609,
           "TN"
          ],
          [
           "Tennessee College of Applied Technology-Crump",
           "Public, 2-year",
           -88.319153,
           35.221452,
           "TN"
          ],
          [
           "Tennessee College of Applied Technology-Dickson",
           "Public, 2-year",
           -87.366455,
           36.050549,
           "TN"
          ],
          [
           "Tennessee College of Applied Technology-Elizabethton",
           "Public, 2-year",
           -82.178011,
           36.366083,
           "TN"
          ],
          [
           "Tennessee College of Applied Technology-Harriman",
           "Public, 2-year",
           -84.517871,
           35.966107,
           "TN"
          ],
          [
           "Tennessee College of Applied Technology-Hartsville",
           "Public, 2-year",
           -86.14366,
           36.387191,
           "TN"
          ],
          [
           "Tennessee College of Applied Technology-Hohenwald",
           "Public, 2-year",
           -87.573757,
           35.551687,
           "TN"
          ],
          [
           "Tennessee College of Applied Technology-Jacksboro",
           "Public, 2-year",
           -84.208987,
           36.317415,
           "TN"
          ],
          [
           "Tennessee College of Applied Technology-Jackson",
           "Public, 2-year",
           -88.91980500000003,
           35.606795,
           "TN"
          ],
          [
           "Tennessee College of Applied Technology-Knoxville",
           "Public, 2-year",
           -83.964151,
           35.957,
           "TN"
          ],
          [
           "Tennessee College of Applied Technology-Livingston",
           "Public, 2-year",
           -85.31724799999998,
           36.39594,
           "TN"
          ],
          [
           "Tennessee College of Applied Technology-McKenzie",
           "Public, 2-year",
           -88.492615,
           36.137048,
           "TN"
          ],
          [
           "Tennessee College of Applied Technology-McMinnville",
           "Public, 2-year",
           -85.74531,
           35.70137000000001,
           "TN"
          ],
          [
           "Tennessee College of Applied Technology-Memphis",
           "Public, 2-year",
           -90.039188,
           35.150262,
           "TN"
          ],
          [
           "Tennessee College of Applied Technology-Morristown",
           "Public, 2-year",
           -83.299503,
           36.204643,
           "TN"
          ],
          [
           "Tennessee College of Applied Technology-Murfreesboro",
           "Public, 2-year",
           -86.41026,
           35.845661,
           "TN"
          ],
          [
           "Tennessee College of Applied Technology-Newbern",
           "Public, 2-year",
           -89.25718,
           36.119958,
           "TN"
          ],
          [
           "Tennessee College of Applied Technology-Oneida-Huntsville",
           "Public, 2-year",
           -84.528273,
           36.408177,
           "TN"
          ],
          [
           "Tennessee College of Applied Technology-Paris",
           "Public, 2-year",
           -88.296432,
           36.296408,
           "TN"
          ],
          [
           "Tennessee College of Applied Technology-Pulaski",
           "Public, 2-year",
           -87.007923,
           35.19100800000001,
           "TN"
          ],
          [
           "Tennessee College of Applied Technology-Ripley",
           "Public, 2-year",
           -89.519264,
           35.77982700000001,
           "TN"
          ],
          [
           "Tennessee College of Applied Technology-Shelbyville",
           "Public, 2-year",
           -86.421097,
           35.485655,
           "TN"
          ],
          [
           "Tennessee College of Applied Technology-Whiteville",
           "Public, 2-year",
           -89.159449,
           35.319574,
           "TN"
          ],
          [
           "Tennessee State University",
           "Public, 4-year or above",
           -86.82937,
           36.16899,
           "TN"
          ],
          [
           "Tennessee Technological University",
           "Public, 4-year or above",
           -85.503957,
           36.17465900000001,
           "TN"
          ],
          [
           "Tennessee Wesleyan University",
           "Private not-for-profit, 4-year or above",
           -84.59272800000002,
           35.446331,
           "TN"
          ],
          [
           "Terra State Community College",
           "Public, 2-year",
           -83.157799,
           41.354111,
           "OH"
          ],
          [
           "Texarkana College",
           "Public, 2-year",
           -94.07799999999999,
           33.441868,
           "TX"
          ],
          [
           "Texas A & M International University",
           "Public, 4-year or above",
           -99.435225,
           27.573504,
           "TX"
          ],
          [
           "Texas A & M University-Central Texas",
           "Public, 4-year or above",
           -97.775182,
           31.053407,
           "TX"
          ],
          [
           "Texas A & M University-College Station",
           "Public, 4-year or above",
           -96.336475,
           30.618726,
           "TX"
          ],
          [
           "Texas A & M University-Commerce",
           "Public, 4-year or above",
           -95.908451,
           33.243745000000004,
           "TX"
          ],
          [
           "Texas A & M University-Corpus Christi",
           "Public, 4-year or above",
           -97.32395,
           27.713723,
           "TX"
          ],
          [
           "Texas A & M University-Kingsville",
           "Public, 4-year or above",
           -97.882387,
           27.525168,
           "TX"
          ],
          [
           "Texas A&M University-San Antonio",
           "Public, 4-year or above",
           -98.52417,
           29.304762,
           "TX"
          ],
          [
           "Texas A&M University-Texarkana",
           "Public, 4-year or above",
           -94.103617,
           33.490482,
           "TX"
          ],
          [
           "Texas Chiropractic College Foundation Inc",
           "Private not-for-profit, 4-year or above",
           -95.15012,
           29.66482,
           "TX"
          ],
          [
           "Texas Christian University",
           "Private not-for-profit, 4-year or above",
           -97.361537,
           32.709568,
           "TX"
          ],
          [
           "Texas College",
           "Private not-for-profit, 4-year or above",
           -95.312454,
           32.374559999999995,
           "TX"
          ],
          [
           "Texas County Technical College",
           "Private not-for-profit, 2-year",
           -91.964963,
           37.300967,
           "MO"
          ],
          [
           "Texas Lutheran University",
           "Private not-for-profit, 4-year or above",
           -97.982669,
           29.573261,
           "TX"
          ],
          [
           "Texas Southern University",
           "Public, 4-year or above",
           -95.361961,
           29.722468,
           "TX"
          ],
          [
           "Texas Southmost College",
           "Public, 2-year",
           -97.492241,
           25.899628,
           "TX"
          ],
          [
           "Texas State Technical College",
           "Public, 2-year",
           -97.08471,
           31.639295,
           "TX"
          ],
          [
           "Texas State University",
           "Public, 4-year or above",
           -97.943029,
           29.888885,
           "TX"
          ],
          [
           "Texas Tech University",
           "Public, 4-year or above",
           -101.874783,
           33.583448,
           "TX"
          ],
          [
           "Texas Tech University Health Sciences Center",
           "Public, 4-year or above",
           -101.891915,
           33.589284,
           "TX"
          ],
          [
           "Texas Wesleyan University",
           "Private not-for-profit, 4-year or above",
           -97.279613,
           32.732962,
           "TX"
          ],
          [
           "Texas Woman's University",
           "Public, 4-year or above",
           -97.129088,
           33.227002,
           "TX"
          ],
          [
           "Thaddeus Stevens College of Technology",
           "Public, 2-year",
           -76.288718,
           40.037951,
           "PA"
          ],
          [
           "The Ailey School",
           "Private not-for-profit, 2-year",
           -73.986891,
           40.766921,
           "NY"
          ],
          [
           "The Baptist College of Florida",
           "Private not-for-profit, 4-year or above",
           -85.50393100000002,
           30.962708000000006,
           "FL"
          ],
          [
           "The Chicago School of Professional Psychology at Chicago",
           "Private not-for-profit, 4-year or above",
           -87.63379,
           41.888293,
           "IL"
          ],
          [
           "The Chicago School of Professional Psychology at Irvine",
           "Private not-for-profit, 4-year or above",
           -117.838089,
           33.650763,
           "CA"
          ],
          [
           "The Chicago School of Professional Psychology at Los Angeles",
           "Private not-for-profit, 4-year or above",
           -118.257251,
           34.047958,
           "CA"
          ],
          [
           "The Chicago School of Professional Psychology at San Diego",
           "Private not-for-profit, 4-year or above",
           -117.167054,
           32.718575,
           "CA"
          ],
          [
           "The Chicago School of Professional Psychology at Washington DC",
           "Private not-for-profit, 4-year or above",
           -77.03307099999998,
           38.90163,
           "DC"
          ],
          [
           "The Chicago School of Professional Psychology at Xavier University of Louisiana",
           "Private not-for-profit, 4-year or above",
           -90.107924,
           29.96527,
           "LA"
          ],
          [
           "The Christ College of Nursing and Health Sciences",
           "Private not-for-profit, 4-year or above",
           -84.509564,
           39.121821,
           "OH"
          ],
          [
           "The College of Idaho",
           "Private not-for-profit, 4-year or above",
           -116.677992,
           43.652284,
           "ID"
          ],
          [
           "The College of New Jersey",
           "Public, 4-year or above",
           -74.778791,
           40.268651,
           "NJ"
          ],
          [
           "The College of New Rochelle",
           "Private not-for-profit, 4-year or above",
           -73.781104,
           40.899427,
           "NY"
          ],
          [
           "The College of Saint Rose",
           "Private not-for-profit, 4-year or above",
           -73.786661,
           42.664297,
           "NY"
          ],
          [
           "The College of Saint Scholastica",
           "Private not-for-profit, 4-year or above",
           -92.106134,
           46.816082,
           "MN"
          ],
          [
           "The College of Wooster",
           "Private not-for-profit, 4-year or above",
           -81.934674,
           40.81046,
           "OH"
          ],
          [
           "The Evergreen State College",
           "Public, 4-year or above",
           -122.977492,
           47.07382,
           "WA"
          ],
          [
           "The General Theological Seminary",
           "Private not-for-profit, 4-year or above",
           -74.00378,
           40.745563,
           "NY"
          ],
          [
           "The John Marshall Law School",
           "Private not-for-profit, 4-year or above",
           -87.628567,
           41.877966,
           "IL"
          ],
          [
           "The Juilliard School",
           "Private not-for-profit, 4-year or above",
           -73.982913,
           40.773725,
           "NY"
          ],
          [
           "The King's College",
           "Private not-for-profit, 4-year or above",
           -74.012342,
           40.706677,
           "NY"
          ],
          [
           "The King's University",
           "Private not-for-profit, 4-year or above",
           -97.121526,
           32.93973,
           "TX"
          ],
          [
           "The Landing School",
           "Private not-for-profit, 2-year",
           -70.503619,
           43.380492,
           "ME"
          ],
          [
           "The Master's University and Seminary",
           "Private not-for-profit, 4-year or above",
           -118.518193,
           34.381755,
           "CA"
          ],
          [
           "The New England Conservatory of Music",
           "Private not-for-profit, 4-year or above",
           -71.08629,
           42.340946,
           "MA"
          ],
          [
           "The New School",
           "Private not-for-profit, 4-year or above",
           -73.997114,
           40.735508,
           "NY"
          ],
          [
           "The Sage Colleges",
           "Private not-for-profit, 4-year or above",
           -73.693711,
           42.72822,
           "NY"
          ],
          [
           "The Santa Barbara and Ventura Colleges of Law at Santa Barbara",
           "Private not-for-profit, 4-year or above",
           -119.70516,
           34.424541999999995,
           "CA"
          ],
          [
           "The Santa Barbara and Ventura Colleges of Law at Ventura",
           "Private not-for-profit, 4-year or above",
           -119.232988,
           34.25747,
           "CA"
          ],
          [
           "The Seattle School of Theology & Psychology",
           "Private not-for-profit, 4-year or above",
           -122.350945,
           47.613373,
           "WA"
          ],
          [
           "The University of Alabama",
           "Public, 4-year or above",
           -87.545978,
           33.211875,
           "AL"
          ],
          [
           "The University of Findlay",
           "Private not-for-profit, 4-year or above",
           -83.652313,
           41.053344,
           "OH"
          ],
          [
           "The University of Montana",
           "Public, 4-year or above",
           -113.982912,
           46.859312,
           "MT"
          ],
          [
           "The University of Montana-Western",
           "Public, 4-year or above",
           -112.63926399999998,
           45.208306,
           "MT"
          ],
          [
           "The University of Tampa",
           "Private not-for-profit, 4-year or above",
           -82.46483,
           27.948455,
           "FL"
          ],
          [
           "The University of Tennessee-Chattanooga",
           "Public, 4-year or above",
           -85.299812,
           35.048247,
           "TN"
          ],
          [
           "The University of Tennessee-Health Science Center",
           "Public, 4-year or above",
           -90.030435,
           35.14063400000001,
           "TN"
          ],
          [
           "The University of Tennessee-Knoxville",
           "Public, 4-year or above",
           -83.925852,
           35.952082,
           "TN"
          ],
          [
           "The University of Tennessee-Martin",
           "Public, 4-year or above",
           -88.864211,
           36.340338,
           "TN"
          ],
          [
           "The University of Texas at Arlington",
           "Public, 4-year or above",
           -97.11296,
           32.729718,
           "TX"
          ],
          [
           "The University of Texas at Austin",
           "Public, 4-year or above",
           -97.738273,
           30.282825,
           "TX"
          ],
          [
           "The University of Texas at Dallas",
           "Public, 4-year or above",
           -96.749702,
           32.984673,
           "TX"
          ],
          [
           "The University of Texas at El Paso",
           "Public, 4-year or above",
           -106.50356,
           31.771697,
           "TX"
          ],
          [
           "The University of Texas at San Antonio",
           "Public, 4-year or above",
           -98.621386,
           29.582418,
           "TX"
          ],
          [
           "The University of Texas at Tyler",
           "Public, 4-year or above",
           -95.254337,
           32.315772,
           "TX"
          ],
          [
           "The University of Texas Health Science Center at Houston",
           "Public, 4-year or above",
           -95.403183,
           29.702873,
           "TX"
          ],
          [
           "The University of Texas Health Science Center at San Antonio",
           "Public, 4-year or above",
           -98.57606,
           29.504716,
           "TX"
          ],
          [
           "The University of Texas MD Anderson Cancer Center",
           "Public, 4-year or above",
           -95.396804,
           29.707016,
           "TX"
          ],
          [
           "The University of Texas Medical Branch",
           "Public, 4-year or above",
           -94.775956,
           29.310758,
           "TX"
          ],
          [
           "The University of Texas of the Permian Basin",
           "Public, 4-year or above",
           -102.329634,
           31.889509000000004,
           "TX"
          ],
          [
           "The University of Texas Rio Grande Valley",
           "Public, 4-year or above",
           -98.173567,
           26.306759000000003,
           "TX"
          ],
          [
           "The University of the Arts",
           "Private not-for-profit, 4-year or above",
           -75.165888,
           39.946017,
           "PA"
          ],
          [
           "The University of Virginia's College at Wise",
           "Public, 4-year or above",
           -82.558728,
           36.971468,
           "VA"
          ],
          [
           "The University of West Florida",
           "Public, 4-year or above",
           -87.21851099999998,
           30.549076,
           "FL"
          ],
          [
           "The Workforce Institute's City College",
           "Private not-for-profit, 2-year",
           -75.135042,
           40.017493,
           "PA"
          ],
          [
           "The Wright Institute",
           "Private not-for-profit, 4-year or above",
           -122.253168,
           37.86822100000001,
           "CA"
          ],
          [
           "Theological Seminary of the Reformed Episcopal Church",
           "Private not-for-profit, 4-year or above",
           -75.290124,
           40.168935,
           "PA"
          ],
          [
           "Thiel College",
           "Private not-for-profit, 4-year or above",
           -80.384383,
           41.41354000000001,
           "PA"
          ],
          [
           "Thomas Aquinas College",
           "Private not-for-profit, 4-year or above",
           -119.087141,
           34.429009,
           "CA"
          ],
          [
           "Thomas College",
           "Private not-for-profit, 4-year or above",
           -69.664734,
           44.524909,
           "ME"
          ],
          [
           "Thomas Edison State University",
           "Public, 4-year or above",
           -74.768562,
           40.220487,
           "NJ"
          ],
          [
           "Thomas Jefferson School of Law",
           "Private not-for-profit, 4-year or above",
           -117.154191,
           32.71014,
           "CA"
          ],
          [
           "Thomas Jefferson University",
           "Private not-for-profit, 4-year or above",
           -75.158266,
           39.948274,
           "PA"
          ],
          [
           "Thomas More College",
           "Private not-for-profit, 4-year or above",
           -84.568923,
           39.022963,
           "KY"
          ],
          [
           "Thomas More College of Liberal Arts",
           "Private not-for-profit, 4-year or above",
           -71.48437,
           42.80683,
           "NH"
          ],
          [
           "Thomas Nelson Community College",
           "Public, 2-year",
           -76.420046,
           37.063821,
           "VA"
          ],
          [
           "Thomas University",
           "Private not-for-profit, 4-year or above",
           -83.963587,
           30.815576,
           "GA"
          ],
          [
           "Three Rivers College",
           "Public, 2-year",
           -90.429769,
           36.776571,
           "MO"
          ],
          [
           "Three Rivers Community College",
           "Public, 2-year",
           -72.103039,
           41.509945,
           "CT"
          ],
          [
           "Thunderbird School of Global Management",
           "Public, 4-year or above",
           -112.180861,
           33.620887,
           "AZ"
          ],
          [
           "Tidewater Community College",
           "Public, 2-year",
           -76.289904,
           36.8501,
           "VA"
          ],
          [
           "Tiffin University",
           "Private not-for-profit, 4-year or above",
           -83.184197,
           41.118316,
           "OH"
          ],
          [
           "Tillamook Bay Community College",
           "Public, 2-year",
           -123.813624,
           45.456603,
           "OR"
          ],
          [
           "Toccoa Falls College",
           "Private not-for-profit, 4-year or above",
           -83.357617,
           34.593414,
           "GA"
          ],
          [
           "Tohono O'Odham Community College",
           "Public, 2-year",
           -111.715445,
           31.989869,
           "AZ"
          ],
          [
           "Toledo Public Schools Adult and Continuing Education",
           "Public, 2-year",
           -83.590926,
           41.682287,
           "OH"
          ],
          [
           "Tom P Haney Technical Center",
           "Public, 2-year",
           -85.646585,
           30.203363,
           "FL"
          ],
          [
           "Tompkins Cortland Community College",
           "Public, 2-year",
           -76.287586,
           42.502006,
           "NY"
          ],
          [
           "Torah Temimah Talmudical Seminary",
           "Private not-for-profit, 4-year or above",
           -73.971994,
           40.63598,
           "NY"
          ],
          [
           "Tougaloo College",
           "Private not-for-profit, 4-year or above",
           -90.16076,
           32.403014,
           "MS"
          ],
          [
           "Touro College",
           "Private not-for-profit, 4-year or above",
           -73.98940400000002,
           40.753199,
           "NY"
          ],
          [
           "Touro University California",
           "Private not-for-profit, 4-year or above",
           -122.263949,
           38.085479,
           "CA"
          ],
          [
           "Touro University Nevada",
           "Private not-for-profit, 4-year or above",
           -115.024012,
           36.043189,
           "NV"
          ],
          [
           "Touro University Worldwide",
           "Private not-for-profit, 4-year or above",
           -118.057754,
           33.808683,
           "CA"
          ],
          [
           "Towson University",
           "Public, 4-year or above",
           -76.611164,
           39.393622,
           "MD"
          ],
          [
           "Transylvania University",
           "Private not-for-profit, 4-year or above",
           -84.493202,
           38.05298300000001,
           "KY"
          ],
          [
           "Treasure Valley Community College",
           "Public, 2-year",
           -116.974487,
           44.020811,
           "OR"
          ],
          [
           "Trevecca Nazarene University",
           "Private not-for-profit, 4-year or above",
           -86.754238,
           36.141324,
           "TN"
          ],
          [
           "Tri-Community Adult Education",
           "Public, 2-year",
           -117.880732,
           34.088449,
           "CA"
          ],
          [
           "Tri-County Adult Career Center",
           "Public, 2-year",
           -82.210554,
           39.433202,
           "OH"
          ],
          [
           "Tri-County Community College",
           "Public, 2-year",
           -83.966476,
           35.067021000000004,
           "NC"
          ],
          [
           "Tri-County Technical College",
           "Public, 2-year",
           -82.792015,
           34.641914,
           "SC"
          ],
          [
           "Tri-State Bible College",
           "Private not-for-profit, 4-year or above",
           -82.579887,
           38.426238,
           "OH"
          ],
          [
           "Trident Technical College",
           "Public, 2-year",
           -80.031276,
           32.928767,
           "SC"
          ],
          [
           "Trine University",
           "Private not-for-profit, 4-year or above",
           -85.008009,
           41.632502,
           "IN"
          ],
          [
           "Trine University-Regional/Non-Traditional Campuses",
           "Private not-for-profit, 4-year or above",
           -85.106453,
           41.172352,
           "IN"
          ],
          [
           "Trinidad State Junior College",
           "Public, 2-year",
           -104.513451,
           37.172059,
           "CO"
          ],
          [
           "Trinity Baptist College",
           "Private not-for-profit, 4-year or above",
           -81.79626,
           30.311171,
           "FL"
          ],
          [
           "Trinity Bible College and Graduate School",
           "Private not-for-profit, 4-year or above",
           -98.517906,
           46.001037,
           "ND"
          ],
          [
           "Trinity Christian College",
           "Private not-for-profit, 4-year or above",
           -87.783973,
           41.667687,
           "IL"
          ],
          [
           "Trinity College",
           "Private not-for-profit, 4-year or above",
           -72.69088199999999,
           41.747451,
           "CT"
          ],
          [
           "Trinity College of Florida",
           "Private not-for-profit, 4-year or above",
           -82.678318,
           28.194732,
           "FL"
          ],
          [
           "Trinity College of Nursing & Health Sciences",
           "Private not-for-profit, 4-year or above",
           -90.568862,
           41.484924,
           "IL"
          ],
          [
           "Trinity Episcopal School for Ministry",
           "Private not-for-profit, 4-year or above",
           -80.23017800000002,
           40.593403,
           "PA"
          ],
          [
           "Trinity Health System School of Nursing",
           "Private not-for-profit, 2-year",
           -80.625312,
           40.355039,
           "OH"
          ],
          [
           "Trinity International University-Florida",
           "Private not-for-profit, 4-year or above",
           -80.350735,
           25.973916,
           "FL"
          ],
          [
           "Trinity International University-Illinois",
           "Private not-for-profit, 4-year or above",
           -87.880851,
           42.197945,
           "IL"
          ],
          [
           "Trinity Law School",
           "Private not-for-profit, 4-year or above",
           -117.852059,
           33.766071000000004,
           "CA"
          ],
          [
           "Trinity Lutheran Seminary",
           "Private not-for-profit, 4-year or above",
           -82.94063100000002,
           39.95624,
           "OH"
          ],
          [
           "Trinity University",
           "Private not-for-profit, 4-year or above",
           -98.482577,
           29.46286,
           "TX"
          ],
          [
           "Trinity Valley Community College",
           "Public, 2-year",
           -95.858058,
           32.195686,
           "TX"
          ],
          [
           "Trinity Washington University",
           "Private not-for-profit, 4-year or above",
           -77.004261,
           38.927398,
           "DC"
          ],
          [
           "Triton College",
           "Public, 2-year",
           -87.84105600000002,
           41.916082,
           "IL"
          ],
          [
           "Trocaire College",
           "Private not-for-profit, 4-year or above",
           -78.812398,
           42.846693,
           "NY"
          ],
          [
           "Troy University",
           "Public, 4-year or above",
           -85.957094,
           31.800672,
           "AL"
          ],
          [
           "Truckee Meadows Community College",
           "Public, 2-year",
           -119.796975,
           39.571402,
           "NV"
          ],
          [
           "Truett McConnell University",
           "Private not-for-profit, 4-year or above",
           -83.74891099999998,
           34.596306,
           "GA"
          ],
          [
           "Truman State University",
           "Public, 4-year or above",
           -92.581658,
           40.188267,
           "MO"
          ],
          [
           "Tufts University",
           "Private not-for-profit, 4-year or above",
           -71.120316,
           42.408465,
           "MA"
          ],
          [
           "Tulane University of Louisiana",
           "Private not-for-profit, 4-year or above",
           -90.122144,
           29.940069,
           "LA"
          ],
          [
           "Tulsa Community College",
           "Public, 2-year",
           -95.90825,
           36.106788,
           "OK"
          ],
          [
           "Tulsa Technology Center",
           "Public, 2-year",
           -95.887481,
           36.113428000000006,
           "OK"
          ],
          [
           "Tunxis Community College",
           "Public, 2-year",
           -72.87754,
           41.705498,
           "CT"
          ],
          [
           "Turtle Mountain Community College",
           "Private not-for-profit, 4-year or above",
           -99.750836,
           48.883758,
           "ND"
          ],
          [
           "Tusculum College",
           "Private not-for-profit, 4-year or above",
           -82.761716,
           36.172558,
           "TN"
          ],
          [
           "Tuskegee University",
           "Private not-for-profit, 4-year or above",
           -85.708492,
           32.4309,
           "AL"
          ],
          [
           "Tyler Junior College",
           "Public, 4-year or above",
           -95.284129,
           32.336015,
           "TX"
          ],
          [
           "U S Grant Joint Vocational School",
           "Public, 2-year",
           -84.094071,
           38.969393,
           "OH"
          ],
          [
           "Ulster County Community College",
           "Public, 2-year",
           -74.128698,
           41.851218,
           "NY"
          ],
          [
           "Ultimate Medical Academy-Clearwater",
           "Private not-for-profit, 2-year",
           -82.78558000000002,
           27.965294,
           "FL"
          ],
          [
           "Umpqua Community College",
           "Public, 2-year",
           -123.332475,
           43.289317,
           "OR"
          ],
          [
           "Unification Theological Seminary",
           "Private not-for-profit, 4-year or above",
           -73.924306,
           42.003336,
           "NY"
          ],
          [
           "Union College",
           "Private not-for-profit, 4-year or above",
           -83.88847700000002,
           36.870875,
           "KY"
          ],
          [
           "Union College",
           "Private not-for-profit, 4-year or above",
           -96.651095,
           40.77477800000001,
           "NE"
          ],
          [
           "Union College",
           "Private not-for-profit, 4-year or above",
           -73.928788,
           42.818097,
           "NY"
          ],
          [
           "Union County College",
           "Public, 2-year",
           -74.319138,
           40.668595,
           "NJ"
          ],
          [
           "Union Institute & University",
           "Private not-for-profit, 4-year or above",
           -84.50016600000002,
           39.126921,
           "OH"
          ],
          [
           "Union Presbyterian Seminary",
           "Private not-for-profit, 4-year or above",
           -77.44931700000002,
           37.578935,
           "VA"
          ],
          [
           "Union Theological Seminary in the City of New York",
           "Private not-for-profit, 4-year or above",
           -73.961549,
           40.811823,
           "NY"
          ],
          [
           "Union University",
           "Private not-for-profit, 4-year or above",
           -88.858524,
           35.676896,
           "TN"
          ],
          [
           "United Lutheran Seminary",
           "Private not-for-profit, 4-year or above",
           -77.244111,
           39.831701,
           "PA"
          ],
          [
           "United States Merchant Marine Academy",
           "Public, 4-year or above",
           -73.76300400000002,
           40.81357,
           "NY"
          ],
          [
           "United States Sports Academy",
           "Private not-for-profit, 4-year or above",
           -87.91163,
           30.639329,
           "AL"
          ],
          [
           "United Talmudical Seminary",
           "Private not-for-profit, 4-year or above",
           -73.959113,
           40.705687,
           "NY"
          ],
          [
           "United Theological Seminary",
           "Private not-for-profit, 4-year or above",
           -84.27691300000002,
           39.813423,
           "OH"
          ],
          [
           "United Theological Seminary of the Twin Cities",
           "Private not-for-profit, 4-year or above",
           -93.226,
           45.058244,
           "MN"
          ],
          [
           "United Tribes Technical College",
           "Private not-for-profit, 4-year or above",
           -100.755131,
           46.767157,
           "ND"
          ],
          [
           "Unity College",
           "Private not-for-profit, 4-year or above",
           -69.33227600000001,
           44.603165,
           "ME"
          ],
          [
           "UnityPoint Health-Des Moines School of Radiologic Technology",
           "Private not-for-profit, 2-year",
           -93.635129,
           41.590094,
           "IA"
          ],
          [
           "University at Buffalo",
           "Public, 4-year or above",
           -78.789458,
           43.000942,
           "NY"
          ],
          [
           "University of Akron Main Campus",
           "Public, 4-year or above",
           -81.511679,
           41.078551,
           "OH"
          ],
          [
           "University of Akron Wayne College",
           "Public, 2-year",
           -81.789979,
           40.861519,
           "OH"
          ],
          [
           "University of Alabama at Birmingham",
           "Public, 4-year or above",
           -86.799345,
           33.505697,
           "AL"
          ],
          [
           "University of Alabama in Huntsville",
           "Public, 4-year or above",
           -86.640449,
           34.724557,
           "AL"
          ],
          [
           "University of Alaska Anchorage",
           "Public, 4-year or above",
           -149.82619,
           61.190163,
           "AK"
          ],
          [
           "University of Alaska Fairbanks",
           "Public, 4-year or above",
           -147.823146,
           64.85755999999999,
           "AK"
          ],
          [
           "University of Alaska Southeast",
           "Public, 4-year or above",
           -134.63825500000002,
           58.384846,
           "AK"
          ],
          [
           "University of Arizona",
           "Public, 4-year or above",
           -110.950815,
           32.232671999999994,
           "AZ"
          ],
          [
           "University of Arizona-South",
           "Public, 4-year or above",
           -110.245117,
           31.567832,
           "AZ"
          ],
          [
           "University of Arkansas",
           "Public, 4-year or above",
           -94.176981,
           36.07000900000001,
           "AR"
          ],
          [
           "University of Arkansas at Little Rock",
           "Public, 4-year or above",
           -92.339778,
           34.723254,
           "AR"
          ],
          [
           "University of Arkansas at Monticello",
           "Public, 4-year or above",
           -91.811153,
           33.590909,
           "AR"
          ],
          [
           "University of Arkansas at Pine Bluff",
           "Public, 4-year or above",
           -92.018683,
           34.244031,
           "AR"
          ],
          [
           "University of Arkansas Community College Rich Mountain",
           "Public, 2-year",
           -94.219799,
           34.591449,
           "AR"
          ],
          [
           "University of Arkansas Community College-Batesville",
           "Public, 2-year",
           -91.615852,
           35.79292299999999,
           "AR"
          ],
          [
           "University of Arkansas Community College-Hope",
           "Public, 2-year",
           -93.596762,
           33.641665,
           "AR"
          ],
          [
           "University of Arkansas Community College-Morrilton",
           "Public, 2-year",
           -92.728507,
           35.172136,
           "AR"
          ],
          [
           "University of Arkansas for Medical Sciences",
           "Public, 4-year or above",
           -92.320046,
           34.749047999999995,
           "AR"
          ],
          [
           "University of Arkansas-Fort Smith",
           "Public, 4-year or above",
           -94.373729,
           35.38418400000001,
           "AR"
          ],
          [
           "University of Arkansas-Pulaski Technical College",
           "Public, 2-year",
           -92.299184,
           34.782783,
           "AR"
          ],
          [
           "University of Baltimore",
           "Public, 4-year or above",
           -76.616591,
           39.305834,
           "MD"
          ],
          [
           "University of Bridgeport",
           "Private not-for-profit, 4-year or above",
           -73.190166,
           41.164741,
           "CT"
          ],
          [
           "University of California-Berkeley",
           "Public, 4-year or above",
           -122.260463,
           37.871918,
           "CA"
          ],
          [
           "University of California-Davis",
           "Public, 4-year or above",
           -121.749567,
           38.539667,
           "CA"
          ],
          [
           "University of California-Hastings College of Law",
           "Public, 4-year or above",
           -122.4157,
           37.781137,
           "CA"
          ],
          [
           "University of California-Irvine",
           "Public, 4-year or above",
           -117.841248,
           33.648434,
           "CA"
          ],
          [
           "University of California-Los Angeles",
           "Public, 4-year or above",
           -118.443901,
           34.068892,
           "CA"
          ],
          [
           "University of California-Merced",
           "Public, 4-year or above",
           -120.424944,
           37.366237,
           "CA"
          ],
          [
           "University of California-Riverside",
           "Public, 4-year or above",
           -117.32741,
           33.97246,
           "CA"
          ],
          [
           "University of California-San Diego",
           "Public, 4-year or above",
           -117.237793,
           32.876598,
           "CA"
          ],
          [
           "University of California-San Francisco",
           "Public, 4-year or above",
           -122.458049,
           37.762736,
           "CA"
          ],
          [
           "University of California-Santa Barbara",
           "Public, 4-year or above",
           -119.846426,
           34.416297,
           "CA"
          ],
          [
           "University of California-Santa Cruz",
           "Public, 4-year or above",
           -122.058801,
           36.995584,
           "CA"
          ],
          [
           "University of Central Arkansas",
           "Public, 4-year or above",
           -92.457672,
           35.077945,
           "AR"
          ],
          [
           "University of Central Florida",
           "Public, 4-year or above",
           -81.200889,
           28.602159000000004,
           "FL"
          ],
          [
           "University of Central Missouri",
           "Public, 4-year or above",
           -93.737428,
           38.759111,
           "MO"
          ],
          [
           "University of Central Oklahoma",
           "Public, 4-year or above",
           -97.471508,
           35.6552,
           "OK"
          ],
          [
           "University of Charleston",
           "Private not-for-profit, 4-year or above",
           -81.616244,
           38.333367,
           "WV"
          ],
          [
           "University of Chicago",
           "Private not-for-profit, 4-year or above",
           -87.59953900000002,
           41.787994,
           "IL"
          ],
          [
           "University of Cincinnati-Blue Ash College",
           "Public, 4-year or above",
           -84.399956,
           39.234333,
           "OH"
          ],
          [
           "University of Cincinnati-Clermont College",
           "Public, 4-year or above",
           -84.19436999999998,
           39.080645,
           "OH"
          ],
          [
           "University of Cincinnati-Main Campus",
           "Public, 4-year or above",
           -84.51428,
           39.131159,
           "OH"
          ],
          [
           "University of Colorado Boulder",
           "Public, 4-year or above",
           -105.270823,
           40.008781,
           "CO"
          ],
          [
           "University of Colorado Colorado Springs",
           "Public, 4-year or above",
           -104.800296,
           38.892735,
           "CO"
          ],
          [
           "University of Colorado Denver/Anschutz Medical Campus",
           "Public, 4-year or above",
           -104.837722,
           39.745149,
           "CO"
          ],
          [
           "University of Connecticut",
           "Public, 4-year or above",
           -72.249948,
           41.809098,
           "CT"
          ],
          [
           "University of Connecticut-Avery Point",
           "Public, 4-year or above",
           -72.065336,
           41.316419,
           "CT"
          ],
          [
           "University of Connecticut-Hartford Campus",
           "Public, 4-year or above",
           -72.672175,
           41.762673,
           "CT"
          ],
          [
           "University of Connecticut-Stamford",
           "Public, 4-year or above",
           -73.54220600000002,
           41.056081,
           "CT"
          ],
          [
           "University of Connecticut-Waterbury Campus",
           "Public, 4-year or above",
           -73.039242,
           41.555617,
           "CT"
          ],
          [
           "University of Dallas",
           "Private not-for-profit, 4-year or above",
           -96.921573,
           32.846202000000005,
           "TX"
          ],
          [
           "University of Dayton",
           "Private not-for-profit, 4-year or above",
           -84.176113,
           39.739547,
           "OH"
          ],
          [
           "University of Delaware",
           "Public, 4-year or above",
           -75.752822,
           39.679577,
           "DE"
          ],
          [
           "University of Denver",
           "Private not-for-profit, 4-year or above",
           -104.963259,
           39.678005,
           "CO"
          ],
          [
           "University of Detroit Mercy",
           "Private not-for-profit, 4-year or above",
           -83.139158,
           42.414222,
           "MI"
          ],
          [
           "University of Dubuque",
           "Private not-for-profit, 4-year or above",
           -90.693428,
           42.49726,
           "IA"
          ],
          [
           "University of Evansville",
           "Private not-for-profit, 4-year or above",
           -87.531644,
           37.971549,
           "IN"
          ],
          [
           "University of Florida",
           "Public, 4-year or above",
           -82.347911,
           29.646290000000004,
           "FL"
          ],
          [
           "University of Florida-Online",
           "Public, 4-year or above",
           -82.339848,
           29.649413,
           "FL"
          ],
          [
           "University of Fort Lauderdale",
           "Private not-for-profit, 4-year or above",
           -80.204938,
           26.147098,
           "FL"
          ],
          [
           "University of Georgia",
           "Public, 4-year or above",
           -83.374039,
           33.956262,
           "GA"
          ],
          [
           "University of Hartford",
           "Private not-for-profit, 4-year or above",
           -72.715213,
           41.798591,
           "CT"
          ],
          [
           "University of Hawaii at Hilo",
           "Public, 4-year or above",
           -155.080847,
           19.701189000000007,
           "HI"
          ],
          [
           "University of Hawaii at Manoa",
           "Public, 4-year or above",
           -157.818979,
           21.298598,
           "HI"
          ],
          [
           "University of Hawaii Maui College",
           "Public, 4-year or above",
           -156.477252,
           20.88956,
           "HI"
          ],
          [
           "University of Hawaii-West Oahu",
           "Public, 4-year or above",
           -158.056403,
           21.35531,
           "HI"
          ],
          [
           "University of Holy Cross",
           "Private not-for-profit, 4-year or above",
           -89.99445,
           29.912003,
           "LA"
          ],
          [
           "University of Houston",
           "Public, 4-year or above",
           -95.343537,
           29.720393,
           "TX"
          ],
          [
           "University of Houston-Clear Lake",
           "Public, 4-year or above",
           -95.098129,
           29.582523,
           "TX"
          ],
          [
           "University of Houston-Downtown",
           "Public, 4-year or above",
           -95.359338,
           29.7661,
           "TX"
          ],
          [
           "University of Houston-Victoria",
           "Public, 4-year or above",
           -96.978193,
           28.816438,
           "TX"
          ],
          [
           "University of Idaho",
           "Public, 4-year or above",
           -117.014167,
           46.727406,
           "ID"
          ],
          [
           "University of Illinois at Chicago",
           "Public, 4-year or above",
           -87.650503,
           41.871837,
           "IL"
          ],
          [
           "University of Illinois at Springfield",
           "Public, 4-year or above",
           -89.616796,
           39.729524,
           "IL"
          ],
          [
           "University of Illinois at Urbana-Champaign",
           "Public, 4-year or above",
           -88.229114,
           40.104718,
           "IL"
          ],
          [
           "University of Indianapolis",
           "Private not-for-profit, 4-year or above",
           -86.133969,
           39.709571,
           "IN"
          ],
          [
           "University of Iowa",
           "Public, 4-year or above",
           -91.536425,
           41.661935,
           "IA"
          ],
          [
           "University of Jamestown",
           "Private not-for-profit, 4-year or above",
           -98.698416,
           46.914302,
           "ND"
          ],
          [
           "University of Kansas",
           "Public, 4-year or above",
           -95.247567,
           38.958549,
           "KS"
          ],
          [
           "University of Kentucky",
           "Public, 4-year or above",
           -84.504747,
           38.038911,
           "KY"
          ],
          [
           "University of La Verne",
           "Private not-for-profit, 4-year or above",
           -117.772634,
           34.10086,
           "CA"
          ],
          [
           "University of Louisiana at Lafayette",
           "Public, 4-year or above",
           -92.020165,
           30.212191,
           "LA"
          ],
          [
           "University of Louisiana at Monroe",
           "Public, 4-year or above",
           -92.07374,
           32.527747999999995,
           "LA"
          ],
          [
           "University of Louisville",
           "Public, 4-year or above",
           -85.760412,
           38.216862,
           "KY"
          ],
          [
           "University of Maine",
           "Public, 4-year or above",
           -68.669332,
           44.899257,
           "ME"
          ],
          [
           "University of Maine at Augusta",
           "Public, 4-year or above",
           -69.796396,
           44.337746,
           "ME"
          ],
          [
           "University of Maine at Farmington",
           "Public, 4-year or above",
           -70.147121,
           44.666911,
           "ME"
          ],
          [
           "University of Maine at Fort Kent",
           "Public, 4-year or above",
           -68.58931899999999,
           47.250389,
           "ME"
          ],
          [
           "University of Maine at Machias",
           "Public, 4-year or above",
           -67.458025,
           44.708803,
           "ME"
          ],
          [
           "University of Maine at Presque Isle",
           "Public, 4-year or above",
           -68.016343,
           46.672285,
           "ME"
          ],
          [
           "University of Mary",
           "Private not-for-profit, 4-year or above",
           -100.75274,
           46.723767,
           "ND"
          ],
          [
           "University of Mary Hardin-Baylor",
           "Private not-for-profit, 4-year or above",
           -97.463479,
           31.066798,
           "TX"
          ],
          [
           "University of Mary Washington",
           "Public, 4-year or above",
           -77.476055,
           38.302492,
           "VA"
          ],
          [
           "University of Maryland Eastern Shore",
           "Public, 4-year or above",
           -75.686852,
           38.207386,
           "MD"
          ],
          [
           "University of Maryland  Baltimore",
           "Public, 4-year or above",
           -76.623983,
           39.286864,
           "MD"
          ],
          [
           "University of Maryland-Baltimore County",
           "Public, 4-year or above",
           -76.711607,
           39.256686,
           "MD"
          ],
          [
           "University of Maryland-College Park",
           "Public, 4-year or above",
           -76.944721,
           38.98817800000001,
           "MD"
          ],
          [
           "University of Maryland-University College",
           "Public, 4-year or above",
           -76.847584,
           38.912706,
           "MD"
          ],
          [
           "University of Massachusetts Medical School Worcester",
           "Public, 4-year or above",
           -71.76214399999998,
           42.278002,
           "MA"
          ],
          [
           "University of Massachusetts-Amherst",
           "Public, 4-year or above",
           -72.526728,
           42.385999,
           "MA"
          ],
          [
           "University of Massachusetts-Boston",
           "Public, 4-year or above",
           -71.036865,
           42.312881,
           "MA"
          ],
          [
           "University of Massachusetts-Dartmouth",
           "Public, 4-year or above",
           -71.004552,
           41.62869,
           "MA"
          ],
          [
           "University of Massachusetts-Lowell",
           "Public, 4-year or above",
           -71.326809,
           42.652864,
           "MA"
          ],
          [
           "University of Memphis",
           "Public, 4-year or above",
           -89.938068,
           35.118878,
           "TN"
          ],
          [
           "University of Miami",
           "Private not-for-profit, 4-year or above",
           -80.278662,
           25.72126,
           "FL"
          ],
          [
           "University of Michigan-Ann Arbor",
           "Public, 4-year or above",
           -83.742769,
           42.275921,
           "MI"
          ],
          [
           "University of Michigan-Dearborn",
           "Public, 4-year or above",
           -83.23141700000002,
           42.317287,
           "MI"
          ],
          [
           "University of Michigan-Flint",
           "Public, 4-year or above",
           -83.690276,
           43.01875,
           "MI"
          ],
          [
           "University of Minnesota-Crookston",
           "Public, 4-year or above",
           -96.606188,
           47.802536,
           "MN"
          ],
          [
           "University of Minnesota-Duluth",
           "Public, 4-year or above",
           -92.084385,
           46.817126,
           "MN"
          ],
          [
           "University of Minnesota-Morris",
           "Public, 4-year or above",
           -95.901756,
           45.589829,
           "MN"
          ],
          [
           "University of Minnesota-Rochester",
           "Public, 4-year or above",
           -92.463471,
           44.022339,
           "MN"
          ],
          [
           "University of Minnesota-Twin Cities",
           "Public, 4-year or above",
           -93.235464,
           44.972851,
           "MN"
          ],
          [
           "University of Mississippi",
           "Public, 4-year or above",
           -89.53743399999998,
           34.365528999999995,
           "MS"
          ],
          [
           "University of Missouri-Columbia",
           "Public, 4-year or above",
           -92.328843,
           38.94531,
           "MO"
          ],
          [
           "University of Missouri-Kansas City",
           "Public, 4-year or above",
           -94.582141,
           39.034179,
           "MO"
          ],
          [
           "University of Missouri-St Louis",
           "Public, 4-year or above",
           -90.311091,
           38.710312,
           "MO"
          ],
          [
           "University of Mobile",
           "Private not-for-profit, 4-year or above",
           -88.128934,
           30.793247,
           "AL"
          ],
          [
           "University of Montevallo",
           "Public, 4-year or above",
           -86.865099,
           33.10625,
           "AL"
          ],
          [
           "University of Mount Olive",
           "Private not-for-profit, 4-year or above",
           -78.069388,
           35.208166,
           "NC"
          ],
          [
           "University of Mount Union",
           "Private not-for-profit, 4-year or above",
           -81.111029,
           40.905256,
           "OH"
          ],
          [
           "University of Nebraska at Kearney",
           "Public, 4-year or above",
           -99.09807,
           40.701287,
           "NE"
          ],
          [
           "University of Nebraska at Omaha",
           "Public, 4-year or above",
           -96.008516,
           41.258769,
           "NE"
          ],
          [
           "University of Nebraska Medical Center",
           "Public, 4-year or above",
           -95.973966,
           41.256312,
           "NE"
          ],
          [
           "University of Nebraska-Lincoln",
           "Public, 4-year or above",
           -96.700508,
           40.817598,
           "NE"
          ],
          [
           "University of Nevada-Las Vegas",
           "Public, 4-year or above",
           -115.138462,
           36.106047,
           "NV"
          ],
          [
           "University of Nevada-Reno",
           "Public, 4-year or above",
           -119.815377,
           39.543642,
           "NV"
          ],
          [
           "University of New England",
           "Private not-for-profit, 4-year or above",
           -70.38535,
           43.458591,
           "ME"
          ],
          [
           "University of New Hampshire at Manchester",
           "Public, 4-year or above",
           -71.468755,
           42.987209,
           "NH"
          ],
          [
           "University of New Hampshire-Main Campus",
           "Public, 4-year or above",
           -70.93246500000002,
           43.135934000000006,
           "NH"
          ],
          [
           "University of New Hampshire-School of Law",
           "Public, 4-year or above",
           -71.545152,
           43.207371,
           "NH"
          ],
          [
           "University of New Haven",
           "Private not-for-profit, 4-year or above",
           -72.961472,
           41.291314,
           "CT"
          ],
          [
           "University of New Mexico-Gallup Campus",
           "Public, 2-year",
           -108.727252,
           35.502662,
           "NM"
          ],
          [
           "University of New Mexico-Los Alamos Campus",
           "Public, 2-year",
           -106.319557,
           35.886153,
           "NM"
          ],
          [
           "University of New Mexico-Main Campus",
           "Public, 4-year or above",
           -106.620155,
           35.083868,
           "NM"
          ],
          [
           "University of New Mexico-Taos Campus",
           "Public, 2-year",
           -105.651709,
           36.348861,
           "NM"
          ],
          [
           "University of New Mexico-Valencia County Campus",
           "Public, 2-year",
           -106.705371,
           34.728683000000004,
           "NM"
          ],
          [
           "University of New Orleans",
           "Public, 4-year or above",
           -90.067142,
           30.027704,
           "LA"
          ],
          [
           "University of North Alabama",
           "Public, 4-year or above",
           -87.681361,
           34.806738,
           "AL"
          ],
          [
           "University of North Carolina at Asheville",
           "Public, 4-year or above",
           -82.565392,
           35.617068,
           "NC"
          ],
          [
           "University of North Carolina at Chapel Hill",
           "Public, 4-year or above",
           -79.050969,
           35.911769,
           "NC"
          ],
          [
           "University of North Carolina at Charlotte",
           "Public, 4-year or above",
           -80.730919,
           35.306022,
           "NC"
          ],
          [
           "University of North Carolina at Greensboro",
           "Public, 4-year or above",
           -79.809414,
           36.068236,
           "NC"
          ],
          [
           "University of North Carolina at Pembroke",
           "Public, 4-year or above",
           -79.200347,
           34.688313,
           "NC"
          ],
          [
           "University of North Carolina School of the Arts",
           "Public, 4-year or above",
           -80.235672,
           36.076183,
           "NC"
          ],
          [
           "University of North Carolina Wilmington",
           "Public, 4-year or above",
           -77.875527,
           34.225223,
           "NC"
          ],
          [
           "University of North Dakota",
           "Public, 4-year or above",
           -97.071738,
           47.921654,
           "ND"
          ],
          [
           "University of North Florida",
           "Public, 4-year or above",
           -81.50914399999998,
           30.27194,
           "FL"
          ],
          [
           "University of North Georgia",
           "Public, 4-year or above",
           -83.985694,
           34.530219,
           "GA"
          ],
          [
           "University of North Texas",
           "Public, 4-year or above",
           -97.148422,
           33.211178000000004,
           "TX"
          ],
          [
           "University of North Texas at Dallas",
           "Public, 4-year or above",
           -96.803446,
           32.659588,
           "TX"
          ],
          [
           "University of North Texas Health Science Center",
           "Public, 4-year or above",
           -97.369138,
           32.749907,
           "TX"
          ],
          [
           "University of Northern Colorado",
           "Public, 4-year or above",
           -104.692777,
           40.410855,
           "CO"
          ],
          [
           "University of Northern Iowa",
           "Public, 4-year or above",
           -92.459703,
           42.514923,
           "IA"
          ],
          [
           "University of Northwestern Ohio",
           "Private not-for-profit, 4-year or above",
           -84.157004,
           40.762917,
           "OH"
          ],
          [
           "University of Northwestern-St Paul",
           "Private not-for-profit, 4-year or above",
           -93.167822,
           45.033703,
           "MN"
          ],
          [
           "University of Notre Dame",
           "Private not-for-profit, 4-year or above",
           -86.238959,
           41.703058,
           "IN"
          ],
          [
           "University of Oklahoma-Health Sciences Center",
           "Public, 4-year or above",
           -97.496289,
           35.47928,
           "OK"
          ],
          [
           "University of Oklahoma-Norman Campus",
           "Public, 4-year or above",
           -97.444211,
           35.209407,
           "OK"
          ],
          [
           "University of Oregon",
           "Public, 4-year or above",
           -123.075792,
           44.045146,
           "OR"
          ],
          [
           "University of Pennsylvania",
           "Private not-for-profit, 4-year or above",
           -75.19391,
           39.950929,
           "PA"
          ],
          [
           "University of Pikeville",
           "Private not-for-profit, 4-year or above",
           -82.521063,
           37.479232,
           "KY"
          ],
          [
           "University of Pittsburgh Medical Center-Shadyside School of Nursing",
           "Private not-for-profit, 2-year",
           -79.92733299999998,
           40.459846,
           "PA"
          ],
          [
           "University of Pittsburgh-Bradford",
           "Public, 4-year or above",
           -78.673701,
           41.943415,
           "PA"
          ],
          [
           "University of Pittsburgh-Greensburg",
           "Public, 4-year or above",
           -79.532676,
           40.276447,
           "PA"
          ],
          [
           "University of Pittsburgh-Johnstown",
           "Public, 4-year or above",
           -78.834163,
           40.265957,
           "PA"
          ],
          [
           "University of Pittsburgh-Pittsburgh Campus",
           "Public, 4-year or above",
           -79.953254,
           40.444388,
           "PA"
          ],
          [
           "University of Pittsburgh-Titusville",
           "Public, 2-year",
           -79.664156,
           41.628697,
           "PA"
          ],
          [
           "University of Portland",
           "Private not-for-profit, 4-year or above",
           -122.726691,
           45.572724,
           "OR"
          ],
          [
           "University of Providence",
           "Private not-for-profit, 4-year or above",
           -111.270604,
           47.490713,
           "MT"
          ],
          [
           "University of Puget Sound",
           "Private not-for-profit, 4-year or above",
           -122.478982,
           47.26308,
           "WA"
          ],
          [
           "University of Redlands",
           "Private not-for-profit, 4-year or above",
           -117.163218,
           34.064218,
           "CA"
          ],
          [
           "University of Rhode Island",
           "Public, 4-year or above",
           -71.52735600000003,
           41.484691,
           "RI"
          ],
          [
           "University of Richmond",
           "Private not-for-profit, 4-year or above",
           -77.53880600000002,
           37.577393,
           "VA"
          ],
          [
           "University of Rio Grande",
           "Private not-for-profit, 4-year or above",
           -82.378852,
           38.881764,
           "OH"
          ],
          [
           "University of Rochester",
           "Private not-for-profit, 4-year or above",
           -77.631202,
           43.126397,
           "NY"
          ],
          [
           "University of Saint Francis-Fort Wayne",
           "Private not-for-profit, 4-year or above",
           -85.177246,
           41.087205,
           "IN"
          ],
          [
           "University of Saint Joseph",
           "Private not-for-profit, 4-year or above",
           -72.72965,
           41.781041,
           "CT"
          ],
          [
           "University of Saint Mary",
           "Private not-for-profit, 4-year or above",
           -94.906743,
           39.27939600000001,
           "KS"
          ],
          [
           "University of Saint Mary of the Lake",
           "Private not-for-profit, 4-year or above",
           -88.000262,
           42.28070200000001,
           "IL"
          ],
          [
           "University of San Diego",
           "Private not-for-profit, 4-year or above",
           -117.188721,
           32.77142,
           "CA"
          ],
          [
           "University of San Francisco",
           "Private not-for-profit, 4-year or above",
           -122.450977,
           37.775564,
           "CA"
          ],
          [
           "University of Science and Arts of Oklahoma",
           "Public, 4-year or above",
           -97.95641,
           35.031392,
           "OK"
          ],
          [
           "University of Scranton",
           "Private not-for-profit, 4-year or above",
           -75.656915,
           41.406556,
           "PA"
          ],
          [
           "University of Sioux Falls",
           "Private not-for-profit, 4-year or above",
           -96.738229,
           43.531574,
           "SD"
          ],
          [
           "University of South Alabama",
           "Public, 4-year or above",
           -88.17871099999998,
           30.696033,
           "AL"
          ],
          [
           "University of South Carolina-Aiken",
           "Public, 4-year or above",
           -81.767612,
           33.572703999999995,
           "SC"
          ],
          [
           "University of South Carolina-Beaufort",
           "Public, 4-year or above",
           -80.97359499999997,
           32.303308,
           "SC"
          ],
          [
           "University of South Carolina-Columbia",
           "Public, 4-year or above",
           -81.026935,
           33.996788,
           "SC"
          ],
          [
           "University of South Carolina-Lancaster",
           "Public, 2-year",
           -80.78706899999997,
           34.736282,
           "SC"
          ],
          [
           "University of South Carolina-Salkehatchie",
           "Public, 2-year",
           -81.301838,
           33.014312,
           "SC"
          ],
          [
           "University of South Carolina-Sumter",
           "Public, 2-year",
           -80.373459,
           33.934698,
           "SC"
          ],
          [
           "University of South Carolina-Union",
           "Public, 2-year",
           -81.621042,
           34.717771,
           "SC"
          ],
          [
           "University of South Carolina-Upstate",
           "Public, 4-year or above",
           -81.97058299999998,
           34.996403,
           "SC"
          ],
          [
           "University of South Dakota",
           "Public, 4-year or above",
           -96.925283,
           42.786019,
           "SD"
          ],
          [
           "University of South Florida-Main Campus",
           "Public, 4-year or above",
           -82.413232,
           28.061458,
           "FL"
          ],
          [
           "University of South Florida-Sarasota-Manatee",
           "Public, 4-year or above",
           -82.562725,
           27.39158,
           "FL"
          ],
          [
           "University of South Florida-St Petersburg",
           "Public, 4-year or above",
           -82.636136,
           27.763872,
           "FL"
          ],
          [
           "University of Southern California",
           "Private not-for-profit, 4-year or above",
           -118.284169,
           34.021281,
           "CA"
          ],
          [
           "University of Southern Indiana",
           "Public, 4-year or above",
           -87.677214,
           37.962374,
           "IN"
          ],
          [
           "University of Southern Maine",
           "Public, 4-year or above",
           -70.274247,
           43.662863,
           "ME"
          ],
          [
           "University of Southern Mississippi",
           "Public, 4-year or above",
           -89.331236,
           31.32661,
           "MS"
          ],
          [
           "University of St Francis",
           "Private not-for-profit, 4-year or above",
           -88.096057,
           41.532225,
           "IL"
          ],
          [
           "University of St Thomas",
           "Private not-for-profit, 4-year or above",
           -95.393102,
           29.736438,
           "TX"
          ],
          [
           "University of St Thomas",
           "Private not-for-profit, 4-year or above",
           -93.188986,
           44.943439,
           "MN"
          ],
          [
           "University of Texas Health Science Center at Tyler",
           "Public, 4-year or above",
           -95.213526,
           32.425963,
           "TX"
          ],
          [
           "University of Texas Southwestern Medical Center",
           "Public, 4-year or above",
           -96.841156,
           32.812307000000004,
           "TX"
          ],
          [
           "University of the Cumberlands",
           "Private not-for-profit, 4-year or above",
           -84.16164599999998,
           36.737048,
           "KY"
          ],
          [
           "University of the District of Columbia",
           "Public, 4-year or above",
           -77.066247,
           38.943819,
           "DC"
          ],
          [
           "University of the District of Columbia-David A Clarke School of Law",
           "Public, 4-year or above",
           -77.065221,
           38.94621,
           "DC"
          ],
          [
           "University of the Incarnate Word",
           "Private not-for-profit, 4-year or above",
           -98.46583,
           29.46708,
           "TX"
          ],
          [
           "University of the Ozarks",
           "Private not-for-profit, 4-year or above",
           -93.467221,
           35.476278,
           "AR"
          ],
          [
           "University of the Pacific",
           "Private not-for-profit, 4-year or above",
           -121.312301,
           37.981424,
           "CA"
          ],
          [
           "University of the Sciences",
           "Private not-for-profit, 4-year or above",
           -75.207001,
           39.946412,
           "PA"
          ],
          [
           "University of the Southwest",
           "Private not-for-profit, 4-year or above",
           -103.186948,
           32.775496000000004,
           "NM"
          ],
          [
           "University of the West",
           "Private not-for-profit, 4-year or above",
           -118.082964,
           34.045984999999995,
           "CA"
          ],
          [
           "University of Toledo",
           "Public, 4-year or above",
           -83.614714,
           41.660572,
           "OH"
          ],
          [
           "University of Tulsa",
           "Private not-for-profit, 4-year or above",
           -95.945941,
           36.152324,
           "OK"
          ],
          [
           "University of Utah",
           "Public, 4-year or above",
           -111.846044,
           40.762484,
           "UT"
          ],
          [
           "University of Valley Forge",
           "Private not-for-profit, 4-year or above",
           -75.5469,
           40.117835,
           "PA"
          ],
          [
           "University of Vermont",
           "Public, 4-year or above",
           -73.196646,
           44.477325,
           "VT"
          ],
          [
           "University of Virginia-Main Campus",
           "Public, 4-year or above",
           -78.503428,
           38.035665,
           "VA"
          ],
          [
           "University of Washington-Bothell Campus",
           "Public, 4-year or above",
           -122.191293,
           47.759773,
           "WA"
          ],
          [
           "University of Washington-Seattle Campus",
           "Public, 4-year or above",
           -122.30514,
           47.65538,
           "WA"
          ],
          [
           "University of Washington-Tacoma Campus",
           "Public, 4-year or above",
           -122.438541,
           47.244594,
           "WA"
          ],
          [
           "University of West Alabama",
           "Public, 4-year or above",
           -88.186329,
           32.588132,
           "AL"
          ],
          [
           "University of West Georgia",
           "Public, 4-year or above",
           -85.097762,
           33.573621,
           "GA"
          ],
          [
           "University of Western States",
           "Private not-for-profit, 4-year or above",
           -122.525979,
           45.543253,
           "OR"
          ],
          [
           "University of Wisconsin Colleges",
           "Public, 4-year or above",
           -89.39859,
           43.06821400000001,
           "WI"
          ],
          [
           "University of Wisconsin Colleges Flex",
           "Public, 2-year",
           -89.39859,
           43.06821400000001,
           "WI"
          ],
          [
           "University of Wisconsin-Eau Claire",
           "Public, 4-year or above",
           -91.501906,
           44.798284,
           "WI"
          ],
          [
           "University of Wisconsin-Green Bay",
           "Public, 4-year or above",
           -87.919973,
           44.532298,
           "WI"
          ],
          [
           "University of Wisconsin-La Crosse",
           "Public, 4-year or above",
           -91.23186,
           43.81568,
           "WI"
          ],
          [
           "University of Wisconsin-Madison",
           "Public, 4-year or above",
           -89.404098,
           43.075409,
           "WI"
          ],
          [
           "University of Wisconsin-Milwaukee",
           "Public, 4-year or above",
           -87.880488,
           43.076848,
           "WI"
          ],
          [
           "University of Wisconsin-Milwaukee Flex",
           "Public, 4-year or above",
           -87.880488,
           43.076848,
           "WI"
          ],
          [
           "University of Wisconsin-Oshkosh",
           "Public, 4-year or above",
           -88.549369,
           44.026206,
           "WI"
          ],
          [
           "University of Wisconsin-Parkside",
           "Public, 4-year or above",
           -87.855231,
           42.647718,
           "WI"
          ],
          [
           "University of Wisconsin-Parkside Flex",
           "Public, 4-year or above",
           -87.855007,
           42.645603,
           "WI"
          ],
          [
           "University of Wisconsin-Platteville",
           "Public, 4-year or above",
           -90.48622,
           42.733451,
           "WI"
          ],
          [
           "University of Wisconsin-River Falls",
           "Public, 4-year or above",
           -92.622641,
           44.8534,
           "WI"
          ],
          [
           "University of Wisconsin-Stevens Point",
           "Public, 4-year or above",
           -89.570934,
           44.529582,
           "WI"
          ],
          [
           "University of Wisconsin-Stout",
           "Public, 4-year or above",
           -91.926653,
           44.873187,
           "WI"
          ],
          [
           "University of Wisconsin-Superior",
           "Public, 4-year or above",
           -92.091007,
           46.717629,
           "WI"
          ],
          [
           "University of Wisconsin-Whitewater",
           "Public, 4-year or above",
           -88.742368,
           42.835563,
           "WI"
          ],
          [
           "University of Wyoming",
           "Public, 4-year or above",
           -105.57931,
           41.311773,
           "WY"
          ],
          [
           "Upper Iowa University",
           "Private not-for-profit, 4-year or above",
           -91.799543,
           42.838283,
           "IA"
          ],
          [
           "Upper Valley Educators Institute",
           "Private not-for-profit, 4-year or above",
           -72.230822,
           43.63759500000001,
           "NH"
          ],
          [
           "Upstate Medical University",
           "Public, 4-year or above",
           -76.14000899999998,
           43.041819,
           "NY"
          ],
          [
           "Urban College of Boston",
           "Private not-for-profit, 2-year",
           -71.0642,
           42.352922,
           "MA"
          ],
          [
           "Urbana University",
           "Private not-for-profit, 4-year or above",
           -83.760301,
           40.102594,
           "OH"
          ],
          [
           "Urshan Graduate School of Theology",
           "Private not-for-profit, 4-year or above",
           -90.364462,
           38.801695,
           "MO"
          ],
          [
           "Ursinus College",
           "Private not-for-profit, 4-year or above",
           -75.456505,
           40.193023,
           "PA"
          ],
          [
           "Ursuline College",
           "Private not-for-profit, 4-year or above",
           -81.465118,
           41.497035,
           "OH"
          ],
          [
           "Uta Mesivta of Kiryas Joel",
           "Private not-for-profit, 4-year or above",
           -74.161179,
           41.333864,
           "NY"
          ],
          [
           "Utah State University",
           "Public, 4-year or above",
           -111.81391,
           41.740748,
           "UT"
          ],
          [
           "Utah Valley University",
           "Public, 4-year or above",
           -111.716456,
           40.281078,
           "UT"
          ],
          [
           "Utica College",
           "Private not-for-profit, 4-year or above",
           -75.27291600000002,
           43.096213,
           "NY"
          ],
          [
           "Valdosta State University",
           "Public, 4-year or above",
           -83.289282,
           30.847402,
           "GA"
          ],
          [
           "Valencia College",
           "Public, 4-year or above",
           -81.471466,
           28.520898,
           "FL"
          ],
          [
           "Valley City State University",
           "Public, 4-year or above",
           -98.00389,
           46.918517,
           "ND"
          ],
          [
           "Valley Forge Military College",
           "Private not-for-profit, 2-year",
           -75.382097,
           40.053697,
           "PA"
          ],
          [
           "Valor Christian College",
           "Private not-for-profit, 2-year",
           -82.829696,
           39.891571,
           "OH"
          ],
          [
           "Valparaiso University",
           "Private not-for-profit, 4-year or above",
           -87.040172,
           41.462239,
           "IN"
          ],
          [
           "Vance-Granville Community College",
           "Public, 2-year",
           -78.487651,
           36.323887,
           "NC"
          ],
          [
           "Vanderbilt University",
           "Private not-for-profit, 4-year or above",
           -86.80336899999998,
           36.14659,
           "TN"
          ],
          [
           "VanderCook College of Music",
           "Private not-for-profit, 4-year or above",
           -87.629138,
           41.836833,
           "IL"
          ],
          [
           "Vanguard University of Southern California",
           "Private not-for-profit, 4-year or above",
           -117.900911,
           33.662686,
           "CA"
          ],
          [
           "Vassar College",
           "Private not-for-profit, 4-year or above",
           -73.895088,
           41.686895,
           "NY"
          ],
          [
           "Vaughn College of Aeronautics and Technology",
           "Private not-for-profit, 4-year or above",
           -73.881721,
           40.768348,
           "NY"
          ],
          [
           "Ventura College",
           "Public, 2-year",
           -119.230659,
           34.277035,
           "CA"
          ],
          [
           "Vermilion Community College",
           "Public, 2-year",
           -91.837777,
           47.90518400000001,
           "MN"
          ],
          [
           "Vermont College of Fine Arts",
           "Private not-for-profit, 4-year or above",
           -72.567616,
           44.25521,
           "VT"
          ],
          [
           "Vermont Law School",
           "Private not-for-profit, 4-year or above",
           -72.52091899999998,
           43.821406,
           "VT"
          ],
          [
           "Vermont Technical College",
           "Public, 4-year or above",
           -72.60449799999998,
           43.939623,
           "VT"
          ],
          [
           "Vernon College",
           "Public, 2-year",
           -99.319094,
           34.159298,
           "TX"
          ],
          [
           "Victor Valley College",
           "Public, 2-year",
           -117.261456,
           34.472231,
           "CA"
          ],
          [
           "Victoria College",
           "Public, 2-year",
           -96.979234,
           28.816451,
           "TX"
          ],
          [
           "Villa Maria College",
           "Private not-for-profit, 4-year or above",
           -78.796823,
           42.91223,
           "NY"
          ],
          [
           "Villanova University",
           "Private not-for-profit, 4-year or above",
           -75.345457,
           40.039388,
           "PA"
          ],
          [
           "Vincennes University",
           "Public, 4-year or above",
           -87.51993900000002,
           38.687766,
           "IN"
          ],
          [
           "Virginia Baptist College",
           "Private not-for-profit, 4-year or above",
           -77.53133100000002,
           38.29058,
           "VA"
          ],
          [
           "Virginia Beach Theological Seminary",
           "Private not-for-profit, 4-year or above",
           -76.189475,
           36.765993,
           "VA"
          ],
          [
           "Virginia Commonwealth University",
           "Public, 4-year or above",
           -77.453597,
           37.547631,
           "VA"
          ],
          [
           "Virginia Highlands Community College",
           "Public, 2-year",
           -82.001304,
           36.699275,
           "VA"
          ],
          [
           "Virginia International University",
           "Private not-for-profit, 4-year or above",
           -77.347751,
           38.84905,
           "VA"
          ],
          [
           "Virginia Military Institute",
           "Public, 4-year or above",
           -79.437067,
           37.7896,
           "VA"
          ],
          [
           "Virginia Polytechnic Institute and State University",
           "Public, 4-year or above",
           -80.423675,
           37.229012,
           "VA"
          ],
          [
           "Virginia State University",
           "Public, 4-year or above",
           -77.419886,
           37.236453,
           "VA"
          ],
          [
           "Virginia Tech Carilion School of Medicine",
           "Private not-for-profit, 4-year or above",
           -79.942599,
           37.257489,
           "VA"
          ],
          [
           "Virginia Union University",
           "Private not-for-profit, 4-year or above",
           -77.450903,
           37.562405,
           "VA"
          ],
          [
           "Virginia University of Lynchburg",
           "Private not-for-profit, 4-year or above",
           -79.15151800000002,
           37.395135,
           "VA"
          ],
          [
           "Virginia University of Oriental Medicine",
           "Private not-for-profit, 4-year or above",
           -77.269749,
           38.844541,
           "VA"
          ],
          [
           "Virginia Wesleyan University",
           "Private not-for-profit, 4-year or above",
           -76.18606,
           36.868417,
           "VA"
          ],
          [
           "Virginia Western Community College",
           "Public, 2-year",
           -79.97313299999998,
           37.245648,
           "VA"
          ],
          [
           "Visible Music College",
           "Private not-for-profit, 4-year or above",
           -90.04938100000003,
           35.144586,
           "TN"
          ],
          [
           "Viterbo University",
           "Private not-for-profit, 4-year or above",
           -91.244297,
           43.803133,
           "WI"
          ],
          [
           "Volunteer State Community College",
           "Public, 2-year",
           -86.497127,
           36.362518,
           "TN"
          ],
          [
           "Voorhees College",
           "Private not-for-profit, 4-year or above",
           -81.127863,
           33.307199,
           "SC"
          ],
          [
           "Wabash College",
           "Private not-for-profit, 4-year or above",
           -86.906,
           40.037588,
           "IN"
          ],
          [
           "Wabash Valley College",
           "Public, 2-year",
           -87.778448,
           38.42889,
           "IL"
          ],
          [
           "Wagner College",
           "Private not-for-profit, 4-year or above",
           -74.092913,
           40.615588,
           "NY"
          ],
          [
           "Wake Forest University",
           "Private not-for-profit, 4-year or above",
           -80.277446,
           36.133609,
           "NC"
          ],
          [
           "Wake Technical Community College",
           "Public, 2-year",
           -78.706126,
           35.650151,
           "NC"
          ],
          [
           "Walla Walla Community College",
           "Public, 2-year",
           -118.276505,
           46.078557,
           "WA"
          ],
          [
           "Walla Walla University",
           "Private not-for-profit, 4-year or above",
           -118.389555,
           46.048088,
           "WA"
          ],
          [
           "Walsh College of Accountancy and Business Administration",
           "Private not-for-profit, 4-year or above",
           -83.14719699999998,
           42.573888,
           "MI"
          ],
          [
           "Walsh University",
           "Private not-for-profit, 4-year or above",
           -81.36993100000002,
           40.873908,
           "OH"
          ],
          [
           "Walters State Community College",
           "Public, 2-year",
           -83.262191,
           36.213904,
           "TN"
          ],
          [
           "Warner Pacific College",
           "Private not-for-profit, 4-year or above",
           -122.592498,
           45.506265,
           "OR"
          ],
          [
           "Warner Pacific College Adult Degree Program",
           "Private not-for-profit, 4-year or above",
           -122.56253,
           45.503764,
           "OR"
          ],
          [
           "Warner University",
           "Private not-for-profit, 4-year or above",
           -81.599972,
           27.825751,
           "FL"
          ],
          [
           "Warren County Career Center",
           "Public, 2-year",
           -84.202969,
           39.488772,
           "OH"
          ],
          [
           "Warren County Community College",
           "Public, 2-year",
           -75.018309,
           40.744812,
           "NJ"
          ],
          [
           "Warren Wilson College",
           "Private not-for-profit, 4-year or above",
           -82.442619,
           35.610328,
           "NC"
          ],
          [
           "Wartburg College",
           "Private not-for-profit, 4-year or above",
           -92.483387,
           42.7277,
           "IA"
          ],
          [
           "Wartburg Theological Seminary",
           "Private not-for-profit, 4-year or above",
           -90.691225,
           42.485761,
           "IA"
          ],
          [
           "Washburn University",
           "Public, 4-year or above",
           -95.702222,
           39.03377800000001,
           "KS"
          ],
          [
           "Washington & Jefferson College",
           "Private not-for-profit, 4-year or above",
           -80.24049000000002,
           40.170622,
           "PA"
          ],
          [
           "Washington Adventist University",
           "Private not-for-profit, 4-year or above",
           -77.000608,
           38.986349,
           "MD"
          ],
          [
           "Washington and Lee University",
           "Private not-for-profit, 4-year or above",
           -79.44301800000002,
           37.788939,
           "VA"
          ],
          [
           "Washington College",
           "Private not-for-profit, 4-year or above",
           -76.06878,
           39.217329,
           "MD"
          ],
          [
           "Washington County Career Center-Adult Technical Training",
           "Public, 2-year",
           -81.50106,
           39.43299,
           "OH"
          ],
          [
           "Washington County Community College",
           "Public, 2-year",
           -67.243306,
           45.165537,
           "ME"
          ],
          [
           "Washington Hospital School of Nursing",
           "Private not-for-profit, 2-year",
           -80.24570899999998,
           40.183984,
           "PA"
          ],
          [
           "Washington Hospital School of Radiologic Technology",
           "Private not-for-profit, 2-year",
           -80.24570899999998,
           40.183984,
           "PA"
          ],
          [
           "Washington State Community College",
           "Public, 2-year",
           -81.43392,
           39.430824,
           "OH"
          ],
          [
           "Washington State University",
           "Public, 4-year or above",
           -117.158168,
           46.730448,
           "WA"
          ],
          [
           "Washington University in St Louis",
           "Private not-for-profit, 4-year or above",
           -90.310604,
           38.647929,
           "MO"
          ],
          [
           "Washtenaw Community College",
           "Public, 2-year",
           -83.66559000000002,
           42.26361,
           "MI"
          ],
          [
           "Watkins College of Art Design & Film",
           "Private not-for-profit, 4-year or above",
           -86.805888,
           36.194659,
           "TN"
          ],
          [
           "Watts School of Nursing",
           "Private not-for-profit, 2-year",
           -78.9413,
           36.027649,
           "NC"
          ],
          [
           "Waubonsee Community College",
           "Public, 2-year",
           -88.459925,
           41.795955,
           "IL"
          ],
          [
           "Waukesha County Technical College",
           "Public, 2-year",
           -88.256292,
           43.071444,
           "WI"
          ],
          [
           "Wave Leadership College",
           "Private not-for-profit, 2-year",
           -76.043121,
           36.86471,
           "VA"
          ],
          [
           "Wayland Baptist University",
           "Private not-for-profit, 4-year or above",
           -101.730042,
           34.187677,
           "TX"
          ],
          [
           "Wayne Community College",
           "Public, 2-year",
           -77.94587299999998,
           35.403079,
           "NC"
          ],
          [
           "Wayne County Community College District",
           "Public, 2-year",
           -83.054497,
           42.327299,
           "MI"
          ],
          [
           "Wayne State College",
           "Public, 4-year or above",
           -97.015122,
           42.241556,
           "NE"
          ],
          [
           "Wayne State University",
           "Public, 4-year or above",
           -83.068998,
           42.358994,
           "MI"
          ],
          [
           "Waynesburg University",
           "Private not-for-profit, 4-year or above",
           -80.186205,
           39.89987100000001,
           "PA"
          ],
          [
           "Weatherford College",
           "Public, 2-year",
           -97.792629,
           32.74133,
           "TX"
          ],
          [
           "Webb Institute",
           "Private not-for-profit, 4-year or above",
           -73.644909,
           40.884444,
           "NY"
          ],
          [
           "Webber International University",
           "Private not-for-profit, 4-year or above",
           -81.532315,
           27.838778,
           "FL"
          ],
          [
           "Weber State University",
           "Public, 4-year or above",
           -111.944845,
           41.192591,
           "UT"
          ],
          [
           "Webster University",
           "Private not-for-profit, 4-year or above",
           -90.345151,
           38.588875,
           "MO"
          ],
          [
           "Weill Cornell Medical College",
           "Private not-for-profit, 4-year or above",
           -73.954839,
           40.764738,
           "NY"
          ],
          [
           "Welch College",
           "Private not-for-profit, 4-year or above",
           -86.549153,
           36.36719,
           "TN"
          ],
          [
           "Wellesley College",
           "Private not-for-profit, 4-year or above",
           -71.306605,
           42.291554,
           "MA"
          ],
          [
           "Wells College",
           "Private not-for-profit, 4-year or above",
           -76.696028,
           42.742943,
           "NY"
          ],
          [
           "Wenatchee Valley College",
           "Public, 4-year or above",
           -120.337198,
           47.431234,
           "WA"
          ],
          [
           "Wentworth Institute of Technology",
           "Private not-for-profit, 4-year or above",
           -71.094983,
           42.336632,
           "MA"
          ],
          [
           "Wesley Biblical Seminary",
           "Private not-for-profit, 4-year or above",
           -90.159447,
           32.355011,
           "MS"
          ],
          [
           "Wesley College",
           "Private not-for-profit, 4-year or above",
           -75.527716,
           39.163182,
           "DE"
          ],
          [
           "Wesley Theological Seminary",
           "Private not-for-profit, 4-year or above",
           -77.08995999999998,
           38.939606,
           "DC"
          ],
          [
           "Wesleyan College",
           "Private not-for-profit, 4-year or above",
           -83.715417,
           32.876037,
           "GA"
          ],
          [
           "Wesleyan University",
           "Private not-for-profit, 4-year or above",
           -72.657146,
           41.554665,
           "CT"
          ],
          [
           "West Chester University of Pennsylvania",
           "Public, 4-year or above",
           -75.59812,
           39.953398,
           "PA"
          ],
          [
           "West Georgia Technical College",
           "Public, 2-year",
           -85.183666,
           33.691657,
           "GA"
          ],
          [
           "West Hills College-Coalinga",
           "Public, 2-year",
           -120.356747,
           36.147891,
           "CA"
          ],
          [
           "West Hills College-Lemoore",
           "Public, 2-year",
           -119.823866,
           36.292431,
           "CA"
          ],
          [
           "West Kentucky Community and Technical College",
           "Public, 2-year",
           -88.658762,
           37.054081,
           "KY"
          ],
          [
           "West Liberty University",
           "Public, 4-year or above",
           -80.60225600000003,
           40.164417,
           "WV"
          ],
          [
           "West Los Angeles College",
           "Public, 4-year or above",
           -118.387578,
           34.005578,
           "CA"
          ],
          [
           "West Shore Community College",
           "Public, 2-year",
           -86.336122,
           44.008512,
           "MI"
          ],
          [
           "West Texas A & M University",
           "Public, 4-year or above",
           -101.914736,
           34.982789000000004,
           "TX"
          ],
          [
           "West Valley College",
           "Public, 2-year",
           -122.008324,
           37.26398,
           "CA"
          ],
          [
           "West Virginia Northern Community College",
           "Public, 2-year",
           -80.72126300000002,
           40.063318,
           "WV"
          ],
          [
           "West Virginia School of Osteopathic Medicine",
           "Public, 4-year or above",
           -80.43782,
           37.804273,
           "WV"
          ],
          [
           "West Virginia State University",
           "Public, 4-year or above",
           -81.765034,
           38.380541,
           "WV"
          ],
          [
           "West Virginia University",
           "Public, 4-year or above",
           -79.954391,
           39.634371,
           "WV"
          ],
          [
           "West Virginia University at Parkersburg",
           "Public, 4-year or above",
           -81.506192,
           39.216379,
           "WV"
          ],
          [
           "West Virginia University Hospital Departments of Rad Tech and Nutrition",
           "Private not-for-profit, 4-year or above",
           -79.957959,
           39.654269,
           "WV"
          ],
          [
           "West Virginia University Institute of Technology",
           "Public, 4-year or above",
           -81.184072,
           37.775924,
           "WV"
          ],
          [
           "West Virginia Wesleyan College",
           "Private not-for-profit, 4-year or above",
           -80.218969,
           38.990661,
           "WV"
          ],
          [
           "Western Carolina University",
           "Public, 4-year or above",
           -83.186258,
           35.308979,
           "NC"
          ],
          [
           "Western Connecticut State University",
           "Public, 4-year or above",
           -73.444264,
           41.400365,
           "CT"
          ],
          [
           "Western Dakota Technical Institute",
           "Public, 2-year",
           -103.179501,
           44.076648,
           "SD"
          ],
          [
           "Western Governors University",
           "Private not-for-profit, 4-year or above",
           -111.869752,
           40.68481,
           "UT"
          ],
          [
           "Western Illinois University",
           "Public, 4-year or above",
           -90.686899,
           40.468086,
           "IL"
          ],
          [
           "Western Iowa Tech Community College",
           "Public, 2-year",
           -96.348874,
           42.482953,
           "IA"
          ],
          [
           "Western Kentucky University",
           "Public, 4-year or above",
           -86.456828,
           36.985035,
           "KY"
          ],
          [
           "Western Michigan University",
           "Public, 4-year or above",
           -85.613759,
           42.282194,
           "MI"
          ],
          [
           "Western Michigan University Homer Stryker M.D. School of Medicine",
           "Private not-for-profit, 4-year or above",
           -85.57943,
           42.289571,
           "MI"
          ],
          [
           "Western Michigan University-Thomas M. Cooley Law School",
           "Private not-for-profit, 4-year or above",
           -84.554429,
           42.731,
           "MI"
          ],
          [
           "Western Nebraska Community College",
           "Public, 2-year",
           -103.64249,
           41.875705,
           "NE"
          ],
          [
           "Western Nevada College",
           "Public, 4-year or above",
           -119.79036,
           39.186158,
           "NV"
          ],
          [
           "Western New England University",
           "Private not-for-profit, 4-year or above",
           -72.520466,
           42.115017,
           "MA"
          ],
          [
           "Western New Mexico University",
           "Public, 4-year or above",
           -108.283284,
           32.7767,
           "NM"
          ],
          [
           "Western Oklahoma State College",
           "Public, 2-year",
           -99.33699,
           34.669018,
           "OK"
          ],
          [
           "Western Oregon University",
           "Public, 4-year or above",
           -123.23830900000002,
           44.852235,
           "OR"
          ],
          [
           "Western Pennsylvania Hospital School of Nursing",
           "Private not-for-profit, 2-year",
           -79.945111,
           40.462132,
           "PA"
          ],
          [
           "Western Piedmont Community College",
           "Public, 2-year",
           -81.687345,
           35.722876,
           "NC"
          ],
          [
           "Western Seminary",
           "Private not-for-profit, 4-year or above",
           -122.606374,
           45.512091,
           "OR"
          ],
          [
           "Western State Colorado University",
           "Public, 4-year or above",
           -106.918439,
           38.549436,
           "CO"
          ],
          [
           "Western Suffolk BOCES",
           "Public, 2-year",
           -73.343689,
           40.877083,
           "NY"
          ],
          [
           "Western Technical College",
           "Public, 2-year",
           -91.246191,
           43.815309,
           "WI"
          ],
          [
           "Western Texas College",
           "Public, 2-year",
           -100.914945,
           32.678458,
           "TX"
          ],
          [
           "Western Theological Seminary",
           "Private not-for-profit, 4-year or above",
           -86.10324,
           42.78624600000001,
           "MI"
          ],
          [
           "Western University of Health Sciences",
           "Private not-for-profit, 4-year or above",
           -117.747732,
           34.058091999999995,
           "CA"
          ],
          [
           "Western Washington University",
           "Public, 4-year or above",
           -122.485734,
           48.737812,
           "WA"
          ],
          [
           "Western Wyoming Community College",
           "Public, 2-year",
           -109.237126,
           41.590964,
           "WY"
          ],
          [
           "Westfield State University",
           "Public, 4-year or above",
           -72.795673,
           42.131589,
           "MA"
          ],
          [
           "Westminster College",
           "Private not-for-profit, 4-year or above",
           -91.955273,
           38.849354,
           "MO"
          ],
          [
           "Westminster College",
           "Private not-for-profit, 4-year or above",
           -111.855757,
           40.730779,
           "UT"
          ],
          [
           "Westminster College",
           "Private not-for-profit, 4-year or above",
           -80.331017,
           41.119272,
           "PA"
          ],
          [
           "Westminster Theological Seminary",
           "Private not-for-profit, 4-year or above",
           -75.176327,
           40.09815,
           "PA"
          ],
          [
           "Westminster Theological Seminary in California",
           "Private not-for-profit, 4-year or above",
           -117.046371,
           33.121447,
           "CA"
          ],
          [
           "Westmont College",
           "Private not-for-profit, 4-year or above",
           -119.662517,
           34.450151,
           "CA"
          ],
          [
           "Westmoreland County Community College",
           "Public, 2-year",
           -79.564897,
           40.234321,
           "PA"
          ],
          [
           "Wharton County Junior College",
           "Public, 2-year",
           -96.085199,
           29.324294,
           "TX"
          ],
          [
           "Whatcom Community College",
           "Public, 4-year or above",
           -122.493253,
           48.7939,
           "WA"
          ],
          [
           "Wheaton College",
           "Private not-for-profit, 4-year or above",
           -71.184167,
           41.966813,
           "MA"
          ],
          [
           "Wheaton College",
           "Private not-for-profit, 4-year or above",
           -88.099643,
           41.870176,
           "IL"
          ],
          [
           "Wheeling Jesuit University",
           "Private not-for-profit, 4-year or above",
           -80.690804,
           40.070873,
           "WV"
          ],
          [
           "Wheelock College",
           "Private not-for-profit, 4-year or above",
           -71.106412,
           42.341753,
           "MA"
          ],
          [
           "White Earth Tribal and Community College",
           "Private not-for-profit, 2-year",
           -95.953099,
           47.3175,
           "MN"
          ],
          [
           "White Mountains Community College",
           "Public, 2-year",
           -71.158535,
           44.503494,
           "NH"
          ],
          [
           "Whitman College",
           "Private not-for-profit, 4-year or above",
           -118.331546,
           46.06981500000001,
           "WA"
          ],
          [
           "Whittier College",
           "Private not-for-profit, 4-year or above",
           -118.028402,
           33.977625,
           "CA"
          ],
          [
           "Whitworth University",
           "Private not-for-profit, 4-year or above",
           -117.41671399999998,
           47.753358,
           "WA"
          ],
          [
           "Whitworth University-Adult Degree Programs",
           "Private not-for-profit, 4-year or above",
           -117.411568,
           47.751642,
           "WA"
          ],
          [
           "Wichita Area Technical College",
           "Public, 2-year",
           -97.224151,
           37.75764,
           "KS"
          ],
          [
           "Wichita State University",
           "Public, 4-year or above",
           -97.292361,
           37.718882,
           "KS"
          ],
          [
           "Widener University",
           "Private not-for-profit, 4-year or above",
           -75.355363,
           39.861689,
           "PA"
          ],
          [
           "Wilberforce University",
           "Private not-for-profit, 4-year or above",
           -83.880595,
           39.707291,
           "OH"
          ],
          [
           "Wiley College",
           "Private not-for-profit, 4-year or above",
           -94.376821,
           32.537646,
           "TX"
          ],
          [
           "Wilkes Community College",
           "Public, 2-year",
           -81.182994,
           36.136617,
           "NC"
          ],
          [
           "Wilkes University",
           "Private not-for-profit, 4-year or above",
           -75.89026199999998,
           41.244199,
           "PA"
          ],
          [
           "Willamette University",
           "Private not-for-profit, 4-year or above",
           -123.030537,
           44.935457,
           "OR"
          ],
          [
           "William Carey University",
           "Private not-for-profit, 4-year or above",
           -89.291815,
           31.305264,
           "MS"
          ],
          [
           "William James College",
           "Private not-for-profit, 4-year or above",
           -71.20325600000002,
           42.294995,
           "MA"
          ],
          [
           "William Jessup University",
           "Private not-for-profit, 4-year or above",
           -121.292312,
           38.81972800000001,
           "CA"
          ],
          [
           "William Jewell College",
           "Private not-for-profit, 4-year or above",
           -94.413126,
           39.247844,
           "MO"
          ],
          [
           "William Moore College of Technology",
           "Private not-for-profit, 2-year",
           -90.020169,
           35.144863,
           "TN"
          ],
          [
           "William Paterson University of New Jersey",
           "Public, 4-year or above",
           -74.200248,
           40.945255,
           "NJ"
          ],
          [
           "William Peace University",
           "Private not-for-profit, 4-year or above",
           -78.637697,
           35.789139,
           "NC"
          ],
          [
           "William Penn University",
           "Private not-for-profit, 4-year or above",
           -92.647095,
           41.310111,
           "IA"
          ],
          [
           "William Rainey Harper College",
           "Public, 2-year",
           -88.072811,
           42.081829,
           "IL"
          ],
          [
           "William T McFatter Technical College",
           "Public, 2-year",
           -80.232201,
           26.085022,
           "FL"
          ],
          [
           "William Woods University",
           "Private not-for-profit, 4-year or above",
           -91.950416,
           38.860287,
           "MO"
          ],
          [
           "Williams Baptist College",
           "Private not-for-profit, 4-year or above",
           -90.940277,
           36.125676,
           "AR"
          ],
          [
           "Williams College",
           "Private not-for-profit, 4-year or above",
           -73.203132,
           42.712725,
           "MA"
          ],
          [
           "Williamsburg Technical College",
           "Public, 2-year",
           -79.817984,
           33.657084999999995,
           "SC"
          ],
          [
           "Williamson Christian College",
           "Private not-for-profit, 4-year or above",
           -86.828311,
           35.95616,
           "TN"
          ],
          [
           "Williston State College",
           "Public, 2-year",
           -103.613066,
           48.158603,
           "ND"
          ],
          [
           "Wilmington College",
           "Private not-for-profit, 4-year or above",
           -83.818342,
           39.444744,
           "OH"
          ],
          [
           "Wilmington University",
           "Private not-for-profit, 4-year or above",
           -75.586998,
           39.682299,
           "DE"
          ],
          [
           "Wilson College",
           "Private not-for-profit, 4-year or above",
           -77.650712,
           39.949659,
           "PA"
          ],
          [
           "Wilson Community College",
           "Public, 2-year",
           -77.895663,
           35.730114,
           "NC"
          ],
          [
           "Windward Community College",
           "Public, 2-year",
           -157.813307,
           21.407051,
           "HI"
          ],
          [
           "Winebrenner Theological Seminary",
           "Private not-for-profit, 4-year or above",
           -83.650711,
           41.052464,
           "OH"
          ],
          [
           "Wingate University",
           "Private not-for-profit, 4-year or above",
           -80.44305,
           34.986064,
           "NC"
          ],
          [
           "Winona State University",
           "Public, 4-year or above",
           -91.643723,
           44.046159,
           "MN"
          ],
          [
           "Winston-Salem State University",
           "Public, 4-year or above",
           -80.225033,
           36.089554,
           "NC"
          ],
          [
           "Winthrop University",
           "Public, 4-year or above",
           -81.03140400000002,
           34.941515,
           "SC"
          ],
          [
           "Wiregrass Georgia Technical College",
           "Public, 2-year",
           -83.35381,
           30.889221000000006,
           "GA"
          ],
          [
           "Wisconsin Indianhead Technical College",
           "Public, 2-year",
           -91.916484,
           45.747831,
           "WI"
          ],
          [
           "Wisconsin Lutheran College",
           "Private not-for-profit, 4-year or above",
           -88.02271800000003,
           43.036943,
           "WI"
          ],
          [
           "Wisconsin School of Professional Psychology",
           "Private not-for-profit, 4-year or above",
           -88.026735,
           43.10534000000001,
           "WI"
          ],
          [
           "Withlacoochee Technical College",
           "Public, 2-year",
           -82.345563,
           28.834861,
           "FL"
          ],
          [
           "Wittenberg University",
           "Private not-for-profit, 4-year or above",
           -83.815445,
           39.934029,
           "OH"
          ],
          [
           "Wofford College",
           "Private not-for-profit, 4-year or above",
           -81.93356800000002,
           34.959411,
           "SC"
          ],
          [
           "Won Institute of Graduate Studies",
           "Private not-for-profit, 4-year or above",
           -75.154336,
           40.09931,
           "PA"
          ],
          [
           "Wongu University of Oriental Medicine",
           "Private not-for-profit, 4-year or above",
           -115.117581,
           36.03274,
           "NV"
          ],
          [
           "Woodbury University",
           "Private not-for-profit, 4-year or above",
           -118.341147,
           34.208011,
           "CA"
          ],
          [
           "Woodland Community College",
           "Public, 2-year",
           -121.73533,
           38.660392,
           "CA"
          ],
          [
           "Wor-Wic Community College",
           "Public, 2-year",
           -75.499659,
           38.373723,
           "MD"
          ],
          [
           "Worcester Polytechnic Institute",
           "Private not-for-profit, 4-year or above",
           -71.808339,
           42.274853,
           "MA"
          ],
          [
           "Worcester State University",
           "Public, 4-year or above",
           -71.84401899999997,
           42.26753400000001,
           "MA"
          ],
          [
           "Word of Life Bible Institute",
           "Private not-for-profit, 2-year",
           -73.812057,
           43.730713,
           "NY"
          ],
          [
           "World Medicine Institute",
           "Private not-for-profit, 4-year or above",
           -157.754719,
           21.296439000000003,
           "HI"
          ],
          [
           "World Mission University",
           "Private not-for-profit, 4-year or above",
           -118.289484,
           34.064918,
           "CA"
          ],
          [
           "Wright Graduate University for the Realization of Human Potential",
           "Private not-for-profit, 4-year or above",
           -88.59108499999998,
           42.767178,
           "WI"
          ],
          [
           "Wright State University-Lake Campus",
           "Public, 4-year or above",
           -84.509194,
           40.546074,
           "OH"
          ],
          [
           "Wright State University-Main Campus",
           "Public, 4-year or above",
           -84.064881,
           39.780634,
           "OH"
          ],
          [
           "Wyotech-Blairsville",
           "Private not-for-profit, 2-year",
           -79.223861,
           40.445463,
           "PA"
          ],
          [
           "Wyotech-Daytona",
           "Private not-for-profit, 2-year",
           -81.13308599999998,
           29.349365,
           "FL"
          ],
          [
           "Wyotech-Laramie",
           "Private not-for-profit, 2-year",
           -105.621161,
           41.30354000000001,
           "WY"
          ],
          [
           "Wytheville Community College",
           "Public, 2-year",
           -81.07118100000002,
           36.95731,
           "VA"
          ],
          [
           "Xavier University",
           "Private not-for-profit, 4-year or above",
           -84.47465,
           39.149547,
           "OH"
          ],
          [
           "Xavier University of Louisiana",
           "Private not-for-profit, 4-year or above",
           -90.107307,
           29.964162,
           "LA"
          ],
          [
           "Yakima Valley College",
           "Public, 4-year or above",
           -120.528525,
           46.586098,
           "WA"
          ],
          [
           "Yale University",
           "Private not-for-profit, 4-year or above",
           -72.926688,
           41.311158,
           "CT"
          ],
          [
           "Yavapai College",
           "Public, 2-year",
           -112.453395,
           34.547495,
           "AZ"
          ],
          [
           "Yeshiva Bais Aharon",
           "Private not-for-profit, 4-year or above",
           -74.203094,
           40.101002,
           "NJ"
          ],
          [
           "Yeshiva College of the Nations Capital",
           "Private not-for-profit, 4-year or above",
           -77.03056600000002,
           39.042404,
           "MD"
          ],
          [
           "Yeshiva D'monsey Rabbinical College",
           "Private not-for-profit, 4-year or above",
           -74.06472099999998,
           41.114173,
           "NY"
          ],
          [
           "Yeshiva Derech Chaim",
           "Private not-for-profit, 4-year or above",
           -73.97975699999998,
           40.636889,
           "NY"
          ],
          [
           "Yeshiva Gedola Ohr Yisrael",
           "Private not-for-profit, 4-year or above",
           -73.944041,
           40.61359,
           "NY"
          ],
          [
           "Yeshiva Gedolah Imrei Yosef D'spinka",
           "Private not-for-profit, 4-year or above",
           -73.992328,
           40.628468,
           "NY"
          ],
          [
           "Yeshiva Gedolah Kesser Torah",
           "Private not-for-profit, 4-year or above",
           -74.06855300000002,
           41.124819,
           "NY"
          ],
          [
           "Yeshiva Gedolah of Greater Detroit",
           "Private not-for-profit, 4-year or above",
           -83.200754,
           42.471924,
           "MI"
          ],
          [
           "Yeshiva Gedolah Shaarei Shmuel",
           "Private not-for-profit, 4-year or above",
           -74.19759599999998,
           40.091,
           "NJ"
          ],
          [
           "Yeshiva Gedolah Zichron Leyma",
           "Private not-for-profit, 4-year or above",
           -74.268351,
           40.6992,
           "NJ"
          ],
          [
           "Yeshiva Karlin Stolin",
           "Private not-for-profit, 4-year or above",
           -73.983373,
           40.624918,
           "NY"
          ],
          [
           "Yeshiva Kollel Tifereth Elizer",
           "Private not-for-profit, 4-year or above",
           -73.992171,
           40.637096,
           "NY"
          ],
          [
           "Yeshiva of Far Rockaway Derech Ayson Rabbinical Seminary",
           "Private not-for-profit, 4-year or above",
           -73.743901,
           40.60049,
           "NY"
          ],
          [
           "Yeshiva of Machzikai Hadas",
           "Private not-for-profit, 4-year or above",
           -73.98785500000002,
           40.638194,
           "NY"
          ],
          [
           "Yeshiva of Nitra Rabbinical College",
           "Private not-for-profit, 4-year or above",
           -73.72842299999998,
           41.22085,
           "NY"
          ],
          [
           "Yeshiva of the Telshe Alumni",
           "Private not-for-profit, 4-year or above",
           -73.911096,
           40.896668,
           "NY"
          ],
          [
           "Yeshiva Ohr Elchonon Chabad West Coast Talmudical Seminary",
           "Private not-for-profit, 4-year or above",
           -118.346688,
           34.085494,
           "CA"
          ],
          [
           "Yeshiva Ohr Naftoli",
           "Private not-for-profit, 4-year or above",
           -74.046291,
           41.45698400000001,
           "NY"
          ],
          [
           "Yeshiva Shaar Hatorah",
           "Private not-for-profit, 4-year or above",
           -73.834252,
           40.703795,
           "NY"
          ],
          [
           "Yeshiva Shaarei Torah of Rockland",
           "Private not-for-profit, 4-year or above",
           -74.090159,
           41.12362,
           "NY"
          ],
          [
           "Yeshiva Sholom Shachna",
           "Private not-for-profit, 4-year or above",
           -73.973431,
           40.6275,
           "NY"
          ],
          [
           "Yeshiva Toras Chaim",
           "Private not-for-profit, 4-year or above",
           -74.18214300000002,
           40.098692,
           "NJ"
          ],
          [
           "Yeshiva University",
           "Private not-for-profit, 4-year or above",
           -73.929873,
           40.850605,
           "NY"
          ],
          [
           "Yeshiva Yesodei Hatorah",
           "Private not-for-profit, 4-year or above",
           -74.202016,
           40.065908,
           "NJ"
          ],
          [
           "Yeshiva Zichron Aryeh",
           "Private not-for-profit, 4-year or above",
           -73.764423,
           40.606105,
           "NY"
          ],
          [
           "Yeshivah Gedolah Rabbinical College",
           "Private not-for-profit, 4-year or above",
           -80.141334,
           25.782445000000006,
           "FL"
          ],
          [
           "Yeshivas Be'er Yitzchok",
           "Private not-for-profit, 4-year or above",
           -74.213255,
           40.682465,
           "NJ"
          ],
          [
           "Yeshivas Maharit D'Satmar",
           "Private not-for-profit, 4-year or above",
           -74.159642,
           41.33127,
           "NY"
          ],
          [
           "Yeshivas Novominsk",
           "Private not-for-profit, 4-year or above",
           -73.990095,
           40.623293,
           "NY"
          ],
          [
           "Yeshivath Beth Moshe",
           "Private not-for-profit, 4-year or above",
           -75.656191,
           41.394852,
           "PA"
          ],
          [
           "Yeshivath Viznitz",
           "Private not-for-profit, 4-year or above",
           -74.070243,
           41.114682,
           "NY"
          ],
          [
           "Yeshivath Zichron Moshe",
           "Private not-for-profit, 4-year or above",
           -74.62182299999998,
           41.73048,
           "NY"
          ],
          [
           "Yo San University of Traditional Chinese Medicine",
           "Private not-for-profit, 4-year or above",
           -118.442756,
           33.993287,
           "CA"
          ],
          [
           "York College",
           "Private not-for-profit, 4-year or above",
           -97.579352,
           40.869526,
           "NE"
          ],
          [
           "York College of Pennsylvania",
           "Private not-for-profit, 4-year or above",
           -76.72798399999998,
           39.94614,
           "PA"
          ],
          [
           "York County Community College",
           "Public, 2-year",
           -70.590783,
           43.306797,
           "ME"
          ],
          [
           "York Technical College",
           "Public, 2-year",
           -80.995273,
           34.934416,
           "SC"
          ],
          [
           "Young Harris College",
           "Private not-for-profit, 4-year or above",
           -83.84586999999998,
           34.933523,
           "GA"
          ],
          [
           "Youngstown State University",
           "Public, 4-year or above",
           -80.64659,
           41.104928,
           "OH"
          ],
          [
           "Yuba College",
           "Public, 2-year",
           -121.53964,
           39.126536,
           "CA"
          ],
          [
           "Zane State College",
           "Public, 2-year",
           -82.031198,
           39.96241,
           "OH"
          ]
         ],
         "index": [
          0,
          1,
          2,
          3,
          4,
          5,
          6,
          7,
          8,
          9,
          10,
          11,
          12,
          13,
          14,
          15,
          16,
          17,
          18,
          19,
          20,
          21,
          22,
          23,
          24,
          25,
          26,
          27,
          28,
          29,
          30,
          31,
          32,
          33,
          34,
          35,
          36,
          37,
          38,
          39,
          40,
          41,
          42,
          43,
          44,
          45,
          46,
          47,
          48,
          49,
          50,
          51,
          52,
          53,
          54,
          55,
          56,
          57,
          58,
          59,
          60,
          61,
          62,
          63,
          64,
          65,
          66,
          67,
          68,
          69,
          70,
          71,
          72,
          73,
          74,
          75,
          76,
          77,
          78,
          79,
          80,
          81,
          82,
          83,
          84,
          85,
          86,
          87,
          88,
          89,
          90,
          91,
          92,
          93,
          94,
          95,
          96,
          97,
          98,
          99,
          100,
          101,
          102,
          103,
          104,
          105,
          106,
          107,
          108,
          109,
          110,
          111,
          112,
          113,
          114,
          115,
          116,
          117,
          118,
          119,
          120,
          121,
          122,
          123,
          124,
          125,
          126,
          127,
          128,
          129,
          130,
          131,
          132,
          133,
          134,
          135,
          136,
          137,
          138,
          139,
          140,
          141,
          142,
          143,
          144,
          145,
          146,
          147,
          148,
          149,
          150,
          151,
          152,
          153,
          154,
          155,
          156,
          157,
          158,
          159,
          160,
          161,
          162,
          163,
          164,
          165,
          166,
          167,
          168,
          169,
          170,
          171,
          172,
          173,
          174,
          175,
          176,
          177,
          178,
          179,
          180,
          181,
          182,
          183,
          184,
          185,
          186,
          187,
          188,
          189,
          190,
          191,
          192,
          193,
          194,
          195,
          196,
          197,
          198,
          199,
          200,
          201,
          202,
          203,
          204,
          205,
          206,
          207,
          208,
          209,
          210,
          211,
          212,
          213,
          214,
          215,
          216,
          217,
          218,
          219,
          220,
          221,
          222,
          223,
          224,
          225,
          226,
          227,
          228,
          229,
          230,
          231,
          232,
          233,
          234,
          235,
          236,
          237,
          238,
          239,
          240,
          241,
          242,
          243,
          244,
          245,
          246,
          247,
          248,
          249,
          250,
          251,
          252,
          253,
          254,
          255,
          256,
          257,
          258,
          259,
          260,
          261,
          262,
          263,
          264,
          265,
          266,
          267,
          268,
          269,
          270,
          271,
          272,
          273,
          274,
          275,
          276,
          277,
          278,
          279,
          280,
          281,
          282,
          283,
          284,
          285,
          286,
          287,
          288,
          289,
          290,
          291,
          292,
          293,
          294,
          295,
          296,
          297,
          298,
          299,
          300,
          301,
          302,
          303,
          304,
          305,
          306,
          307,
          308,
          309,
          310,
          311,
          312,
          313,
          314,
          315,
          316,
          317,
          318,
          319,
          320,
          321,
          322,
          323,
          324,
          325,
          326,
          327,
          328,
          329,
          330,
          331,
          332,
          333,
          334,
          335,
          336,
          337,
          338,
          339,
          340,
          341,
          342,
          343,
          344,
          345,
          346,
          347,
          348,
          349,
          350,
          351,
          352,
          353,
          354,
          355,
          356,
          357,
          358,
          359,
          360,
          361,
          362,
          363,
          364,
          365,
          366,
          367,
          368,
          369,
          370,
          371,
          372,
          373,
          374,
          375,
          376,
          377,
          378,
          379,
          380,
          381,
          382,
          383,
          384,
          385,
          386,
          387,
          388,
          389,
          390,
          391,
          392,
          393,
          394,
          395,
          396,
          397,
          398,
          399,
          400,
          401,
          402,
          403,
          404,
          405,
          406,
          407,
          408,
          409,
          410,
          411,
          412,
          413,
          414,
          415,
          416,
          417,
          418,
          419,
          420,
          421,
          422,
          423,
          424,
          425,
          426,
          427,
          428,
          429,
          430,
          431,
          432,
          433,
          434,
          435,
          436,
          437,
          438,
          439,
          440,
          441,
          442,
          443,
          444,
          445,
          446,
          447,
          448,
          449,
          450,
          451,
          452,
          453,
          454,
          455,
          456,
          457,
          458,
          459,
          460,
          461,
          462,
          463,
          464,
          465,
          466,
          467,
          468,
          469,
          470,
          471,
          472,
          473,
          474,
          475,
          476,
          477,
          478,
          479,
          480,
          481,
          482,
          483,
          484,
          485,
          486,
          487,
          488,
          489,
          490,
          491,
          492,
          493,
          494,
          495,
          496,
          497,
          498,
          499,
          500,
          501,
          502,
          503,
          504,
          505,
          506,
          507,
          508,
          509,
          510,
          511,
          512,
          513,
          514,
          515,
          516,
          517,
          518,
          519,
          520,
          521,
          522,
          523,
          524,
          525,
          526,
          527,
          528,
          529,
          530,
          531,
          532,
          533,
          534,
          535,
          536,
          537,
          538,
          539,
          540,
          541,
          542,
          543,
          544,
          545,
          546,
          547,
          548,
          549,
          550,
          551,
          552,
          553,
          554,
          555,
          556,
          557,
          558,
          559,
          560,
          561,
          562,
          563,
          564,
          565,
          566,
          567,
          568,
          569,
          570,
          571,
          572,
          573,
          574,
          575,
          576,
          577,
          578,
          579,
          580,
          581,
          582,
          583,
          584,
          585,
          586,
          587,
          588,
          589,
          590,
          591,
          592,
          593,
          594,
          595,
          596,
          597,
          598,
          599,
          600,
          601,
          602,
          603,
          604,
          605,
          606,
          607,
          608,
          609,
          610,
          611,
          612,
          613,
          614,
          615,
          616,
          617,
          618,
          619,
          620,
          621,
          622,
          623,
          624,
          625,
          626,
          627,
          628,
          629,
          630,
          631,
          632,
          633,
          634,
          635,
          636,
          637,
          638,
          639,
          640,
          641,
          642,
          643,
          644,
          645,
          646,
          647,
          648,
          649,
          650,
          651,
          652,
          653,
          654,
          655,
          656,
          657,
          658,
          659,
          660,
          661,
          662,
          663,
          664,
          665,
          666,
          667,
          668,
          669,
          670,
          671,
          672,
          673,
          674,
          675,
          676,
          677,
          678,
          679,
          680,
          681,
          682,
          683,
          684,
          685,
          686,
          687,
          688,
          689,
          690,
          691,
          692,
          693,
          694,
          695,
          696,
          697,
          698,
          699,
          700,
          701,
          702,
          703,
          704,
          705,
          706,
          707,
          708,
          709,
          710,
          711,
          712,
          713,
          714,
          715,
          716,
          717,
          718,
          719,
          720,
          721,
          722,
          723,
          724,
          725,
          726,
          727,
          728,
          729,
          730,
          731,
          732,
          733,
          734,
          735,
          736,
          737,
          738,
          739,
          740,
          741,
          742,
          743,
          744,
          745,
          746,
          747,
          748,
          749,
          750,
          751,
          752,
          753,
          754,
          755,
          756,
          757,
          758,
          759,
          760,
          761,
          762,
          763,
          764,
          765,
          766,
          767,
          768,
          769,
          770,
          771,
          772,
          773,
          774,
          775,
          776,
          777,
          778,
          779,
          780,
          781,
          782,
          783,
          784,
          785,
          786,
          787,
          788,
          789,
          790,
          791,
          792,
          793,
          794,
          795,
          796,
          797,
          798,
          799,
          800,
          801,
          802,
          803,
          804,
          805,
          806,
          807,
          808,
          809,
          810,
          811,
          812,
          813,
          814,
          815,
          816,
          817,
          818,
          819,
          820,
          821,
          822,
          823,
          824,
          825,
          826,
          827,
          828,
          829,
          830,
          831,
          832,
          833,
          834,
          835,
          836,
          837,
          838,
          839,
          840,
          841,
          842,
          843,
          844,
          845,
          846,
          847,
          848,
          849,
          850,
          851,
          852,
          853,
          854,
          855,
          856,
          857,
          858,
          859,
          860,
          861,
          862,
          863,
          864,
          865,
          866,
          867,
          868,
          869,
          870,
          871,
          872,
          873,
          874,
          875,
          876,
          877,
          878,
          879,
          880,
          881,
          882,
          883,
          884,
          885,
          886,
          887,
          888,
          889,
          890,
          891,
          892,
          893,
          894,
          895,
          896,
          897,
          898,
          899,
          900,
          901,
          902,
          903,
          904,
          905,
          906,
          907,
          908,
          909,
          910,
          911,
          912,
          913,
          914,
          915,
          916,
          917,
          918,
          919,
          920,
          921,
          922,
          923,
          924,
          925,
          926,
          927,
          928,
          929,
          930,
          931,
          932,
          933,
          934,
          935,
          936,
          937,
          938,
          939,
          940,
          941,
          942,
          943,
          944,
          945,
          946,
          947,
          948,
          949,
          950,
          951,
          952,
          953,
          954,
          955,
          956,
          957,
          958,
          959,
          960,
          961,
          962,
          963,
          964,
          965,
          966,
          967,
          968,
          969,
          970,
          971,
          972,
          973,
          974,
          975,
          976,
          977,
          978,
          979,
          980,
          981,
          982,
          983,
          984,
          985,
          986,
          987,
          988,
          989,
          990,
          991,
          992,
          993,
          994,
          995,
          996,
          997,
          998,
          999,
          1000,
          1001,
          1002,
          1003,
          1004,
          1005,
          1006,
          1007,
          1008,
          1009,
          1010,
          1011,
          1012,
          1013,
          1014,
          1015,
          1016,
          1017,
          1018,
          1019,
          1020,
          1021,
          1022,
          1023,
          1024,
          1025,
          1026,
          1027,
          1028,
          1029,
          1030,
          1031,
          1032,
          1033,
          1034,
          1035,
          1036,
          1037,
          1038,
          1039,
          1040,
          1041,
          1042,
          1043,
          1044,
          1045,
          1046,
          1047,
          1048,
          1049,
          1050,
          1051,
          1052,
          1053,
          1054,
          1055,
          1056,
          1057,
          1058,
          1059,
          1060,
          1061,
          1062,
          1063,
          1064,
          1065,
          1066,
          1067,
          1068,
          1069,
          1070,
          1071,
          1072,
          1073,
          1074,
          1075,
          1076,
          1077,
          1078,
          1079,
          1080,
          1081,
          1082,
          1083,
          1084,
          1085,
          1086,
          1087,
          1088,
          1089,
          1090,
          1091,
          1092,
          1093,
          1094,
          1095,
          1096,
          1097,
          1098,
          1099,
          1100,
          1101,
          1102,
          1103,
          1104,
          1105,
          1106,
          1107,
          1108,
          1109,
          1110,
          1111,
          1112,
          1113,
          1114,
          1115,
          1116,
          1117,
          1118,
          1119,
          1120,
          1121,
          1122,
          1123,
          1124,
          1125,
          1126,
          1127,
          1128,
          1129,
          1130,
          1131,
          1132,
          1133,
          1134,
          1135,
          1136,
          1137,
          1138,
          1139,
          1140,
          1141,
          1142,
          1143,
          1144,
          1145,
          1146,
          1147,
          1148,
          1149,
          1150,
          1151,
          1152,
          1153,
          1154,
          1155,
          1156,
          1157,
          1158,
          1159,
          1160,
          1161,
          1162,
          1163,
          1164,
          1165,
          1166,
          1167,
          1168,
          1169,
          1170,
          1171,
          1172,
          1173,
          1174,
          1175,
          1176,
          1177,
          1178,
          1179,
          1180,
          1181,
          1182,
          1183,
          1184,
          1185,
          1186,
          1187,
          1188,
          1189,
          1190,
          1191,
          1192,
          1193,
          1194,
          1195,
          1196,
          1197,
          1198,
          1199,
          1200,
          1201,
          1202,
          1203,
          1204,
          1205,
          1206,
          1207,
          1208,
          1209,
          1210,
          1211,
          1212,
          1213,
          1214,
          1215,
          1216,
          1217,
          1218,
          1219,
          1220,
          1221,
          1222,
          1223,
          1224,
          1225,
          1226,
          1227,
          1228,
          1229,
          1230,
          1231,
          1232,
          1233,
          1234,
          1235,
          1236,
          1237,
          1238,
          1239,
          1240,
          1241,
          1242,
          1243,
          1244,
          1245,
          1246,
          1247,
          1248,
          1249,
          1250,
          1251,
          1252,
          1253,
          1254,
          1255,
          1256,
          1257,
          1258,
          1259,
          1260,
          1261,
          1262,
          1263,
          1264,
          1265,
          1266,
          1267,
          1268,
          1269,
          1270,
          1271,
          1272,
          1273,
          1274,
          1275,
          1276,
          1277,
          1278,
          1279,
          1280,
          1281,
          1282,
          1283,
          1284,
          1285,
          1286,
          1287,
          1288,
          1289,
          1290,
          1291,
          1292,
          1293,
          1294,
          1295,
          1296,
          1297,
          1298,
          1299,
          1300,
          1301,
          1302,
          1303,
          1304,
          1305,
          1306,
          1307,
          1308,
          1309,
          1310,
          1311,
          1312,
          1313,
          1314,
          1315,
          1316,
          1317,
          1318,
          1319,
          1320,
          1321,
          1322,
          1323,
          1324,
          1325,
          1326,
          1327,
          1328,
          1329,
          1330,
          1331,
          1332,
          1333,
          1334,
          1335,
          1336,
          1337,
          1338,
          1339,
          1340,
          1341,
          1342,
          1343,
          1344,
          1345,
          1346,
          1347,
          1348,
          1349,
          1350,
          1351,
          1352,
          1353,
          1354,
          1355,
          1356,
          1357,
          1358,
          1359,
          1360,
          1361,
          1362,
          1363,
          1364,
          1365,
          1366,
          1367,
          1368,
          1369,
          1370,
          1371,
          1372,
          1373,
          1374,
          1375,
          1376,
          1377,
          1378,
          1379,
          1380,
          1381,
          1382,
          1383,
          1384,
          1385,
          1386,
          1387,
          1388,
          1389,
          1390,
          1391,
          1392,
          1393,
          1394,
          1395,
          1396,
          1397,
          1398,
          1399,
          1400,
          1401,
          1402,
          1403,
          1404,
          1405,
          1406,
          1407,
          1408,
          1409,
          1410,
          1411,
          1412,
          1413,
          1414,
          1415,
          1416,
          1417,
          1418,
          1419,
          1420,
          1421,
          1422,
          1423,
          1424,
          1425,
          1426,
          1427,
          1428,
          1429,
          1430,
          1431,
          1432,
          1433,
          1434,
          1435,
          1436,
          1437,
          1438,
          1439,
          1440,
          1441,
          1442,
          1443,
          1444,
          1445,
          1446,
          1447,
          1448,
          1449,
          1450,
          1451,
          1452,
          1453,
          1454,
          1455,
          1456,
          1457,
          1458,
          1459,
          1460,
          1461,
          1462,
          1463,
          1464,
          1465,
          1466,
          1467,
          1468,
          1469,
          1470,
          1471,
          1472,
          1473,
          1474,
          1475,
          1476,
          1477,
          1478,
          1479,
          1480,
          1481,
          1482,
          1483,
          1484,
          1485,
          1486,
          1487,
          1488,
          1489,
          1490,
          1491,
          1492,
          1493,
          1494,
          1495,
          1496,
          1497,
          1498,
          1499,
          1500,
          1501,
          1502,
          1503,
          1504,
          1505,
          1506,
          1507,
          1508,
          1509,
          1510,
          1511,
          1512,
          1513,
          1514,
          1515,
          1516,
          1517,
          1518,
          1519,
          1520,
          1521,
          1522,
          1523,
          1524,
          1525,
          1526,
          1527,
          1528,
          1529,
          1530,
          1531,
          1532,
          1533,
          1534,
          1535,
          1536,
          1537,
          1538,
          1539,
          1540,
          1541,
          1542,
          1543,
          1544,
          1545,
          1546,
          1547,
          1548,
          1549,
          1550,
          1551,
          1552,
          1553,
          1554,
          1555,
          1556,
          1557,
          1558,
          1559,
          1560,
          1561,
          1562,
          1563,
          1564,
          1565,
          1566,
          1567,
          1568,
          1569,
          1570,
          1571,
          1572,
          1573,
          1574,
          1575,
          1576,
          1577,
          1578,
          1579,
          1580,
          1581,
          1582,
          1583,
          1584,
          1585,
          1586,
          1587,
          1588,
          1589,
          1590,
          1591,
          1592,
          1593,
          1594,
          1595,
          1596,
          1597,
          1598,
          1599,
          1600,
          1601,
          1602,
          1603,
          1604,
          1605,
          1606,
          1607,
          1608,
          1609,
          1610,
          1611,
          1612,
          1613,
          1614,
          1615,
          1616,
          1617,
          1618,
          1619,
          1620,
          1621,
          1622,
          1623,
          1624,
          1625,
          1626,
          1627,
          1628,
          1629,
          1630,
          1631,
          1632,
          1633,
          1634,
          1635,
          1636,
          1637,
          1638,
          1639,
          1640,
          1641,
          1642,
          1643,
          1644,
          1645,
          1646,
          1647,
          1648,
          1649,
          1650,
          1651,
          1652,
          1653,
          1654,
          1655,
          1656,
          1657,
          1658,
          1659,
          1660,
          1661,
          1662,
          1663,
          1664,
          1665,
          1666,
          1667,
          1668,
          1669,
          1670,
          1671,
          1672,
          1673,
          1674,
          1675,
          1676,
          1677,
          1678,
          1679,
          1680,
          1681,
          1682,
          1683,
          1684,
          1685,
          1686,
          1687,
          1688,
          1689,
          1690,
          1691,
          1692,
          1693,
          1694,
          1695,
          1696,
          1697,
          1698,
          1699,
          1700,
          1701,
          1702,
          1703,
          1704,
          1705,
          1706,
          1707,
          1708,
          1709,
          1710,
          1711,
          1712,
          1713,
          1714,
          1715,
          1716,
          1717,
          1718,
          1719,
          1720,
          1721,
          1722,
          1723,
          1724,
          1725,
          1726,
          1727,
          1728,
          1729,
          1730,
          1731,
          1732,
          1733,
          1734,
          1735,
          1736,
          1737,
          1738,
          1739,
          1740,
          1741,
          1742,
          1743,
          1744,
          1745,
          1746,
          1747,
          1748,
          1749,
          1750,
          1751,
          1752,
          1753,
          1754,
          1755,
          1756,
          1757,
          1758,
          1759,
          1760,
          1761,
          1762,
          1763,
          1764,
          1765,
          1766,
          1767,
          1768,
          1769,
          1770,
          1771,
          1772,
          1773,
          1774,
          1775,
          1776,
          1777,
          1778,
          1779,
          1780,
          1781,
          1782,
          1783,
          1784,
          1785,
          1786,
          1787,
          1788,
          1789,
          1790,
          1791,
          1792,
          1793,
          1794,
          1795,
          1796,
          1797,
          1798,
          1799,
          1800,
          1801,
          1802,
          1803,
          1804,
          1805,
          1806,
          1807,
          1808,
          1809,
          1810,
          1811,
          1812,
          1813,
          1814,
          1815,
          1816,
          1817,
          1818,
          1819,
          1820,
          1821,
          1822,
          1823,
          1824,
          1825,
          1826,
          1827,
          1828,
          1829,
          1830,
          1831,
          1832,
          1833,
          1834,
          1835,
          1836,
          1837,
          1838,
          1839,
          1840,
          1841,
          1842,
          1843,
          1844,
          1845,
          1846,
          1847,
          1848,
          1849,
          1850,
          1851,
          1852,
          1853,
          1854,
          1855,
          1856,
          1857,
          1858,
          1859,
          1860,
          1861,
          1862,
          1863,
          1864,
          1865,
          1866,
          1867,
          1868,
          1869,
          1870,
          1871,
          1872,
          1873,
          1874,
          1875,
          1876,
          1877,
          1878,
          1879,
          1880,
          1881,
          1882,
          1883,
          1884,
          1885,
          1886,
          1887,
          1888,
          1889,
          1890,
          1891,
          1892,
          1893,
          1894,
          1895,
          1896,
          1897,
          1898,
          1899,
          1900,
          1901,
          1902,
          1903,
          1904,
          1905,
          1906,
          1907,
          1908,
          1909,
          1910,
          1911,
          1912,
          1913,
          1914,
          1915,
          1916,
          1917,
          1918,
          1919,
          1920,
          1921,
          1922,
          1923,
          1924,
          1925,
          1926,
          1927,
          1928,
          1929,
          1930,
          1931,
          1932,
          1933,
          1934,
          1935,
          1936,
          1937,
          1938,
          1939,
          1940,
          1941,
          1942,
          1943,
          1944,
          1945,
          1946,
          1947,
          1948,
          1949,
          1950,
          1951,
          1952,
          1953,
          1954,
          1955,
          1956,
          1957,
          1958,
          1959,
          1960,
          1961,
          1962,
          1963,
          1964,
          1965,
          1966,
          1967,
          1968,
          1969,
          1970,
          1971,
          1972,
          1973,
          1974,
          1975,
          1976,
          1977,
          1978,
          1979,
          1980,
          1981,
          1982,
          1983,
          1984,
          1985,
          1986,
          1987,
          1988,
          1989,
          1990,
          1991,
          1992,
          1993,
          1994,
          1995,
          1996,
          1997,
          1998,
          1999,
          2000,
          2001,
          2002,
          2003,
          2004,
          2005,
          2006,
          2007,
          2008,
          2009,
          2010,
          2011,
          2012,
          2013,
          2014,
          2015,
          2016,
          2017,
          2018,
          2019,
          2020,
          2021,
          2022,
          2023,
          2024,
          2025,
          2026,
          2027,
          2028,
          2029,
          2030,
          2031,
          2032,
          2033,
          2034,
          2035,
          2036,
          2037,
          2038,
          2039,
          2040,
          2041,
          2042,
          2043,
          2044,
          2045,
          2046,
          2047,
          2048,
          2049,
          2050,
          2051,
          2052,
          2053,
          2054,
          2055,
          2056,
          2057,
          2058,
          2059,
          2060,
          2061,
          2062,
          2063,
          2064,
          2065,
          2066,
          2067,
          2068,
          2069,
          2070,
          2071,
          2072,
          2073,
          2074,
          2075,
          2076,
          2077,
          2078,
          2079,
          2080,
          2081,
          2082,
          2083,
          2084,
          2085,
          2086,
          2087,
          2088,
          2089,
          2090,
          2091,
          2092,
          2093,
          2094,
          2095,
          2096,
          2097,
          2098,
          2099,
          2100,
          2101,
          2102,
          2103,
          2104,
          2105,
          2106,
          2107,
          2108,
          2109,
          2110,
          2111,
          2112,
          2113,
          2114,
          2115,
          2116,
          2117,
          2118,
          2119,
          2120,
          2121,
          2122,
          2123,
          2124,
          2125,
          2126,
          2127,
          2128,
          2129,
          2130,
          2131,
          2132,
          2133,
          2134,
          2135,
          2136,
          2137,
          2138,
          2139,
          2140,
          2141,
          2142,
          2143,
          2144,
          2145,
          2146,
          2147,
          2148,
          2149,
          2150,
          2151,
          2152,
          2153,
          2154,
          2155,
          2156,
          2157,
          2158,
          2159,
          2160,
          2161,
          2162,
          2163,
          2164,
          2165,
          2166,
          2167,
          2168,
          2169,
          2170,
          2171,
          2172,
          2173,
          2174,
          2175,
          2176,
          2177,
          2178,
          2179,
          2180,
          2181,
          2182,
          2183,
          2184,
          2185,
          2186,
          2187,
          2188,
          2189,
          2190,
          2191,
          2192,
          2193,
          2194,
          2195,
          2196,
          2197,
          2198,
          2199,
          2200,
          2201,
          2202,
          2203,
          2204,
          2205,
          2206,
          2207,
          2208,
          2209,
          2210,
          2211,
          2212,
          2213,
          2214,
          2215,
          2216,
          2217,
          2218,
          2219,
          2220,
          2221,
          2222,
          2223,
          2224,
          2225,
          2226,
          2227,
          2228,
          2229,
          2230,
          2231,
          2232,
          2233,
          2234,
          2235,
          2236,
          2237,
          2238,
          2239,
          2240,
          2241,
          2242,
          2243,
          2244,
          2245,
          2246,
          2247,
          2248,
          2249,
          2250,
          2251,
          2252,
          2253,
          2254,
          2255,
          2256,
          2257,
          2258,
          2259,
          2260,
          2261,
          2262,
          2263,
          2264,
          2265,
          2266,
          2267,
          2268,
          2269,
          2270,
          2271,
          2272,
          2273,
          2274,
          2275,
          2276,
          2277,
          2278,
          2279,
          2280,
          2281,
          2282,
          2283,
          2284,
          2285,
          2286,
          2287,
          2288,
          2289,
          2290,
          2291,
          2292,
          2293,
          2294,
          2295,
          2296,
          2297,
          2298,
          2299,
          2300,
          2301,
          2302,
          2303,
          2304,
          2305,
          2306,
          2307,
          2308,
          2309,
          2310,
          2311,
          2312,
          2313,
          2314,
          2315,
          2316,
          2317,
          2318,
          2319,
          2320,
          2321,
          2322,
          2323,
          2324,
          2325,
          2326,
          2327,
          2328,
          2329,
          2330,
          2331,
          2332,
          2333,
          2334,
          2335,
          2336,
          2337,
          2338,
          2339,
          2340,
          2341,
          2342,
          2343,
          2344,
          2345,
          2346,
          2347,
          2348,
          2349,
          2350,
          2351,
          2352,
          2353,
          2354,
          2355,
          2356,
          2357,
          2358,
          2359,
          2360,
          2361,
          2362,
          2363,
          2364,
          2365,
          2366,
          2367,
          2368,
          2369,
          2370,
          2371,
          2372,
          2373,
          2374,
          2375,
          2376,
          2377,
          2378,
          2379,
          2380,
          2381,
          2382,
          2383,
          2384,
          2385,
          2386,
          2387,
          2388,
          2389,
          2390,
          2391,
          2392,
          2393,
          2394,
          2395,
          2396,
          2397,
          2398,
          2399,
          2400,
          2401,
          2402,
          2403,
          2404,
          2405,
          2406,
          2407,
          2408,
          2409,
          2410,
          2411,
          2412,
          2413,
          2414,
          2415,
          2416,
          2417,
          2418,
          2419,
          2420,
          2421,
          2422,
          2423,
          2424,
          2425,
          2426,
          2427,
          2428,
          2429,
          2430,
          2431,
          2432,
          2433,
          2434,
          2435,
          2436,
          2437,
          2438,
          2439,
          2440,
          2441,
          2442,
          2443,
          2444,
          2445,
          2446,
          2447,
          2448,
          2449,
          2450,
          2451,
          2452,
          2453,
          2454,
          2455,
          2456,
          2457,
          2458,
          2459,
          2460,
          2461,
          2462,
          2463,
          2464,
          2465,
          2466,
          2467,
          2468,
          2469,
          2470,
          2471,
          2472,
          2473,
          2474,
          2475,
          2476,
          2477,
          2478,
          2479,
          2480,
          2481,
          2482,
          2483,
          2484,
          2485,
          2486,
          2487,
          2488,
          2489,
          2490,
          2491,
          2492,
          2493,
          2494,
          2495,
          2496,
          2497,
          2498,
          2499,
          2500,
          2501,
          2502,
          2503,
          2504,
          2505,
          2506,
          2507,
          2508,
          2509,
          2510,
          2511,
          2512,
          2513,
          2514,
          2515,
          2516,
          2517,
          2518,
          2519,
          2520,
          2521,
          2522,
          2523,
          2524,
          2525,
          2526,
          2527,
          2528,
          2529,
          2530,
          2531,
          2532,
          2533,
          2534,
          2535,
          2536,
          2537,
          2538,
          2539,
          2540,
          2541,
          2542,
          2543,
          2544,
          2545,
          2546,
          2547,
          2548,
          2549,
          2550,
          2551,
          2552,
          2553,
          2554,
          2555,
          2556,
          2557,
          2558,
          2559,
          2560,
          2561,
          2562,
          2563,
          2564,
          2565,
          2566,
          2567,
          2568,
          2569,
          2570,
          2571,
          2572,
          2573,
          2574,
          2575,
          2576,
          2577,
          2578,
          2579,
          2580,
          2581,
          2582,
          2583,
          2584,
          2585,
          2586,
          2587,
          2588,
          2589,
          2590,
          2591,
          2592,
          2593,
          2594,
          2595,
          2596,
          2597,
          2598,
          2599,
          2600,
          2601,
          2602,
          2603,
          2604,
          2605,
          2606,
          2607,
          2608,
          2609,
          2610,
          2611,
          2612,
          2613,
          2614,
          2615,
          2616,
          2617,
          2618,
          2619,
          2620,
          2621,
          2622,
          2623,
          2624,
          2625,
          2626,
          2627,
          2628,
          2629,
          2630,
          2631,
          2632,
          2633,
          2634,
          2635,
          2636,
          2637,
          2638,
          2639,
          2640,
          2641,
          2642,
          2643,
          2644,
          2645,
          2646,
          2647,
          2648,
          2649,
          2650,
          2651,
          2652,
          2653,
          2654,
          2655,
          2656,
          2657,
          2658,
          2659,
          2660,
          2661,
          2662,
          2663,
          2664,
          2665,
          2666,
          2667,
          2668,
          2669,
          2670,
          2671,
          2672,
          2673,
          2674,
          2675,
          2676,
          2677,
          2678,
          2679,
          2680,
          2681,
          2682,
          2683,
          2684,
          2685,
          2686,
          2687,
          2688,
          2689,
          2690,
          2691,
          2692,
          2693,
          2694,
          2695,
          2696,
          2697,
          2698,
          2699,
          2700,
          2701,
          2702,
          2703,
          2704,
          2705,
          2706,
          2707,
          2708,
          2709,
          2710,
          2711,
          2712,
          2713,
          2714,
          2715,
          2716,
          2717,
          2718,
          2719,
          2720,
          2721,
          2722,
          2723,
          2724,
          2725,
          2726,
          2727,
          2728,
          2729,
          2730,
          2731,
          2732,
          2733,
          2734,
          2735,
          2736,
          2737,
          2738,
          2739,
          2740,
          2741,
          2742,
          2743,
          2744,
          2745,
          2746,
          2747,
          2748,
          2749,
          2750,
          2751,
          2752,
          2753,
          2754,
          2755,
          2756,
          2757,
          2758,
          2759,
          2760,
          2761,
          2762,
          2763,
          2764,
          2765,
          2766,
          2767,
          2768,
          2769,
          2770,
          2771,
          2772,
          2773,
          2774,
          2775,
          2776,
          2777,
          2778,
          2779,
          2780,
          2781,
          2782,
          2783,
          2784,
          2785,
          2786,
          2787,
          2788,
          2789,
          2790,
          2791,
          2792,
          2793,
          2794,
          2795,
          2796,
          2797,
          2798,
          2799,
          2800,
          2801,
          2802,
          2803,
          2804,
          2805,
          2806,
          2807,
          2808,
          2809,
          2810,
          2811,
          2812,
          2813,
          2814,
          2815,
          2816,
          2817,
          2818,
          2819,
          2820,
          2821,
          2822,
          2823,
          2824,
          2825,
          2826,
          2827,
          2828,
          2829,
          2830,
          2831,
          2832,
          2833,
          2834,
          2835,
          2836,
          2837,
          2838,
          2839,
          2840,
          2841,
          2842,
          2843,
          2844,
          2845,
          2846,
          2847,
          2848,
          2849,
          2850,
          2851,
          2852,
          2853,
          2854,
          2855,
          2856,
          2857,
          2858,
          2859,
          2860,
          2861,
          2862,
          2863,
          2864,
          2865,
          2866,
          2867,
          2868,
          2869,
          2870,
          2871,
          2872,
          2873,
          2874,
          2875,
          2876,
          2877,
          2878,
          2879,
          2880,
          2881,
          2882,
          2883,
          2884,
          2885,
          2886,
          2887,
          2888,
          2889,
          2890,
          2891,
          2892,
          2893,
          2894,
          2895,
          2896,
          2897,
          2898,
          2899,
          2900,
          2901,
          2902,
          2903,
          2904,
          2905,
          2906,
          2907,
          2908,
          2909,
          2910,
          2911,
          2912,
          2913,
          2914,
          2915,
          2916,
          2917,
          2918,
          2919,
          2920,
          2921,
          2922,
          2923,
          2924,
          2925,
          2926,
          2927,
          2928,
          2929,
          2930,
          2931,
          2932,
          2933,
          2934,
          2935,
          2936,
          2937,
          2938,
          2939,
          2940,
          2941,
          2942,
          2943,
          2944,
          2945,
          2946,
          2947,
          2948,
          2949,
          2950,
          2951,
          2952,
          2953,
          2954,
          2955,
          2956,
          2957,
          2958,
          2959,
          2960,
          2961,
          2962,
          2963,
          2964,
          2965,
          2966,
          2967,
          2968,
          2969,
          2970,
          2971,
          2972,
          2973,
          2974,
          2975,
          2976,
          2977,
          2978,
          2979,
          2980,
          2981,
          2982,
          2983,
          2984,
          2985,
          2986,
          2987,
          2988,
          2989,
          2990,
          2991,
          2992,
          2993,
          2994,
          2995,
          2996,
          2997,
          2998,
          2999,
          3000,
          3001,
          3002,
          3003,
          3004,
          3005,
          3006,
          3007,
          3008,
          3009,
          3010,
          3011,
          3012,
          3013,
          3014,
          3015,
          3016,
          3017,
          3018,
          3019,
          3020,
          3021,
          3022,
          3023,
          3024,
          3025,
          3026,
          3027,
          3028,
          3029,
          3030,
          3031,
          3032,
          3033,
          3034,
          3035,
          3036,
          3037,
          3038,
          3039,
          3040,
          3041,
          3042,
          3043,
          3044,
          3045,
          3046,
          3047,
          3048,
          3049,
          3050,
          3051,
          3052,
          3053,
          3054,
          3055,
          3056,
          3057,
          3058,
          3059,
          3060,
          3061,
          3062,
          3063,
          3064,
          3065,
          3066,
          3067,
          3068,
          3069,
          3070,
          3071,
          3072,
          3073,
          3074,
          3075,
          3076,
          3077,
          3078,
          3079,
          3080,
          3081,
          3082,
          3083,
          3084,
          3085,
          3086,
          3087,
          3088,
          3089,
          3090,
          3091,
          3092,
          3093,
          3094,
          3095,
          3096,
          3097,
          3098,
          3099,
          3100,
          3101,
          3102,
          3103,
          3104,
          3105,
          3106,
          3107,
          3108,
          3109,
          3110,
          3111,
          3112,
          3113,
          3114,
          3115,
          3116,
          3117,
          3118,
          3119,
          3120,
          3121,
          3122,
          3123,
          3124,
          3125,
          3126,
          3127,
          3128,
          3129,
          3130,
          3131,
          3132,
          3133,
          3134,
          3135,
          3136,
          3137,
          3138,
          3139,
          3140,
          3141,
          3142,
          3143,
          3144,
          3145,
          3146,
          3147,
          3148,
          3149,
          3150,
          3151,
          3152,
          3153,
          3154,
          3155,
          3156,
          3157,
          3158,
          3159,
          3160,
          3161,
          3162,
          3163,
          3164,
          3165,
          3166,
          3167,
          3168,
          3169,
          3170,
          3171,
          3172,
          3173,
          3174,
          3175,
          3176,
          3177,
          3178,
          3179,
          3180,
          3181,
          3182,
          3183,
          3184,
          3185,
          3186,
          3187,
          3188,
          3189,
          3190,
          3191,
          3192,
          3193,
          3194,
          3195,
          3196,
          3197,
          3198,
          3199,
          3200,
          3201,
          3202,
          3203,
          3204,
          3205,
          3206,
          3207,
          3208,
          3209,
          3210,
          3211,
          3212,
          3213,
          3214,
          3215,
          3216,
          3217,
          3218,
          3219,
          3220,
          3221,
          3222,
          3223,
          3224,
          3225,
          3226,
          3227,
          3228,
          3229,
          3230,
          3231,
          3232,
          3233,
          3234,
          3235,
          3236,
          3237,
          3238,
          3239,
          3240,
          3241,
          3242,
          3243,
          3244,
          3245,
          3246,
          3247,
          3248,
          3249,
          3250,
          3251,
          3252,
          3253,
          3254,
          3255,
          3256,
          3257,
          3258,
          3259,
          3260,
          3261,
          3262,
          3263,
          3264,
          3265,
          3266,
          3267,
          3268,
          3269,
          3270,
          3271,
          3272,
          3273,
          3274,
          3275,
          3276,
          3277,
          3278,
          3279,
          3280,
          3281,
          3282,
          3283,
          3284,
          3285,
          3286,
          3287,
          3288,
          3289,
          3290,
          3291,
          3292,
          3293,
          3294,
          3295,
          3296,
          3297,
          3298,
          3299,
          3300,
          3301,
          3302,
          3303,
          3304,
          3305,
          3306,
          3307,
          3308,
          3309,
          3310,
          3311,
          3312,
          3313,
          3314,
          3315,
          3316,
          3317,
          3318,
          3319,
          3320,
          3321,
          3322,
          3323,
          3324,
          3325,
          3326,
          3327,
          3328,
          3329,
          3330,
          3331,
          3332,
          3333,
          3334,
          3335,
          3336,
          3337,
          3338,
          3339,
          3340,
          3341,
          3342,
          3343,
          3344,
          3345,
          3346,
          3347,
          3348,
          3349,
          3350,
          3351,
          3352,
          3353,
          3354,
          3355,
          3356,
          3357,
          3358,
          3359,
          3360,
          3361,
          3362,
          3363,
          3364,
          3365,
          3366,
          3367,
          3368,
          3369,
          3370,
          3371,
          3372,
          3373,
          3374,
          3375,
          3376,
          3377,
          3378,
          3379,
          3380,
          3381,
          3382,
          3383,
          3384,
          3385,
          3386,
          3387,
          3388,
          3389,
          3390,
          3391,
          3392,
          3393,
          3394,
          3395,
          3396,
          3397,
          3398,
          3399,
          3400,
          3401,
          3402,
          3403,
          3404,
          3405,
          3406,
          3407,
          3408,
          3409,
          3410,
          3411,
          3412,
          3413,
          3414,
          3415,
          3416,
          3417,
          3418,
          3419,
          3420,
          3421,
          3422,
          3423,
          3424,
          3425,
          3426,
          3427,
          3428,
          3429,
          3430,
          3431,
          3432,
          3433,
          3434,
          3435,
          3436,
          3437,
          3438,
          3439,
          3440,
          3441,
          3442,
          3443,
          3444,
          3445,
          3446,
          3447,
          3448,
          3449,
          3450,
          3451,
          3452,
          3453,
          3454,
          3455,
          3456,
          3457,
          3458,
          3459,
          3460,
          3461,
          3462,
          3463
         ]
        }
       },
       "height": 800,
       "layout": "IPY_MODEL_e81e98ed4eb74810825c50d1692a3394",
       "value": "Hello World!"
      }
     },
     "e81e98ed4eb74810825c50d1692a3394": {
      "model_module": "@jupyter-widgets/base",
      "model_module_version": "1.2.0",
      "model_name": "LayoutModel",
      "state": {}
     }
    },
    "version_major": 2,
    "version_minor": 0
   }
  }
 },
 "nbformat": 4,
 "nbformat_minor": 4
}
